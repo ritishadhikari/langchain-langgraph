{
 "cells": [
  {
   "cell_type": "code",
   "execution_count": 20,
   "id": "0fd95bf1-97ab-4be7-831e-ed3cea172aab",
   "metadata": {},
   "outputs": [],
   "source": [
    "from typing import TypedDict, Annotated\n",
    "from langgraph.graph import add_messages, StateGraph, END\n",
    "from langchain_groq import ChatGroq\n",
    "from langchain_core.messages import AIMessage, HumanMessage\n",
    "from dotenv import load_dotenv\n",
    "# In-memory Checkpointer\n",
    "from langgraph.checkpoint.memory import MemorySaver"
   ]
  },
  {
   "cell_type": "code",
   "execution_count": 21,
   "id": "e0f0f072-a1b4-44c9-b9d1-2dd7d5424253",
   "metadata": {},
   "outputs": [
    {
     "data": {
      "text/plain": [
       "True"
      ]
     },
     "execution_count": 21,
     "metadata": {},
     "output_type": "execute_result"
    }
   ],
   "source": [
    "load_dotenv()"
   ]
  },
  {
   "cell_type": "code",
   "execution_count": 22,
   "id": "a24d285c-d55d-40d9-aac0-c7cae0db0ca4",
   "metadata": {},
   "outputs": [],
   "source": [
    "memory=MemorySaver()"
   ]
  },
  {
   "cell_type": "code",
   "execution_count": 23,
   "id": "9f1e722e-85a2-4218-b66a-b8d96527920c",
   "metadata": {},
   "outputs": [],
   "source": [
    "llmLlama=ChatGroq(model=\"llama-3.1-8b-instant\")"
   ]
  },
  {
   "cell_type": "code",
   "execution_count": 24,
   "id": "69f207f1-83ec-4ecb-b7f1-1fbd696809f6",
   "metadata": {},
   "outputs": [],
   "source": [
    "class BasicChatState(TypedDict):\n",
    "    messages: Annotated[list, add_messages]"
   ]
  },
  {
   "cell_type": "code",
   "execution_count": 25,
   "id": "409ff162-e5b4-4a30-b259-fe60096e1a72",
   "metadata": {},
   "outputs": [],
   "source": [
    "def chatbot(state: BasicChatState):\n",
    "    return {\n",
    "        \"messages\":[llmLlama.invoke(input=state[\"messages\"])]\n",
    "    }"
   ]
  },
  {
   "cell_type": "code",
   "execution_count": 26,
   "id": "2a616be9-f223-4559-afca-be336945d380",
   "metadata": {},
   "outputs": [],
   "source": [
    "graph=StateGraph(state_schema=BasicChatState)"
   ]
  },
  {
   "cell_type": "code",
   "execution_count": 27,
   "id": "51ff7aad-f92d-41d0-9c26-7265a6c45e61",
   "metadata": {},
   "outputs": [
    {
     "data": {
      "text/plain": [
       "<langgraph.graph.state.StateGraph at 0x20cc546e950>"
      ]
     },
     "execution_count": 27,
     "metadata": {},
     "output_type": "execute_result"
    }
   ],
   "source": [
    "graph.add_node(node=\"chatbot\",action=chatbot)"
   ]
  },
  {
   "cell_type": "code",
   "execution_count": 28,
   "id": "fda261ff-ccfa-416f-a143-a8c429a03cb1",
   "metadata": {},
   "outputs": [
    {
     "data": {
      "text/plain": [
       "<langgraph.graph.state.StateGraph at 0x20cc546e950>"
      ]
     },
     "execution_count": 28,
     "metadata": {},
     "output_type": "execute_result"
    }
   ],
   "source": [
    "graph.add_edge(start_key=\"chatbot\",end_key=END)"
   ]
  },
  {
   "cell_type": "code",
   "execution_count": 29,
   "id": "b593d6c3-75c3-4103-b757-24f43729d9df",
   "metadata": {},
   "outputs": [
    {
     "data": {
      "text/plain": [
       "<langgraph.graph.state.StateGraph at 0x20cc546e950>"
      ]
     },
     "execution_count": 29,
     "metadata": {},
     "output_type": "execute_result"
    }
   ],
   "source": [
    "graph.set_entry_point(key=\"chatbot\")"
   ]
  },
  {
   "cell_type": "code",
   "execution_count": 30,
   "id": "434ca2ef-9604-4b41-bfb4-a9d744809fed",
   "metadata": {},
   "outputs": [],
   "source": [
    "app=graph.compile(checkpointer=memory)"
   ]
  },
  {
   "cell_type": "code",
   "execution_count": 34,
   "id": "40e5f691-d6c6-4276-a87b-7acc57fa3e19",
   "metadata": {},
   "outputs": [],
   "source": [
    "config={\"configurable\":{\"thread_id\":1}}"
   ]
  },
  {
   "cell_type": "code",
   "execution_count": 35,
   "id": "e9abd180-511f-446a-8070-17a0d29ccb88",
   "metadata": {},
   "outputs": [],
   "source": [
    "response1=app.invoke(input={\"messages\":HumanMessage(content=\"Hi I am Harish\")},config=config)"
   ]
  },
  {
   "cell_type": "code",
   "execution_count": 36,
   "id": "316cae5b-9d1e-40f8-a10c-48276eb818d5",
   "metadata": {},
   "outputs": [
    {
     "data": {
      "text/plain": [
       "{'messages': [HumanMessage(content='Hi I am Harish', additional_kwargs={}, response_metadata={}, id='992d4954-5a0d-4829-b17c-cfadca5411dd'),\n",
       "  AIMessage(content=\"Hello Harish, it's nice to meet you. Is there something I can help you with or would you like to chat?\", additional_kwargs={}, response_metadata={'token_usage': {'completion_tokens': 27, 'prompt_tokens': 40, 'total_tokens': 67, 'completion_time': 0.036, 'prompt_time': 0.007631657, 'queue_time': 0.05180164, 'total_time': 0.043631657}, 'model_name': 'llama-3.1-8b-instant', 'system_fingerprint': 'fp_8d1c73bd4c', 'finish_reason': 'stop', 'logprobs': None}, id='run-ba6ce960-6735-4b84-8102-ba09e4003cdc-0', usage_metadata={'input_tokens': 40, 'output_tokens': 27, 'total_tokens': 67})]}"
      ]
     },
     "execution_count": 36,
     "metadata": {},
     "output_type": "execute_result"
    }
   ],
   "source": [
    "response1"
   ]
  },
  {
   "cell_type": "code",
   "execution_count": 37,
   "id": "39c3807f-955b-407d-a1aa-74410c9a907e",
   "metadata": {},
   "outputs": [],
   "source": [
    "response2=app.invoke(input={\"messages\":HumanMessage(content=\"What's my name?\")},config=config)"
   ]
  },
  {
   "cell_type": "code",
   "execution_count": 38,
   "id": "6b101aa6-1cbd-434e-b694-1449fd65b4f5",
   "metadata": {},
   "outputs": [
    {
     "data": {
      "text/plain": [
       "{'messages': [HumanMessage(content='Hi I am Harish', additional_kwargs={}, response_metadata={}, id='992d4954-5a0d-4829-b17c-cfadca5411dd'),\n",
       "  AIMessage(content=\"Hello Harish, it's nice to meet you. Is there something I can help you with or would you like to chat?\", additional_kwargs={}, response_metadata={'token_usage': {'completion_tokens': 27, 'prompt_tokens': 40, 'total_tokens': 67, 'completion_time': 0.036, 'prompt_time': 0.007631657, 'queue_time': 0.05180164, 'total_time': 0.043631657}, 'model_name': 'llama-3.1-8b-instant', 'system_fingerprint': 'fp_8d1c73bd4c', 'finish_reason': 'stop', 'logprobs': None}, id='run-ba6ce960-6735-4b84-8102-ba09e4003cdc-0', usage_metadata={'input_tokens': 40, 'output_tokens': 27, 'total_tokens': 67}),\n",
       "  HumanMessage(content=\"What's my name?\", additional_kwargs={}, response_metadata={}, id='1e5238e1-41c4-4e00-8aa6-25213732b238'),\n",
       "  AIMessage(content='Your name is Harish.', additional_kwargs={}, response_metadata={'token_usage': {'completion_tokens': 7, 'prompt_tokens': 81, 'total_tokens': 88, 'completion_time': 0.009333333, 'prompt_time': 0.003747914, 'queue_time': 0.046758824000000004, 'total_time': 0.013081247}, 'model_name': 'llama-3.1-8b-instant', 'system_fingerprint': 'fp_8d1c73bd4c', 'finish_reason': 'stop', 'logprobs': None}, id='run-6c7aa191-2c46-46ac-a8f4-4d4c5e2ae31d-0', usage_metadata={'input_tokens': 81, 'output_tokens': 7, 'total_tokens': 88})]}"
      ]
     },
     "execution_count": 38,
     "metadata": {},
     "output_type": "execute_result"
    }
   ],
   "source": [
    "response2"
   ]
  },
  {
   "cell_type": "code",
   "execution_count": 39,
   "id": "cc032cf8-ef9d-4a27-959f-d7dbd891520c",
   "metadata": {},
   "outputs": [],
   "source": [
    "# get snapshot of the latest checkpoint\n",
    "snapshot=app.get_state(config=config)"
   ]
  },
  {
   "cell_type": "code",
   "execution_count": 40,
   "id": "0642ebe9-5cde-4cf9-92ce-0a5ae7a6a5eb",
   "metadata": {},
   "outputs": [
    {
     "data": {
      "text/plain": [
       "StateSnapshot(values={'messages': [HumanMessage(content='Hi I am Harish', additional_kwargs={}, response_metadata={}, id='992d4954-5a0d-4829-b17c-cfadca5411dd'), AIMessage(content=\"Hello Harish, it's nice to meet you. Is there something I can help you with or would you like to chat?\", additional_kwargs={}, response_metadata={'token_usage': {'completion_tokens': 27, 'prompt_tokens': 40, 'total_tokens': 67, 'completion_time': 0.036, 'prompt_time': 0.007631657, 'queue_time': 0.05180164, 'total_time': 0.043631657}, 'model_name': 'llama-3.1-8b-instant', 'system_fingerprint': 'fp_8d1c73bd4c', 'finish_reason': 'stop', 'logprobs': None}, id='run-ba6ce960-6735-4b84-8102-ba09e4003cdc-0', usage_metadata={'input_tokens': 40, 'output_tokens': 27, 'total_tokens': 67}), HumanMessage(content=\"What's my name?\", additional_kwargs={}, response_metadata={}, id='1e5238e1-41c4-4e00-8aa6-25213732b238'), AIMessage(content='Your name is Harish.', additional_kwargs={}, response_metadata={'token_usage': {'completion_tokens': 7, 'prompt_tokens': 81, 'total_tokens': 88, 'completion_time': 0.009333333, 'prompt_time': 0.003747914, 'queue_time': 0.046758824000000004, 'total_time': 0.013081247}, 'model_name': 'llama-3.1-8b-instant', 'system_fingerprint': 'fp_8d1c73bd4c', 'finish_reason': 'stop', 'logprobs': None}, id='run-6c7aa191-2c46-46ac-a8f4-4d4c5e2ae31d-0', usage_metadata={'input_tokens': 81, 'output_tokens': 7, 'total_tokens': 88})]}, next=(), config={'configurable': {'thread_id': '1', 'checkpoint_ns': '', 'checkpoint_id': '1f02691b-3bb5-6e20-8004-0e87d669d8e7'}}, metadata={'source': 'loop', 'writes': {'chatbot': {'messages': [AIMessage(content='Your name is Harish.', additional_kwargs={}, response_metadata={'token_usage': {'completion_tokens': 7, 'prompt_tokens': 81, 'total_tokens': 88, 'completion_time': 0.009333333, 'prompt_time': 0.003747914, 'queue_time': 0.046758824000000004, 'total_time': 0.013081247}, 'model_name': 'llama-3.1-8b-instant', 'system_fingerprint': 'fp_8d1c73bd4c', 'finish_reason': 'stop', 'logprobs': None}, id='run-6c7aa191-2c46-46ac-a8f4-4d4c5e2ae31d-0', usage_metadata={'input_tokens': 81, 'output_tokens': 7, 'total_tokens': 88})]}}, 'step': 4, 'parents': {}, 'thread_id': 1}, created_at='2025-05-01T13:39:27.599977+00:00', parent_config={'configurable': {'thread_id': '1', 'checkpoint_ns': '', 'checkpoint_id': '1f02691b-39aa-6c70-8003-4984bd855e66'}}, tasks=())"
      ]
     },
     "execution_count": 40,
     "metadata": {},
     "output_type": "execute_result"
    }
   ],
   "source": [
    "snapshot"
   ]
  },
  {
   "cell_type": "code",
   "execution_count": 41,
   "id": "9ff656a4-8089-4d57-9c36-19554de0e02d",
   "metadata": {},
   "outputs": [
    {
     "name": "stdin",
     "output_type": "stream",
     "text": [
      "User:  What's my name?\n"
     ]
    },
    {
     "name": "stdout",
     "output_type": "stream",
     "text": [
      "Your name is Harish.\n"
     ]
    },
    {
     "name": "stdin",
     "output_type": "stream",
     "text": [
      "User:  I am from Noida\n"
     ]
    },
    {
     "name": "stdout",
     "output_type": "stream",
     "text": [
      "Noida is a city in the National Capital Region (NCR) of India, near Delhi. It's a popular area for IT and business hubs. What brings you to this chat, Harish?\n"
     ]
    },
    {
     "name": "stdin",
     "output_type": "stream",
     "text": [
      "User:  I want to know about IPL\n"
     ]
    },
    {
     "name": "stdout",
     "output_type": "stream",
     "text": [
      "The Indian Premier League (IPL) is a popular professional Twenty20 cricket league in India. It was founded in 2008 and has since become one of the most-watched and followed sports leagues in the world.\n",
      "\n",
      "Here's a brief overview:\n",
      "\n",
      "- The IPL features 10 teams, each representing a different city in India.\n",
      "- The league is played over several weeks in March and April, with each team playing the others in a round-robin format.\n",
      "- The top four teams then qualify for the playoffs, which include the Qualifier 1 and 2, and the Eliminator.\n",
      "- The final match is played between the winners of Qualifier 1 and 2.\n",
      "\n",
      "Some of the most successful teams in the IPL include:\n",
      "\n",
      "- Mumbai Indians (5 titles)\n",
      "- Chennai Super Kings (4 titles)\n",
      "- Kolkata Knight Riders (2 titles)\n",
      "- Rajasthan Royals (1 title)\n",
      "- Sunrisers Hyderabad (1 title)\n",
      "\n",
      "Some of the top players in the IPL include:\n",
      "\n",
      "- Virat Kohli (Royal Challengers Bangalore)\n",
      "- Rohit Sharma (Mumbai Indians)\n",
      "- MS Dhoni (Chennai Super Kings)\n",
      "- Ravindra Jadeja (Chennai Super Kings)\n",
      "- Andre Russell (Kolkata Knight Riders)\n",
      "\n",
      "The IPL is known for its high-energy atmosphere, with elaborate opening ceremonies and exciting matches. It's a must-watch for cricket fans in India and around the world!\n",
      "\n",
      "Do you have a favorite team or player, Harish?\n"
     ]
    },
    {
     "name": "stdin",
     "output_type": "stream",
     "text": [
      "User:  What is it's full form?\n"
     ]
    },
    {
     "name": "stdout",
     "output_type": "stream",
     "text": [
      "The full form of IPL is Indian Premier League.\n"
     ]
    },
    {
     "name": "stdin",
     "output_type": "stream",
     "text": [
      "User:  exit\n"
     ]
    }
   ],
   "source": [
    "while True:\n",
    "    user_input=input(\"User: \")\n",
    "    if (user_input in [\"exit\",\"end\"]):\n",
    "        break\n",
    "    else:\n",
    "        result=app.invoke(input={\n",
    "            \"messages\":HumanMessage(content=user_input)\n",
    "        },config=config)\n",
    "        print(result['messages'][-1].content)"
   ]
  },
  {
   "cell_type": "code",
   "execution_count": null,
   "id": "0ddd4599-9cd7-438f-bc32-c41f09c9d140",
   "metadata": {},
   "outputs": [
    {
     "name": "stdin",
     "output_type": "stream",
     "text": [
      "User:  What's my name?\n"
     ]
    },
    {
     "name": "stdout",
     "output_type": "stream",
     "text": [
      "Your name is Harish.\n"
     ]
    }
   ],
   "source": [
    "while True:\n",
    "    user_input=input(\"User: \")\n",
    "    if (user_input in [\"exit\",\"end\"]):\n",
    "        break\n",
    "    else:\n",
    "        result=app.invoke(input={\n",
    "            \"messages\":HumanMessage(content=user_input)\n",
    "        },config=config)\n",
    "        print(result['messages'][-1].content)"
   ]
  },
  {
   "cell_type": "code",
   "execution_count": null,
   "id": "dab881a1-44b7-4a1a-a27a-f5648d026601",
   "metadata": {},
   "outputs": [],
   "source": []
  }
 ],
 "metadata": {
  "kernelspec": {
   "display_name": "Python 3 (ipykernel)",
   "language": "python",
   "name": "python3"
  },
  "language_info": {
   "codemirror_mode": {
    "name": "ipython",
    "version": 3
   },
   "file_extension": ".py",
   "mimetype": "text/x-python",
   "name": "python",
   "nbconvert_exporter": "python",
   "pygments_lexer": "ipython3",
   "version": "3.11.11"
  }
 },
 "nbformat": 4,
 "nbformat_minor": 5
}
