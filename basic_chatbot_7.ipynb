{
 "cells": [
  {
   "cell_type": "code",
   "execution_count": 3,
   "id": "78c4570e-3a26-4c0f-a6e0-68161785bb87",
   "metadata": {},
   "outputs": [],
   "source": [
    "from typing import TypedDict, Annotated\n",
    "from langgraph.graph import add_messages, StateGraph, END\n",
    "from langchain_groq import ChatGroq\n",
    "from langchain_core.messages import AIMessage, HumanMessage\n",
    "from dotenv import load_dotenv"
   ]
  },
  {
   "cell_type": "code",
   "execution_count": 4,
   "id": "a259c24f-c1b4-431c-8525-a212ce6672eb",
   "metadata": {},
   "outputs": [
    {
     "data": {
      "text/plain": [
       "True"
      ]
     },
     "execution_count": 4,
     "metadata": {},
     "output_type": "execute_result"
    }
   ],
   "source": [
    "load_dotenv()"
   ]
  },
  {
   "cell_type": "code",
   "execution_count": 5,
   "id": "5546be31-a7f3-468a-9c33-3a14c5192100",
   "metadata": {},
   "outputs": [],
   "source": [
    "llmLlama=ChatGroq(model=\"llama-3.1-8b-instant\")"
   ]
  },
  {
   "cell_type": "code",
   "execution_count": 6,
   "id": "0bf4ce96-aaf3-455b-82c8-f78e23e3163c",
   "metadata": {},
   "outputs": [],
   "source": [
    "class BasicChatState(TypedDict):\n",
    "    messages: Annotated[list, add_messages]"
   ]
  },
  {
   "cell_type": "code",
   "execution_count": 7,
   "id": "ca1e9149-50ff-4f78-99c3-24a88c3b1bb1",
   "metadata": {},
   "outputs": [],
   "source": [
    "def chatbot(state:BasicChatState):\n",
    "    return {\n",
    "        \"messages\": [llmLlama.invoke(input=state[\"messages\"])]  # response will be an AI Message\n",
    "    }"
   ]
  },
  {
   "cell_type": "code",
   "execution_count": 8,
   "id": "a714a824-fa26-4288-8fa1-03a3742734f9",
   "metadata": {},
   "outputs": [],
   "source": [
    "graph=StateGraph(state_schema=BasicChatState)"
   ]
  },
  {
   "cell_type": "code",
   "execution_count": 9,
   "id": "a1bc1392-d4f5-4de3-a349-2709d11ccff1",
   "metadata": {},
   "outputs": [
    {
     "data": {
      "text/plain": [
       "<langgraph.graph.state.StateGraph at 0x1e46dfd3990>"
      ]
     },
     "execution_count": 9,
     "metadata": {},
     "output_type": "execute_result"
    }
   ],
   "source": [
    "graph.add_node(node=\"chatbot\",action=chatbot)"
   ]
  },
  {
   "cell_type": "code",
   "execution_count": 10,
   "id": "c5bc6475-0f98-41e8-b8d4-531dd174c173",
   "metadata": {},
   "outputs": [
    {
     "data": {
      "text/plain": [
       "<langgraph.graph.state.StateGraph at 0x1e46dfd3990>"
      ]
     },
     "execution_count": 10,
     "metadata": {},
     "output_type": "execute_result"
    }
   ],
   "source": [
    "graph.set_entry_point(key=\"chatbot\")"
   ]
  },
  {
   "cell_type": "code",
   "execution_count": 11,
   "id": "1f0a425c-34ce-49c9-85b9-f6d15f5f1358",
   "metadata": {},
   "outputs": [
    {
     "data": {
      "text/plain": [
       "<langgraph.graph.state.StateGraph at 0x1e46dfd3990>"
      ]
     },
     "execution_count": 11,
     "metadata": {},
     "output_type": "execute_result"
    }
   ],
   "source": [
    "graph.add_edge(start_key=\"chatbot\",end_key=END)"
   ]
  },
  {
   "cell_type": "code",
   "execution_count": 12,
   "id": "d7beea5e-df6c-4002-ba2f-b7c170afda16",
   "metadata": {},
   "outputs": [],
   "source": [
    "app=graph.compile()"
   ]
  },
  {
   "cell_type": "code",
   "execution_count": 13,
   "id": "d939b999-2704-44b9-b704-c33f8fa3783b",
   "metadata": {},
   "outputs": [
    {
     "name": "stdin",
     "output_type": "stream",
     "text": [
      "User:  What is the largest state in the Unites States?\n"
     ]
    },
    {
     "name": "stdout",
     "output_type": "stream",
     "text": [
      "{'messages': [HumanMessage(content='What is the largest state in the Unites States?', additional_kwargs={}, response_metadata={}, id='53b97097-79c7-4a6d-9dad-046955de8569'), AIMessage(content='Alaska is the largest state in the United States. It covers approximately 663,300 square miles (1,717,856 square kilometers) and is more than twice the size of Texas, the next largest state.', additional_kwargs={}, response_metadata={'token_usage': {'completion_tokens': 45, 'prompt_tokens': 46, 'total_tokens': 91, 'completion_time': 0.06, 'prompt_time': 0.002607253, 'queue_time': 0.609045409, 'total_time': 0.062607253}, 'model_name': 'llama-3.1-8b-instant', 'system_fingerprint': 'fp_8d1c73bd4c', 'finish_reason': 'stop', 'logprobs': None}, id='run-fa664c45-e8f9-40a6-9ef0-abcd0c8df9f5-0', usage_metadata={'input_tokens': 46, 'output_tokens': 45, 'total_tokens': 91})]}\n"
     ]
    },
    {
     "name": "stdin",
     "output_type": "stream",
     "text": [
      "User:  What is the second largest state in the Unites States?\n"
     ]
    },
    {
     "name": "stdout",
     "output_type": "stream",
     "text": [
      "{'messages': [HumanMessage(content='What is the second largest state in the Unites States?', additional_kwargs={}, response_metadata={}, id='8d0fde53-0829-4c23-83ef-48f3701f127e'), AIMessage(content='The second-largest state in the United States is Texas. It covers a total area of approximately 268,597 square miles (695,622 square kilometers).', additional_kwargs={}, response_metadata={'token_usage': {'completion_tokens': 32, 'prompt_tokens': 47, 'total_tokens': 79, 'completion_time': 0.042666667, 'prompt_time': 0.003710932, 'queue_time': 0.056223154, 'total_time': 0.046377599}, 'model_name': 'llama-3.1-8b-instant', 'system_fingerprint': 'fp_f7bd09b454', 'finish_reason': 'stop', 'logprobs': None}, id='run-2450bdeb-c2dc-4189-852b-394d8443ba1e-0', usage_metadata={'input_tokens': 47, 'output_tokens': 32, 'total_tokens': 79})]}\n"
     ]
    },
    {
     "name": "stdin",
     "output_type": "stream",
     "text": [
      "User:  What's the third?\n"
     ]
    },
    {
     "name": "stdout",
     "output_type": "stream",
     "text": [
      "{'messages': [HumanMessage(content=\"What's the third?\", additional_kwargs={}, response_metadata={}, id='4906f316-4620-40a9-8693-4f633faf503a'), AIMessage(content='I need more information to answer your question. You could be referring to many things, such as:\\n\\n- The third item in a list\\n- The third person in a conversation\\n- The third day of the week (Wednesday)\\n- The third month of the year (March)\\n- The third book in a series\\n\\nCould you please provide more context or clarify what you mean by \"the third\"?', additional_kwargs={}, response_metadata={'token_usage': {'completion_tokens': 81, 'prompt_tokens': 40, 'total_tokens': 121, 'completion_time': 0.108, 'prompt_time': 0.002500826, 'queue_time': 0.6823396039999999, 'total_time': 0.110500826}, 'model_name': 'llama-3.1-8b-instant', 'system_fingerprint': 'fp_8d1c73bd4c', 'finish_reason': 'stop', 'logprobs': None}, id='run-fd50eeb8-d9e7-4985-860a-71799a7c4deb-0', usage_metadata={'input_tokens': 40, 'output_tokens': 81, 'total_tokens': 121})]}\n"
     ]
    },
    {
     "name": "stdin",
     "output_type": "stream",
     "text": [
      "User:  exit\n"
     ]
    }
   ],
   "source": [
    "while True:\n",
    "    user_input=input(\"User: \")\n",
    "    if (user_input in [\"exit\",\"end\"]):\n",
    "        break\n",
    "    else:\n",
    "        result=app.invoke(input={\n",
    "            \"messages\":HumanMessage(content=user_input).content\n",
    "        })\n",
    "        print(result)"
   ]
  },
  {
   "cell_type": "code",
   "execution_count": null,
   "id": "efe18d8d-cdf1-4deb-a487-74151d0f55e4",
   "metadata": {},
   "outputs": [],
   "source": []
  },
  {
   "cell_type": "code",
   "execution_count": null,
   "id": "61850229-a87a-4e4e-938e-fb9c4d7c879d",
   "metadata": {},
   "outputs": [],
   "source": []
  }
 ],
 "metadata": {
  "kernelspec": {
   "display_name": "Python 3 (ipykernel)",
   "language": "python",
   "name": "python3"
  },
  "language_info": {
   "codemirror_mode": {
    "name": "ipython",
    "version": 3
   },
   "file_extension": ".py",
   "mimetype": "text/x-python",
   "name": "python",
   "nbconvert_exporter": "python",
   "pygments_lexer": "ipython3",
   "version": "3.11.11"
  }
 },
 "nbformat": 4,
 "nbformat_minor": 5
}
