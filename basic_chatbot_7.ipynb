{
 "cells": [
  {
   "cell_type": "code",
   "execution_count": 1,
   "id": "78c4570e-3a26-4c0f-a6e0-68161785bb87",
   "metadata": {},
   "outputs": [],
   "source": [
    "from typing import TypedDict, Annotated\n",
    "from langgraph.graph import add_messages, StateGraph, END\n",
    "from langchain_groq import ChatGroq\n",
    "from langchain_core.messages import AIMessage, HumanMessage\n",
    "from dotenv import load_dotenv"
   ]
  },
  {
   "cell_type": "code",
   "execution_count": 2,
   "id": "a259c24f-c1b4-431c-8525-a212ce6672eb",
   "metadata": {},
   "outputs": [
    {
     "data": {
      "text/plain": [
       "True"
      ]
     },
     "execution_count": 2,
     "metadata": {},
     "output_type": "execute_result"
    }
   ],
   "source": [
    "load_dotenv()"
   ]
  },
  {
   "cell_type": "code",
   "execution_count": 3,
   "id": "5546be31-a7f3-468a-9c33-3a14c5192100",
   "metadata": {},
   "outputs": [],
   "source": [
    "llmLlama=ChatGroq(model=\"llama-3.1-8b-instant\")"
   ]
  },
  {
   "cell_type": "code",
   "execution_count": 4,
   "id": "0bf4ce96-aaf3-455b-82c8-f78e23e3163c",
   "metadata": {},
   "outputs": [],
   "source": [
    "class BasicChatState(TypedDict):\n",
    "    messages: Annotated[list, add_messages]"
   ]
  },
  {
   "cell_type": "code",
   "execution_count": 5,
   "id": "ca1e9149-50ff-4f78-99c3-24a88c3b1bb1",
   "metadata": {},
   "outputs": [],
   "source": [
    "def chatbot(state:BasicChatState):\n",
    "    return {\n",
    "        \"messages\": [llmLlama.invoke(input=state[\"messages\"])]  # response will be an AI Message\n",
    "    }"
   ]
  },
  {
   "cell_type": "code",
   "execution_count": 6,
   "id": "a714a824-fa26-4288-8fa1-03a3742734f9",
   "metadata": {},
   "outputs": [],
   "source": [
    "graph=StateGraph(state_schema=BasicChatState)"
   ]
  },
  {
   "cell_type": "code",
   "execution_count": 7,
   "id": "a1bc1392-d4f5-4de3-a349-2709d11ccff1",
   "metadata": {},
   "outputs": [
    {
     "data": {
      "text/plain": [
       "<langgraph.graph.state.StateGraph at 0x284013f0bd0>"
      ]
     },
     "execution_count": 7,
     "metadata": {},
     "output_type": "execute_result"
    }
   ],
   "source": [
    "graph.add_node(node=\"chatbot\",action=chatbot)"
   ]
  },
  {
   "cell_type": "code",
   "execution_count": 8,
   "id": "c5bc6475-0f98-41e8-b8d4-531dd174c173",
   "metadata": {},
   "outputs": [
    {
     "data": {
      "text/plain": [
       "<langgraph.graph.state.StateGraph at 0x284013f0bd0>"
      ]
     },
     "execution_count": 8,
     "metadata": {},
     "output_type": "execute_result"
    }
   ],
   "source": [
    "graph.set_entry_point(key=\"chatbot\")"
   ]
  },
  {
   "cell_type": "code",
   "execution_count": 9,
   "id": "1f0a425c-34ce-49c9-85b9-f6d15f5f1358",
   "metadata": {},
   "outputs": [
    {
     "data": {
      "text/plain": [
       "<langgraph.graph.state.StateGraph at 0x284013f0bd0>"
      ]
     },
     "execution_count": 9,
     "metadata": {},
     "output_type": "execute_result"
    }
   ],
   "source": [
    "graph.add_edge(start_key=\"chatbot\",end_key=END)"
   ]
  },
  {
   "cell_type": "code",
   "execution_count": 10,
   "id": "d7beea5e-df6c-4002-ba2f-b7c170afda16",
   "metadata": {},
   "outputs": [],
   "source": [
    "app=graph.compile()"
   ]
  },
  {
   "cell_type": "code",
   "execution_count": 11,
   "id": "b2640b55",
   "metadata": {},
   "outputs": [
    {
     "name": "stdout",
     "output_type": "stream",
     "text": [
      "+-----------+  \n",
      "| __start__ |  \n",
      "+-----------+  \n",
      "      *        \n",
      "      *        \n",
      "      *        \n",
      " +---------+   \n",
      " | chatbot |   \n",
      " +---------+   \n",
      "      *        \n",
      "      *        \n",
      "      *        \n",
      " +---------+   \n",
      " | __end__ |   \n",
      " +---------+   \n"
     ]
    }
   ],
   "source": [
    "app.get_graph().print_ascii()"
   ]
  },
  {
   "cell_type": "code",
   "execution_count": 12,
   "id": "d939b999-2704-44b9-b704-c33f8fa3783b",
   "metadata": {},
   "outputs": [
    {
     "name": "stdout",
     "output_type": "stream",
     "text": [
      "{'messages': [HumanMessage(content='What is the largest state of the India?', additional_kwargs={}, response_metadata={}, id='9356c7a8-f735-4a49-b66a-e8f3b20d830c'), AIMessage(content='The largest state in India is Rajasthan.', additional_kwargs={}, response_metadata={'token_usage': {'completion_tokens': 9, 'prompt_tokens': 44, 'total_tokens': 53, 'completion_time': 0.012, 'prompt_time': 0.002613875, 'queue_time': 0.047081325, 'total_time': 0.014613875}, 'model_name': 'llama-3.1-8b-instant', 'system_fingerprint': 'fp_a4265e44d5', 'finish_reason': 'stop', 'logprobs': None}, id='run-1b3cea57-aed6-4edd-ad55-29d901fd6a98-0', usage_metadata={'input_tokens': 44, 'output_tokens': 9, 'total_tokens': 53})]}\n",
      "{'messages': [HumanMessage(content='Which is the second largest state in India?', additional_kwargs={}, response_metadata={}, id='f77e74cc-9fee-4f4a-8e8a-229daf1aca48'), AIMessage(content='The second-largest state in India is Madhya Pradesh.', additional_kwargs={}, response_metadata={'token_usage': {'completion_tokens': 12, 'prompt_tokens': 44, 'total_tokens': 56, 'completion_time': 0.016, 'prompt_time': 0.002638145, 'queue_time': 0.048329695, 'total_time': 0.018638145}, 'model_name': 'llama-3.1-8b-instant', 'system_fingerprint': 'fp_f7bd09b454', 'finish_reason': 'stop', 'logprobs': None}, id='run-f81c2c36-2e79-4af5-b617-53315a903d48-0', usage_metadata={'input_tokens': 44, 'output_tokens': 12, 'total_tokens': 56})]}\n",
      "{'messages': [HumanMessage(content='Which is the third?', additional_kwargs={}, response_metadata={}, id='82274c2f-b812-4f1f-85ac-993e4ef23c25'), AIMessage(content='I need more information about what you are referring to. Are you asking about a specific list, sequence, or something else?', additional_kwargs={}, response_metadata={'token_usage': {'completion_tokens': 26, 'prompt_tokens': 40, 'total_tokens': 66, 'completion_time': 0.034666667, 'prompt_time': 0.002626214, 'queue_time': 0.7578452840000001, 'total_time': 0.037292881}, 'model_name': 'llama-3.1-8b-instant', 'system_fingerprint': 'fp_f7bd09b454', 'finish_reason': 'stop', 'logprobs': None}, id='run-e684123f-10e9-43c3-986b-d54ad4d6c25c-0', usage_metadata={'input_tokens': 40, 'output_tokens': 26, 'total_tokens': 66})]}\n"
     ]
    }
   ],
   "source": [
    "while True:\n",
    "    user_input=input(\"User: \")\n",
    "    if (user_input in [\"exit\",\"end\"]):\n",
    "        break\n",
    "    else:\n",
    "        result=app.invoke(input={\n",
    "            \"messages\":HumanMessage(content=user_input).content\n",
    "        })\n",
    "        print(result)"
   ]
  },
  {
   "cell_type": "code",
   "execution_count": 14,
   "id": "efe18d8d-cdf1-4deb-a487-74151d0f55e4",
   "metadata": {},
   "outputs": [
    {
     "name": "stdout",
     "output_type": "stream",
     "text": [
      "The largest state of India is Rajasthan.\n",
      "The second largest state in India is Maharashtra.\n",
      "I need more context or information to determine which \"third\" you are referring to. Could you provide more details or clarify what you're asking?\n"
     ]
    }
   ],
   "source": [
    "while True:\n",
    "    user_input=input(\"User: \")\n",
    "    if (user_input in [\"exit\",\"end\"]):\n",
    "        break\n",
    "    else:\n",
    "        result=app.invoke(input={\n",
    "            \"messages\":HumanMessage(content=user_input).content\n",
    "        })\n",
    "        print(result['messages'][-1].content)"
   ]
  },
  {
   "cell_type": "code",
   "execution_count": null,
   "id": "61850229-a87a-4e4e-938e-fb9c4d7c879d",
   "metadata": {},
   "outputs": [],
   "source": []
  }
 ],
 "metadata": {
  "kernelspec": {
   "display_name": "lcnenv",
   "language": "python",
   "name": "python3"
  },
  "language_info": {
   "codemirror_mode": {
    "name": "ipython",
    "version": 3
   },
   "file_extension": ".py",
   "mimetype": "text/x-python",
   "name": "python",
   "nbconvert_exporter": "python",
   "pygments_lexer": "ipython3",
   "version": "3.11.11"
  }
 },
 "nbformat": 4,
 "nbformat_minor": 5
}
