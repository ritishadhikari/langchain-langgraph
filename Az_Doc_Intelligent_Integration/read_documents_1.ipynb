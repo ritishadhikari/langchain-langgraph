{
 "cells": [
  {
   "cell_type": "code",
   "execution_count": 80,
   "id": "1067c34f-5a1c-4112-b939-d14091f1a910",
   "metadata": {},
   "outputs": [],
   "source": [
    "import dotenv\n",
    "from langchain_community.document_loaders import AzureAIDocumentIntelligenceLoader\n",
    "import os\n",
    "from langchain_core.tools import tool\n",
    "from typing import Optional\n",
    "from langchain_openai import ChatOpenAI\n",
    "from langchain.agents import create_tool_calling_agent,AgentExecutor\n",
    "from langchain.prompts import (ChatPromptTemplate, AIMessagePromptTemplate, \n",
    "                            HumanMessagePromptTemplate, SystemMessagePromptTemplate,MessagesPlaceholder)\n",
    "from langchain_community.chat_message_histories import ChatMessageHistory\n",
    "from langchain_core.runnables.history import RunnableWithMessageHistory"
   ]
  },
  {
   "cell_type": "code",
   "execution_count": 1,
   "id": "d0595859-3e9c-4df8-8232-4cf4109717d4",
   "metadata": {},
   "outputs": [],
   "source": [
    "filePath=\"D:/MLOPS/Azure_Doc_Intelligence/Samples/layout.pdf\""
   ]
  },
  {
   "cell_type": "code",
   "execution_count": 5,
   "id": "0646d89d-ee06-46a9-a16e-35b1ef258b51",
   "metadata": {},
   "outputs": [
    {
     "data": {
      "text/plain": [
       "True"
      ]
     },
     "execution_count": 5,
     "metadata": {},
     "output_type": "execute_result"
    }
   ],
   "source": [
    "dotenv.load_dotenv(dotenv_path=dotenv.find_dotenv(filename=\"../../.env\"))"
   ]
  },
  {
   "cell_type": "code",
   "execution_count": 7,
   "id": "78275e59-5f36-4af4-9262-3fc0f05a9170",
   "metadata": {},
   "outputs": [],
   "source": [
    "endpoint=os.environ[\"DOC_AI_SERVICE_ENDPOINT_FREE\"]\n",
    "apiKey=os.environ[\"DOC_AI_API_KEY_FREE\"]"
   ]
  },
  {
   "cell_type": "code",
   "execution_count": 24,
   "id": "3548fe25-61bf-41d1-996f-41d1ebeda26a",
   "metadata": {},
   "outputs": [],
   "source": [
    "loader=AzureAIDocumentIntelligenceLoader(api_endpoint=endpoint,api_key=apiKey,file_path=filePath,mode=\"page\")"
   ]
  },
  {
   "cell_type": "code",
   "execution_count": 25,
   "id": "eb868f2d-2d9f-4063-808b-0c2b2ba121af",
   "metadata": {},
   "outputs": [],
   "source": [
    "documents=loader.load()"
   ]
  },
  {
   "cell_type": "code",
   "execution_count": 44,
   "id": "0d3e2b25-2bc6-48c8-8285-38e229340678",
   "metadata": {},
   "outputs": [
    {
     "data": {
      "text/plain": [
       "str"
      ]
     },
     "execution_count": 44,
     "metadata": {},
     "output_type": "execute_result"
    }
   ],
   "source": [
    "type(documents[0].page_content)"
   ]
  },
  {
   "cell_type": "code",
   "execution_count": 27,
   "id": "d9b630bb-d4ea-4f02-9813-c2ade0e86ea5",
   "metadata": {},
   "outputs": [
    {
     "data": {
      "text/plain": [
       "{'page': 1}"
      ]
     },
     "execution_count": 27,
     "metadata": {},
     "output_type": "execute_result"
    }
   ],
   "source": [
    "documents[0].metadata"
   ]
  },
  {
   "cell_type": "code",
   "execution_count": 69,
   "id": "1b721a82-7acb-44ea-8d43-9060a97236b3",
   "metadata": {},
   "outputs": [],
   "source": [
    "@tool\n",
    "def content_in_markdown(filePath:str):\n",
    "    \"\"\"\n",
    "        Retrieve the content of a File in a Markdown Format by using the Azure Doc Intelligence API Service\n",
    "    \"\"\"\n",
    "    loader=AzureAIDocumentIntelligenceLoader(api_endpoint=endpoint,api_key=apiKey,file_path=filePath)\n",
    "    documents=loader.load()\n",
    "    totalContents=[]\n",
    "    for document in documents:\n",
    "        totalContents.append(document.page_content)\n",
    "    return \"\\n\".join(totalContents)"
   ]
  },
  {
   "cell_type": "code",
   "execution_count": 86,
   "id": "32c662db-ce6b-4adf-93bf-22082736f3fb",
   "metadata": {},
   "outputs": [],
   "source": [
    "@tool\n",
    "def content_in_pageMode(filePath:str):\n",
    "    \"\"\"\n",
    "        Retrieve the content of a File in a non-markdown page-mode Retrieve the content of a File in a Markdown Format by using the Azure Doc Intelligence API Service\n",
    "    \"\"\"\n",
    "    loader=AzureAIDocumentIntelligenceLoader(api_endpoint=endpoint,api_key=apiKey,file_path=filePath,mode='page')\n",
    "    documents=loader.load()\n",
    "    totalContents=[]\n",
    "    for document in documents:\n",
    "        totalContents.append(document.page_content)\n",
    "    return \"\\n\".join(totalContents)"
   ]
  },
  {
   "cell_type": "code",
   "execution_count": 109,
   "id": "c8de5372-ae40-4942-b7f7-ae70dd390efe",
   "metadata": {},
   "outputs": [],
   "source": [
    "tools=[content_in_markdown,content_in_pageMode]"
   ]
  },
  {
   "cell_type": "code",
   "execution_count": 110,
   "id": "4afca5bf-d7fc-4317-8539-a04dc455649d",
   "metadata": {},
   "outputs": [],
   "source": [
    "llmOpenAI=ChatOpenAI(max_completion_tokens=4000,temperature=1)"
   ]
  },
  {
   "cell_type": "code",
   "execution_count": 111,
   "id": "9b7b40ab-669a-46c5-ab89-c294929a3209",
   "metadata": {},
   "outputs": [],
   "source": [
    "llmOpenAI_with_tools=llmOpenAI.bind_tools(tools=tools)"
   ]
  },
  {
   "cell_type": "code",
   "execution_count": 112,
   "id": "fdbbc90a-28b2-4fb3-9dcf-b046daef952a",
   "metadata": {},
   "outputs": [],
   "source": [
    "prompts=ChatPromptTemplate.from_messages(messages=[\n",
    "        SystemMessagePromptTemplate.from_template(template=\"\"\"\n",
    "        You are an intelligent agent who can achieve the goal by accessing to certain agents at your disposal. \n",
    "        **Unless explicitly asked to open a document through the Markdown mode, always open it through `content_in_pageMode` agent**\n",
    "        \"\"\"),\n",
    "        MessagesPlaceholder(variable_name=\"chat_history\",optional=True),\n",
    "        HumanMessagePromptTemplate.from_template(template=\"{user_input}\"),\n",
    "        MessagesPlaceholder(variable_name=\"agent_scratchpad\")\n",
    "])"
   ]
  },
  {
   "cell_type": "code",
   "execution_count": 113,
   "id": "f0495ca0-2076-40fd-b015-f7552434992b",
   "metadata": {},
   "outputs": [],
   "source": [
    "agent=create_tool_calling_agent(llm=llmOpenAI, tools=tools,prompt=prompts)"
   ]
  },
  {
   "cell_type": "code",
   "execution_count": 114,
   "id": "2fbfdd27-a9df-46d5-b0ca-76d18e1e8ef2",
   "metadata": {},
   "outputs": [],
   "source": [
    "agentExecutor=AgentExecutor(tools=tools,agent=agent,verbose=True)"
   ]
  },
  {
   "cell_type": "code",
   "execution_count": 115,
   "id": "3415bf01-2b84-4a2d-9d78-f50b61c18e25",
   "metadata": {},
   "outputs": [],
   "source": [
    "messageHistory=ChatMessageHistory()"
   ]
  },
  {
   "cell_type": "code",
   "execution_count": 116,
   "id": "5f522fef-6a66-4b02-80ee-f11d3b2d4201",
   "metadata": {},
   "outputs": [],
   "source": [
    "agentExecutorWithMemory=RunnableWithMessageHistory(runnable=agentExecutor,\n",
    "                                                   get_session_history=lambda sess_id: messageHistory,\n",
    "                                                   input_messages_key=\"user_input\",\n",
    "                                                   history_messages_key=\"chat_history\"\n",
    "                                                  )"
   ]
  },
  {
   "cell_type": "code",
   "execution_count": 117,
   "id": "8148270e-fd56-4199-bca7-aacd0f1d32fc",
   "metadata": {},
   "outputs": [
    {
     "name": "stdout",
     "output_type": "stream",
     "text": [
      "\n",
      "\n",
      "\u001b[1m> Entering new AgentExecutor chain...\u001b[0m\n",
      "\u001b[32;1m\u001b[1;3m\n",
      "Invoking: `content_in_pageMode` with `{'filePath': 'samples/layout.pdf'}`\n",
      "\n",
      "\n",
      "\u001b[0m\u001b[33;1m\u001b[1;3mUNITED STATES SECURITIES AND EXCHANGE COMMISSION Washington, D.C. 20549 FORM 10-Q ☐ ☒ QUARTERLY REPORT PURSUANT TO SECTION 13 OR 15(d) OF THE SECURITIES EXCHANGE ACT OF 1934 For the Quarterly Period Ended March 31, 2020 OR TRANSITION REPORT PURSUANT TO SECTION 13 OR 15(d) OF THE SECURITIES EXCHANGE ACT OF 1934 For the Transition Period From to Commission File Number 001-37845 MICROSOFT CORPORATION WASHINGTON (STATE OF INCORPORATION) ONE MICROSOFT WAY, REDMOND, WASHINGTON 98052-6399 (425) 882-8080 www.microsoft.com/investor 91-1144442 (I.R.S. ID) Securities registered pursuant to Section 12(b) of the Act: Title of each class Trading Symbol Name of exchange on which registered Common stock, $0.00000625 par value per share MSFT NASDAQ 2.125% Notes due 2021 MSFT NASDAQ 3.125% Notes due 2028 MSFT NASDAQ 2.625% Notes due 2033 MSFT NASDAQ Securities registered pursuant to Section 12(g) of the Act: NONE Indicate by check mark whether the registrant (1) has filed all reports required to be filed by Section 13 or 15(d) of the Securities Exchange Act of 1934 during the preceding 12 months (or for such shorter period that the registrant was required to file such reports), and (2) has been subject to such filing requirements for the past 90 days. Yes No Indicate by check mark whether the registrant has submitted electronically every Interactive Data File required to be submitted pursuant to Rule 405 of Regulation S-T (§232.405 of this chapter) during the preceding 12 months (or for such shorter period that the registrant was required to submit such files). Yes No Indicate by check mark whether the registrant is a large accelerated filer, an accelerated filer, a non-accelerated filer, a smaller reporting company, or an emerging growth company. See the definitions of \"large accelerated filer,\" \"accelerated filer,\" \"smaller reporting company,\" and \"emerging growth company\" in Rule 12b-2 of the Exchange Act. Large accelerated filer Non-accelerated filer Accelerated filer Smaller reporting company Emerging growth company If an emerging growth company, indicate by check mark if the registrant has elected not to use the extended transition period for complying with any new or revised financial accounting standards provided pursuant to Section 13(a) of the Exchange Act. Indicate by check mark whether the registrant is a shell company (as defined in Rule 12b-2 of the Exchange Act). Yes No Indicate the number of shares outstanding of each of the issuer's classes of common stock, as of the latest practicable date. Class Outstanding as of April 24, 2020 Common Stock, $0.00000625 par value per share 7,583,440,247 shares\u001b[0m\u001b[32;1m\u001b[1;3mThe document is a Form 10-Q filed with the United States Securities and Exchange Commission (SEC) by Microsoft Corporation. It contains information about Microsoft Corporation, including its address, securities registered, and various checkmark indicators related to filings and compliance.\n",
      "\n",
      "Here are some key points from the document:\n",
      "- Company Name: Microsoft Corporation\n",
      "- Address: One Microsoft Way, Redmond, Washington 98052-6399\n",
      "- Trading Symbol: MSFT\n",
      "- Securities Registered: Common Stock, 2.125% Notes due 2021, 3.125% Notes due 2028, 2.625% Notes due 2033\n",
      "- Number of Shares Outstanding: 7,583,440,247 shares as of April 24, 2020\n",
      "\n",
      "The document provides details about the company's filings, compliance status, and other relevant information required for regulatory reporting.\u001b[0m\n",
      "\n",
      "\u001b[1m> Finished chain.\u001b[0m\n"
     ]
    },
    {
     "data": {
      "text/plain": [
       "{'user_input': 'Can you open the pdf located in the directory path: `samples/layout.pdf` and summarize the same? ',\n",
       " 'chat_history': [],\n",
       " 'output': \"The document is a Form 10-Q filed with the United States Securities and Exchange Commission (SEC) by Microsoft Corporation. It contains information about Microsoft Corporation, including its address, securities registered, and various checkmark indicators related to filings and compliance.\\n\\nHere are some key points from the document:\\n- Company Name: Microsoft Corporation\\n- Address: One Microsoft Way, Redmond, Washington 98052-6399\\n- Trading Symbol: MSFT\\n- Securities Registered: Common Stock, 2.125% Notes due 2021, 3.125% Notes due 2028, 2.625% Notes due 2033\\n- Number of Shares Outstanding: 7,583,440,247 shares as of April 24, 2020\\n\\nThe document provides details about the company's filings, compliance status, and other relevant information required for regulatory reporting.\"}"
      ]
     },
     "execution_count": 117,
     "metadata": {},
     "output_type": "execute_result"
    }
   ],
   "source": [
    "agentExecutorWithMemory.invoke(\n",
    "        input={\"user_input\":\"Can you open the pdf located in the directory path: `samples/layout.pdf` and summarize the same? \"},\n",
    "        config={\"configurable\":{\"session_id\":\"<trial_1>\"}}\n",
    "    )"
   ]
  },
  {
   "cell_type": "code",
   "execution_count": 118,
   "id": "151cdece-2585-4c1d-953d-b59ae25acf0f",
   "metadata": {
    "scrolled": true
   },
   "outputs": [
    {
     "name": "stdout",
     "output_type": "stream",
     "text": [
      "\n",
      "\n",
      "\u001b[1m> Entering new AgentExecutor chain...\u001b[0m\n",
      "\u001b[32;1m\u001b[1;3m\n",
      "Invoking: `content_in_pageMode` with `{'filePath': 'samples/layout.pdf'}`\n",
      "\n",
      "\n",
      "\u001b[0m\u001b[33;1m\u001b[1;3mUNITED STATES SECURITIES AND EXCHANGE COMMISSION Washington, D.C. 20549 FORM 10-Q ☐ ☒ QUARTERLY REPORT PURSUANT TO SECTION 13 OR 15(d) OF THE SECURITIES EXCHANGE ACT OF 1934 For the Quarterly Period Ended March 31, 2020 OR TRANSITION REPORT PURSUANT TO SECTION 13 OR 15(d) OF THE SECURITIES EXCHANGE ACT OF 1934 For the Transition Period From to Commission File Number 001-37845 MICROSOFT CORPORATION WASHINGTON (STATE OF INCORPORATION) ONE MICROSOFT WAY, REDMOND, WASHINGTON 98052-6399 (425) 882-8080 www.microsoft.com/investor 91-1144442 (I.R.S. ID) Securities registered pursuant to Section 12(b) of the Act: Title of each class Trading Symbol Name of exchange on which registered Common stock, $0.00000625 par value per share MSFT NASDAQ 2.125% Notes due 2021 MSFT NASDAQ 3.125% Notes due 2028 MSFT NASDAQ 2.625% Notes due 2033 MSFT NASDAQ Securities registered pursuant to Section 12(g) of the Act: NONE Indicate by check mark whether the registrant (1) has filed all reports required to be filed by Section 13 or 15(d) of the Securities Exchange Act of 1934 during the preceding 12 months (or for such shorter period that the registrant was required to file such reports), and (2) has been subject to such filing requirements for the past 90 days. Yes No Indicate by check mark whether the registrant has submitted electronically every Interactive Data File required to be submitted pursuant to Rule 405 of Regulation S-T (§232.405 of this chapter) during the preceding 12 months (or for such shorter period that the registrant was required to submit such files). Yes No Indicate by check mark whether the registrant is a large accelerated filer, an accelerated filer, a non-accelerated filer, a smaller reporting company, or an emerging growth company. See the definitions of \"large accelerated filer,\" \"accelerated filer,\" \"smaller reporting company,\" and \"emerging growth company\" in Rule 12b-2 of the Exchange Act. Large accelerated filer Non-accelerated filer Accelerated filer Smaller reporting company Emerging growth company If an emerging growth company, indicate by check mark if the registrant has elected not to use the extended transition period for complying with any new or revised financial accounting standards provided pursuant to Section 13(a) of the Exchange Act. Indicate by check mark whether the registrant is a shell company (as defined in Rule 12b-2 of the Exchange Act). Yes No Indicate the number of shares outstanding of each of the issuer's classes of common stock, as of the latest practicable date. Class Outstanding as of April 24, 2020 Common Stock, $0.00000625 par value per share 7,583,440,247 shares\u001b[0m\u001b[32;1m\u001b[1;3mThe document mentions the United States Securities and Exchange Commission (SEC) in the following context:\n",
      "- The header of the document states \"UNITED STATES SECURITIES AND EXCHANGE COMMISSION Washington, D.C. 20549\"\n",
      "- The document is a Form 10-Q, which is a quarterly report filed with the SEC pursuant to Section 13 or 15(d) of the Securities Exchange Act of 1934\n",
      "- It includes information about the registration of securities with the SEC, such as Common Stock, 2.125% Notes due 2021, 3.125% Notes due 2028, and 2.625% Notes due 2033\n",
      "- The document includes checkmark indicators related to the filing requirements under the Securities Exchange Act of 1934, indicating compliance with the SEC reporting obligations\n",
      "\n",
      "These mentions indicate that the document is a regulatory filing with the SEC as required by law for public companies like Microsoft Corporation.\u001b[0m\n",
      "\n",
      "\u001b[1m> Finished chain.\u001b[0m\n"
     ]
    },
    {
     "data": {
      "text/plain": [
       "{'user_input': 'What has been mentioned about the Securities and Exchange Commission? ',\n",
       " 'chat_history': [HumanMessage(content='Can you open the pdf located in the directory path: `samples/layout.pdf` and summarize the same? ', additional_kwargs={}, response_metadata={}),\n",
       "  AIMessage(content=\"The document is a Form 10-Q filed with the United States Securities and Exchange Commission (SEC) by Microsoft Corporation. It contains information about Microsoft Corporation, including its address, securities registered, and various checkmark indicators related to filings and compliance.\\n\\nHere are some key points from the document:\\n- Company Name: Microsoft Corporation\\n- Address: One Microsoft Way, Redmond, Washington 98052-6399\\n- Trading Symbol: MSFT\\n- Securities Registered: Common Stock, 2.125% Notes due 2021, 3.125% Notes due 2028, 2.625% Notes due 2033\\n- Number of Shares Outstanding: 7,583,440,247 shares as of April 24, 2020\\n\\nThe document provides details about the company's filings, compliance status, and other relevant information required for regulatory reporting.\", additional_kwargs={}, response_metadata={})],\n",
       " 'output': 'The document mentions the United States Securities and Exchange Commission (SEC) in the following context:\\n- The header of the document states \"UNITED STATES SECURITIES AND EXCHANGE COMMISSION Washington, D.C. 20549\"\\n- The document is a Form 10-Q, which is a quarterly report filed with the SEC pursuant to Section 13 or 15(d) of the Securities Exchange Act of 1934\\n- It includes information about the registration of securities with the SEC, such as Common Stock, 2.125% Notes due 2021, 3.125% Notes due 2028, and 2.625% Notes due 2033\\n- The document includes checkmark indicators related to the filing requirements under the Securities Exchange Act of 1934, indicating compliance with the SEC reporting obligations\\n\\nThese mentions indicate that the document is a regulatory filing with the SEC as required by law for public companies like Microsoft Corporation.'}"
      ]
     },
     "execution_count": 118,
     "metadata": {},
     "output_type": "execute_result"
    }
   ],
   "source": [
    "agentExecutorWithMemory.invoke(\n",
    "        input={\"user_input\":\"What has been mentioned about the Securities and Exchange Commission? \"},\n",
    "        config={\"configurable\":{\"session_id\":\"<trial_1>\"}}\n",
    "    )"
   ]
  },
  {
   "cell_type": "code",
   "execution_count": null,
   "id": "d27f0223-7499-4e1a-9d93-67d48f7baed7",
   "metadata": {},
   "outputs": [],
   "source": []
  },
  {
   "cell_type": "code",
   "execution_count": 119,
   "id": "a0443a91-bf74-497d-8820-a43c8bfe433d",
   "metadata": {},
   "outputs": [
    {
     "name": "stdout",
     "output_type": "stream",
     "text": [
      "\n",
      "\n",
      "\u001b[1m> Entering new AgentExecutor chain...\u001b[0m\n",
      "\u001b[32;1m\u001b[1;3m\n",
      "Invoking: `content_in_markdown` with `{'filePath': 'samples/layout.pdf'}`\n",
      "\n",
      "\n",
      "\u001b[0m\u001b[36;1m\u001b[1;3m# UNITED STATES SECURITIES AND EXCHANGE COMMISSION Washington, D.C. 20549\n",
      "\n",
      "\n",
      "## FORM 10-Q\n",
      "\n",
      "☐\n",
      "☒\n",
      "☒\n",
      "QUARTERLY REPORT PURSUANT TO SECTION 13 OR 15(d) OF THE SECURITIES EXCHANGE ACT OF\n",
      "1934\n",
      "For the Quarterly Period Ended March 31, 2020\n",
      "OR\n",
      "☐\n",
      "TRANSITION REPORT PURSUANT TO SECTION 13 OR 15(d) OF THE SECURITIES EXCHANGE ACT OF\n",
      "1934\n",
      "For the Transition Period From\n",
      "to\n",
      "\n",
      "Commission File Number 001-37845\n",
      "\n",
      "\n",
      "## MICROSOFT CORPORATION\n",
      "\n",
      "WASHINGTON\n",
      "(STATE OF INCORPORATION)\n",
      "ONE MICROSOFT WAY, REDMOND, WASHINGTON 98052-6399\n",
      "(425) 882-8080\n",
      "www.microsoft.com/investor\n",
      "\n",
      "91-1144442\n",
      "(I.R.S. ID)\n",
      "\n",
      "Securities registered pursuant to Section 12(b) of the Act:\n",
      "\n",
      "\n",
      "<table>\n",
      "<tr>\n",
      "<th>Title of each class</th>\n",
      "<th>Trading Symbol</th>\n",
      "<th>Name of exchange on which registered</th>\n",
      "</tr>\n",
      "<tr>\n",
      "<td>Common stock, $0.00000625 par value per share</td>\n",
      "<td>MSFT</td>\n",
      "<td>NASDAQ</td>\n",
      "</tr>\n",
      "<tr>\n",
      "<td>2.125% Notes due 2021</td>\n",
      "<td>MSFT</td>\n",
      "<td>NASDAQ</td>\n",
      "</tr>\n",
      "<tr>\n",
      "<td>3.125% Notes due 2028</td>\n",
      "<td>MSFT</td>\n",
      "<td>NASDAQ</td>\n",
      "</tr>\n",
      "<tr>\n",
      "<td>2.625% Notes due 2033</td>\n",
      "<td>MSFT</td>\n",
      "<td>NASDAQ</td>\n",
      "</tr>\n",
      "</table>\n",
      "\n",
      "\n",
      "Securities registered pursuant to Section 12(g) of the Act:\n",
      "NONE\n",
      "\n",
      "Indicate by check mark whether the registrant (1) has filed all reports required to be filed by Section 13 or 15(d) of the Securities Exchange\n",
      "Act of 1934 during the preceding 12 months (or for such shorter period that the registrant was required to file such reports), and (2) has\n",
      "been subject to such filing requirements for the past 90 days. Yes\n",
      "☐\n",
      "No\n",
      "☒\n",
      "\n",
      "Indicate by check mark whether the registrant has submitted electronically every Interactive Data File required to be submitted pursuant to Rule\n",
      "405 of Regulation S-T (§232.405 of this chapter) during the preceding 12 months (or for such shorter period that the registrant was required to\n",
      "submit such files).\n",
      "☒\n",
      "Yes\n",
      "☐\n",
      "No\n",
      "\n",
      "Indicate by check mark whether the registrant is a large accelerated filer, an accelerated filer, a non-accelerated filer, a smaller reporting\n",
      "company, or an emerging growth company. See the definitions of \"large accelerated filer,\" \"accelerated filer,\" \"smaller reporting company,\"\n",
      "and \"emerging growth company\" in Rule 12b-2 of the Exchange Act.\n",
      "\n",
      "☒\n",
      "Large accelerated filer\n",
      "Non-accelerated filer\n",
      "☐\n",
      "\n",
      "☐\n",
      "Accelerated filer\n",
      "Smaller reporting company\n",
      "Emerging growth company\n",
      "☐\n",
      "\n",
      "☐\n",
      "\n",
      "If an emerging growth company, indicate by check mark if the registrant has elected not to use the extended transition period for complying\n",
      "with any new or revised financial accounting standards provided pursuant to Section 13(a) of the Exchange Act.\n",
      "☐\n",
      "\n",
      "Indicate by check mark whether the registrant is a shell company (as defined in Rule 12b-2 of the Exchange Act). Yes\n",
      "☐\n",
      "No\n",
      "\n",
      "☒\n",
      "\n",
      "Indicate the number of shares outstanding of each of the issuer's classes of common stock, as of the latest practicable date.\n",
      "\n",
      "\n",
      "<table>\n",
      "<tr>\n",
      "<th>Class</th>\n",
      "<th>Outstanding as of April 24, 2020</th>\n",
      "</tr>\n",
      "<tr>\n",
      "<td>Common Stock, $0.00000625 par value per share</td>\n",
      "<td>7,583,440,247 shares</td>\n",
      "</tr>\n",
      "</table>\n",
      "\u001b[0m\u001b[32;1m\u001b[1;3mThe document is a Form 10-Q filed with the United States Securities and Exchange Commission (SEC) by Microsoft Corporation. It contains information about Microsoft Corporation, including its address, securities registered, and various checkmark indicators related to filings and compliance.\n",
      "\n",
      "Here is a summary of the document in Markdown format:\n",
      "\n",
      "```\n",
      "# UNITED STATES SECURITIES AND EXCHANGE COMMISSION Washington, D.C. 20549\n",
      "\n",
      "## FORM 10-Q\n",
      "\n",
      "- Quarterly Report pursuant to Section 13 or 15(d) of the Securities Exchange Act of 1934 for the Quarterly Period Ended March 31, 2020\n",
      "- Commission File Number 001-37845\n",
      "\n",
      "## MICROSOFT CORPORATION\n",
      "\n",
      "- State of Incorporation: Washington\n",
      "- Address: One Microsoft Way, Redmond, Washington 98052-6399\n",
      "- Securities Registered:\n",
      "  - Common Stock, $0.00000625 par value per share (Trading Symbol: MSFT, Exchange: NASDAQ)\n",
      "  - 2.125% Notes due 2021 (Trading Symbol: MSFT, Exchange: NASDAQ)\n",
      "  - 3.125% Notes due 2028 (Trading Symbol: MSFT, Exchange: NASDAQ)\n",
      "  - 2.625% Notes due 2033 (Trading Symbol: MSFT, Exchange: NASDAQ)\n",
      "\n",
      "- Checkmark Indicators:\n",
      "  - Filed all reports required by Section 13 or 15(d) of the Securities Exchange Act of 1934 in the past 12 months: No\n",
      "  - Submitted all Interactive Data Files required by Rule 405 of Regulation S-T in the past 12 months: Yes\n",
      "  - Filer Category: Large accelerated filer\n",
      "\n",
      "- Number of Shares Outstanding as of April 24, 2020:\n",
      "  - Common Stock, $0.00000625 par value per share: 7,583,440,247 shares\n",
      "``` \n",
      "\n",
      "This summary captures the key information provided in the Form 10-Q filed by Microsoft Corporation with the SEC.\u001b[0m\n",
      "\n",
      "\u001b[1m> Finished chain.\u001b[0m\n"
     ]
    },
    {
     "data": {
      "text/plain": [
       "{'user_input': 'Can you open the pdf located in the directory path: `samples/layout.pdf` and summarize the same through Markdown? ',\n",
       " 'chat_history': [HumanMessage(content='Can you open the pdf located in the directory path: `samples/layout.pdf` and summarize the same? ', additional_kwargs={}, response_metadata={}),\n",
       "  AIMessage(content=\"The document is a Form 10-Q filed with the United States Securities and Exchange Commission (SEC) by Microsoft Corporation. It contains information about Microsoft Corporation, including its address, securities registered, and various checkmark indicators related to filings and compliance.\\n\\nHere are some key points from the document:\\n- Company Name: Microsoft Corporation\\n- Address: One Microsoft Way, Redmond, Washington 98052-6399\\n- Trading Symbol: MSFT\\n- Securities Registered: Common Stock, 2.125% Notes due 2021, 3.125% Notes due 2028, 2.625% Notes due 2033\\n- Number of Shares Outstanding: 7,583,440,247 shares as of April 24, 2020\\n\\nThe document provides details about the company's filings, compliance status, and other relevant information required for regulatory reporting.\", additional_kwargs={}, response_metadata={}),\n",
       "  HumanMessage(content='What has been mentioned about the Securities and Exchange Commission? ', additional_kwargs={}, response_metadata={}),\n",
       "  AIMessage(content='The document mentions the United States Securities and Exchange Commission (SEC) in the following context:\\n- The header of the document states \"UNITED STATES SECURITIES AND EXCHANGE COMMISSION Washington, D.C. 20549\"\\n- The document is a Form 10-Q, which is a quarterly report filed with the SEC pursuant to Section 13 or 15(d) of the Securities Exchange Act of 1934\\n- It includes information about the registration of securities with the SEC, such as Common Stock, 2.125% Notes due 2021, 3.125% Notes due 2028, and 2.625% Notes due 2033\\n- The document includes checkmark indicators related to the filing requirements under the Securities Exchange Act of 1934, indicating compliance with the SEC reporting obligations\\n\\nThese mentions indicate that the document is a regulatory filing with the SEC as required by law for public companies like Microsoft Corporation.', additional_kwargs={}, response_metadata={})],\n",
       " 'output': 'The document is a Form 10-Q filed with the United States Securities and Exchange Commission (SEC) by Microsoft Corporation. It contains information about Microsoft Corporation, including its address, securities registered, and various checkmark indicators related to filings and compliance.\\n\\nHere is a summary of the document in Markdown format:\\n\\n```\\n# UNITED STATES SECURITIES AND EXCHANGE COMMISSION Washington, D.C. 20549\\n\\n## FORM 10-Q\\n\\n- Quarterly Report pursuant to Section 13 or 15(d) of the Securities Exchange Act of 1934 for the Quarterly Period Ended March 31, 2020\\n- Commission File Number 001-37845\\n\\n## MICROSOFT CORPORATION\\n\\n- State of Incorporation: Washington\\n- Address: One Microsoft Way, Redmond, Washington 98052-6399\\n- Securities Registered:\\n  - Common Stock, $0.00000625 par value per share (Trading Symbol: MSFT, Exchange: NASDAQ)\\n  - 2.125% Notes due 2021 (Trading Symbol: MSFT, Exchange: NASDAQ)\\n  - 3.125% Notes due 2028 (Trading Symbol: MSFT, Exchange: NASDAQ)\\n  - 2.625% Notes due 2033 (Trading Symbol: MSFT, Exchange: NASDAQ)\\n\\n- Checkmark Indicators:\\n  - Filed all reports required by Section 13 or 15(d) of the Securities Exchange Act of 1934 in the past 12 months: No\\n  - Submitted all Interactive Data Files required by Rule 405 of Regulation S-T in the past 12 months: Yes\\n  - Filer Category: Large accelerated filer\\n\\n- Number of Shares Outstanding as of April 24, 2020:\\n  - Common Stock, $0.00000625 par value per share: 7,583,440,247 shares\\n``` \\n\\nThis summary captures the key information provided in the Form 10-Q filed by Microsoft Corporation with the SEC.'}"
      ]
     },
     "execution_count": 119,
     "metadata": {},
     "output_type": "execute_result"
    }
   ],
   "source": [
    "agentExecutorWithMemory.invoke(\n",
    "        input={\"user_input\":\"Can you open the pdf located in the directory path: `samples/layout.pdf` and summarize the same through Markdown? \"},\n",
    "        config={\"configurable\":{\"session_id\":\"<trial_2>\"}}\n",
    "    )"
   ]
  },
  {
   "cell_type": "code",
   "execution_count": 120,
   "id": "cae0bdfa-806f-404d-a6a3-f2a03284e153",
   "metadata": {},
   "outputs": [
    {
     "name": "stdout",
     "output_type": "stream",
     "text": [
      "\n",
      "\n",
      "\u001b[1m> Entering new AgentExecutor chain...\u001b[0m\n",
      "\u001b[32;1m\u001b[1;3m\n",
      "Invoking: `content_in_markdown` with `{'filePath': 'samples/layout.pdf'}`\n",
      "\n",
      "\n",
      "\u001b[0m\u001b[36;1m\u001b[1;3m# UNITED STATES SECURITIES AND EXCHANGE COMMISSION Washington, D.C. 20549\n",
      "\n",
      "\n",
      "## FORM 10-Q\n",
      "\n",
      "☐\n",
      "☒\n",
      "☒\n",
      "QUARTERLY REPORT PURSUANT TO SECTION 13 OR 15(d) OF THE SECURITIES EXCHANGE ACT OF\n",
      "1934\n",
      "For the Quarterly Period Ended March 31, 2020\n",
      "OR\n",
      "☐\n",
      "TRANSITION REPORT PURSUANT TO SECTION 13 OR 15(d) OF THE SECURITIES EXCHANGE ACT OF\n",
      "1934\n",
      "For the Transition Period From\n",
      "to\n",
      "\n",
      "Commission File Number 001-37845\n",
      "\n",
      "\n",
      "## MICROSOFT CORPORATION\n",
      "\n",
      "WASHINGTON\n",
      "(STATE OF INCORPORATION)\n",
      "ONE MICROSOFT WAY, REDMOND, WASHINGTON 98052-6399\n",
      "(425) 882-8080\n",
      "www.microsoft.com/investor\n",
      "\n",
      "91-1144442\n",
      "(I.R.S. ID)\n",
      "\n",
      "Securities registered pursuant to Section 12(b) of the Act:\n",
      "\n",
      "\n",
      "<table>\n",
      "<tr>\n",
      "<th>Title of each class</th>\n",
      "<th>Trading Symbol</th>\n",
      "<th>Name of exchange on which registered</th>\n",
      "</tr>\n",
      "<tr>\n",
      "<td>Common stock, $0.00000625 par value per share</td>\n",
      "<td>MSFT</td>\n",
      "<td>NASDAQ</td>\n",
      "</tr>\n",
      "<tr>\n",
      "<td>2.125% Notes due 2021</td>\n",
      "<td>MSFT</td>\n",
      "<td>NASDAQ</td>\n",
      "</tr>\n",
      "<tr>\n",
      "<td>3.125% Notes due 2028</td>\n",
      "<td>MSFT</td>\n",
      "<td>NASDAQ</td>\n",
      "</tr>\n",
      "<tr>\n",
      "<td>2.625% Notes due 2033</td>\n",
      "<td>MSFT</td>\n",
      "<td>NASDAQ</td>\n",
      "</tr>\n",
      "</table>\n",
      "\n",
      "\n",
      "Securities registered pursuant to Section 12(g) of the Act:\n",
      "NONE\n",
      "\n",
      "Indicate by check mark whether the registrant (1) has filed all reports required to be filed by Section 13 or 15(d) of the Securities Exchange\n",
      "Act of 1934 during the preceding 12 months (or for such shorter period that the registrant was required to file such reports), and (2) has\n",
      "been subject to such filing requirements for the past 90 days. Yes\n",
      "☐\n",
      "No\n",
      "☒\n",
      "\n",
      "Indicate by check mark whether the registrant has submitted electronically every Interactive Data File required to be submitted pursuant to Rule\n",
      "405 of Regulation S-T (§232.405 of this chapter) during the preceding 12 months (or for such shorter period that the registrant was required to\n",
      "submit such files).\n",
      "☒\n",
      "Yes\n",
      "☐\n",
      "No\n",
      "\n",
      "Indicate by check mark whether the registrant is a large accelerated filer, an accelerated filer, a non-accelerated filer, a smaller reporting\n",
      "company, or an emerging growth company. See the definitions of \"large accelerated filer,\" \"accelerated filer,\" \"smaller reporting company,\"\n",
      "and \"emerging growth company\" in Rule 12b-2 of the Exchange Act.\n",
      "\n",
      "☒\n",
      "Large accelerated filer\n",
      "Non-accelerated filer\n",
      "☐\n",
      "\n",
      "☐\n",
      "Accelerated filer\n",
      "Smaller reporting company\n",
      "Emerging growth company\n",
      "☐\n",
      "\n",
      "☐\n",
      "\n",
      "If an emerging growth company, indicate by check mark if the registrant has elected not to use the extended transition period for complying\n",
      "with any new or revised financial accounting standards provided pursuant to Section 13(a) of the Exchange Act.\n",
      "☐\n",
      "\n",
      "Indicate by check mark whether the registrant is a shell company (as defined in Rule 12b-2 of the Exchange Act). Yes\n",
      "☐\n",
      "No\n",
      "\n",
      "☒\n",
      "\n",
      "Indicate the number of shares outstanding of each of the issuer's classes of common stock, as of the latest practicable date.\n",
      "\n",
      "\n",
      "<table>\n",
      "<tr>\n",
      "<th>Class</th>\n",
      "<th>Outstanding as of April 24, 2020</th>\n",
      "</tr>\n",
      "<tr>\n",
      "<td>Common Stock, $0.00000625 par value per share</td>\n",
      "<td>7,583,440,247 shares</td>\n",
      "</tr>\n",
      "</table>\n",
      "\u001b[0m\u001b[32;1m\u001b[1;3mThe document mentions the United States Securities and Exchange Commission (SEC) in the following sections:\n",
      "1. The header of the document states that it is filed with the \"UNITED STATES SECURITIES AND EXCHANGE COMMISSION Washington, D.C. 20549.\"\n",
      "2. The document is a Form 10-Q filed pursuant to Section 13 or 15(d) of the Securities Exchange Act of 1934, which is a requirement by the SEC for quarterly reporting.\n",
      "3. It includes information about the securities registered by Microsoft Corporation with the SEC, such as Common Stock, 2.125% Notes due 2021, 3.125% Notes due 2028, and 2.625% Notes due 2033 on the NASDAQ exchange.\n",
      "4. There are checkmark indicators related to SEC filing requirements, indicating compliance with filing reports under Section 13 or 15(d) of the Securities Exchange Act of 1934 and the submission of Interactive Data Files required by Rule 405 of Regulation S-T.\n",
      "5. The document also indicates the filing category of Microsoft Corporation as a large accelerated filer, as per the definitions provided by the SEC regulations.\u001b[0m\n",
      "\n",
      "\u001b[1m> Finished chain.\u001b[0m\n"
     ]
    },
    {
     "data": {
      "text/plain": [
       "{'user_input': 'What has been mentioned about the Securities and Exchange Commission? ',\n",
       " 'chat_history': [HumanMessage(content='Can you open the pdf located in the directory path: `samples/layout.pdf` and summarize the same? ', additional_kwargs={}, response_metadata={}),\n",
       "  AIMessage(content=\"The document is a Form 10-Q filed with the United States Securities and Exchange Commission (SEC) by Microsoft Corporation. It contains information about Microsoft Corporation, including its address, securities registered, and various checkmark indicators related to filings and compliance.\\n\\nHere are some key points from the document:\\n- Company Name: Microsoft Corporation\\n- Address: One Microsoft Way, Redmond, Washington 98052-6399\\n- Trading Symbol: MSFT\\n- Securities Registered: Common Stock, 2.125% Notes due 2021, 3.125% Notes due 2028, 2.625% Notes due 2033\\n- Number of Shares Outstanding: 7,583,440,247 shares as of April 24, 2020\\n\\nThe document provides details about the company's filings, compliance status, and other relevant information required for regulatory reporting.\", additional_kwargs={}, response_metadata={}),\n",
       "  HumanMessage(content='What has been mentioned about the Securities and Exchange Commission? ', additional_kwargs={}, response_metadata={}),\n",
       "  AIMessage(content='The document mentions the United States Securities and Exchange Commission (SEC) in the following context:\\n- The header of the document states \"UNITED STATES SECURITIES AND EXCHANGE COMMISSION Washington, D.C. 20549\"\\n- The document is a Form 10-Q, which is a quarterly report filed with the SEC pursuant to Section 13 or 15(d) of the Securities Exchange Act of 1934\\n- It includes information about the registration of securities with the SEC, such as Common Stock, 2.125% Notes due 2021, 3.125% Notes due 2028, and 2.625% Notes due 2033\\n- The document includes checkmark indicators related to the filing requirements under the Securities Exchange Act of 1934, indicating compliance with the SEC reporting obligations\\n\\nThese mentions indicate that the document is a regulatory filing with the SEC as required by law for public companies like Microsoft Corporation.', additional_kwargs={}, response_metadata={}),\n",
       "  HumanMessage(content='Can you open the pdf located in the directory path: `samples/layout.pdf` and summarize the same through Markdown? ', additional_kwargs={}, response_metadata={}),\n",
       "  AIMessage(content='The document is a Form 10-Q filed with the United States Securities and Exchange Commission (SEC) by Microsoft Corporation. It contains information about Microsoft Corporation, including its address, securities registered, and various checkmark indicators related to filings and compliance.\\n\\nHere is a summary of the document in Markdown format:\\n\\n```\\n# UNITED STATES SECURITIES AND EXCHANGE COMMISSION Washington, D.C. 20549\\n\\n## FORM 10-Q\\n\\n- Quarterly Report pursuant to Section 13 or 15(d) of the Securities Exchange Act of 1934 for the Quarterly Period Ended March 31, 2020\\n- Commission File Number 001-37845\\n\\n## MICROSOFT CORPORATION\\n\\n- State of Incorporation: Washington\\n- Address: One Microsoft Way, Redmond, Washington 98052-6399\\n- Securities Registered:\\n  - Common Stock, $0.00000625 par value per share (Trading Symbol: MSFT, Exchange: NASDAQ)\\n  - 2.125% Notes due 2021 (Trading Symbol: MSFT, Exchange: NASDAQ)\\n  - 3.125% Notes due 2028 (Trading Symbol: MSFT, Exchange: NASDAQ)\\n  - 2.625% Notes due 2033 (Trading Symbol: MSFT, Exchange: NASDAQ)\\n\\n- Checkmark Indicators:\\n  - Filed all reports required by Section 13 or 15(d) of the Securities Exchange Act of 1934 in the past 12 months: No\\n  - Submitted all Interactive Data Files required by Rule 405 of Regulation S-T in the past 12 months: Yes\\n  - Filer Category: Large accelerated filer\\n\\n- Number of Shares Outstanding as of April 24, 2020:\\n  - Common Stock, $0.00000625 par value per share: 7,583,440,247 shares\\n``` \\n\\nThis summary captures the key information provided in the Form 10-Q filed by Microsoft Corporation with the SEC.', additional_kwargs={}, response_metadata={})],\n",
       " 'output': 'The document mentions the United States Securities and Exchange Commission (SEC) in the following sections:\\n1. The header of the document states that it is filed with the \"UNITED STATES SECURITIES AND EXCHANGE COMMISSION Washington, D.C. 20549.\"\\n2. The document is a Form 10-Q filed pursuant to Section 13 or 15(d) of the Securities Exchange Act of 1934, which is a requirement by the SEC for quarterly reporting.\\n3. It includes information about the securities registered by Microsoft Corporation with the SEC, such as Common Stock, 2.125% Notes due 2021, 3.125% Notes due 2028, and 2.625% Notes due 2033 on the NASDAQ exchange.\\n4. There are checkmark indicators related to SEC filing requirements, indicating compliance with filing reports under Section 13 or 15(d) of the Securities Exchange Act of 1934 and the submission of Interactive Data Files required by Rule 405 of Regulation S-T.\\n5. The document also indicates the filing category of Microsoft Corporation as a large accelerated filer, as per the definitions provided by the SEC regulations.'}"
      ]
     },
     "execution_count": 120,
     "metadata": {},
     "output_type": "execute_result"
    }
   ],
   "source": [
    "agentExecutorWithMemory.invoke(\n",
    "        input={\"user_input\":\"What has been mentioned about the Securities and Exchange Commission? \"},\n",
    "        config={\"configurable\":{\"session_id\":\"<trial_2>\"}}\n",
    "    )"
   ]
  },
  {
   "cell_type": "code",
   "execution_count": null,
   "id": "562d98c8-cfae-443e-9467-5fe841d5bc5a",
   "metadata": {},
   "outputs": [],
   "source": []
  }
 ],
 "metadata": {
  "kernelspec": {
   "display_name": "Python 3 (ipykernel)",
   "language": "python",
   "name": "python3"
  },
  "language_info": {
   "codemirror_mode": {
    "name": "ipython",
    "version": 3
   },
   "file_extension": ".py",
   "mimetype": "text/x-python",
   "name": "python",
   "nbconvert_exporter": "python",
   "pygments_lexer": "ipython3",
   "version": "3.11.11"
  }
 },
 "nbformat": 4,
 "nbformat_minor": 5
}
