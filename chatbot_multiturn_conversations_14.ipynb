{
 "cells": [
  {
   "cell_type": "code",
   "execution_count": 1,
   "id": "84226da3-1576-48b3-aa15-75305faae315",
   "metadata": {},
   "outputs": [],
   "source": [
    "from langgraph.graph import StateGraph, START, END, add_messages\n",
    "from langgraph.types import Command, interrupt\n",
    "from typing import TypedDict, Annotated, List\n",
    "from langgraph.checkpoint.memory import MemorySaver\n",
    "from langchain_groq import ChatGroq\n",
    "from langchain_core.messages import HumanMessage, SystemMessage, AIMessage\n",
    "import uuid"
   ]
  },
  {
   "cell_type": "code",
   "execution_count": 2,
   "id": "1c4a604c-8480-4b01-9368-5d0607fd27a2",
   "metadata": {},
   "outputs": [],
   "source": [
    "llm=ChatGroq(model=\"llama-3.1-8b-instant\")"
   ]
  },
  {
   "cell_type": "code",
   "execution_count": 3,
   "id": "5a001e7d-dbcc-448e-8a88-1b7391e06c1a",
   "metadata": {},
   "outputs": [],
   "source": [
    "class State(TypedDict):\n",
    "    linkedin_topic: str\n",
    "    generated_post: Annotated[List[str], add_messages]\n",
    "    human_feedback: Annotated[List[str], add_messages]"
   ]
  },
  {
   "cell_type": "code",
   "execution_count": 4,
   "id": "a81caf0d-3d61-46cb-9fed-5b3dd59f4b35",
   "metadata": {},
   "outputs": [],
   "source": [
    "def model(state: State):\n",
    "    \"\"\"\n",
    "        Here, we're using the LLM to generate a LinkedIn Post with human feedback incorporated\n",
    "    \"\"\"\n",
    "    \n",
    "    print(\"[model] Generating content\")\n",
    "    linkedin_topic=state['linkedin_topic']\n",
    "    feedback= state['human_feedback'][-1] if state['human_feedback'] else \"No Feedback Yet\"\n",
    "\n",
    "    # Here we define the prompt\n",
    "    prompt=f\"\"\"\n",
    "\n",
    "    LinkedIn Topic: {linkedin_topic}\n",
    "    Human Feedback: {feedback}\n",
    "\n",
    "    Generate a structured and well written LinkedIn post based on the given topic\n",
    "\n",
    "    Consider previous human feedback to refine the response\n",
    "    \"\"\"\n",
    "    response=llm.invoke(input=[\n",
    "        SystemMessage(content=\"You are an expert LinkedIn content writer\"),\n",
    "        HumanMessage(content=prompt)\n",
    "    ])\n",
    "\n",
    "    generated_linkedin_post=response.content\n",
    "\n",
    "    print(f\"Model Node generated post:\\n {generated_linkedin_post}\")\n",
    "    \n",
    "    model_payload={\n",
    "        \"generated_post\": [AIMessage(content=generated_linkedin_post)],\n",
    "        \"human_feedback\": [feedback]\n",
    "    }\n",
    "    print(f\"Present State: {model_payload}\\n\")\n",
    "    \n",
    "    return model_payload\n",
    "\n",
    "    "
   ]
  },
  {
   "cell_type": "code",
   "execution_count": 5,
   "id": "79025e7d-b179-4145-9434-29ff2d10f1a1",
   "metadata": {},
   "outputs": [],
   "source": [
    "def human_node(state:State):\n",
    "    \"\"\"\n",
    "        Human Intervention node - loops back to model unless input is done\n",
    "    \"\"\"\n",
    "    print(\"\\n [human_node] awaiting human feedback...\")\n",
    "    generated_post=state[\"generated_post\"][-1]\n",
    "    \n",
    "    # Interrupt to get user feedback\n",
    "    user_feedback=interrupt(\n",
    "        {\n",
    "            \"generated_post\":generated_post,\n",
    "            \"message\":\"Provide feedback or type 'done' to finish\"\n",
    "        }\n",
    "    )\n",
    "\n",
    "    print(f\"[human_node] Received human feedback: {user_feedback}\")\n",
    "\n",
    "    # If user types \"done\", transition to END node\n",
    "    if user_feedback.lower()==\"done\":\n",
    "        return Command(\n",
    "                    update={\"human_feedback\":[\"Finalised\"]},\n",
    "                    goto=\"end_node\"\n",
    "                )\n",
    "    else:\n",
    "        return Command(\n",
    "                    update={\"human_feedback\": [user_feedback]},\n",
    "                    goto=\"model\"\n",
    "                )"
   ]
  },
  {
   "cell_type": "code",
   "execution_count": 6,
   "id": "2c72d681-dce3-4766-acd3-5668460bfaa2",
   "metadata": {},
   "outputs": [],
   "source": [
    "def end_node(state:State):\n",
    "    \"\"\"\n",
    "     Final Node\n",
    "    \"\"\"\n",
    "    # print(\"\\n[end_node] Process finished\")\n",
    "    print(f\"Final Generated Post: {state['generated_post'][-1]}\")\n",
    "    print(f\"Final Human feedback: {state['human_feedback'][-1]}\")\n",
    "    return {\n",
    "        \"generated_post\":state[\"generated_post\"][-1].content,\n",
    "        \"human_feedback\":state[\"human_feedback\"][-1].content\n",
    "    }    "
   ]
  },
  {
   "cell_type": "code",
   "execution_count": 7,
   "id": "5d2ecc7c-4e49-4c4e-bcbd-f565442375db",
   "metadata": {},
   "outputs": [],
   "source": [
    "graph=StateGraph(state_schema=State)"
   ]
  },
  {
   "cell_type": "code",
   "execution_count": 8,
   "id": "e0226f99-2b96-45e6-b211-5a3f104759f9",
   "metadata": {},
   "outputs": [
    {
     "data": {
      "text/plain": [
       "<langgraph.graph.state.StateGraph at 0x1cda56a40d0>"
      ]
     },
     "execution_count": 8,
     "metadata": {},
     "output_type": "execute_result"
    }
   ],
   "source": [
    "graph.add_node(node=\"model\",action=model)"
   ]
  },
  {
   "cell_type": "code",
   "execution_count": 9,
   "id": "0e79ccc6-dc4a-4510-ad2c-b99023b6273e",
   "metadata": {},
   "outputs": [
    {
     "data": {
      "text/plain": [
       "<langgraph.graph.state.StateGraph at 0x1cda56a40d0>"
      ]
     },
     "execution_count": 9,
     "metadata": {},
     "output_type": "execute_result"
    }
   ],
   "source": [
    "graph.add_node(node=\"human_node\",action=human_node)"
   ]
  },
  {
   "cell_type": "code",
   "execution_count": 10,
   "id": "285ea7ad-f06f-462c-9f82-57c30e6a6746",
   "metadata": {},
   "outputs": [
    {
     "data": {
      "text/plain": [
       "<langgraph.graph.state.StateGraph at 0x1cda56a40d0>"
      ]
     },
     "execution_count": 10,
     "metadata": {},
     "output_type": "execute_result"
    }
   ],
   "source": [
    "graph.set_entry_point(key=\"model\")"
   ]
  },
  {
   "cell_type": "code",
   "execution_count": 11,
   "id": "ced534bd-83d8-470d-8c05-d0067626ffa4",
   "metadata": {},
   "outputs": [
    {
     "data": {
      "text/plain": [
       "<langgraph.graph.state.StateGraph at 0x1cda56a40d0>"
      ]
     },
     "execution_count": 11,
     "metadata": {},
     "output_type": "execute_result"
    }
   ],
   "source": [
    "graph.add_node(node=\"end_node\",action=end_node)"
   ]
  },
  {
   "cell_type": "code",
   "execution_count": 12,
   "id": "f3ec040d-c719-4341-9572-707c440d0aff",
   "metadata": {},
   "outputs": [
    {
     "data": {
      "text/plain": [
       "<langgraph.graph.state.StateGraph at 0x1cda56a40d0>"
      ]
     },
     "execution_count": 12,
     "metadata": {},
     "output_type": "execute_result"
    }
   ],
   "source": [
    "graph.add_edge(start_key=START,end_key=\"model\")"
   ]
  },
  {
   "cell_type": "code",
   "execution_count": 13,
   "id": "b4885b3a-e804-4080-b45b-b50abf2bb211",
   "metadata": {},
   "outputs": [
    {
     "data": {
      "text/plain": [
       "<langgraph.graph.state.StateGraph at 0x1cda56a40d0>"
      ]
     },
     "execution_count": 13,
     "metadata": {},
     "output_type": "execute_result"
    }
   ],
   "source": [
    "graph.add_edge(start_key=\"model\",end_key=\"human_node\")"
   ]
  },
  {
   "cell_type": "code",
   "execution_count": 14,
   "id": "43bd3475-38e1-42cc-9944-b17d7a0eb10a",
   "metadata": {},
   "outputs": [
    {
     "data": {
      "text/plain": [
       "<langgraph.graph.state.StateGraph at 0x1cda56a40d0>"
      ]
     },
     "execution_count": 14,
     "metadata": {},
     "output_type": "execute_result"
    }
   ],
   "source": [
    "graph.set_finish_point(key=\"end_node\")"
   ]
  },
  {
   "cell_type": "code",
   "execution_count": 15,
   "id": "fc822c07-6411-4093-b178-75d39c519094",
   "metadata": {},
   "outputs": [],
   "source": [
    "checkpointer=MemorySaver()"
   ]
  },
  {
   "cell_type": "code",
   "execution_count": 16,
   "id": "c40e512a-31dc-493d-a2bd-44e59688932d",
   "metadata": {},
   "outputs": [],
   "source": [
    "app=graph.compile(checkpointer=checkpointer)"
   ]
  },
  {
   "cell_type": "code",
   "execution_count": 17,
   "id": "b9d258ff-1bdc-4fb8-a2f1-1deb13a4f4d4",
   "metadata": {},
   "outputs": [],
   "source": [
    "thread_config={\n",
    "    \"configurable\":{\"thread_id\":uuid.uuid4()}\n",
    "    }"
   ]
  },
  {
   "cell_type": "code",
   "execution_count": 18,
   "id": "c188d9d5-e79a-4d1b-9611-8c5e0b906289",
   "metadata": {},
   "outputs": [
    {
     "name": "stdin",
     "output_type": "stream",
     "text": [
      "Enter your Linkedin topic:  How AI can help in deciding the fate of Cricket Matches?\n"
     ]
    }
   ],
   "source": [
    "linkedin_topic=input(\"Enter your Linkedin topic: \")\n",
    "initial_state={\n",
    "    \"linkedin_topic\":linkedin_topic,\n",
    "    \"generated_post\":[],\n",
    "    \"human_feedback\":[]\n",
    "}"
   ]
  },
  {
   "cell_type": "code",
   "execution_count": 19,
   "id": "6c2c9856-b3fc-47ed-81c2-eaeb1d73cffa",
   "metadata": {},
   "outputs": [
    {
     "data": {
      "text/plain": [
       "{'linkedin_topic': 'How AI can help in deciding the fate of Cricket Matches?',\n",
       " 'generated_post': [],\n",
       " 'human_feedback': []}"
      ]
     },
     "execution_count": 19,
     "metadata": {},
     "output_type": "execute_result"
    }
   ],
   "source": [
    "initial_state"
   ]
  },
  {
   "cell_type": "code",
   "execution_count": 20,
   "id": "ed488d21-09fd-4928-bd33-7428ce8fea8c",
   "metadata": {},
   "outputs": [
    {
     "name": "stdout",
     "output_type": "stream",
     "text": [
      "[model] Generating content\n",
      "Model Node generated post:\n",
      " **The Game-Changer in Cricket: How AI is Revolutionizing Match Outcomes**\n",
      "\n",
      "As a cricket enthusiast and a data scientist, I've always been fascinated by the possibilities of artificial intelligence (AI) in transforming the world of sports. In this post, I'd like to explore how AI can help in deciding the fate of cricket matches.\n",
      "\n",
      "**The Rise of Data-Driven Decision Making**\n",
      "\n",
      "In recent years, cricket teams have started to leverage data analytics to gain a competitive edge. Advanced algorithms and machine learning models can process vast amounts of data, identify patterns, and provide insights that human analysts might miss. By applying AI to cricket, teams can make more informed decisions about strategy, player selection, and in-game tactics.\n",
      "\n",
      "**Predicting Match Outcomes**\n",
      "\n",
      "One of the most significant applications of AI in cricket is predicting match outcomes. By analyzing historical data, team performance, and player statistics, AI models can forecast the likelihood of a team winning or losing. This information can help teams adjust their strategies, make tactical changes, and even identify areas for improvement.\n",
      "\n",
      "**Key Factors Influencing Match Outcomes**\n",
      "\n",
      "Some of the key factors that AI models consider when predicting match outcomes include:\n",
      "\n",
      "1. **Team Performance**: Historical win-loss records, head-to-head matchups, and recent form.\n",
      "2. **Player Statistics**: Batting and bowling averages, strike rates, and economy rates.\n",
      "3. **Weather Conditions**: Temperature, humidity, and wind speed can greatly impact the game.\n",
      "4. **Ground Conditions**: Pitch behavior, outfield dimensions, and altitude.\n",
      "5. **Scheduling**: Fatigue, travel, and rest days can affect team performance.\n",
      "\n",
      "**AI-Powered Insights**\n",
      "\n",
      "AI can provide teams with valuable insights, such as:\n",
      "\n",
      "1. **Optimal Player Selection**: AI can suggest the best combination of players for a particular match.\n",
      "2. **Tactical Adjustments**: AI can recommend changes to team strategy, such as bowling or batting orders.\n",
      "3. **In-Game Decision Making**: AI can provide real-time insights to help teams make informed decisions during the match.\n",
      "\n",
      "**The Future of Cricket**\n",
      "\n",
      "As AI continues to evolve, we can expect to see even more sophisticated applications in cricket. From player tracking and injury prevention to fan engagement and broadcast analysis, the possibilities are endless.\n",
      "\n",
      "In conclusion, AI is transforming the world of cricket by providing teams with data-driven insights to make informed decisions. As the game continues to evolve, we can expect to see even more innovative applications of AI in the near future.\n",
      "\n",
      "**Join the conversation**: How do you think AI will impact the world of cricket? Share your thoughts in the comments below!\n",
      "\n",
      "**Like and Share**: If you found this post informative and engaging, please give it a like and share it with your network!\n",
      "\n",
      "**Follow me**: For more insights on AI and data science in sports, follow me for regular updates and thought leadership pieces!\n",
      "Present State: {'generated_post': [AIMessage(content=\"**The Game-Changer in Cricket: How AI is Revolutionizing Match Outcomes**\\n\\nAs a cricket enthusiast and a data scientist, I've always been fascinated by the possibilities of artificial intelligence (AI) in transforming the world of sports. In this post, I'd like to explore how AI can help in deciding the fate of cricket matches.\\n\\n**The Rise of Data-Driven Decision Making**\\n\\nIn recent years, cricket teams have started to leverage data analytics to gain a competitive edge. Advanced algorithms and machine learning models can process vast amounts of data, identify patterns, and provide insights that human analysts might miss. By applying AI to cricket, teams can make more informed decisions about strategy, player selection, and in-game tactics.\\n\\n**Predicting Match Outcomes**\\n\\nOne of the most significant applications of AI in cricket is predicting match outcomes. By analyzing historical data, team performance, and player statistics, AI models can forecast the likelihood of a team winning or losing. This information can help teams adjust their strategies, make tactical changes, and even identify areas for improvement.\\n\\n**Key Factors Influencing Match Outcomes**\\n\\nSome of the key factors that AI models consider when predicting match outcomes include:\\n\\n1. **Team Performance**: Historical win-loss records, head-to-head matchups, and recent form.\\n2. **Player Statistics**: Batting and bowling averages, strike rates, and economy rates.\\n3. **Weather Conditions**: Temperature, humidity, and wind speed can greatly impact the game.\\n4. **Ground Conditions**: Pitch behavior, outfield dimensions, and altitude.\\n5. **Scheduling**: Fatigue, travel, and rest days can affect team performance.\\n\\n**AI-Powered Insights**\\n\\nAI can provide teams with valuable insights, such as:\\n\\n1. **Optimal Player Selection**: AI can suggest the best combination of players for a particular match.\\n2. **Tactical Adjustments**: AI can recommend changes to team strategy, such as bowling or batting orders.\\n3. **In-Game Decision Making**: AI can provide real-time insights to help teams make informed decisions during the match.\\n\\n**The Future of Cricket**\\n\\nAs AI continues to evolve, we can expect to see even more sophisticated applications in cricket. From player tracking and injury prevention to fan engagement and broadcast analysis, the possibilities are endless.\\n\\nIn conclusion, AI is transforming the world of cricket by providing teams with data-driven insights to make informed decisions. As the game continues to evolve, we can expect to see even more innovative applications of AI in the near future.\\n\\n**Join the conversation**: How do you think AI will impact the world of cricket? Share your thoughts in the comments below!\\n\\n**Like and Share**: If you found this post informative and engaging, please give it a like and share it with your network!\\n\\n**Follow me**: For more insights on AI and data science in sports, follow me for regular updates and thought leadership pieces!\", additional_kwargs={}, response_metadata={})], 'human_feedback': ['No Feedback Yet']}\n",
      "\n",
      "\n",
      " [human_node] awaiting human feedback...\n"
     ]
    },
    {
     "name": "stdin",
     "output_type": "stream",
     "text": [
      "Provide feedback (or type 'done' when finished):  It's a very bog post, can you make it under 60 words?\n"
     ]
    },
    {
     "name": "stdout",
     "output_type": "stream",
     "text": [
      "\n",
      " [human_node] awaiting human feedback...\n",
      "[human_node] Received human feedback: It's a very bog post, can you make it under 60 words?\n",
      "[model] Generating content\n",
      "Model Node generated post:\n",
      " Here's a well-crafted LinkedIn post on how AI can help decide the fate of cricket matches, within the 60-word limit:\n",
      "\n",
      "**\"Game-Changing AI in Cricket: Predicting Match Outcomes**\n",
      "\n",
      "AI is revolutionizing cricket by analyzing vast data sets, predicting match outcomes, and providing real-time insights. With AI-powered algorithms, teams can gain a competitive edge, identify areas for improvement, and make data-driven decisions. The future of cricket is here! #AIinCricket #CricketAnalytics\"\n",
      "Present State: {'generated_post': [AIMessage(content='Here\\'s a well-crafted LinkedIn post on how AI can help decide the fate of cricket matches, within the 60-word limit:\\n\\n**\"Game-Changing AI in Cricket: Predicting Match Outcomes**\\n\\nAI is revolutionizing cricket by analyzing vast data sets, predicting match outcomes, and providing real-time insights. With AI-powered algorithms, teams can gain a competitive edge, identify areas for improvement, and make data-driven decisions. The future of cricket is here! #AIinCricket #CricketAnalytics\"', additional_kwargs={}, response_metadata={})], 'human_feedback': [HumanMessage(content=\"It's a very bog post, can you make it under 60 words?\", additional_kwargs={}, response_metadata={}, id='0444aa96-0c55-4a79-9cc6-6d840e0ee46e')]}\n",
      "\n",
      "\n",
      " [human_node] awaiting human feedback...\n"
     ]
    },
    {
     "name": "stdin",
     "output_type": "stream",
     "text": [
      "Provide feedback (or type 'done' when finished):  done\n"
     ]
    },
    {
     "name": "stdout",
     "output_type": "stream",
     "text": [
      "\n",
      " [human_node] awaiting human feedback...\n",
      "[human_node] Received human feedback: done\n",
      "Final Generated Post: content='Here\\'s a well-crafted LinkedIn post on how AI can help decide the fate of cricket matches, within the 60-word limit:\\n\\n**\"Game-Changing AI in Cricket: Predicting Match Outcomes**\\n\\nAI is revolutionizing cricket by analyzing vast data sets, predicting match outcomes, and providing real-time insights. With AI-powered algorithms, teams can gain a competitive edge, identify areas for improvement, and make data-driven decisions. The future of cricket is here! #AIinCricket #CricketAnalytics\"' additional_kwargs={} response_metadata={} id='e0adfa63-672d-46c8-815e-60997f8b7846'\n",
      "Final Human feedback: content='Finalised' additional_kwargs={} response_metadata={} id='cabffe84-e0c3-4e2f-a28f-2d93a4081240'\n"
     ]
    }
   ],
   "source": [
    "for chunk in app.stream(input=initial_state, config=thread_config):\n",
    "    for node_id, value in chunk.items():\n",
    "        # If we reach an interrupt, continously ask for human feedback\n",
    "        if (node_id==\"__interrupt__\"):\n",
    "            while True:\n",
    "                user_feedback=input(\"Provide feedback (or type 'done' when finished): \")\n",
    "\n",
    "                # Resume the graph execution with the user's feedback\n",
    "                app.invoke(input=Command(resume=user_feedback),config=thread_config)\n",
    "\n",
    "                # Exit loop if user says done\n",
    "                if user_feedback.lower()==\"done\":\n",
    "                    break"
   ]
  },
  {
   "cell_type": "code",
   "execution_count": null,
   "id": "646c104b-a324-4d0a-b639-299d5b8ceef9",
   "metadata": {},
   "outputs": [],
   "source": []
  },
  {
   "cell_type": "code",
   "execution_count": null,
   "id": "c26fe9dd-9053-4626-8a5c-b54bd297af81",
   "metadata": {},
   "outputs": [],
   "source": []
  }
 ],
 "metadata": {
  "kernelspec": {
   "display_name": "Python 3 (ipykernel)",
   "language": "python",
   "name": "python3"
  },
  "language_info": {
   "codemirror_mode": {
    "name": "ipython",
    "version": 3
   },
   "file_extension": ".py",
   "mimetype": "text/x-python",
   "name": "python",
   "nbconvert_exporter": "python",
   "pygments_lexer": "ipython3",
   "version": "3.11.11"
  }
 },
 "nbformat": 4,
 "nbformat_minor": 5
}
