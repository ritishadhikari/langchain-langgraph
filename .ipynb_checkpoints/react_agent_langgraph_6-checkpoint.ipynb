{
 "cells": [
  {
   "cell_type": "code",
   "execution_count": 4,
   "id": "8bc3479d-aedd-4606-9905-5ec36ab68bce",
   "metadata": {},
   "outputs": [],
   "source": [
    "from dotenv import load_dotenv\n",
    "from langchain_google_genai import ChatGoogleGenerativeAI\n",
    "from langchain.agents import tool, create_react_agent\n",
    "import datetime\n",
    "from langchain_community.tools import TavilySearchResults\n",
    "from langchain import hub"
   ]
  },
  {
   "cell_type": "code",
   "execution_count": 2,
   "id": "f915d91b-be18-4b76-8cfd-7def5d036282",
   "metadata": {},
   "outputs": [
    {
     "data": {
      "text/plain": [
       "True"
      ]
     },
     "execution_count": 2,
     "metadata": {},
     "output_type": "execute_result"
    }
   ],
   "source": [
    "load_dotenv()"
   ]
  },
  {
   "cell_type": "code",
   "execution_count": 3,
   "id": "669aab0d-5905-4a2c-8e12-6121186c66cc",
   "metadata": {},
   "outputs": [],
   "source": [
    "llmGemini=ChatGoogleGenerativeAI(model=\"gemini-2.0-flash-001\")"
   ]
  },
  {
   "cell_type": "code",
   "execution_count": 5,
   "id": "dc13e4d1-7c86-4d6c-828f-dc362f5634a3",
   "metadata": {},
   "outputs": [],
   "source": [
    "searchTool=TavilySearchResults(search_depth=\"basic\")"
   ]
  },
  {
   "cell_type": "code",
   "execution_count": 6,
   "id": "383d3de9-a4e8-4c5f-8cb6-ac4707078849",
   "metadata": {},
   "outputs": [],
   "source": [
    "@tool\n",
    "def getSystemTime(format:str=\"%Y-%m-%d %H:%M:%S\"):\n",
    "    \"\"\"\n",
    "        Returns the current date and time in the specified format\n",
    "    \"\"\"\n",
    "    currentTime=datetime.datetime.now()\n",
    "    formatted_time=currentTime.strftime(format)\n",
    "    return formatted_time"
   ]
  },
  {
   "cell_type": "code",
   "execution_count": 7,
   "id": "fc5f02f0-29b9-46cc-8aac-ce1e737f8881",
   "metadata": {},
   "outputs": [],
   "source": [
    "tools=[searchTool,getSystemTime]"
   ]
  },
  {
   "cell_type": "code",
   "execution_count": 12,
   "id": "1ad8c7b7-774f-4ae2-8cbb-c32d3e1d4549",
   "metadata": {},
   "outputs": [
    {
     "name": "stdout",
     "output_type": "stream",
     "text": [
      "Answer the following questions as best you can. You have access to the following tools:\n",
      "\n",
      "{tools}\n",
      "\n",
      "Use the following format:\n",
      "\n",
      "Question: the input question you must answer\n",
      "Thought: you should always think about what to do\n",
      "Action: the action to take, should be one of [{tool_names}]\n",
      "Action Input: the input to the action\n",
      "Observation: the result of the action\n",
      "... (this Thought/Action/Action Input/Observation can repeat N times)\n",
      "Thought: I now know the final answer\n",
      "Final Answer: the final answer to the original input question\n",
      "\n",
      "Begin!\n",
      "\n",
      "Question: {input}\n",
      "Thought:{agent_scratchpad}\n"
     ]
    }
   ],
   "source": [
    "react_prompt=hub.pull(owner_repo_commit=\"hwchase17/react\")\n",
    "print(react_prompt.template)"
   ]
  },
  {
   "cell_type": "code",
   "execution_count": 14,
   "id": "bde50ab8-acfa-4c12-a6a0-a6b35bc187fa",
   "metadata": {},
   "outputs": [],
   "source": [
    "react_agent_runnable=create_react_agent(llm=llmGemini,tools=tools,prompt=react_prompt)"
   ]
  },
  {
   "cell_type": "code",
   "execution_count": null,
   "id": "31b08e48-d6a6-4d1f-9efb-ce6cdd6ba82c",
   "metadata": {},
   "outputs": [],
   "source": []
  }
 ],
 "metadata": {
  "kernelspec": {
   "display_name": "Python 3 (ipykernel)",
   "language": "python",
   "name": "python3"
  },
  "language_info": {
   "codemirror_mode": {
    "name": "ipython",
    "version": 3
   },
   "file_extension": ".py",
   "mimetype": "text/x-python",
   "name": "python",
   "nbconvert_exporter": "python",
   "pygments_lexer": "ipython3",
   "version": "3.11.11"
  }
 },
 "nbformat": 4,
 "nbformat_minor": 5
}
