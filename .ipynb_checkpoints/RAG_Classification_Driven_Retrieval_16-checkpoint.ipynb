{
 "cells": [
  {
   "cell_type": "code",
   "execution_count": 1,
   "id": "70a8c510-073d-438d-8b7c-55da36abfe07",
   "metadata": {},
   "outputs": [],
   "source": [
    "from langchain.schema import Document\n",
    "from langchain_openai.embeddings import OpenAIEmbeddings\n",
    "from langchain_community.vectorstores import Chroma\n",
    "from langchain_openai import ChatOpenAI\n",
    "from dotenv import load_dotenv\n",
    "from langchain_core.prompts import ChatPromptTemplate\n",
    "from langchain_core.output_parsers import StrOutputParser\n",
    "from langchain_core.runnables import RunnablePassthrough\n",
    "from langchain_groq import ChatGroq\n",
    "from typing import TypedDict, Annotated\n",
    "from langchain_core.messages import BaseMessage, HumanMessage, AIMessage\n",
    "from langgraph.graph import add_messages, StateGraph, END\n",
    "from pydantic import BaseModel, Field\n",
    "from IPython.display import Image, display\n",
    "from langchain_core.runnables.graph import MermaidDrawMethod"
   ]
  },
  {
   "cell_type": "code",
   "execution_count": 2,
   "id": "491db744-e67d-4b71-a6f4-0a17d00d5068",
   "metadata": {},
   "outputs": [
    {
     "data": {
      "text/plain": [
       "True"
      ]
     },
     "execution_count": 2,
     "metadata": {},
     "output_type": "execute_result"
    }
   ],
   "source": [
    "load_dotenv()"
   ]
  },
  {
   "cell_type": "code",
   "execution_count": 3,
   "id": "a0c7da4c-a1b4-48b8-8555-c3c2f1925853",
   "metadata": {},
   "outputs": [],
   "source": [
    "embedding_function=OpenAIEmbeddings()"
   ]
  },
  {
   "cell_type": "code",
   "execution_count": 4,
   "id": "92d74fd9-fd5f-4393-873b-4daa3f020eab",
   "metadata": {},
   "outputs": [],
   "source": [
    "docs=[\n",
    "    Document(\n",
    "        page_content=\"Peak Performance Gym was founded in 2015 by former Olympic athlete Marcus Chen. With over 15 years of experience in professional athletics, Marcus established the gym to provide personalized fitness solutions for people of all levels. The gym spans 10,000 square feet and features state-of-the-art equipment.\",\n",
    "        metadata={\"source\": \"about.txt\"}\n",
    "        ),\n",
    "    Document(\n",
    "        page_content=\"Peak Performance Gym is open Monday through Friday from 5:00 AM to 11:00 PM. On weekends, our hours are 7:00 AM to 9:00 PM. We remain closed on major national holidays. Members with Premium access can enter using their key cards 24/7, including holidays.\",\n",
    "        metadata={\"source\": \"hours.txt\"}\n",
    "        ),\n",
    "    Document(\n",
    "        page_content=\"Our membership plans include: Basic (₹1,500/month) with access to gym floor and basic equipment; Standard (₹2,500/month) adds group classes and locker facilities; Premium (₹4,000/month) includes 24/7 access, personal training sessions, and spa facilities. We offer student and senior citizen discounts of 15% on all plans. Corporate partnerships are available for companies with 10+ employees joining.\",\n",
    "        metadata={\"source\": \"membership.txt\"}\n",
    "        ),\n",
    "    Document(\n",
    "        page_content=\"Group fitness classes at Peak Performance Gym include Yoga (beginner, intermediate, advanced), HIIT, Zumba, Spin Cycling, CrossFit, and Pilates. Beginner classes are held every Monday and Wednesday at 6:00 PM. Intermediate and advanced classes are scheduled throughout the week. The full schedule is available on our mobile app or at the reception desk.\",\n",
    "        metadata={\"source\": \"classes.txt\"}\n",
    "        ),\n",
    "    Document(\n",
    "        page_content=\"Personal trainers at Peak Performance Gym are all certified professionals with minimum 5 years of experience. Each new member receives a complimentary fitness assessment and one free session with a trainer. Our head trainer, Neha Kapoor, specializes in rehabilitation fitness and sports-specific training. Personal training sessions can be booked individually (₹800/session) or in packages of 10 (₹7,000) or 20 (₹13,000).\",\n",
    "        metadata={\"source\": \"trainers.txt\"}\n",
    "        ),\n",
    "    Document(\n",
    "        page_content=\"Peak Performance Gym's facilities include a cardio zone with 30+ machines, strength training area, functional fitness space, dedicated yoga studio, spin class room, swimming pool (25m), sauna and steam rooms, juice bar, and locker rooms with shower facilities. Our equipment is replaced or upgraded every 3 years to ensure members have access to the latest fitness technology.\",\n",
    "        metadata={\"source\": \"facilities.txt\"}\n",
    "        )\n",
    "    ]"
   ]
  },
  {
   "cell_type": "code",
   "execution_count": 5,
   "id": "e3206c04-cd5e-49e4-b4cb-fa3e6125756e",
   "metadata": {},
   "outputs": [],
   "source": [
    "db=Chroma.from_documents(documents=docs,embedding=OpenAIEmbeddings())"
   ]
  },
  {
   "cell_type": "code",
   "execution_count": 6,
   "id": "d1acbb29-eec5-49c7-85a2-dc3470f5faf1",
   "metadata": {},
   "outputs": [],
   "source": [
    "retriever=db.as_retriever(search_type=\"mmr\",search_kwargs={\"k\":3})"
   ]
  },
  {
   "cell_type": "code",
   "execution_count": 7,
   "id": "dfd33558-6e81-4d6f-a784-33fe862e3579",
   "metadata": {},
   "outputs": [],
   "source": [
    "template=\"\"\"\n",
    "Answer the question based only on the following context: {context}\n",
    "Question: {question}\n",
    "\"\"\""
   ]
  },
  {
   "cell_type": "code",
   "execution_count": 8,
   "id": "f53b6d6b-8db0-40e4-be72-8c590fc41733",
   "metadata": {},
   "outputs": [
    {
     "data": {
      "text/plain": [
       "ChatPromptTemplate(input_variables=['context', 'question'], input_types={}, partial_variables={}, messages=[HumanMessagePromptTemplate(prompt=PromptTemplate(input_variables=['context', 'question'], input_types={}, partial_variables={}, template='\\nAnswer the question based only on the following context: {context}\\nQuestion: {question}\\n'), additional_kwargs={})])"
      ]
     },
     "execution_count": 8,
     "metadata": {},
     "output_type": "execute_result"
    }
   ],
   "source": [
    "prompt=ChatPromptTemplate.from_template(template=template)\n",
    "prompt"
   ]
  },
  {
   "cell_type": "code",
   "execution_count": 9,
   "id": "1657b17d-929c-4a42-8362-7a07fc10a51e",
   "metadata": {},
   "outputs": [],
   "source": [
    "llmLlama=ChatGroq(model=\"llama-3.1-8b-instant\")"
   ]
  },
  {
   "cell_type": "code",
   "execution_count": 10,
   "id": "e7224773-9371-4f1c-820e-eee0fb67e230",
   "metadata": {},
   "outputs": [],
   "source": [
    "def format_docs(docs):\n",
    "    return \"\\n\\n\".join(doc.page_content for doc in docs)"
   ]
  },
  {
   "cell_type": "code",
   "execution_count": 11,
   "id": "cfd59d09-801e-44f8-8ce3-fab452f285c9",
   "metadata": {},
   "outputs": [],
   "source": [
    "rag_chain=prompt | llmLlama"
   ]
  },
  {
   "cell_type": "code",
   "execution_count": 12,
   "id": "817b24f5-0f80-4f86-9674-1ebbe235d5c4",
   "metadata": {},
   "outputs": [],
   "source": [
    "class AgentState(TypedDict):\n",
    "    messages: Annotated[list[BaseMessage],add_messages]\n",
    "    documents: list[Document]\n",
    "    on_topic:str"
   ]
  },
  {
   "cell_type": "code",
   "execution_count": 13,
   "id": "809b4191-184a-4e88-a50a-fb7e8243ca21",
   "metadata": {},
   "outputs": [],
   "source": [
    "class GradeQuestion(BaseModel):\n",
    "    \"\"\"\n",
    "        Boolean Value to check whether a question is related to the peak Performance Gym\n",
    "    \"\"\"\n",
    "    score: str=Field(description=\"Question is about Gym? If yes -> 'Yes' if not -> 'No' \")"
   ]
  },
  {
   "cell_type": "code",
   "execution_count": 14,
   "id": "8b47dc83-3ebf-4026-abf9-21407b8e7542",
   "metadata": {},
   "outputs": [],
   "source": [
    "def question_classifier(state: AgentState):\n",
    "    question=state[\"messages\"][-1].content\n",
    "    system_message=\"\"\"\n",
    "        You are a classifier that determines whether a user's question is about one of the following topics\n",
    "\n",
    "        1. Gym History & Founder\n",
    "        2. Operating Hours\n",
    "        3. Membership Plans\n",
    "        4. Fitness Classes\n",
    "        5. Personal Trainers\n",
    "        6. Facilities & Equipment\n",
    "\n",
    "        If the question is about any of these topics, respond with 'Yes', otherwise respond with 'No'.\n",
    "    \"\"\"\n",
    "    grade_prompt=ChatPromptTemplate.from_messages(messages=[\n",
    "        (\"system\", system_message),\n",
    "        (\"human\",\"User Question: {question}\")\n",
    "    ])\n",
    "    structured_llm_llama=llmLlama.with_structured_output(schema=GradeQuestion)\n",
    "    grader_llm=grade_prompt | structured_llm_llama\n",
    "\n",
    "    result=grader_llm.invoke(input={\"question\":question})\n",
    "    state[\"on_topic\"]=result.score\n",
    "    \n",
    "    return state"
   ]
  },
  {
   "cell_type": "code",
   "execution_count": 15,
   "id": "20373112-8653-4950-9074-28247c20e156",
   "metadata": {},
   "outputs": [],
   "source": [
    "def on_topic_router(state:AgentState):\n",
    "    on_topic=state[\"on_topic\"]\n",
    "    state[\"on_topic\"]=\"on_topic\" if on_topic.lower() == \"yes\" else \"off_topic\"\n",
    "    return state[\"on_topic\"]"
   ]
  },
  {
   "cell_type": "code",
   "execution_count": 16,
   "id": "14f3bd3a-43e1-4e5b-aaaf-0ae3f4c085d0",
   "metadata": {},
   "outputs": [],
   "source": [
    "def retrieve(state:AgentState):\n",
    "    question=state[\"messages\"][-1].content\n",
    "    documents=retriever.invoke(input=question)\n",
    "    state[\"documents\"]=documents\n",
    "    return state"
   ]
  },
  {
   "cell_type": "code",
   "execution_count": 17,
   "id": "5a3394a2-8181-4ae1-95b4-4144057d8e1d",
   "metadata": {},
   "outputs": [],
   "source": [
    "def generate_answer(state:AgentState):\n",
    "    question=state[\"messages\"][-1].content\n",
    "    documents=state[\"documents\"]\n",
    "    generation=rag_chain.invoke(input={\n",
    "        \"context\": documents,\n",
    "        \"question\":question\n",
    "    })\n",
    "    state[\"messages\"]=generation\n",
    "    return state"
   ]
  },
  {
   "cell_type": "code",
   "execution_count": 35,
   "id": "82954839-1115-4f91-8042-8b3021664204",
   "metadata": {},
   "outputs": [],
   "source": [
    "def off_topic_response(state: AgentState):\n",
    "    state[\"messages\"]=AIMessage(\n",
    "        content=\"I am sorry, I cannot answer this question since this question is out of the topic\"\n",
    "    )\n",
    "    return state"
   ]
  },
  {
   "cell_type": "code",
   "execution_count": 36,
   "id": "46f5e271-e8c8-43de-b69e-fa6024d8fbb0",
   "metadata": {},
   "outputs": [],
   "source": [
    "workflow=StateGraph(state_schema=AgentState)"
   ]
  },
  {
   "cell_type": "code",
   "execution_count": 37,
   "id": "d28ed06b-961d-4709-a592-85b48cb772c4",
   "metadata": {},
   "outputs": [
    {
     "data": {
      "text/plain": [
       "<langgraph.graph.state.StateGraph at 0x1fda8c43e50>"
      ]
     },
     "execution_count": 37,
     "metadata": {},
     "output_type": "execute_result"
    }
   ],
   "source": [
    "workflow.add_node(node=\"topic_decision\", action=question_classifier)"
   ]
  },
  {
   "cell_type": "code",
   "execution_count": 38,
   "id": "8894c1e7-6124-42e2-9191-3823b3eafff6",
   "metadata": {},
   "outputs": [
    {
     "data": {
      "text/plain": [
       "<langgraph.graph.state.StateGraph at 0x1fda8c43e50>"
      ]
     },
     "execution_count": 38,
     "metadata": {},
     "output_type": "execute_result"
    }
   ],
   "source": [
    "workflow.add_node(node=\"off_topic_response\",action=off_topic_response)"
   ]
  },
  {
   "cell_type": "code",
   "execution_count": 39,
   "id": "c9a7eb47-0077-403e-8e77-4aa2195a6eb3",
   "metadata": {},
   "outputs": [
    {
     "data": {
      "text/plain": [
       "<langgraph.graph.state.StateGraph at 0x1fda8c43e50>"
      ]
     },
     "execution_count": 39,
     "metadata": {},
     "output_type": "execute_result"
    }
   ],
   "source": [
    "workflow.add_node(node=\"retrieve\", action=retrieve)"
   ]
  },
  {
   "cell_type": "code",
   "execution_count": 40,
   "id": "ef941882-cb7c-44f7-8091-b7ebc871dd2b",
   "metadata": {},
   "outputs": [
    {
     "data": {
      "text/plain": [
       "<langgraph.graph.state.StateGraph at 0x1fda8c43e50>"
      ]
     },
     "execution_count": 40,
     "metadata": {},
     "output_type": "execute_result"
    }
   ],
   "source": [
    "workflow.add_node(node=\"generate_answer\", action=generate_answer)"
   ]
  },
  {
   "cell_type": "code",
   "execution_count": 41,
   "id": "3d602cca-ea94-498b-86b9-862a94b98731",
   "metadata": {},
   "outputs": [
    {
     "data": {
      "text/plain": [
       "<langgraph.graph.state.StateGraph at 0x1fda8c43e50>"
      ]
     },
     "execution_count": 41,
     "metadata": {},
     "output_type": "execute_result"
    }
   ],
   "source": [
    "workflow.add_conditional_edges(\n",
    "    source=\"topic_decision\",path=on_topic_router, path_map={\n",
    "        \"on_topic\":\"retrieve\",\n",
    "        \"off_topic\": \"off_topic_response\"\n",
    "    }\n",
    ")"
   ]
  },
  {
   "cell_type": "code",
   "execution_count": 42,
   "id": "08b273ca-52ca-45b2-b917-da27dd155dc3",
   "metadata": {},
   "outputs": [
    {
     "data": {
      "text/plain": [
       "<langgraph.graph.state.StateGraph at 0x1fda8c43e50>"
      ]
     },
     "execution_count": 42,
     "metadata": {},
     "output_type": "execute_result"
    }
   ],
   "source": [
    "workflow.add_edge(start_key=\"retrieve\", end_key=\"generate_answer\")"
   ]
  },
  {
   "cell_type": "code",
   "execution_count": 43,
   "id": "171e90ec-7902-47c0-9891-36ba4997cd4e",
   "metadata": {},
   "outputs": [
    {
     "data": {
      "text/plain": [
       "<langgraph.graph.state.StateGraph at 0x1fda8c43e50>"
      ]
     },
     "execution_count": 43,
     "metadata": {},
     "output_type": "execute_result"
    }
   ],
   "source": [
    "workflow.add_edge(start_key=\"generate_answer\", end_key=END)"
   ]
  },
  {
   "cell_type": "code",
   "execution_count": 44,
   "id": "11489fbf-36bb-479d-980c-bb9058567dde",
   "metadata": {},
   "outputs": [
    {
     "data": {
      "text/plain": [
       "<langgraph.graph.state.StateGraph at 0x1fda8c43e50>"
      ]
     },
     "execution_count": 44,
     "metadata": {},
     "output_type": "execute_result"
    }
   ],
   "source": [
    "workflow.add_edge(start_key=\"off_topic_response\", end_key=END)"
   ]
  },
  {
   "cell_type": "code",
   "execution_count": 45,
   "id": "4d97bc27-fb6c-486c-832d-a51e6fc614e8",
   "metadata": {},
   "outputs": [
    {
     "data": {
      "text/plain": [
       "<langgraph.graph.state.StateGraph at 0x1fda8c43e50>"
      ]
     },
     "execution_count": 45,
     "metadata": {},
     "output_type": "execute_result"
    }
   ],
   "source": [
    "workflow.set_entry_point(key=\"topic_decision\")"
   ]
  },
  {
   "cell_type": "code",
   "execution_count": 46,
   "id": "ae2a860f-d82e-4d32-b5b5-a6435a8db24f",
   "metadata": {},
   "outputs": [],
   "source": [
    "graph=workflow.compile()"
   ]
  },
  {
   "cell_type": "code",
   "execution_count": 54,
   "id": "4c78ccce-6575-4248-b672-f56f14628d01",
   "metadata": {},
   "outputs": [
    {
     "name": "stdout",
     "output_type": "stream",
     "text": [
      "                   +-----------+                      \n",
      "                   | __start__ |                      \n",
      "                   +-----------+                      \n",
      "                         *                            \n",
      "                         *                            \n",
      "                         *                            \n",
      "                +----------------+                    \n",
      "                | topic_decision |                    \n",
      "                +----------------+                    \n",
      "                 ..             ...                   \n",
      "              ...                  ...                \n",
      "            ..                        ..              \n",
      "    +----------+                        ..            \n",
      "    | retrieve |                         .            \n",
      "    +----------+                         .            \n",
      "          *                              .            \n",
      "          *                              .            \n",
      "          *                              .            \n",
      "+-----------------+           +--------------------+  \n",
      "| generate_answer |           | off_topic_response |  \n",
      "+-----------------+           +--------------------+  \n",
      "                 **             ***                   \n",
      "                   ***        **                      \n",
      "                      **    **                        \n",
      "                    +---------+                       \n",
      "                    | __end__ |                       \n",
      "                    +---------+                       \n"
     ]
    }
   ],
   "source": [
    "print(graph.get_graph().draw_ascii())"
   ]
  },
  {
   "cell_type": "code",
   "execution_count": 47,
   "id": "86ca812f-9c16-4b9f-9559-aadbca19238d",
   "metadata": {},
   "outputs": [
    {
     "data": {
      "image/png": "[encoded data removed]",
      "text/plain": [
       "<IPython.core.display.Image object>"
      ]
     },
     "metadata": {},
     "output_type": "display_data"
    }
   ],
   "source": [
    "display(Image(graph.get_graph().draw_mermaid_png(draw_method=MermaidDrawMethod.API)\n",
    "))"
   ]
  },
  {
   "cell_type": "code",
   "execution_count": 48,
   "id": "9fafb1a2-5541-4e1e-9b19-fef553e45424",
   "metadata": {},
   "outputs": [
    {
     "data": {
      "text/plain": [
       "{'messages': [HumanMessage(content='Who is the owner of this gym and what are the timings?', additional_kwargs={}, response_metadata={}, id='556e12c8-e89b-46db-ae53-de432a06f769'),\n",
       "  AIMessage(content='I am sorry, I cannot answer this question since this question is out of the topic', additional_kwargs={}, response_metadata={}, id='7c063e60-8558-4957-8dc5-2c40c7674d7f')],\n",
       " 'on_topic': 'No'}"
      ]
     },
     "execution_count": 48,
     "metadata": {},
     "output_type": "execute_result"
    }
   ],
   "source": [
    "graph.invoke(input={\n",
    "    \"messages\":[HumanMessage(content=\"Who is the owner of this gym and what are the timings?\")]\n",
    "})"
   ]
  },
  {
   "cell_type": "code",
   "execution_count": 49,
   "id": "0e8ac57a-05f7-4584-9cc5-31a5c71ac38d",
   "metadata": {},
   "outputs": [
    {
     "data": {
      "text/plain": [
       "{'messages': [HumanMessage(content='What does the company Apple do?', additional_kwargs={}, response_metadata={}, id='7e902016-ba2b-4dc9-bf4d-ddf8d0ee08bc'),\n",
       "  AIMessage(content='I am sorry, I cannot answer this question since this question is out of the topic', additional_kwargs={}, response_metadata={}, id='05d16b1f-deaf-4a84-9368-cd539a778a07')],\n",
       " 'on_topic': 'No'}"
      ]
     },
     "execution_count": 49,
     "metadata": {},
     "output_type": "execute_result"
    }
   ],
   "source": [
    "graph.invoke(input={\n",
    "    \"messages\":[HumanMessage(content=\"What does the company Apple do?\")]\n",
    "})"
   ]
  },
  {
   "cell_type": "code",
   "execution_count": null,
   "id": "39344efe-35cd-4bfd-8720-0ca4f41b3bb3",
   "metadata": {},
   "outputs": [],
   "source": []
  },
  {
   "cell_type": "code",
   "execution_count": null,
   "id": "47fcc032-84fb-4076-8b7e-164a4fcfe93b",
   "metadata": {},
   "outputs": [],
   "source": []
  }
 ],
 "metadata": {
  "kernelspec": {
   "display_name": "Python 3 (ipykernel)",
   "language": "python",
   "name": "python3"
  },
  "language_info": {
   "codemirror_mode": {
    "name": "ipython",
    "version": 3
   },
   "file_extension": ".py",
   "mimetype": "text/x-python",
   "name": "python",
   "nbconvert_exporter": "python",
   "pygments_lexer": "ipython3",
   "version": "3.11.11"
  }
 },
 "nbformat": 4,
 "nbformat_minor": 5
}
