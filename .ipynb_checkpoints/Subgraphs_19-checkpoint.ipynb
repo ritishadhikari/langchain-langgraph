{
 "cells": [
  {
   "cell_type": "code",
   "execution_count": 1,
   "id": "d21fc614-fb09-4f8d-a460-fe92bdf66b56",
   "metadata": {},
   "outputs": [],
   "source": [
    "from typing import TypedDict, Annotated, Dict\n",
    "from langgraph.graph import add_messages, StateGraph, END, START\n",
    "from langchain_groq import ChatGroq\n",
    "from langchain_core.messages import AIMessage, HumanMessage\n",
    "from dotenv import load_dotenv\n",
    "from langchain_community.tools.tavily_search import TavilySearchResults\n",
    "from langgraph.prebuilt import ToolNode\n",
    "from IPython.display import Image, display\n",
    "from langchain_core.runnables.graph import MermaidDrawMethod"
   ]
  },
  {
   "cell_type": "code",
   "execution_count": 2,
   "id": "3131f51a-d776-4667-8204-f861b28a7330",
   "metadata": {},
   "outputs": [
    {
     "data": {
      "text/plain": [
       "True"
      ]
     },
     "execution_count": 2,
     "metadata": {},
     "output_type": "execute_result"
    }
   ],
   "source": [
    "load_dotenv()"
   ]
  },
  {
   "cell_type": "code",
   "execution_count": 3,
   "id": "866d37eb-1756-47c0-9032-0cdb12791ed1",
   "metadata": {},
   "outputs": [],
   "source": [
    "class ChildState(TypedDict):\n",
    "    messages: Annotated[list, add_messages]"
   ]
  },
  {
   "cell_type": "code",
   "execution_count": 4,
   "id": "84f9c8d6-04ac-41cb-be5d-400b352c9c90",
   "metadata": {},
   "outputs": [],
   "source": [
    "search_tool=TavilySearchResults(max_results=2)"
   ]
  },
  {
   "cell_type": "code",
   "execution_count": 5,
   "id": "50f18f32-9afa-4174-94a0-b15b73b95b7d",
   "metadata": {},
   "outputs": [],
   "source": [
    "tools=[search_tool]"
   ]
  },
  {
   "cell_type": "code",
   "execution_count": 6,
   "id": "a56b0677-4658-43fb-896a-e800d55f07c3",
   "metadata": {},
   "outputs": [],
   "source": [
    "llmLlama=ChatGroq(model=\"llama-3.1-8b-instant\")"
   ]
  },
  {
   "cell_type": "code",
   "execution_count": 7,
   "id": "647cb0ac-7e1b-4c3a-a8da-59a2f832964b",
   "metadata": {},
   "outputs": [
    {
     "data": {
      "text/plain": [
       "AIMessage(content='There are a few possible meanings for SRT, depending on the context:\\n\\n1. **Street Racing Team**: SRT (Street Racing Team) is a high-performance vehicle division of FCA US (now known as Stellantis). It was established in 2002 and was responsible for creating high-performance versions of Chrysler and Dodge vehicles. SRT was known for producing cars like the Dodge Viper, Dodge Challenger SRT Hellcat, and Chrysler 300 SRT.\\n\\n2. **SRT Holdings**: SRT Holdings LLC is a subsidiary of Fiat Chrysler Automobiles (FCA). \\n\\n3. **SRT (software)**: SRT can also refer to the Smith Waterman Algorithm for Rapid Detection of Protein Similarity, which is a tool used in bioinformatics.\\n\\n4. **SRT (Other)**: SRT can also be an acronym for other organizations like SRT (Society for Radiological Technologists) or other entities.\\n\\nIf you could provide more context about SRT you are referring to, it would be easier to give a more accurate answer.', additional_kwargs={}, response_metadata={'token_usage': {'completion_tokens': 217, 'prompt_tokens': 40, 'total_tokens': 257, 'completion_time': 0.289333333, 'prompt_time': 0.006788144, 'queue_time': 1.22603586, 'total_time': 0.296121477}, 'model_name': 'llama-3.1-8b-instant', 'system_fingerprint': 'fp_8d1c73bd4c', 'finish_reason': 'stop', 'logprobs': None}, id='run-ddae0892-ce94-4a95-a8ad-5dd9b2de0a3c-0', usage_metadata={'input_tokens': 40, 'output_tokens': 217, 'total_tokens': 257})"
      ]
     },
     "execution_count": 7,
     "metadata": {},
     "output_type": "execute_result"
    }
   ],
   "source": [
    "# illustrations\n",
    "llmLlama.invoke(input=\"Who is SRT?\")"
   ]
  },
  {
   "cell_type": "code",
   "execution_count": 8,
   "id": "d1ae6d8e-afb0-4ec9-9fde-63b0c4bba094",
   "metadata": {},
   "outputs": [],
   "source": [
    "llm_with_tools=llmLlama.bind_tools(tools=tools)"
   ]
  },
  {
   "cell_type": "code",
   "execution_count": 9,
   "id": "d619e058-848f-4ab6-9377-900efdec67ff",
   "metadata": {},
   "outputs": [
    {
     "data": {
      "text/plain": [
       "AIMessage(content='', additional_kwargs={'tool_calls': [{'id': 'call_xpmb', 'function': {'arguments': '{\"query\": \"Kharagpur current temperature\"}', 'name': 'tavily_search_results_json'}, 'type': 'function'}]}, response_metadata={'token_usage': {'completion_tokens': 23, 'prompt_tokens': 289, 'total_tokens': 312, 'completion_time': 0.030666667, 'prompt_time': 0.053440776, 'queue_time': 0.697956691, 'total_time': 0.084107443}, 'model_name': 'llama-3.1-8b-instant', 'system_fingerprint': 'fp_8d1c73bd4c', 'finish_reason': 'tool_calls', 'logprobs': None}, id='run-cb046599-2e57-4ab8-a183-8017b762aee7-0', tool_calls=[{'name': 'tavily_search_results_json', 'args': {'query': 'Kharagpur current temperature'}, 'id': 'call_xpmb', 'type': 'tool_call'}], usage_metadata={'input_tokens': 289, 'output_tokens': 23, 'total_tokens': 312})"
      ]
     },
     "execution_count": 9,
     "metadata": {},
     "output_type": "execute_result"
    }
   ],
   "source": [
    "# illustration\n",
    "t=llm_with_tools.invoke(input=\"What's the temperature at Kharagpur now?\")\n",
    "t"
   ]
  },
  {
   "cell_type": "code",
   "execution_count": 10,
   "id": "ddcc8696-9bc6-4eca-b965-8bad505c9643",
   "metadata": {},
   "outputs": [
    {
     "data": {
      "text/plain": [
       "[{'title': 'Kharagpur Weather Today and AQI Level',\n",
       "  'url': 'https://www.businesstoday.in/weather/kharagpur-weather-forecast-today',\n",
       "  'content': \"Today's minimum temperature in Kharagpur is recorded at 26°c (degrees celsius), and the maximum temperature is expected to go as high as 38°c (degrees celsius).\",\n",
       "  'score': 0.8724455},\n",
       " {'title': 'Kharagpur, WB, IN Current Weather',\n",
       "  'url': 'https://www.theweathernetwork.com/en/city/in/west-bengal/kharagpur/current',\n",
       "  'content': 'Kharagpur, WB, IN. Updated 10 minutes ago. 25. °C. A few clouds. Feels 26. H: 37° L: 26°. Hourly. Full 72 hours · 1am. Partly cloudy. 25°. Feels 26.',\n",
       "  'score': 0.8479807}]"
      ]
     },
     "execution_count": 10,
     "metadata": {},
     "output_type": "execute_result"
    }
   ],
   "source": [
    "# illustration\n",
    "search_tool.invoke(t.tool_calls[0]['args']['query'])"
   ]
  },
  {
   "cell_type": "code",
   "execution_count": 11,
   "id": "e23c21c3-3939-4b9f-92e3-9cd1682d75fa",
   "metadata": {},
   "outputs": [],
   "source": [
    "def agent(state:ChildState):\n",
    "    state[\"messages\"]=llm_with_tools.invoke(input=state[\"messages\"])\n",
    "    return state"
   ]
  },
  {
   "cell_type": "code",
   "execution_count": 12,
   "id": "73c7d95e-2360-47cb-8698-20a70e837ab8",
   "metadata": {},
   "outputs": [],
   "source": [
    "def tools_router(state: ChildState):\n",
    "    print(f\"State prior to tool calling: {state}\\n\")\n",
    "    last_message=state[\"messages\"][-1]\n",
    "    if (hasattr(last_message,\"tool_calls\")) and len(last_message.tool_calls)>0:\n",
    "        return \"tool_node\"\n",
    "    else:\n",
    "        return END"
   ]
  },
  {
   "cell_type": "code",
   "execution_count": 13,
   "id": "0219e56a-5da5-4953-9a65-264f368d98b0",
   "metadata": {},
   "outputs": [],
   "source": [
    "tool_node=ToolNode(tools=tools)"
   ]
  },
  {
   "cell_type": "code",
   "execution_count": 14,
   "id": "e3667c4b-81c1-4095-a881-44d95c2d2af4",
   "metadata": {},
   "outputs": [],
   "source": [
    "subGraph=StateGraph(state_schema=ChildState)"
   ]
  },
  {
   "cell_type": "code",
   "execution_count": 15,
   "id": "325df6b3-5726-4675-a83f-4d5f1881a8d3",
   "metadata": {},
   "outputs": [
    {
     "data": {
      "text/plain": [
       "<langgraph.graph.state.StateGraph at 0x2567c2c99d0>"
      ]
     },
     "execution_count": 15,
     "metadata": {},
     "output_type": "execute_result"
    }
   ],
   "source": [
    "subGraph.add_node(node=\"agent\",action=agent)"
   ]
  },
  {
   "cell_type": "code",
   "execution_count": 16,
   "id": "559605ba-0ef9-4cca-8e92-b5b2b3536610",
   "metadata": {},
   "outputs": [
    {
     "data": {
      "text/plain": [
       "<langgraph.graph.state.StateGraph at 0x2567c2c99d0>"
      ]
     },
     "execution_count": 16,
     "metadata": {},
     "output_type": "execute_result"
    }
   ],
   "source": [
    "subGraph.add_node(node=\"tool_node\", action=tool_node)"
   ]
  },
  {
   "cell_type": "code",
   "execution_count": 17,
   "id": "7c2bc752-9d4e-4bcd-b3ee-3b90a135f803",
   "metadata": {},
   "outputs": [
    {
     "data": {
      "text/plain": [
       "<langgraph.graph.state.StateGraph at 0x2567c2c99d0>"
      ]
     },
     "execution_count": 17,
     "metadata": {},
     "output_type": "execute_result"
    }
   ],
   "source": [
    "subGraph.add_conditional_edges(source=\"agent\",path=tools_router,\n",
    "                               path_map={\"tool_node\":\"tool_node\",END:END}\n",
    "                              )"
   ]
  },
  {
   "cell_type": "code",
   "execution_count": 18,
   "id": "8c19283a-0aea-4511-9ca8-fcef8d1e6967",
   "metadata": {},
   "outputs": [
    {
     "data": {
      "text/plain": [
       "<langgraph.graph.state.StateGraph at 0x2567c2c99d0>"
      ]
     },
     "execution_count": 18,
     "metadata": {},
     "output_type": "execute_result"
    }
   ],
   "source": [
    "subGraph.add_edge(start_key=\"tool_node\",end_key=\"agent\")"
   ]
  },
  {
   "cell_type": "code",
   "execution_count": 19,
   "id": "f9b77c79-5152-4a3d-9fab-8b462a220ab1",
   "metadata": {},
   "outputs": [
    {
     "data": {
      "text/plain": [
       "<langgraph.graph.state.StateGraph at 0x2567c2c99d0>"
      ]
     },
     "execution_count": 19,
     "metadata": {},
     "output_type": "execute_result"
    }
   ],
   "source": [
    "subGraph.set_entry_point(key=\"agent\")"
   ]
  },
  {
   "cell_type": "code",
   "execution_count": 20,
   "id": "a8d22185-bb4c-4d82-a541-082d8ed534e3",
   "metadata": {},
   "outputs": [],
   "source": [
    "search_app=subGraph.compile()"
   ]
  },
  {
   "cell_type": "code",
   "execution_count": 21,
   "id": "c20327bb-e3ef-4810-8e57-64792af0f28f",
   "metadata": {},
   "outputs": [
    {
     "data": {
      "image/png": "[encoded data removed]",
      "text/plain": [
       "<IPython.core.display.Image object>"
      ]
     },
     "metadata": {},
     "output_type": "display_data"
    }
   ],
   "source": [
    "display(Image(data=search_app.get_graph().draw_mermaid_png(draw_method=MermaidDrawMethod.API)))"
   ]
  },
  {
   "cell_type": "code",
   "execution_count": 22,
   "id": "459286f2-8ed6-45d8-9c9c-107a46c39d1c",
   "metadata": {
    "scrolled": true
   },
   "outputs": [
    {
     "name": "stdout",
     "output_type": "stream",
     "text": [
      "State prior to tool calling: {'messages': [HumanMessage(content='How is the weather in Chennai?', additional_kwargs={}, response_metadata={}, id='5efbea3e-b370-4ee5-8000-4a50d82151b1'), AIMessage(content='', additional_kwargs={'tool_calls': [{'id': 'call_jjcr', 'function': {'arguments': '{\"query\": \"Chennai weather today\"}', 'name': 'tavily_search_results_json'}, 'type': 'function'}]}, response_metadata={'token_usage': {'completion_tokens': 21, 'prompt_tokens': 569, 'total_tokens': 590, 'completion_time': 0.028, 'prompt_time': 0.053183176, 'queue_time': -0.080358165, 'total_time': 0.081183176}, 'model_name': 'llama-3.1-8b-instant', 'system_fingerprint': 'fp_f7bd09b454', 'finish_reason': 'tool_calls', 'logprobs': None}, id='run-4bea0d8e-47fa-4d10-b34f-23ffe6cdb068-0', tool_calls=[{'name': 'tavily_search_results_json', 'args': {'query': 'Chennai weather today'}, 'id': 'call_jjcr', 'type': 'tool_call'}], usage_metadata={'input_tokens': 569, 'output_tokens': 21, 'total_tokens': 590})]}\n",
      "\n",
      "State prior to tool calling: {'messages': [HumanMessage(content='How is the weather in Chennai?', additional_kwargs={}, response_metadata={}, id='5efbea3e-b370-4ee5-8000-4a50d82151b1'), AIMessage(content='', additional_kwargs={'tool_calls': [{'id': 'call_jjcr', 'function': {'arguments': '{\"query\": \"Chennai weather today\"}', 'name': 'tavily_search_results_json'}, 'type': 'function'}]}, response_metadata={'token_usage': {'completion_tokens': 21, 'prompt_tokens': 569, 'total_tokens': 590, 'completion_time': 0.028, 'prompt_time': 0.053183176, 'queue_time': -0.080358165, 'total_time': 0.081183176}, 'model_name': 'llama-3.1-8b-instant', 'system_fingerprint': 'fp_f7bd09b454', 'finish_reason': 'tool_calls', 'logprobs': None}, id='run-4bea0d8e-47fa-4d10-b34f-23ffe6cdb068-0', tool_calls=[{'name': 'tavily_search_results_json', 'args': {'query': 'Chennai weather today'}, 'id': 'call_jjcr', 'type': 'tool_call'}], usage_metadata={'input_tokens': 569, 'output_tokens': 21, 'total_tokens': 590}), ToolMessage(content='[{\"title\": \"Weather in Chennai\", \"url\": \"https://www.weatherapi.com/\", \"content\": \"{\\'location\\': {\\'name\\': \\'Chennai\\', \\'region\\': \\'Tamil Nadu\\', \\'country\\': \\'India\\', \\'lat\\': 13.0833, \\'lon\\': 80.2833, \\'tz_id\\': \\'Asia/Kolkata\\', \\'localtime_epoch\\': 1746397112, \\'localtime\\': \\'2025-05-05 03:48\\'}, \\'current\\': {\\'last_updated_epoch\\': 1746396900, \\'last_updated\\': \\'2025-05-05 03:45\\', \\'temp_c\\': 26.1, \\'temp_f\\': 79.0, \\'is_day\\': 0, \\'condition\\': {\\'text\\': \\'Mist\\', \\'icon\\': \\'//cdn.weatherapi.com/weather/64x64/night/143.png\\', \\'code\\': 1030}, \\'wind_mph\\': 7.2, \\'wind_kph\\': 11.5, \\'wind_degree\\': 226, \\'wind_dir\\': \\'SW\\', \\'pressure_mb\\': 1005.0, \\'pressure_in\\': 29.68, \\'precip_mm\\': 0.0, \\'precip_in\\': 0.0, \\'humidity\\': 89, \\'cloud\\': 75, \\'feelslike_c\\': 27.7, \\'feelslike_f\\': 81.8, \\'windchill_c\\': 28.2, \\'windchill_f\\': 82.8, \\'heatindex_c\\': 30.8, \\'heatindex_f\\': 87.4, \\'dewpoint_c\\': 21.3, \\'dewpoint_f\\': 70.4, \\'vis_km\\': 4.0, \\'vis_miles\\': 2.0, \\'uv\\': 0.0, \\'gust_mph\\': 10.2, \\'gust_kph\\': 16.5}}\", \"score\": 0.9808436}, {\"title\": \"Weather in Chennai in April 2025 - Detailed Forecast\", \"url\": \"https://www.easeweather.com/asia/india/tamil-nadu/chennai/april\", \"content\": \"1 Apr. | Patchy rain possible | 31°/25° | 0.1mm | 7 | \\\\n2 Apr. | Sunny | 32°/25° | 0mm | 8 | \\\\n3 Apr. | Partly cloudy | 32°/26° | 0.7mm | 8 | \\\\n4 Apr. | Partly cloudy | 32°/27° | 0.1mm | 8 | \\\\n5 Apr. | Sunny | 32°/25° | 0.2mm | 8 | \\\\n6 Apr. | Sunny | 33°/26° | 0mm | 8 | \\\\n7 Apr. | Sunny | 32°/26° | 0mm | 8 | \\\\n8 Apr. | Sunny | 32°/26° | 0.1mm | 8 | \\\\n9 Apr. | Partly cloudy | 31°/26° | 0mm | 8 | \\\\n10 Apr. | Cloudy | 32°/26° | 0mm | 8 | \\\\n11 Apr. | Sunny | 33°/27° | 0mm | 8 | [...] 12 Apr. | Partly cloudy | 33°/27° | 0.1mm | 8 | \\\\n13 Apr. | Patchy rain possible | 32°/27° | 0mm | 7 | \\\\n14 Apr. | Partly cloudy | 32°/27° | 0mm | 8 | \\\\n15 Apr. | Sunny | 31°/26° | 0mm | 8 | \\\\n16 Apr. | Sunny | 32°/26° | 0mm | 8 | \\\\n17 Apr. | Sunny | 33°/27° | 0mm | 8 | \\\\n18 Apr. | Sunny | 33°/28° | 0mm | 8 | \\\\n19 Apr. | Sunny | 33°/28° | 0mm | 8 | \\\\n20 Apr. | Sunny | 34°/28° | 0mm | 8 | \\\\n21 Apr. | Patchy rain possible | 33°/27° | 0mm | 7 | \\\\n22 Apr. | Sunny | 33°/26° | 0mm | 8 | [...] 23 Apr. | Partly cloudy | 33°/26° | 0mm | 8 | \\\\n24 Apr. | Sunny | 33°/27° | 0mm | 8 | \\\\n25 Apr. | Sunny | 33°/27° | 0.1mm | 8 | \\\\n26 Apr. | Sunny | 32°/27° | 0mm | 8 | \\\\n27 Apr. | Sunny | 32°/27° | 0mm | 8 | \\\\n28 Apr. | Sunny | 32°/27° | 0.1mm | 8 | \\\\n29 Apr. | Partly cloudy | 33°/27° | 0mm | 8 | \\\\n30 Apr. | Sunny | 34°/27° | 0mm | 8 | \\\\nNext\\\\nChennai in April - FAQ\", \"score\": 0.9100432}]', name='tavily_search_results_json', id='dbdb4072-1b17-4d3a-a30d-06064d3d6703', tool_call_id='call_jjcr', artifact={'query': 'Chennai weather today', 'follow_up_questions': None, 'answer': None, 'images': [], 'results': [{'title': 'Weather in Chennai', 'url': 'https://www.weatherapi.com/', 'content': \"{'location': {'name': 'Chennai', 'region': 'Tamil Nadu', 'country': 'India', 'lat': 13.0833, 'lon': 80.2833, 'tz_id': 'Asia/Kolkata', 'localtime_epoch': 1746397112, 'localtime': '2025-05-05 03:48'}, 'current': {'last_updated_epoch': 1746396900, 'last_updated': '2025-05-05 03:45', 'temp_c': 26.1, 'temp_f': 79.0, 'is_day': 0, 'condition': {'text': 'Mist', 'icon': '//cdn.weatherapi.com/weather/64x64/night/143.png', 'code': 1030}, 'wind_mph': 7.2, 'wind_kph': 11.5, 'wind_degree': 226, 'wind_dir': 'SW', 'pressure_mb': 1005.0, 'pressure_in': 29.68, 'precip_mm': 0.0, 'precip_in': 0.0, 'humidity': 89, 'cloud': 75, 'feelslike_c': 27.7, 'feelslike_f': 81.8, 'windchill_c': 28.2, 'windchill_f': 82.8, 'heatindex_c': 30.8, 'heatindex_f': 87.4, 'dewpoint_c': 21.3, 'dewpoint_f': 70.4, 'vis_km': 4.0, 'vis_miles': 2.0, 'uv': 0.0, 'gust_mph': 10.2, 'gust_kph': 16.5}}\", 'score': 0.9808436, 'raw_content': None}, {'url': 'https://www.easeweather.com/asia/india/tamil-nadu/chennai/april', 'title': 'Weather in Chennai in April 2025 - Detailed Forecast', 'content': '1 Apr. | Patchy rain possible | 31°/25° | 0.1mm | 7 | \\n2 Apr. | Sunny | 32°/25° | 0mm | 8 | \\n3 Apr. | Partly cloudy | 32°/26° | 0.7mm | 8 | \\n4 Apr. | Partly cloudy | 32°/27° | 0.1mm | 8 | \\n5 Apr. | Sunny | 32°/25° | 0.2mm | 8 | \\n6 Apr. | Sunny | 33°/26° | 0mm | 8 | \\n7 Apr. | Sunny | 32°/26° | 0mm | 8 | \\n8 Apr. | Sunny | 32°/26° | 0.1mm | 8 | \\n9 Apr. | Partly cloudy | 31°/26° | 0mm | 8 | \\n10 Apr. | Cloudy | 32°/26° | 0mm | 8 | \\n11 Apr. | Sunny | 33°/27° | 0mm | 8 | [...] 12 Apr. | Partly cloudy | 33°/27° | 0.1mm | 8 | \\n13 Apr. | Patchy rain possible | 32°/27° | 0mm | 7 | \\n14 Apr. | Partly cloudy | 32°/27° | 0mm | 8 | \\n15 Apr. | Sunny | 31°/26° | 0mm | 8 | \\n16 Apr. | Sunny | 32°/26° | 0mm | 8 | \\n17 Apr. | Sunny | 33°/27° | 0mm | 8 | \\n18 Apr. | Sunny | 33°/28° | 0mm | 8 | \\n19 Apr. | Sunny | 33°/28° | 0mm | 8 | \\n20 Apr. | Sunny | 34°/28° | 0mm | 8 | \\n21 Apr. | Patchy rain possible | 33°/27° | 0mm | 7 | \\n22 Apr. | Sunny | 33°/26° | 0mm | 8 | [...] 23 Apr. | Partly cloudy | 33°/26° | 0mm | 8 | \\n24 Apr. | Sunny | 33°/27° | 0mm | 8 | \\n25 Apr. | Sunny | 33°/27° | 0.1mm | 8 | \\n26 Apr. | Sunny | 32°/27° | 0mm | 8 | \\n27 Apr. | Sunny | 32°/27° | 0mm | 8 | \\n28 Apr. | Sunny | 32°/27° | 0.1mm | 8 | \\n29 Apr. | Partly cloudy | 33°/27° | 0mm | 8 | \\n30 Apr. | Sunny | 34°/27° | 0mm | 8 | \\nNext\\nChennai in April - FAQ', 'score': 0.9100432, 'raw_content': None}], 'response_time': 3.53}), AIMessage(content='The current weather in Chennai is misty with a temperature of 26.1°C. The forecast for the next few days is mostly sunny with highs in the mid-30s Celsius. There may be some patchy rain possible on certain days. It is recommended to check the weather forecast again closer to the date for the most up-to-date information.', additional_kwargs={}, response_metadata={'token_usage': {'completion_tokens': 72, 'prompt_tokens': 1505, 'total_tokens': 1577, 'completion_time': 0.096, 'prompt_time': 0.279017218, 'queue_time': 1.670974084, 'total_time': 0.375017218}, 'model_name': 'llama-3.1-8b-instant', 'system_fingerprint': 'fp_a4265e44d5', 'finish_reason': 'stop', 'logprobs': None}, id='run-ddaba4cb-f92a-4bf1-82d2-d25b96774066-0', usage_metadata={'input_tokens': 1505, 'output_tokens': 72, 'total_tokens': 1577})]}\n",
      "\n"
     ]
    }
   ],
   "source": [
    "response=search_app.invoke(input={\"messages\":\"How is the weather in Chennai?\"})"
   ]
  },
  {
   "cell_type": "code",
   "execution_count": 23,
   "id": "5dfc2503-e3b1-4c86-b7d7-432b98ce6714",
   "metadata": {},
   "outputs": [
    {
     "data": {
      "text/plain": [
       "{'messages': [HumanMessage(content='How is the weather in Chennai?', additional_kwargs={}, response_metadata={}, id='5efbea3e-b370-4ee5-8000-4a50d82151b1'),\n",
       "  AIMessage(content='', additional_kwargs={'tool_calls': [{'id': 'call_jjcr', 'function': {'arguments': '{\"query\": \"Chennai weather today\"}', 'name': 'tavily_search_results_json'}, 'type': 'function'}]}, response_metadata={'token_usage': {'completion_tokens': 21, 'prompt_tokens': 569, 'total_tokens': 590, 'completion_time': 0.028, 'prompt_time': 0.053183176, 'queue_time': -0.080358165, 'total_time': 0.081183176}, 'model_name': 'llama-3.1-8b-instant', 'system_fingerprint': 'fp_f7bd09b454', 'finish_reason': 'tool_calls', 'logprobs': None}, id='run-4bea0d8e-47fa-4d10-b34f-23ffe6cdb068-0', tool_calls=[{'name': 'tavily_search_results_json', 'args': {'query': 'Chennai weather today'}, 'id': 'call_jjcr', 'type': 'tool_call'}], usage_metadata={'input_tokens': 569, 'output_tokens': 21, 'total_tokens': 590}),\n",
       "  ToolMessage(content='[{\"title\": \"Weather in Chennai\", \"url\": \"https://www.weatherapi.com/\", \"content\": \"{\\'location\\': {\\'name\\': \\'Chennai\\', \\'region\\': \\'Tamil Nadu\\', \\'country\\': \\'India\\', \\'lat\\': 13.0833, \\'lon\\': 80.2833, \\'tz_id\\': \\'Asia/Kolkata\\', \\'localtime_epoch\\': 1746397112, \\'localtime\\': \\'2025-05-05 03:48\\'}, \\'current\\': {\\'last_updated_epoch\\': 1746396900, \\'last_updated\\': \\'2025-05-05 03:45\\', \\'temp_c\\': 26.1, \\'temp_f\\': 79.0, \\'is_day\\': 0, \\'condition\\': {\\'text\\': \\'Mist\\', \\'icon\\': \\'//cdn.weatherapi.com/weather/64x64/night/143.png\\', \\'code\\': 1030}, \\'wind_mph\\': 7.2, \\'wind_kph\\': 11.5, \\'wind_degree\\': 226, \\'wind_dir\\': \\'SW\\', \\'pressure_mb\\': 1005.0, \\'pressure_in\\': 29.68, \\'precip_mm\\': 0.0, \\'precip_in\\': 0.0, \\'humidity\\': 89, \\'cloud\\': 75, \\'feelslike_c\\': 27.7, \\'feelslike_f\\': 81.8, \\'windchill_c\\': 28.2, \\'windchill_f\\': 82.8, \\'heatindex_c\\': 30.8, \\'heatindex_f\\': 87.4, \\'dewpoint_c\\': 21.3, \\'dewpoint_f\\': 70.4, \\'vis_km\\': 4.0, \\'vis_miles\\': 2.0, \\'uv\\': 0.0, \\'gust_mph\\': 10.2, \\'gust_kph\\': 16.5}}\", \"score\": 0.9808436}, {\"title\": \"Weather in Chennai in April 2025 - Detailed Forecast\", \"url\": \"https://www.easeweather.com/asia/india/tamil-nadu/chennai/april\", \"content\": \"1 Apr. | Patchy rain possible | 31°/25° | 0.1mm | 7 | \\\\n2 Apr. | Sunny | 32°/25° | 0mm | 8 | \\\\n3 Apr. | Partly cloudy | 32°/26° | 0.7mm | 8 | \\\\n4 Apr. | Partly cloudy | 32°/27° | 0.1mm | 8 | \\\\n5 Apr. | Sunny | 32°/25° | 0.2mm | 8 | \\\\n6 Apr. | Sunny | 33°/26° | 0mm | 8 | \\\\n7 Apr. | Sunny | 32°/26° | 0mm | 8 | \\\\n8 Apr. | Sunny | 32°/26° | 0.1mm | 8 | \\\\n9 Apr. | Partly cloudy | 31°/26° | 0mm | 8 | \\\\n10 Apr. | Cloudy | 32°/26° | 0mm | 8 | \\\\n11 Apr. | Sunny | 33°/27° | 0mm | 8 | [...] 12 Apr. | Partly cloudy | 33°/27° | 0.1mm | 8 | \\\\n13 Apr. | Patchy rain possible | 32°/27° | 0mm | 7 | \\\\n14 Apr. | Partly cloudy | 32°/27° | 0mm | 8 | \\\\n15 Apr. | Sunny | 31°/26° | 0mm | 8 | \\\\n16 Apr. | Sunny | 32°/26° | 0mm | 8 | \\\\n17 Apr. | Sunny | 33°/27° | 0mm | 8 | \\\\n18 Apr. | Sunny | 33°/28° | 0mm | 8 | \\\\n19 Apr. | Sunny | 33°/28° | 0mm | 8 | \\\\n20 Apr. | Sunny | 34°/28° | 0mm | 8 | \\\\n21 Apr. | Patchy rain possible | 33°/27° | 0mm | 7 | \\\\n22 Apr. | Sunny | 33°/26° | 0mm | 8 | [...] 23 Apr. | Partly cloudy | 33°/26° | 0mm | 8 | \\\\n24 Apr. | Sunny | 33°/27° | 0mm | 8 | \\\\n25 Apr. | Sunny | 33°/27° | 0.1mm | 8 | \\\\n26 Apr. | Sunny | 32°/27° | 0mm | 8 | \\\\n27 Apr. | Sunny | 32°/27° | 0mm | 8 | \\\\n28 Apr. | Sunny | 32°/27° | 0.1mm | 8 | \\\\n29 Apr. | Partly cloudy | 33°/27° | 0mm | 8 | \\\\n30 Apr. | Sunny | 34°/27° | 0mm | 8 | \\\\nNext\\\\nChennai in April - FAQ\", \"score\": 0.9100432}]', name='tavily_search_results_json', id='dbdb4072-1b17-4d3a-a30d-06064d3d6703', tool_call_id='call_jjcr', artifact={'query': 'Chennai weather today', 'follow_up_questions': None, 'answer': None, 'images': [], 'results': [{'title': 'Weather in Chennai', 'url': 'https://www.weatherapi.com/', 'content': \"{'location': {'name': 'Chennai', 'region': 'Tamil Nadu', 'country': 'India', 'lat': 13.0833, 'lon': 80.2833, 'tz_id': 'Asia/Kolkata', 'localtime_epoch': 1746397112, 'localtime': '2025-05-05 03:48'}, 'current': {'last_updated_epoch': 1746396900, 'last_updated': '2025-05-05 03:45', 'temp_c': 26.1, 'temp_f': 79.0, 'is_day': 0, 'condition': {'text': 'Mist', 'icon': '//cdn.weatherapi.com/weather/64x64/night/143.png', 'code': 1030}, 'wind_mph': 7.2, 'wind_kph': 11.5, 'wind_degree': 226, 'wind_dir': 'SW', 'pressure_mb': 1005.0, 'pressure_in': 29.68, 'precip_mm': 0.0, 'precip_in': 0.0, 'humidity': 89, 'cloud': 75, 'feelslike_c': 27.7, 'feelslike_f': 81.8, 'windchill_c': 28.2, 'windchill_f': 82.8, 'heatindex_c': 30.8, 'heatindex_f': 87.4, 'dewpoint_c': 21.3, 'dewpoint_f': 70.4, 'vis_km': 4.0, 'vis_miles': 2.0, 'uv': 0.0, 'gust_mph': 10.2, 'gust_kph': 16.5}}\", 'score': 0.9808436, 'raw_content': None}, {'url': 'https://www.easeweather.com/asia/india/tamil-nadu/chennai/april', 'title': 'Weather in Chennai in April 2025 - Detailed Forecast', 'content': '1 Apr. | Patchy rain possible | 31°/25° | 0.1mm | 7 | \\n2 Apr. | Sunny | 32°/25° | 0mm | 8 | \\n3 Apr. | Partly cloudy | 32°/26° | 0.7mm | 8 | \\n4 Apr. | Partly cloudy | 32°/27° | 0.1mm | 8 | \\n5 Apr. | Sunny | 32°/25° | 0.2mm | 8 | \\n6 Apr. | Sunny | 33°/26° | 0mm | 8 | \\n7 Apr. | Sunny | 32°/26° | 0mm | 8 | \\n8 Apr. | Sunny | 32°/26° | 0.1mm | 8 | \\n9 Apr. | Partly cloudy | 31°/26° | 0mm | 8 | \\n10 Apr. | Cloudy | 32°/26° | 0mm | 8 | \\n11 Apr. | Sunny | 33°/27° | 0mm | 8 | [...] 12 Apr. | Partly cloudy | 33°/27° | 0.1mm | 8 | \\n13 Apr. | Patchy rain possible | 32°/27° | 0mm | 7 | \\n14 Apr. | Partly cloudy | 32°/27° | 0mm | 8 | \\n15 Apr. | Sunny | 31°/26° | 0mm | 8 | \\n16 Apr. | Sunny | 32°/26° | 0mm | 8 | \\n17 Apr. | Sunny | 33°/27° | 0mm | 8 | \\n18 Apr. | Sunny | 33°/28° | 0mm | 8 | \\n19 Apr. | Sunny | 33°/28° | 0mm | 8 | \\n20 Apr. | Sunny | 34°/28° | 0mm | 8 | \\n21 Apr. | Patchy rain possible | 33°/27° | 0mm | 7 | \\n22 Apr. | Sunny | 33°/26° | 0mm | 8 | [...] 23 Apr. | Partly cloudy | 33°/26° | 0mm | 8 | \\n24 Apr. | Sunny | 33°/27° | 0mm | 8 | \\n25 Apr. | Sunny | 33°/27° | 0.1mm | 8 | \\n26 Apr. | Sunny | 32°/27° | 0mm | 8 | \\n27 Apr. | Sunny | 32°/27° | 0mm | 8 | \\n28 Apr. | Sunny | 32°/27° | 0.1mm | 8 | \\n29 Apr. | Partly cloudy | 33°/27° | 0mm | 8 | \\n30 Apr. | Sunny | 34°/27° | 0mm | 8 | \\nNext\\nChennai in April - FAQ', 'score': 0.9100432, 'raw_content': None}], 'response_time': 3.53}),\n",
       "  AIMessage(content='The current weather in Chennai is misty with a temperature of 26.1°C. The forecast for the next few days is mostly sunny with highs in the mid-30s Celsius. There may be some patchy rain possible on certain days. It is recommended to check the weather forecast again closer to the date for the most up-to-date information.', additional_kwargs={}, response_metadata={'token_usage': {'completion_tokens': 72, 'prompt_tokens': 1505, 'total_tokens': 1577, 'completion_time': 0.096, 'prompt_time': 0.279017218, 'queue_time': 1.670974084, 'total_time': 0.375017218}, 'model_name': 'llama-3.1-8b-instant', 'system_fingerprint': 'fp_a4265e44d5', 'finish_reason': 'stop', 'logprobs': None}, id='run-ddaba4cb-f92a-4bf1-82d2-d25b96774066-0', usage_metadata={'input_tokens': 1505, 'output_tokens': 72, 'total_tokens': 1577})]}"
      ]
     },
     "execution_count": 23,
     "metadata": {},
     "output_type": "execute_result"
    }
   ],
   "source": [
    "response"
   ]
  },
  {
   "cell_type": "markdown",
   "id": "38fcb494-3e8c-46b4-8e8d-f97ab2184a6f",
   "metadata": {},
   "source": [
    "<h3>Shared Schema, direct embedding</h3>"
   ]
  },
  {
   "cell_type": "code",
   "execution_count": 24,
   "id": "a369319e-5efa-4261-a382-6fc8277de062",
   "metadata": {},
   "outputs": [],
   "source": [
    "class ParentState(TypedDict):\n",
    "    messages:Annotated[list, add_messages]"
   ]
  },
  {
   "cell_type": "code",
   "execution_count": 25,
   "id": "ea40d608-4585-4f22-891c-ffa3e34595f4",
   "metadata": {},
   "outputs": [],
   "source": [
    "# Create a parent graph\n",
    "parent_graph=StateGraph(state_schema=ParentState)"
   ]
  },
  {
   "cell_type": "code",
   "execution_count": 26,
   "id": "d486a258-3ac1-4326-8579-c377b1d8ded1",
   "metadata": {},
   "outputs": [
    {
     "data": {
      "text/plain": [
       "<langgraph.graph.state.StateGraph at 0x2567c2ca950>"
      ]
     },
     "execution_count": 26,
     "metadata": {},
     "output_type": "execute_result"
    }
   ],
   "source": [
    "# Add the subgraph as a node\n",
    "parent_graph.add_node(node=\"search_agent\",action=search_app)"
   ]
  },
  {
   "cell_type": "code",
   "execution_count": 27,
   "id": "c86c379f-5d20-4f07-87cc-9a81ac58e6fb",
   "metadata": {},
   "outputs": [
    {
     "data": {
      "text/plain": [
       "<langgraph.graph.state.StateGraph at 0x2567c2ca950>"
      ]
     },
     "execution_count": 27,
     "metadata": {},
     "output_type": "execute_result"
    }
   ],
   "source": [
    "# connect the flow\n",
    "parent_graph.add_edge(start_key=START,end_key=\"search_agent\")"
   ]
  },
  {
   "cell_type": "code",
   "execution_count": 28,
   "id": "2001f374-edc0-4f1b-ac14-f9cba9ae2cbe",
   "metadata": {},
   "outputs": [
    {
     "data": {
      "text/plain": [
       "<langgraph.graph.state.StateGraph at 0x2567c2ca950>"
      ]
     },
     "execution_count": 28,
     "metadata": {},
     "output_type": "execute_result"
    }
   ],
   "source": [
    "# connect the flow\n",
    "parent_graph.add_edge(start_key=\"search_agent\",end_key=END)"
   ]
  },
  {
   "cell_type": "code",
   "execution_count": 29,
   "id": "f5397da8-d689-4756-8caa-8bea306ac64b",
   "metadata": {},
   "outputs": [],
   "source": [
    "# Compile the parent graph\n",
    "parent_app=parent_graph.compile()"
   ]
  },
  {
   "cell_type": "code",
   "execution_count": 30,
   "id": "8e40196b-4aef-47a4-ad3e-100217a2f771",
   "metadata": {},
   "outputs": [
    {
     "data": {
      "image/png": "[encoded data removed]",
      "text/plain": [
       "<IPython.core.display.Image object>"
      ]
     },
     "metadata": {},
     "output_type": "display_data"
    }
   ],
   "source": [
    "display(Image(data=parent_app.get_graph().draw_mermaid_png(draw_method=MermaidDrawMethod.API)))"
   ]
  },
  {
   "cell_type": "code",
   "execution_count": 31,
   "id": "f8ec721f-1e11-4e48-9ec8-3a63fd560213",
   "metadata": {},
   "outputs": [
    {
     "name": "stdout",
     "output_type": "stream",
     "text": [
      "State prior to tool calling: {'messages': [HumanMessage(content='How is the weather in Kolkata?', additional_kwargs={}, response_metadata={}, id='f2a556a1-9b9f-482f-a553-1b1bc2c9a064'), AIMessage(content='', additional_kwargs={'tool_calls': [{'id': 'call_x2gp', 'function': {'arguments': '{\"query\": \"Kolkata weather\"}', 'name': 'tavily_search_results_json'}, 'type': 'function'}]}, response_metadata={'token_usage': {'completion_tokens': 20, 'prompt_tokens': 285, 'total_tokens': 305, 'completion_time': 0.026666667, 'prompt_time': 0.023387247, 'queue_time': 2.595663981, 'total_time': 0.050053914}, 'model_name': 'llama-3.1-8b-instant', 'system_fingerprint': 'fp_f7bd09b454', 'finish_reason': 'tool_calls', 'logprobs': None}, id='run-eb7d7422-612b-40d5-9716-0cfb9c9c2eb0-0', tool_calls=[{'name': 'tavily_search_results_json', 'args': {'query': 'Kolkata weather'}, 'id': 'call_x2gp', 'type': 'tool_call'}], usage_metadata={'input_tokens': 285, 'output_tokens': 20, 'total_tokens': 305})]}\n",
      "\n",
      "State prior to tool calling: {'messages': [HumanMessage(content='How is the weather in Kolkata?', additional_kwargs={}, response_metadata={}, id='f2a556a1-9b9f-482f-a553-1b1bc2c9a064'), AIMessage(content='', additional_kwargs={'tool_calls': [{'id': 'call_x2gp', 'function': {'arguments': '{\"query\": \"Kolkata weather\"}', 'name': 'tavily_search_results_json'}, 'type': 'function'}]}, response_metadata={'token_usage': {'completion_tokens': 20, 'prompt_tokens': 285, 'total_tokens': 305, 'completion_time': 0.026666667, 'prompt_time': 0.023387247, 'queue_time': 2.595663981, 'total_time': 0.050053914}, 'model_name': 'llama-3.1-8b-instant', 'system_fingerprint': 'fp_f7bd09b454', 'finish_reason': 'tool_calls', 'logprobs': None}, id='run-eb7d7422-612b-40d5-9716-0cfb9c9c2eb0-0', tool_calls=[{'name': 'tavily_search_results_json', 'args': {'query': 'Kolkata weather'}, 'id': 'call_x2gp', 'type': 'tool_call'}], usage_metadata={'input_tokens': 285, 'output_tokens': 20, 'total_tokens': 305}), ToolMessage(content='[{\"title\": \"Weather in Kolkata\", \"url\": \"https://www.weatherapi.com/\", \"content\": \"{\\'location\\': {\\'name\\': \\'Kolkata\\', \\'region\\': \\'West Bengal\\', \\'country\\': \\'India\\', \\'lat\\': 22.5697, \\'lon\\': 88.3697, \\'tz_id\\': \\'Asia/Kolkata\\', \\'localtime_epoch\\': 1746396258, \\'localtime\\': \\'2025-05-05 03:34\\'}, \\'current\\': {\\'last_updated_epoch\\': 1746396000, \\'last_updated\\': \\'2025-05-05 03:30\\', \\'temp_c\\': 26.3, \\'temp_f\\': 79.3, \\'is_day\\': 0, \\'condition\\': {\\'text\\': \\'Mist\\', \\'icon\\': \\'//cdn.weatherapi.com/weather/64x64/night/143.png\\', \\'code\\': 1030}, \\'wind_mph\\': 7.4, \\'wind_kph\\': 11.9, \\'wind_degree\\': 198, \\'wind_dir\\': \\'SSW\\', \\'pressure_mb\\': 1005.0, \\'pressure_in\\': 29.68, \\'precip_mm\\': 0.0, \\'precip_in\\': 0.0, \\'humidity\\': 89, \\'cloud\\': 25, \\'feelslike_c\\': 28.4, \\'feelslike_f\\': 83.1, \\'windchill_c\\': 27.1, \\'windchill_f\\': 80.7, \\'heatindex_c\\': 29.6, \\'heatindex_f\\': 85.3, \\'dewpoint_c\\': 21.8, \\'dewpoint_f\\': 71.2, \\'vis_km\\': 3.2, \\'vis_miles\\': 1.0, \\'uv\\': 0.0, \\'gust_mph\\': 11.6, \\'gust_kph\\': 18.6}}\", \"score\": 0.9484101}, {\"title\": \"Kolkata Weather Today (Sunday, May 04, 2025) - India Today\", \"url\": \"https://www.indiatoday.in/weather/kolkata-weather-forecast-today\", \"content\": \"As per the seven-day weather prediction, the temperature in Kolkata is likely to reach 36 degrees Celsius on Sunday, 39 degrees Celsius on Monday, 38 degrees\", \"score\": 0.94326943}]', name='tavily_search_results_json', id='ad470faa-d9ca-4278-b0e8-7ef7bbe962b8', tool_call_id='call_x2gp', artifact={'query': 'Kolkata weather', 'follow_up_questions': None, 'answer': None, 'images': [], 'results': [{'title': 'Weather in Kolkata', 'url': 'https://www.weatherapi.com/', 'content': \"{'location': {'name': 'Kolkata', 'region': 'West Bengal', 'country': 'India', 'lat': 22.5697, 'lon': 88.3697, 'tz_id': 'Asia/Kolkata', 'localtime_epoch': 1746396258, 'localtime': '2025-05-05 03:34'}, 'current': {'last_updated_epoch': 1746396000, 'last_updated': '2025-05-05 03:30', 'temp_c': 26.3, 'temp_f': 79.3, 'is_day': 0, 'condition': {'text': 'Mist', 'icon': '//cdn.weatherapi.com/weather/64x64/night/143.png', 'code': 1030}, 'wind_mph': 7.4, 'wind_kph': 11.9, 'wind_degree': 198, 'wind_dir': 'SSW', 'pressure_mb': 1005.0, 'pressure_in': 29.68, 'precip_mm': 0.0, 'precip_in': 0.0, 'humidity': 89, 'cloud': 25, 'feelslike_c': 28.4, 'feelslike_f': 83.1, 'windchill_c': 27.1, 'windchill_f': 80.7, 'heatindex_c': 29.6, 'heatindex_f': 85.3, 'dewpoint_c': 21.8, 'dewpoint_f': 71.2, 'vis_km': 3.2, 'vis_miles': 1.0, 'uv': 0.0, 'gust_mph': 11.6, 'gust_kph': 18.6}}\", 'score': 0.9484101, 'raw_content': None}, {'url': 'https://www.indiatoday.in/weather/kolkata-weather-forecast-today', 'title': 'Kolkata Weather Today (Sunday, May 04, 2025) - India Today', 'content': 'As per the seven-day weather prediction, the temperature in Kolkata is likely to reach 36 degrees Celsius on Sunday, 39 degrees Celsius on Monday, 38 degrees', 'score': 0.94326943, 'raw_content': None}], 'response_time': 1.89}), AIMessage(content='The current weather in Kolkata is misty with a temperature of 26.3°C. The seven-day weather prediction suggests that the temperature is likely to reach 36 degrees Celsius on Sunday and 39 degrees Celsius on Monday.', additional_kwargs={}, response_metadata={'token_usage': {'completion_tokens': 46, 'prompt_tokens': 831, 'total_tokens': 877, 'completion_time': 0.061333333, 'prompt_time': 0.084092734, 'queue_time': 1.536447619, 'total_time': 0.145426067}, 'model_name': 'llama-3.1-8b-instant', 'system_fingerprint': 'fp_f7bd09b454', 'finish_reason': 'stop', 'logprobs': None}, id='run-dc98ab7b-e9de-4b4c-bbf4-e9bb8a6df854-0', usage_metadata={'input_tokens': 831, 'output_tokens': 46, 'total_tokens': 877})]}\n",
      "\n"
     ]
    }
   ],
   "source": [
    "response=parent_app.invoke(input={\"messages\":\"How is the weather in Kolkata?\"})"
   ]
  },
  {
   "cell_type": "code",
   "execution_count": 32,
   "id": "00aa1ff9-17e1-49b7-9d49-3ecc44dcf027",
   "metadata": {},
   "outputs": [
    {
     "data": {
      "text/plain": [
       "{'messages': [HumanMessage(content='How is the weather in Kolkata?', additional_kwargs={}, response_metadata={}, id='f2a556a1-9b9f-482f-a553-1b1bc2c9a064'),\n",
       "  AIMessage(content='', additional_kwargs={'tool_calls': [{'id': 'call_x2gp', 'function': {'arguments': '{\"query\": \"Kolkata weather\"}', 'name': 'tavily_search_results_json'}, 'type': 'function'}]}, response_metadata={'token_usage': {'completion_tokens': 20, 'prompt_tokens': 285, 'total_tokens': 305, 'completion_time': 0.026666667, 'prompt_time': 0.023387247, 'queue_time': 2.595663981, 'total_time': 0.050053914}, 'model_name': 'llama-3.1-8b-instant', 'system_fingerprint': 'fp_f7bd09b454', 'finish_reason': 'tool_calls', 'logprobs': None}, id='run-eb7d7422-612b-40d5-9716-0cfb9c9c2eb0-0', tool_calls=[{'name': 'tavily_search_results_json', 'args': {'query': 'Kolkata weather'}, 'id': 'call_x2gp', 'type': 'tool_call'}], usage_metadata={'input_tokens': 285, 'output_tokens': 20, 'total_tokens': 305}),\n",
       "  ToolMessage(content='[{\"title\": \"Weather in Kolkata\", \"url\": \"https://www.weatherapi.com/\", \"content\": \"{\\'location\\': {\\'name\\': \\'Kolkata\\', \\'region\\': \\'West Bengal\\', \\'country\\': \\'India\\', \\'lat\\': 22.5697, \\'lon\\': 88.3697, \\'tz_id\\': \\'Asia/Kolkata\\', \\'localtime_epoch\\': 1746396258, \\'localtime\\': \\'2025-05-05 03:34\\'}, \\'current\\': {\\'last_updated_epoch\\': 1746396000, \\'last_updated\\': \\'2025-05-05 03:30\\', \\'temp_c\\': 26.3, \\'temp_f\\': 79.3, \\'is_day\\': 0, \\'condition\\': {\\'text\\': \\'Mist\\', \\'icon\\': \\'//cdn.weatherapi.com/weather/64x64/night/143.png\\', \\'code\\': 1030}, \\'wind_mph\\': 7.4, \\'wind_kph\\': 11.9, \\'wind_degree\\': 198, \\'wind_dir\\': \\'SSW\\', \\'pressure_mb\\': 1005.0, \\'pressure_in\\': 29.68, \\'precip_mm\\': 0.0, \\'precip_in\\': 0.0, \\'humidity\\': 89, \\'cloud\\': 25, \\'feelslike_c\\': 28.4, \\'feelslike_f\\': 83.1, \\'windchill_c\\': 27.1, \\'windchill_f\\': 80.7, \\'heatindex_c\\': 29.6, \\'heatindex_f\\': 85.3, \\'dewpoint_c\\': 21.8, \\'dewpoint_f\\': 71.2, \\'vis_km\\': 3.2, \\'vis_miles\\': 1.0, \\'uv\\': 0.0, \\'gust_mph\\': 11.6, \\'gust_kph\\': 18.6}}\", \"score\": 0.9484101}, {\"title\": \"Kolkata Weather Today (Sunday, May 04, 2025) - India Today\", \"url\": \"https://www.indiatoday.in/weather/kolkata-weather-forecast-today\", \"content\": \"As per the seven-day weather prediction, the temperature in Kolkata is likely to reach 36 degrees Celsius on Sunday, 39 degrees Celsius on Monday, 38 degrees\", \"score\": 0.94326943}]', name='tavily_search_results_json', id='ad470faa-d9ca-4278-b0e8-7ef7bbe962b8', tool_call_id='call_x2gp', artifact={'query': 'Kolkata weather', 'follow_up_questions': None, 'answer': None, 'images': [], 'results': [{'title': 'Weather in Kolkata', 'url': 'https://www.weatherapi.com/', 'content': \"{'location': {'name': 'Kolkata', 'region': 'West Bengal', 'country': 'India', 'lat': 22.5697, 'lon': 88.3697, 'tz_id': 'Asia/Kolkata', 'localtime_epoch': 1746396258, 'localtime': '2025-05-05 03:34'}, 'current': {'last_updated_epoch': 1746396000, 'last_updated': '2025-05-05 03:30', 'temp_c': 26.3, 'temp_f': 79.3, 'is_day': 0, 'condition': {'text': 'Mist', 'icon': '//cdn.weatherapi.com/weather/64x64/night/143.png', 'code': 1030}, 'wind_mph': 7.4, 'wind_kph': 11.9, 'wind_degree': 198, 'wind_dir': 'SSW', 'pressure_mb': 1005.0, 'pressure_in': 29.68, 'precip_mm': 0.0, 'precip_in': 0.0, 'humidity': 89, 'cloud': 25, 'feelslike_c': 28.4, 'feelslike_f': 83.1, 'windchill_c': 27.1, 'windchill_f': 80.7, 'heatindex_c': 29.6, 'heatindex_f': 85.3, 'dewpoint_c': 21.8, 'dewpoint_f': 71.2, 'vis_km': 3.2, 'vis_miles': 1.0, 'uv': 0.0, 'gust_mph': 11.6, 'gust_kph': 18.6}}\", 'score': 0.9484101, 'raw_content': None}, {'url': 'https://www.indiatoday.in/weather/kolkata-weather-forecast-today', 'title': 'Kolkata Weather Today (Sunday, May 04, 2025) - India Today', 'content': 'As per the seven-day weather prediction, the temperature in Kolkata is likely to reach 36 degrees Celsius on Sunday, 39 degrees Celsius on Monday, 38 degrees', 'score': 0.94326943, 'raw_content': None}], 'response_time': 1.89}),\n",
       "  AIMessage(content='The current weather in Kolkata is misty with a temperature of 26.3°C. The seven-day weather prediction suggests that the temperature is likely to reach 36 degrees Celsius on Sunday and 39 degrees Celsius on Monday.', additional_kwargs={}, response_metadata={'token_usage': {'completion_tokens': 46, 'prompt_tokens': 831, 'total_tokens': 877, 'completion_time': 0.061333333, 'prompt_time': 0.084092734, 'queue_time': 1.536447619, 'total_time': 0.145426067}, 'model_name': 'llama-3.1-8b-instant', 'system_fingerprint': 'fp_f7bd09b454', 'finish_reason': 'stop', 'logprobs': None}, id='run-dc98ab7b-e9de-4b4c-bbf4-e9bb8a6df854-0', usage_metadata={'input_tokens': 831, 'output_tokens': 46, 'total_tokens': 877})]}"
      ]
     },
     "execution_count": 32,
     "metadata": {},
     "output_type": "execute_result"
    }
   ],
   "source": [
    "response"
   ]
  },
  {
   "cell_type": "markdown",
   "id": "968a75e2-6ee7-4548-a311-51551bb5fb7e",
   "metadata": {},
   "source": [
    "<h3>Different Schema (Invoke with Transformation)</h3>"
   ]
  },
  {
   "cell_type": "code",
   "execution_count": 33,
   "id": "44a0f5c9-cee3-4dee-bcbe-2d085543f04f",
   "metadata": {},
   "outputs": [],
   "source": [
    "# define parent graph with a different scheme\n",
    "class QueryState(TypedDict):\n",
    "    query: str\n",
    "    response: str"
   ]
  },
  {
   "cell_type": "code",
   "execution_count": 42,
   "id": "dbd66bce-64ec-4550-8626-40503fb0ad25",
   "metadata": {},
   "outputs": [],
   "source": [
    "# Function to invoke a Subgraph\n",
    "def search_agent(state: QueryState) -> Dict:\n",
    "    # Transform from parent schema to Subgraph schema\n",
    "    subgraph_input={\"messages\":[state['query']]}\n",
    "    # Invoke the subgraph\n",
    "    subgraph_result=search_app.invoke(input=subgraph_input)\n",
    "\n",
    "    state['response']=subgraph_result[\"messages\"][-1].content\n",
    "    return state"
   ]
  },
  {
   "cell_type": "code",
   "execution_count": 43,
   "id": "8e7627ab-171b-4498-b52f-978295e84c21",
   "metadata": {},
   "outputs": [],
   "source": [
    "# Create a parent graph\n",
    "parent_graph=StateGraph(state_schema=QueryState)"
   ]
  },
  {
   "cell_type": "code",
   "execution_count": 44,
   "id": "9c1fb155-b1b9-4cb4-90c1-8673135c88a3",
   "metadata": {},
   "outputs": [
    {
     "data": {
      "text/plain": [
       "<langgraph.graph.state.StateGraph at 0x2567c2ca190>"
      ]
     },
     "execution_count": 44,
     "metadata": {},
     "output_type": "execute_result"
    }
   ],
   "source": [
    "# Add transformation node that invokes subgraph\n",
    "parent_graph.add_node(node=\"search_agent\",action=search_agent)"
   ]
  },
  {
   "cell_type": "code",
   "execution_count": 45,
   "id": "c8aef7db-6d73-4c76-ad52-c45304e24cf7",
   "metadata": {},
   "outputs": [
    {
     "data": {
      "text/plain": [
       "<langgraph.graph.state.StateGraph at 0x2567c2ca190>"
      ]
     },
     "execution_count": 45,
     "metadata": {},
     "output_type": "execute_result"
    }
   ],
   "source": [
    "# connect the flow\n",
    "parent_graph.add_edge(start_key=START,end_key=\"search_agent\")"
   ]
  },
  {
   "cell_type": "code",
   "execution_count": 46,
   "id": "dd39fdab-5dd3-4b7c-8ee1-db23b297c1dc",
   "metadata": {},
   "outputs": [
    {
     "data": {
      "text/plain": [
       "<langgraph.graph.state.StateGraph at 0x2567c2ca190>"
      ]
     },
     "execution_count": 46,
     "metadata": {},
     "output_type": "execute_result"
    }
   ],
   "source": [
    "# connect the flow\n",
    "parent_graph.add_edge(start_key=\"search_agent\",end_key=END)"
   ]
  },
  {
   "cell_type": "code",
   "execution_count": 47,
   "id": "a4e9e511-8079-4176-a1fb-d63816e444f5",
   "metadata": {},
   "outputs": [],
   "source": [
    "# Compile the parent graph\n",
    "parent_app=parent_graph.compile()"
   ]
  },
  {
   "cell_type": "code",
   "execution_count": 48,
   "id": "36521f3d-0b30-464e-931f-42a309cd7ae4",
   "metadata": {},
   "outputs": [
    {
     "name": "stdout",
     "output_type": "stream",
     "text": [
      "State prior to tool calling: {'messages': [HumanMessage(content='How is the weather in Kolkata?', additional_kwargs={}, response_metadata={}, id='ab3833e3-81d4-4cb7-ae60-9de704846f9b'), AIMessage(content='', additional_kwargs={'tool_calls': [{'id': 'call_0yrp', 'function': {'arguments': '{\"query\": \"Current weather in Kolkata\"}', 'name': 'tavily_search_results_json'}, 'type': 'function'}]}, response_metadata={'token_usage': {'completion_tokens': 21, 'prompt_tokens': 569, 'total_tokens': 590, 'completion_time': 0.028, 'prompt_time': 0.021531169, 'queue_time': -0.047813449, 'total_time': 0.049531169}, 'model_name': 'llama-3.1-8b-instant', 'system_fingerprint': 'fp_4121d69a6b', 'finish_reason': 'tool_calls', 'logprobs': None}, id='run-ebdddb40-8bc1-4880-9de1-026cfce66c1a-0', tool_calls=[{'name': 'tavily_search_results_json', 'args': {'query': 'Current weather in Kolkata'}, 'id': 'call_0yrp', 'type': 'tool_call'}], usage_metadata={'input_tokens': 569, 'output_tokens': 21, 'total_tokens': 590})]}\n",
      "\n",
      "State prior to tool calling: {'messages': [HumanMessage(content='How is the weather in Kolkata?', additional_kwargs={}, response_metadata={}, id='ab3833e3-81d4-4cb7-ae60-9de704846f9b'), AIMessage(content='', additional_kwargs={'tool_calls': [{'id': 'call_0yrp', 'function': {'arguments': '{\"query\": \"Current weather in Kolkata\"}', 'name': 'tavily_search_results_json'}, 'type': 'function'}]}, response_metadata={'token_usage': {'completion_tokens': 21, 'prompt_tokens': 569, 'total_tokens': 590, 'completion_time': 0.028, 'prompt_time': 0.021531169, 'queue_time': -0.047813449, 'total_time': 0.049531169}, 'model_name': 'llama-3.1-8b-instant', 'system_fingerprint': 'fp_4121d69a6b', 'finish_reason': 'tool_calls', 'logprobs': None}, id='run-ebdddb40-8bc1-4880-9de1-026cfce66c1a-0', tool_calls=[{'name': 'tavily_search_results_json', 'args': {'query': 'Current weather in Kolkata'}, 'id': 'call_0yrp', 'type': 'tool_call'}], usage_metadata={'input_tokens': 569, 'output_tokens': 21, 'total_tokens': 590}), ToolMessage(content='[{\"title\": \"Weather in Kolkata\", \"url\": \"https://www.weatherapi.com/\", \"content\": \"{\\'location\\': {\\'name\\': \\'Kolkata\\', \\'region\\': \\'West Bengal\\', \\'country\\': \\'India\\', \\'lat\\': 22.5697, \\'lon\\': 88.3697, \\'tz_id\\': \\'Asia/Kolkata\\', \\'localtime_epoch\\': 1746397280, \\'localtime\\': \\'2025-05-05 03:51\\'}, \\'current\\': {\\'last_updated_epoch\\': 1746396900, \\'last_updated\\': \\'2025-05-05 03:45\\', \\'temp_c\\': 26.3, \\'temp_f\\': 79.3, \\'is_day\\': 0, \\'condition\\': {\\'text\\': \\'Mist\\', \\'icon\\': \\'//cdn.weatherapi.com/weather/64x64/night/143.png\\', \\'code\\': 1030}, \\'wind_mph\\': 7.4, \\'wind_kph\\': 11.9, \\'wind_degree\\': 198, \\'wind_dir\\': \\'SSW\\', \\'pressure_mb\\': 1005.0, \\'pressure_in\\': 29.68, \\'precip_mm\\': 0.0, \\'precip_in\\': 0.0, \\'humidity\\': 89, \\'cloud\\': 25, \\'feelslike_c\\': 28.4, \\'feelslike_f\\': 83.1, \\'windchill_c\\': 27.1, \\'windchill_f\\': 80.7, \\'heatindex_c\\': 29.6, \\'heatindex_f\\': 85.3, \\'dewpoint_c\\': 21.8, \\'dewpoint_f\\': 71.2, \\'vis_km\\': 3.2, \\'vis_miles\\': 1.0, \\'uv\\': 0.0, \\'gust_mph\\': 11.6, \\'gust_kph\\': 18.6}}\", \"score\": 0.9664765}, {\"title\": \"2025 Weather History in Kolkata West Bengal, India - Weather Spark\", \"url\": \"https://weatherspark.com/h/y/111532/2025/Historical-Weather-during-2025-in-Kolkata-West-Bengal-India\", \"content\": \"Latest Report — 5:30 PM. Sun, May 4, 2025 19 min ago UTC 12:00. Call Sign VECC. Temp. 88°F. hot. Dew Pt. 72°F oppressive. Rel. Humidity, 59%. Precipitation. No\", \"score\": 0.9202254}]', name='tavily_search_results_json', id='7ec1cd74-ba29-45a9-a5ee-a4ab3df7d0a1', tool_call_id='call_0yrp', artifact={'query': 'Current weather in Kolkata', 'follow_up_questions': None, 'answer': None, 'images': [], 'results': [{'title': 'Weather in Kolkata', 'url': 'https://www.weatherapi.com/', 'content': \"{'location': {'name': 'Kolkata', 'region': 'West Bengal', 'country': 'India', 'lat': 22.5697, 'lon': 88.3697, 'tz_id': 'Asia/Kolkata', 'localtime_epoch': 1746397280, 'localtime': '2025-05-05 03:51'}, 'current': {'last_updated_epoch': 1746396900, 'last_updated': '2025-05-05 03:45', 'temp_c': 26.3, 'temp_f': 79.3, 'is_day': 0, 'condition': {'text': 'Mist', 'icon': '//cdn.weatherapi.com/weather/64x64/night/143.png', 'code': 1030}, 'wind_mph': 7.4, 'wind_kph': 11.9, 'wind_degree': 198, 'wind_dir': 'SSW', 'pressure_mb': 1005.0, 'pressure_in': 29.68, 'precip_mm': 0.0, 'precip_in': 0.0, 'humidity': 89, 'cloud': 25, 'feelslike_c': 28.4, 'feelslike_f': 83.1, 'windchill_c': 27.1, 'windchill_f': 80.7, 'heatindex_c': 29.6, 'heatindex_f': 85.3, 'dewpoint_c': 21.8, 'dewpoint_f': 71.2, 'vis_km': 3.2, 'vis_miles': 1.0, 'uv': 0.0, 'gust_mph': 11.6, 'gust_kph': 18.6}}\", 'score': 0.9664765, 'raw_content': None}, {'url': 'https://weatherspark.com/h/y/111532/2025/Historical-Weather-during-2025-in-Kolkata-West-Bengal-India', 'title': '2025 Weather History in Kolkata West Bengal, India - Weather Spark', 'content': 'Latest Report — 5:30 PM. Sun, May 4, 2025 19 min ago UTC 12:00. Call Sign VECC. Temp. 88°F. hot. Dew Pt. 72°F oppressive. Rel. Humidity, 59%. Precipitation. No', 'score': 0.9202254, 'raw_content': None}], 'response_time': 3.56}), AIMessage(content='Based on the search results, the current weather in Kolkata is misty with a temperature of 26.3 degrees Celsius and a humidity of 89%.', additional_kwargs={}, response_metadata={'token_usage': {'completion_tokens': 32, 'prompt_tokens': 872, 'total_tokens': 904, 'completion_time': 0.042666667, 'prompt_time': 0.033476083, 'queue_time': 0.264184067, 'total_time': 0.07614275}, 'model_name': 'llama-3.1-8b-instant', 'system_fingerprint': 'fp_694e914e6e', 'finish_reason': 'stop', 'logprobs': None}, id='run-d9c5e7ea-8a84-4c8e-9ce1-d7c587af104d-0', usage_metadata={'input_tokens': 872, 'output_tokens': 32, 'total_tokens': 904})]}\n",
      "\n"
     ]
    }
   ],
   "source": [
    "response=parent_app.invoke(input={\"query\":\"How is the weather in Kolkata?\",\"response\":\"\"})"
   ]
  },
  {
   "cell_type": "code",
   "execution_count": 49,
   "id": "9654f823-0c5f-43a0-832c-cedb60923499",
   "metadata": {},
   "outputs": [
    {
     "data": {
      "text/plain": [
       "{'query': 'How is the weather in Kolkata?',\n",
       " 'response': 'Based on the search results, the current weather in Kolkata is misty with a temperature of 26.3 degrees Celsius and a humidity of 89%.'}"
      ]
     },
     "execution_count": 49,
     "metadata": {},
     "output_type": "execute_result"
    }
   ],
   "source": [
    "response"
   ]
  },
  {
   "cell_type": "code",
   "execution_count": null,
   "id": "1979c25e-5d18-4a0a-a80d-f72777b4c384",
   "metadata": {},
   "outputs": [],
   "source": []
  },
  {
   "cell_type": "code",
   "execution_count": null,
   "id": "4accdd80-4147-479c-a74a-baafe6808516",
   "metadata": {},
   "outputs": [],
   "source": []
  }
 ],
 "metadata": {
  "kernelspec": {
   "display_name": "Python 3 (ipykernel)",
   "language": "python",
   "name": "python3"
  },
  "language_info": {
   "codemirror_mode": {
    "name": "ipython",
    "version": 3
   },
   "file_extension": ".py",
   "mimetype": "text/x-python",
   "name": "python",
   "nbconvert_exporter": "python",
   "pygments_lexer": "ipython3",
   "version": "3.11.11"
  }
 },
 "nbformat": 4,
 "nbformat_minor": 5
}
