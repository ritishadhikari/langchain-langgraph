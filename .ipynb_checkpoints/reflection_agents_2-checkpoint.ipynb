{
 "cells": [
  {
   "cell_type": "code",
   "execution_count": 25,
   "id": "0bcff718-bc57-4cd2-95c4-9fdad46175c8",
   "metadata": {},
   "outputs": [],
   "source": [
    "from langchain_core.prompts import ChatPromptTemplate, MessagesPlaceholder\n",
    "from langchain_google_genai import ChatGoogleGenerativeAI\n",
    "from langchain_openai import ChatOpenAI\n",
    "from dotenv import load_dotenv\n",
    "from typing import List, Sequence\n",
    "from langchain_core.messages import BaseMessage, HumanMessage\n",
    "from langgraph.graph import END, MessageGraph"
   ]
  },
  {
   "cell_type": "code",
   "execution_count": 26,
   "id": "0c176a10-c3c1-46ce-b407-8a210662e2ca",
   "metadata": {},
   "outputs": [
    {
     "data": {
      "text/plain": [
       "True"
      ]
     },
     "execution_count": 26,
     "metadata": {},
     "output_type": "execute_result"
    }
   ],
   "source": [
    "load_dotenv()"
   ]
  },
  {
   "cell_type": "code",
   "execution_count": 27,
   "id": "cdbd2567-9d39-40ed-b468-d845d77059f8",
   "metadata": {},
   "outputs": [],
   "source": [
    "generationPrompt=ChatPromptTemplate.from_messages(\n",
    "    messages=[\n",
    "                (\n",
    "                    \"system\",\n",
    "                    \"You are a twitter techie influencer assistant tasked with writing excellent twitter posts\"\n",
    "                    \"Generate the best twitter post accessible for the user's request\"\n",
    "                    \"If the user provides critique, respond with a revised version of your attempts\"\n",
    "                ),\n",
    "                MessagesPlaceholder(variable_name=\"messages\")\n",
    "            ]\n",
    ")"
   ]
  },
  {
   "cell_type": "code",
   "execution_count": 28,
   "id": "344295ec-a289-43f5-893f-efe7048ef4e5",
   "metadata": {},
   "outputs": [],
   "source": [
    "reflectionPrompt=ChatPromptTemplate.from_messages(\n",
    "    messages=[\n",
    "                (\n",
    "                    \"system\",\n",
    "                    \"You are a viral twitter influencer grading a tweet. Generate critique and recommendations for the user's tweet\"\n",
    "                    \"Always provide detailed recommendations, including requests for length, virality, style, etc.\"\n",
    "                ),\n",
    "                MessagesPlaceholder(variable_name=\"messages\"),\n",
    "             ]\n",
    "            )"
   ]
  },
  {
   "cell_type": "code",
   "execution_count": 29,
   "id": "af532a34-c761-4789-be5d-8fa987300a3f",
   "metadata": {},
   "outputs": [],
   "source": [
    "llmGemini=ChatGoogleGenerativeAI(model=\"gemini-2.0-flash-001\")\n",
    "llmOpenAI=ChatOpenAI(model=\"gpt-3.5-turbo\",temperature=0.5)"
   ]
  },
  {
   "cell_type": "code",
   "execution_count": 30,
   "id": "9b7f2f3e-d3af-4a52-9cd1-6bded11baa7b",
   "metadata": {},
   "outputs": [],
   "source": [
    "generationChain=generationPrompt|llmOpenAI"
   ]
  },
  {
   "cell_type": "code",
   "execution_count": 31,
   "id": "c2ec7ff4-ba68-4954-b9a5-832d169c1503",
   "metadata": {},
   "outputs": [],
   "source": [
    "reflectionChain=reflectionPrompt|llmOpenAI"
   ]
  },
  {
   "cell_type": "code",
   "execution_count": 32,
   "id": "2fdb8e3e-c3a0-4484-ba00-245d6f4055e4",
   "metadata": {},
   "outputs": [],
   "source": [
    "graph=MessageGraph()"
   ]
  },
  {
   "cell_type": "code",
   "execution_count": 33,
   "id": "f760843b-1147-4cad-9a1d-e72bebec69b2",
   "metadata": {},
   "outputs": [],
   "source": [
    "REFLECT=\"reflect\""
   ]
  },
  {
   "cell_type": "code",
   "execution_count": 34,
   "id": "8da357dc-00f3-4a76-8da2-f31309ebf25b",
   "metadata": {},
   "outputs": [],
   "source": [
    "GENERATE=\"generate\""
   ]
  },
  {
   "cell_type": "code",
   "execution_count": 35,
   "id": "01142806-de6f-4688-9372-696c8364237c",
   "metadata": {},
   "outputs": [],
   "source": [
    "def generateNode(state):\n",
    "    return generationChain.invoke(input={\"messages\":state})"
   ]
  },
  {
   "cell_type": "code",
   "execution_count": 36,
   "id": "b296580c-f819-4bf0-b53b-7119f611ed5b",
   "metadata": {},
   "outputs": [],
   "source": [
    "def reflectNode(state):\n",
    "    response=reflectionChain.invoke(input={\"messages\":state})\n",
    "    # let the agent get tricked into believing that the message came from human\n",
    "    return [HumanMessage(content=response.content)]\n",
    "   "
   ]
  },
  {
   "cell_type": "code",
   "execution_count": 37,
   "id": "dd2051b1-ae20-42c9-93b1-b66aa86b75be",
   "metadata": {},
   "outputs": [
    {
     "data": {
      "text/plain": [
       "<langgraph.graph.message.MessageGraph at 0x1b8c9adac50>"
      ]
     },
     "execution_count": 37,
     "metadata": {},
     "output_type": "execute_result"
    }
   ],
   "source": [
    "graph.add_node(node=GENERATE,action=generateNode)"
   ]
  },
  {
   "cell_type": "code",
   "execution_count": 38,
   "id": "982f59bb-2406-4346-8895-2f8cade8d101",
   "metadata": {},
   "outputs": [
    {
     "data": {
      "text/plain": [
       "<langgraph.graph.message.MessageGraph at 0x1b8c9adac50>"
      ]
     },
     "execution_count": 38,
     "metadata": {},
     "output_type": "execute_result"
    }
   ],
   "source": [
    "graph.add_node(node=REFLECT,action=reflectNode)"
   ]
  },
  {
   "cell_type": "code",
   "execution_count": 39,
   "id": "b34bf22e-4b40-43c5-a0b4-7316f8030a38",
   "metadata": {},
   "outputs": [
    {
     "data": {
      "text/plain": [
       "<langgraph.graph.message.MessageGraph at 0x1b8c9adac50>"
      ]
     },
     "execution_count": 39,
     "metadata": {},
     "output_type": "execute_result"
    }
   ],
   "source": [
    "graph.set_entry_point(key=GENERATE)"
   ]
  },
  {
   "cell_type": "code",
   "execution_count": 40,
   "id": "8a1665ce-6d8e-44bf-9470-1c7cb474de8e",
   "metadata": {},
   "outputs": [],
   "source": [
    "def should_continue(state):\n",
    "    if len(state) >4:\n",
    "        return END\n",
    "    else:\n",
    "        return REFLECT"
   ]
  },
  {
   "cell_type": "code",
   "execution_count": 41,
   "id": "71dc103c-5e74-48e5-9648-2ba9e576f777",
   "metadata": {},
   "outputs": [
    {
     "data": {
      "text/plain": [
       "<langgraph.graph.message.MessageGraph at 0x1b8c9adac50>"
      ]
     },
     "execution_count": 41,
     "metadata": {},
     "output_type": "execute_result"
    }
   ],
   "source": [
    "# the should continue is path is a conditional path which is established through this function\n",
    "graph.add_conditional_edges(\n",
    "    source=GENERATE,\n",
    "    path=should_continue,\n",
    "    ) "
   ]
  },
  {
   "cell_type": "code",
   "execution_count": 42,
   "id": "908b0c86-2238-4671-9256-acc540ded662",
   "metadata": {},
   "outputs": [
    {
     "data": {
      "text/plain": [
       "<langgraph.graph.message.MessageGraph at 0x1b8c9adac50>"
      ]
     },
     "execution_count": 42,
     "metadata": {},
     "output_type": "execute_result"
    }
   ],
   "source": [
    "graph.add_edge(start_key=REFLECT,end_key=GENERATE)"
   ]
  },
  {
   "cell_type": "code",
   "execution_count": 43,
   "id": "2c5045c4-b4f5-413e-887e-10548e646373",
   "metadata": {},
   "outputs": [],
   "source": [
    "app=graph.compile()"
   ]
  },
  {
   "cell_type": "code",
   "execution_count": 44,
   "id": "3a779840-a4d1-478d-a5ba-d4ee8d23b18d",
   "metadata": {},
   "outputs": [
    {
     "name": "stdout",
     "output_type": "stream",
     "text": [
      "---\n",
      "config:\n",
      "  flowchart:\n",
      "    curve: linear\n",
      "---\n",
      "graph TD;\n",
      "\t__start__(<p>__start__</p>)\n",
      "\tgenerate(generate)\n",
      "\treflect(reflect)\n",
      "\t__end__(<p>__end__</p>)\n",
      "\t__start__ --> generate;\n",
      "\tgenerate --> __end__;\n",
      "\tclassDef default fill:#f2f0ff,line-height:1.2\n",
      "\tclassDef first fill-opacity:0\n",
      "\tclassDef last fill:#bfb6fc\n",
      "\n"
     ]
    }
   ],
   "source": [
    "print(app.get_graph().draw_mermaid())"
   ]
  },
  {
   "cell_type": "code",
   "execution_count": 45,
   "id": "c66b11ba-1617-496c-907f-732aaded8271",
   "metadata": {},
   "outputs": [
    {
     "name": "stdout",
     "output_type": "stream",
     "text": [
      "+-----------+  \n",
      "| __start__ |  \n",
      "+-----------+  \n",
      "      *        \n",
      "      *        \n",
      "      *        \n",
      "+----------+   \n",
      "| generate |   \n",
      "+----------+   \n",
      "      *        \n",
      "      *        \n",
      "      *        \n",
      " +---------+   \n",
      " | __end__ |   \n",
      " +---------+   \n"
     ]
    }
   ],
   "source": [
    "app.get_graph().print_ascii()"
   ]
  },
  {
   "cell_type": "code",
   "execution_count": 46,
   "id": "04d64b2b-b8b6-43bb-acd1-dfd48ca6b7a6",
   "metadata": {},
   "outputs": [],
   "source": [
    "prompt=\"AI agents taking over content creation\""
   ]
  },
  {
   "cell_type": "code",
   "execution_count": 47,
   "id": "e3152490-1bf9-421f-bb3d-ad616bbd83aa",
   "metadata": {},
   "outputs": [],
   "source": [
    "response=app.invoke(input=HumanMessage(content=prompt))"
   ]
  },
  {
   "cell_type": "code",
   "execution_count": 48,
   "id": "015b7e22-5fbd-4690-a309-df70657af783",
   "metadata": {},
   "outputs": [
    {
     "data": {
      "text/plain": [
       "[HumanMessage(content='AI agents taking over content creation', additional_kwargs={}, response_metadata={}, id='bc4abdca-fa2c-4001-925c-8defd429f7d0'),\n",
       " AIMessage(content='\"Are AI agents taking over content creation? 🤖📝 From writing articles to designing graphics, it\\'s fascinating to see the impact of artificial intelligence in the creative world. What are your thoughts on this tech trend? #AI #ContentCreation\"', additional_kwargs={'refusal': None}, response_metadata={'token_usage': {'completion_tokens': 53, 'prompt_tokens': 57, 'total_tokens': 110, 'completion_tokens_details': {'accepted_prediction_tokens': 0, 'audio_tokens': 0, 'reasoning_tokens': 0, 'rejected_prediction_tokens': 0}, 'prompt_tokens_details': {'audio_tokens': 0, 'cached_tokens': 0}}, 'model_name': 'gpt-3.5-turbo-0125', 'system_fingerprint': None, 'id': 'chatcmpl-BPvtoV0EwNTYTVddT0kXJmELbFsHP', 'finish_reason': 'stop', 'logprobs': None}, id='run-f3d474a1-ca33-4034-921f-51f15f2cfbaa-0', usage_metadata={'input_tokens': 57, 'output_tokens': 53, 'total_tokens': 110, 'input_token_details': {'audio': 0, 'cache_read': 0}, 'output_token_details': {'audio': 0, 'reasoning': 0}}),\n",
       " HumanMessage(content='This tweet is engaging and thought-provoking, sparking curiosity and inviting discussion on a relevant topic. However, to enhance its impact and potential virality, consider the following suggestions:\\n\\n1. **Add a Call to Action (CTA):** Encourage your audience to share their opinions or experiences related to AI in content creation by including a specific CTA like \"Share your thoughts below!\" or \"Tag a friend who loves AI tech!\"\\n\\n2. **Visual Element:** Incorporate an eye-catching image or GIF related to AI or content creation to make your tweet more visually appealing and increase engagement.\\n\\n3. **Shorten for Conciseness:** While the tweet is concise, consider trimming it further for brevity without losing its essence. Aim for a length that is easy to read and share quickly.\\n\\n4. **Hashtags:** Utilize relevant hashtags such as #TechTrends or #DigitalInnovation to reach a broader audience interested in AI and content creation.\\n\\n5. **Engage with Responses:** Once people start responding to your tweet, make sure to engage with their comments by liking, replying, or retweeting to foster a more interactive conversation.\\n\\nBy incorporating these recommendations, you can elevate the tweet\\'s engagement potential and encourage more interactions from your followers. Keep experimenting with different styles and formats to find what resonates best with your audience.', additional_kwargs={}, response_metadata={}, id='53a130ba-6bc6-43ab-84af-b4bc2cb4b708'),\n",
       " AIMessage(content='\"Are AI agents taking over content creation? 🤖📝 Share your thoughts below! Exciting to see the impact of AI in the creative world. What do you think? #AI #ContentCreation #TechTrends\"', additional_kwargs={'refusal': None}, response_metadata={'token_usage': {'completion_tokens': 49, 'prompt_tokens': 389, 'total_tokens': 438, 'completion_tokens_details': {'accepted_prediction_tokens': 0, 'audio_tokens': 0, 'reasoning_tokens': 0, 'rejected_prediction_tokens': 0}, 'prompt_tokens_details': {'audio_tokens': 0, 'cached_tokens': 0}}, 'model_name': 'gpt-3.5-turbo-0125', 'system_fingerprint': None, 'id': 'chatcmpl-BPvttOWrdpfYEjDhXN4sAgLlCfnBt', 'finish_reason': 'stop', 'logprobs': None}, id='run-77377c14-a33e-49ce-9eda-0d93265d3d9c-0', usage_metadata={'input_tokens': 389, 'output_tokens': 49, 'total_tokens': 438, 'input_token_details': {'audio': 0, 'cache_read': 0}, 'output_token_details': {'audio': 0, 'reasoning': 0}}),\n",
       " HumanMessage(content='This revised tweet includes a call to action to prompt engagement from your audience, a shortened and concise format, relevant hashtags for broader reach, and a visually engaging element to make the tweet more appealing. Remember to monitor responses and engage with your audience to foster a lively discussion.', additional_kwargs={}, response_metadata={}, id='e33cfc34-81dd-47c8-a1fb-3f733974bcdd'),\n",
       " AIMessage(content='\"Are AI agents taking over content creation? 🤖📝 Share your thoughts below! Exciting to see the impact of AI in the creative world. What do you think? #AI #ContentCreation #TechTrends\"', additional_kwargs={'refusal': None}, response_metadata={'token_usage': {'completion_tokens': 49, 'prompt_tokens': 499, 'total_tokens': 548, 'completion_tokens_details': {'accepted_prediction_tokens': 0, 'audio_tokens': 0, 'reasoning_tokens': 0, 'rejected_prediction_tokens': 0}, 'prompt_tokens_details': {'audio_tokens': 0, 'cached_tokens': 0}}, 'model_name': 'gpt-3.5-turbo-0125', 'system_fingerprint': None, 'id': 'chatcmpl-BPvtv7HCumpM2aZnR1rqOKVuCOVk9', 'finish_reason': 'stop', 'logprobs': None}, id='run-923451c1-590a-4d8b-bf58-26f47e3cddd0-0', usage_metadata={'input_tokens': 499, 'output_tokens': 49, 'total_tokens': 548, 'input_token_details': {'audio': 0, 'cache_read': 0}, 'output_token_details': {'audio': 0, 'reasoning': 0}})]"
      ]
     },
     "execution_count": 48,
     "metadata": {},
     "output_type": "execute_result"
    }
   ],
   "source": [
    "response"
   ]
  }
 ],
 "metadata": {
  "kernelspec": {
   "display_name": "lcnenv",
   "language": "python",
   "name": "python3"
  },
  "language_info": {
   "codemirror_mode": {
    "name": "ipython",
    "version": 3
   },
   "file_extension": ".py",
   "mimetype": "text/x-python",
   "name": "python",
   "nbconvert_exporter": "python",
   "pygments_lexer": "ipython3",
   "version": "3.11.11"
  }
 },
 "nbformat": 4,
 "nbformat_minor": 5
}
