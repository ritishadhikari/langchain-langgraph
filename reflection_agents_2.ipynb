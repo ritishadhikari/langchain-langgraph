{
 "cells": [
  {
   "cell_type": "code",
   "execution_count": 1,
   "id": "0bcff718-bc57-4cd2-95c4-9fdad46175c8",
   "metadata": {},
   "outputs": [],
   "source": [
    "from langchain_core.prompts import ChatPromptTemplate, MessagesPlaceholder\n",
    "from langchain_google_genai import ChatGoogleGenerativeAI\n",
    "from langchain_openai import ChatOpenAI\n",
    "from dotenv import load_dotenv\n",
    "from typing import List, Sequence\n",
    "from langchain_core.messages import BaseMessage, HumanMessage\n",
    "from langgraph.graph import END, MessageGraph\n",
    "from IPython.display import Image, display\n",
    "from langchain_core.runnables.graph import MermaidDrawMethod"
   ]
  },
  {
   "cell_type": "code",
   "execution_count": 2,
   "id": "0c176a10-c3c1-46ce-b407-8a210662e2ca",
   "metadata": {},
   "outputs": [
    {
     "data": {
      "text/plain": [
       "True"
      ]
     },
     "execution_count": 2,
     "metadata": {},
     "output_type": "execute_result"
    }
   ],
   "source": [
    "load_dotenv()"
   ]
  },
  {
   "cell_type": "code",
   "execution_count": 3,
   "id": "cdbd2567-9d39-40ed-b468-d845d77059f8",
   "metadata": {},
   "outputs": [],
   "source": [
    "generationPrompt=ChatPromptTemplate.from_messages(\n",
    "    messages=[\n",
    "                (\n",
    "                    \"system\",\n",
    "                    \"You are a twitter techie influencer assistant tasked with writing excellent twitter posts\"\n",
    "                    \"Generate the best twitter post accessible for the user's request\"\n",
    "                    \"If the user provides critique, respond with a revised version of your attempts\"\n",
    "                ),\n",
    "                MessagesPlaceholder(variable_name=\"messages\")\n",
    "            ]\n",
    ")"
   ]
  },
  {
   "cell_type": "code",
   "execution_count": 4,
   "id": "344295ec-a289-43f5-893f-efe7048ef4e5",
   "metadata": {},
   "outputs": [],
   "source": [
    "reflectionPrompt=ChatPromptTemplate.from_messages(\n",
    "    messages=[\n",
    "                (\n",
    "                    \"system\",\n",
    "                    \"You are a viral twitter influencer grading a tweet. Generate critique and recommendations for the user's tweet\"\n",
    "                    \"Always provide detailed recommendations, including requests for length, virality, style, etc.\"\n",
    "                ),\n",
    "                MessagesPlaceholder(variable_name=\"messages\"),\n",
    "             ]\n",
    "            )"
   ]
  },
  {
   "cell_type": "code",
   "execution_count": 31,
   "id": "af532a34-c761-4789-be5d-8fa987300a3f",
   "metadata": {},
   "outputs": [],
   "source": [
    "llmGemini=ChatGoogleGenerativeAI(model=\"gemini-2.0-flash-001\")\n",
    "llmOpenAI=ChatOpenAI(model=\"gpt-4o-mini\",temperature=0.5)"
   ]
  },
  {
   "cell_type": "code",
   "execution_count": 33,
   "id": "9b7f2f3e-d3af-4a52-9cd1-6bded11baa7b",
   "metadata": {},
   "outputs": [],
   "source": [
    "generationChain=generationPrompt|llmOpenAI"
   ]
  },
  {
   "cell_type": "code",
   "execution_count": 34,
   "id": "c2ec7ff4-ba68-4954-b9a5-832d169c1503",
   "metadata": {},
   "outputs": [],
   "source": [
    "reflectionChain=reflectionPrompt|llmOpenAI"
   ]
  },
  {
   "cell_type": "code",
   "execution_count": 35,
   "id": "2fdb8e3e-c3a0-4484-ba00-245d6f4055e4",
   "metadata": {},
   "outputs": [],
   "source": [
    "graph=MessageGraph()"
   ]
  },
  {
   "cell_type": "code",
   "execution_count": 36,
   "id": "f760843b-1147-4cad-9a1d-e72bebec69b2",
   "metadata": {},
   "outputs": [],
   "source": [
    "REFLECT=\"reflect\""
   ]
  },
  {
   "cell_type": "code",
   "execution_count": 37,
   "id": "8da357dc-00f3-4a76-8da2-f31309ebf25b",
   "metadata": {},
   "outputs": [],
   "source": [
    "GENERATE=\"generate\""
   ]
  },
  {
   "cell_type": "code",
   "execution_count": 38,
   "id": "01142806-de6f-4688-9372-696c8364237c",
   "metadata": {},
   "outputs": [],
   "source": [
    "def generateNode(state):\n",
    "    return generationChain.invoke(input={\"messages\":state})"
   ]
  },
  {
   "cell_type": "code",
   "execution_count": 39,
   "id": "b296580c-f819-4bf0-b53b-7119f611ed5b",
   "metadata": {},
   "outputs": [],
   "source": [
    "def reflectNode(state):\n",
    "    response=reflectionChain.invoke(input={\"messages\":state})\n",
    "    # let the agent get tricked into believing that the message came from human\n",
    "    return [HumanMessage(content=response.content)]\n",
    "   "
   ]
  },
  {
   "cell_type": "code",
   "execution_count": 40,
   "id": "dd2051b1-ae20-42c9-93b1-b66aa86b75be",
   "metadata": {},
   "outputs": [
    {
     "data": {
      "text/plain": [
       "<langgraph.graph.message.MessageGraph at 0x19909c53750>"
      ]
     },
     "execution_count": 40,
     "metadata": {},
     "output_type": "execute_result"
    }
   ],
   "source": [
    "graph.add_node(node=GENERATE,action=generateNode)"
   ]
  },
  {
   "cell_type": "code",
   "execution_count": 41,
   "id": "982f59bb-2406-4346-8895-2f8cade8d101",
   "metadata": {},
   "outputs": [
    {
     "data": {
      "text/plain": [
       "<langgraph.graph.message.MessageGraph at 0x19909c53750>"
      ]
     },
     "execution_count": 41,
     "metadata": {},
     "output_type": "execute_result"
    }
   ],
   "source": [
    "graph.add_node(node=REFLECT,action=reflectNode)"
   ]
  },
  {
   "cell_type": "code",
   "execution_count": 42,
   "id": "b34bf22e-4b40-43c5-a0b4-7316f8030a38",
   "metadata": {},
   "outputs": [
    {
     "data": {
      "text/plain": [
       "<langgraph.graph.message.MessageGraph at 0x19909c53750>"
      ]
     },
     "execution_count": 42,
     "metadata": {},
     "output_type": "execute_result"
    }
   ],
   "source": [
    "graph.set_entry_point(key=GENERATE)"
   ]
  },
  {
   "cell_type": "code",
   "execution_count": 43,
   "id": "8a1665ce-6d8e-44bf-9470-1c7cb474de8e",
   "metadata": {},
   "outputs": [],
   "source": [
    "def should_continue(state):\n",
    "    if len(state) >4:\n",
    "        return \"end\"\n",
    "    else:\n",
    "        return \"reflect\""
   ]
  },
  {
   "cell_type": "code",
   "execution_count": 44,
   "id": "71dc103c-5e74-48e5-9648-2ba9e576f777",
   "metadata": {},
   "outputs": [
    {
     "data": {
      "text/plain": [
       "<langgraph.graph.message.MessageGraph at 0x19909c53750>"
      ]
     },
     "execution_count": 44,
     "metadata": {},
     "output_type": "execute_result"
    }
   ],
   "source": [
    "# the should continue is path is a conditional path which is established through this function\n",
    "graph.add_conditional_edges(\n",
    "    source=GENERATE,\n",
    "    path=should_continue,\n",
    "    path_map={\"end\":END, \"reflect\":REFLECT},\n",
    "    ) "
   ]
  },
  {
   "cell_type": "code",
   "execution_count": 45,
   "id": "908b0c86-2238-4671-9256-acc540ded662",
   "metadata": {},
   "outputs": [
    {
     "data": {
      "text/plain": [
       "<langgraph.graph.message.MessageGraph at 0x19909c53750>"
      ]
     },
     "execution_count": 45,
     "metadata": {},
     "output_type": "execute_result"
    }
   ],
   "source": [
    "graph.add_edge(start_key=REFLECT,end_key=GENERATE)"
   ]
  },
  {
   "cell_type": "code",
   "execution_count": 46,
   "id": "2c5045c4-b4f5-413e-887e-10548e646373",
   "metadata": {},
   "outputs": [],
   "source": [
    "app=graph.compile()"
   ]
  },
  {
   "cell_type": "code",
   "execution_count": 47,
   "id": "3a779840-a4d1-478d-a5ba-d4ee8d23b18d",
   "metadata": {},
   "outputs": [
    {
     "name": "stdout",
     "output_type": "stream",
     "text": [
      "---\n",
      "config:\n",
      "  flowchart:\n",
      "    curve: linear\n",
      "---\n",
      "graph TD;\n",
      "\t__start__([<p>__start__</p>]):::first\n",
      "\tgenerate(generate)\n",
      "\treflect(reflect)\n",
      "\t__end__([<p>__end__</p>]):::last\n",
      "\t__start__ --> generate;\n",
      "\tgenerate -.-> reflect;\n",
      "\treflect --> generate;\n",
      "\tgenerate -.-> __end__;\n",
      "\tclassDef default fill:#f2f0ff,line-height:1.2\n",
      "\tclassDef first fill-opacity:0\n",
      "\tclassDef last fill:#bfb6fc\n",
      "\n"
     ]
    }
   ],
   "source": [
    "print(app.get_graph().draw_mermaid())"
   ]
  },
  {
   "cell_type": "code",
   "execution_count": 48,
   "id": "31316c9e",
   "metadata": {},
   "outputs": [
    {
     "data": {
      "image/png": "[encoded data removed]",
      "text/plain": [
       "<IPython.core.display.Image object>"
      ]
     },
     "metadata": {},
     "output_type": "display_data"
    }
   ],
   "source": [
    "display(Image(data=app.get_graph(xray=True).draw_mermaid_png(max_retries=3)))"
   ]
  },
  {
   "cell_type": "code",
   "execution_count": 49,
   "id": "c66b11ba-1617-496c-907f-732aaded8271",
   "metadata": {},
   "outputs": [
    {
     "name": "stdout",
     "output_type": "stream",
     "text": [
      "          +-----------+            \n",
      "          | __start__ |            \n",
      "          +-----------+            \n",
      "                *                  \n",
      "                *                  \n",
      "                *                  \n",
      "          +----------+             \n",
      "          | generate |             \n",
      "          +----------+             \n",
      "          ***        ...           \n",
      "         *              .          \n",
      "       **                ..        \n",
      "+---------+           +---------+  \n",
      "| reflect |           | __end__ |  \n",
      "+---------+           +---------+  \n"
     ]
    }
   ],
   "source": [
    "app.get_graph().print_ascii()"
   ]
  },
  {
   "cell_type": "code",
   "execution_count": 50,
   "id": "04d64b2b-b8b6-43bb-acd1-dfd48ca6b7a6",
   "metadata": {},
   "outputs": [],
   "source": [
    "prompt=\"AI agents taking over content creation\""
   ]
  },
  {
   "cell_type": "code",
   "execution_count": 51,
   "id": "e3152490-1bf9-421f-bb3d-ad616bbd83aa",
   "metadata": {},
   "outputs": [],
   "source": [
    "response=app.invoke(input=HumanMessage(content=prompt))"
   ]
  },
  {
   "cell_type": "code",
   "execution_count": 52,
   "id": "015b7e22-5fbd-4690-a309-df70657af783",
   "metadata": {},
   "outputs": [
    {
     "data": {
      "text/plain": [
       "[HumanMessage(content='AI agents taking over content creation', additional_kwargs={}, response_metadata={}, id='959e034e-9ac2-4291-a3f3-9b54804f03a3'),\n",
       " AIMessage(content='🚀 The future of content creation is here! 🤖✨ AI agents are revolutionizing how we generate ideas, write articles, and even create art. From personalized marketing to engaging storytelling, these intelligent tools are enhancing creativity and efficiency. Are you ready to embrace the AI content revolution? #AI #ContentCreation #Innovation', additional_kwargs={'refusal': None}, response_metadata={'token_usage': {'completion_tokens': 65, 'prompt_tokens': 55, 'total_tokens': 120, 'completion_tokens_details': {'accepted_prediction_tokens': 0, 'audio_tokens': 0, 'reasoning_tokens': 0, 'rejected_prediction_tokens': 0}, 'prompt_tokens_details': {'audio_tokens': 0, 'cached_tokens': 0}}, 'model_name': 'gpt-4o-mini-2024-07-18', 'system_fingerprint': 'fp_0392822090', 'id': 'chatcmpl-BW53rtHtsfIPq0QVUijRFHMTq4BZl', 'finish_reason': 'stop', 'logprobs': None}, id='run-0e21f1f6-99f7-4a71-9f94-0a85c27e8c19-0', usage_metadata={'input_tokens': 55, 'output_tokens': 65, 'total_tokens': 120, 'input_token_details': {'audio': 0, 'cache_read': 0}, 'output_token_details': {'audio': 0, 'reasoning': 0}}),\n",
       " HumanMessage(content='### Critique of the Tweet\\n\\n1. **Length**: The tweet is a bit on the longer side. Twitter\\'s character limit is 280, and while this tweet is within that limit, it could be more concise. Shorter tweets often perform better as they are easier to read and share.\\n\\n2. **Clarity**: The message is clear, but it could benefit from a more engaging hook. Starting with a question or a bold statement can capture attention immediately.\\n\\n3. **Virality**: While the hashtags are relevant, they are somewhat generic. Using more specific or trending hashtags related to AI or content creation could enhance discoverability.\\n\\n4. **Engagement**: The tweet ends with a question, which is great for encouraging replies. However, consider adding a call to action that invites users to share their thoughts or experiences with AI in content creation.\\n\\n5. **Style**: The use of emojis adds a fun element, but be cautious not to overdo it. A couple of well-placed emojis can enhance the message, but too many can distract from the content.\\n\\n### Recommendations\\n\\n1. **Shorten the Tweet**: Aim for around 200 characters to make it snappier. For example:\\n   - \"Is AI taking over content creation? 🤖✨ From writing to art, it’s changing the game! Are you ready to embrace the AI revolution? #AI #ContentCreation\"\\n\\n2. **Engaging Hook**: Start with a question or a bold statement. For instance:\\n   - \"What if AI could write your next article? 🤔\"\\n\\n3. **Targeted Hashtags**: Use more specific hashtags that are currently trending or relevant to your audience. Consider:\\n   - #AIAgents #ContentRevolution #DigitalCreativity\\n\\n4. **Call to Action**: Encourage engagement by asking followers to share their experiences or thoughts:\\n   - \"Share your thoughts below! How do you see AI impacting your creative process?\"\\n\\n5. **Balanced Use of Emojis**: Limit the use of emojis to one or two that best represent your message. For example:\\n   - \"AI is revolutionizing content creation! 🤖 Are you ready to embrace this change?\"\\n\\n### Revised Tweet Example\\n\\n\"What if AI could write your next article? 🤔 AI agents are revolutionizing content creation! Are you ready to embrace the future? Share your thoughts! #AIAgents #ContentRevolution\"\\n\\nBy implementing these suggestions, your tweet will likely be more engaging, shareable, and impactful! Keep experimenting with different styles and formats to see what resonates best with your audience. 🌟', additional_kwargs={}, response_metadata={}, id='59cca8d0-5b14-42d8-bf3b-9fc3f3d4531c'),\n",
       " AIMessage(content='Thank you for the detailed critique! Here\\'s a revised version that incorporates your suggestions:\\n\\n\"What if AI could write your next article? 🤔 AI agents are transforming content creation! Are you ready to embrace the future? Share your thoughts! #AIAgents #ContentRevolution\" \\n\\nLet me know if you\\'d like any further adjustments!', additional_kwargs={'refusal': None}, response_metadata={'token_usage': {'completion_tokens': 68, 'prompt_tokens': 659, 'total_tokens': 727, 'completion_tokens_details': {'accepted_prediction_tokens': 0, 'audio_tokens': 0, 'reasoning_tokens': 0, 'rejected_prediction_tokens': 0}, 'prompt_tokens_details': {'audio_tokens': 0, 'cached_tokens': 0}}, 'model_name': 'gpt-4o-mini-2024-07-18', 'system_fingerprint': 'fp_0392822090', 'id': 'chatcmpl-BW547djfmsZyefiamigKui4CgmYym', 'finish_reason': 'stop', 'logprobs': None}, id='run-ff65ffae-fa8c-4570-989b-9afc61113127-0', usage_metadata={'input_tokens': 659, 'output_tokens': 68, 'total_tokens': 727, 'input_token_details': {'audio': 0, 'cache_read': 0}, 'output_token_details': {'audio': 0, 'reasoning': 0}}),\n",
       " HumanMessage(content='### Critique of the Revised Tweet\\n\\n1. **Length**: The revised tweet is concise and well within the character limit, making it easy to read and share.\\n\\n2. **Clarity**: The question at the beginning serves as a strong hook, effectively capturing attention. The message is clear and direct.\\n\\n3. **Virality**: The use of specific hashtags like #AIAgents and #ContentRevolution is a good improvement. However, consider adding one more trending or niche hashtag to increase visibility.\\n\\n4. **Engagement**: The call to action effectively encourages followers to share their thoughts, which is great for engagement.\\n\\n5. **Style**: The use of a single emoji enhances the message without overwhelming it. The tone is conversational and inviting, which is ideal for Twitter.\\n\\n### Additional Recommendations\\n\\n1. **Add a Trending Hashtag**: Research current trending hashtags related to AI or content creation to further boost visibility. For example, you might consider adding something like #AIWriting or #FutureOfContent.\\n\\n2. **Consider a Follow-up Tweet**: If you want to expand the conversation, think about a follow-up tweet that shares a statistic or an interesting fact about AI in content creation. This could spark more engagement.\\n\\n3. **Visuals**: If you’re open to it, consider pairing the tweet with a relevant image or a short video. Visual content tends to increase engagement on Twitter.\\n\\n### Final Revised Tweet Example\\n\\n\"What if AI could write your next article? 🤔 AI agents are transforming content creation! Are you ready to embrace the future? Share your thoughts! #AIAgents #ContentRevolution #AIWriting\"\\n\\nThis final version balances clarity, engagement, and virality, making it more likely to resonate with your audience. Keep experimenting with different approaches, and you\\'ll continue to grow your influence! 🌟', additional_kwargs={}, response_metadata={}, id='a45f5db2-8dd9-4104-9e6b-02093dbed0eb'),\n",
       " AIMessage(content='Thank you for the insightful feedback! Here’s the final revised tweet incorporating your additional recommendations:\\n\\n\"What if AI could write your next article? 🤔 AI agents are transforming content creation! Are you ready to embrace the future? Share your thoughts! #AIAgents #ContentRevolution #AIWriting\"\\n\\nLet me know if there’s anything else you’d like to adjust or if you need further assistance!', additional_kwargs={'refusal': None}, response_metadata={'token_usage': {'completion_tokens': 82, 'prompt_tokens': 1110, 'total_tokens': 1192, 'completion_tokens_details': {'accepted_prediction_tokens': 0, 'audio_tokens': 0, 'reasoning_tokens': 0, 'rejected_prediction_tokens': 0}, 'prompt_tokens_details': {'audio_tokens': 0, 'cached_tokens': 0}}, 'model_name': 'gpt-4o-mini-2024-07-18', 'system_fingerprint': 'fp_0392822090', 'id': 'chatcmpl-BW54L80PbSGzwG4eQYdzf4Jy1lKmM', 'finish_reason': 'stop', 'logprobs': None}, id='run-348e5bcf-b67a-49fe-9a71-6c9a097c4201-0', usage_metadata={'input_tokens': 1110, 'output_tokens': 82, 'total_tokens': 1192, 'input_token_details': {'audio': 0, 'cache_read': 0}, 'output_token_details': {'audio': 0, 'reasoning': 0}})]"
      ]
     },
     "execution_count": 52,
     "metadata": {},
     "output_type": "execute_result"
    }
   ],
   "source": [
    "response"
   ]
  },
  {
   "cell_type": "code",
   "execution_count": 53,
   "id": "5648bb15",
   "metadata": {},
   "outputs": [
    {
     "data": {
      "text/plain": [
       "'Thank you for the insightful feedback! Here’s the final revised tweet incorporating your additional recommendations:\\n\\n\"What if AI could write your next article? 🤔 AI agents are transforming content creation! Are you ready to embrace the future? Share your thoughts! #AIAgents #ContentRevolution #AIWriting\"\\n\\nLet me know if there’s anything else you’d like to adjust or if you need further assistance!'"
      ]
     },
     "execution_count": 53,
     "metadata": {},
     "output_type": "execute_result"
    }
   ],
   "source": [
    "response[-1].content"
   ]
  }
 ],
 "metadata": {
  "kernelspec": {
   "display_name": "lcnenv",
   "language": "python",
   "name": "python3"
  },
  "language_info": {
   "codemirror_mode": {
    "name": "ipython",
    "version": 3
   },
   "file_extension": ".py",
   "mimetype": "text/x-python",
   "name": "python",
   "nbconvert_exporter": "python",
   "pygments_lexer": "ipython3",
   "version": "3.11.11"
  }
 },
 "nbformat": 4,
 "nbformat_minor": 5
}
