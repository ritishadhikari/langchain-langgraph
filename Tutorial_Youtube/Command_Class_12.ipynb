{
 "cells": [
  {
   "cell_type": "code",
   "execution_count": 1,
   "id": "451afb15-0a10-494b-9803-48952164a741",
   "metadata": {},
   "outputs": [],
   "source": [
    "from langgraph.graph import StateGraph, START, END\n",
    "from langgraph.types import Command\n",
    "from typing import TypedDict\n",
    "from dotenv import load_dotenv"
   ]
  },
  {
   "cell_type": "code",
   "execution_count": 2,
   "id": "e45a7ddc-89bd-4820-a0ea-a34e4de25009",
   "metadata": {},
   "outputs": [
    {
     "data": {
      "text/plain": [
       "True"
      ]
     },
     "execution_count": 2,
     "metadata": {},
     "output_type": "execute_result"
    }
   ],
   "source": [
    "load_dotenv()"
   ]
  },
  {
   "cell_type": "code",
   "execution_count": 3,
   "id": "75382d45-fb4f-4729-b32f-5b93f5fda751",
   "metadata": {},
   "outputs": [],
   "source": [
    "class State(TypedDict):\n",
    "    text: str"
   ]
  },
  {
   "cell_type": "code",
   "execution_count": 4,
   "id": "802f2065-3e67-487f-a7b4-b3441ed613e3",
   "metadata": {},
   "outputs": [],
   "source": [
    "def node_a(state:State):\n",
    "    print(\"Node A\", flush=True)\n",
    "    return Command(goto=\"node_b\",update={\"text\":state['text']+'a'})\n",
    "    "
   ]
  },
  {
   "cell_type": "code",
   "execution_count": 5,
   "id": "ef0812df-c204-4abd-8fd5-1dab4c344eea",
   "metadata": {},
   "outputs": [],
   "source": [
    "def node_b(state:State):\n",
    "    print(\"Node B\", flush=True)\n",
    "    return Command(goto=\"node_c\",update={\"text\":state['text']+'b'})"
   ]
  },
  {
   "cell_type": "code",
   "execution_count": 6,
   "id": "dc08d3f5-db73-4db9-bedd-256299c6bfcd",
   "metadata": {},
   "outputs": [],
   "source": [
    "def node_c(state:State):\n",
    "    print(\"Node C\", flush=True)\n",
    "    return Command(goto=END,update={\"text\":state['text']+'c'})"
   ]
  },
  {
   "cell_type": "code",
   "execution_count": 7,
   "id": "4783661b-7e44-4496-986c-18b2c627f032",
   "metadata": {},
   "outputs": [],
   "source": [
    "graph=StateGraph(state_schema=State)"
   ]
  },
  {
   "cell_type": "code",
   "execution_count": 8,
   "id": "6ce25d6a-8df8-4f9a-824d-543728efca5b",
   "metadata": {},
   "outputs": [
    {
     "data": {
      "text/plain": [
       "<langgraph.graph.state.StateGraph at 0x12ed34a0d90>"
      ]
     },
     "execution_count": 8,
     "metadata": {},
     "output_type": "execute_result"
    }
   ],
   "source": [
    "graph.add_node(node=\"node_a\",action=node_a)"
   ]
  },
  {
   "cell_type": "code",
   "execution_count": 9,
   "id": "65c3a3c5-1ec1-4e8f-bd17-5a5e43814f37",
   "metadata": {},
   "outputs": [
    {
     "data": {
      "text/plain": [
       "<langgraph.graph.state.StateGraph at 0x12ed34a0d90>"
      ]
     },
     "execution_count": 9,
     "metadata": {},
     "output_type": "execute_result"
    }
   ],
   "source": [
    "graph.add_node(node=\"node_b\",action=node_b)"
   ]
  },
  {
   "cell_type": "code",
   "execution_count": 10,
   "id": "13d16790-8cde-415e-9d3d-675bf3e30426",
   "metadata": {},
   "outputs": [
    {
     "data": {
      "text/plain": [
       "<langgraph.graph.state.StateGraph at 0x12ed34a0d90>"
      ]
     },
     "execution_count": 10,
     "metadata": {},
     "output_type": "execute_result"
    }
   ],
   "source": [
    "graph.add_node(node=\"node_c\",action=node_c)"
   ]
  },
  {
   "cell_type": "code",
   "execution_count": 11,
   "id": "c34306d9-3bcc-4d53-93f8-68c05624508f",
   "metadata": {},
   "outputs": [
    {
     "data": {
      "text/plain": [
       "<langgraph.graph.state.StateGraph at 0x12ed34a0d90>"
      ]
     },
     "execution_count": 11,
     "metadata": {},
     "output_type": "execute_result"
    }
   ],
   "source": [
    "graph.set_entry_point(key=\"node_a\")"
   ]
  },
  {
   "cell_type": "code",
   "execution_count": 12,
   "id": "20e5e47d-483f-4b39-b584-7c92f21905d3",
   "metadata": {},
   "outputs": [],
   "source": [
    "app=graph.compile()"
   ]
  },
  {
   "cell_type": "code",
   "execution_count": 13,
   "id": "2c03ee13",
   "metadata": {},
   "outputs": [
    {
     "name": "stdout",
     "output_type": "stream",
     "text": [
      "+-----------+  \n",
      "| __start__ |  \n",
      "+-----------+  \n",
      "      *        \n",
      "      *        \n",
      "      *        \n",
      "  +--------+   \n",
      "  | node_a |   \n",
      "  +--------+   \n",
      "      *        \n",
      "      *        \n",
      "      *        \n",
      " +---------+   \n",
      " | __end__ |   \n",
      " +---------+   \n"
     ]
    }
   ],
   "source": [
    "app.get_graph().print_ascii()"
   ]
  },
  {
   "cell_type": "code",
   "execution_count": 14,
   "id": "825e4205-7bc1-4628-8322-16e91c4bece1",
   "metadata": {},
   "outputs": [
    {
     "name": "stdout",
     "output_type": "stream",
     "text": [
      "Node A\n",
      "Node B\n",
      "Node C\n"
     ]
    },
    {
     "data": {
      "text/plain": [
       "{'text': 'Harishabc'}"
      ]
     },
     "execution_count": 14,
     "metadata": {},
     "output_type": "execute_result"
    }
   ],
   "source": [
    "app.invoke(input={\"text\":\"Harish\"})"
   ]
  },
  {
   "cell_type": "code",
   "execution_count": null,
   "id": "7c7e47eb-52da-4fd3-9fbc-29097f8a3c5a",
   "metadata": {},
   "outputs": [],
   "source": []
  }
 ],
 "metadata": {
  "kernelspec": {
   "display_name": "lcnenv",
   "language": "python",
   "name": "python3"
  },
  "language_info": {
   "codemirror_mode": {
    "name": "ipython",
    "version": 3
   },
   "file_extension": ".py",
   "mimetype": "text/x-python",
   "name": "python",
   "nbconvert_exporter": "python",
   "pygments_lexer": "ipython3",
   "version": "3.11.11"
  }
 },
 "nbformat": 4,
 "nbformat_minor": 5
}
