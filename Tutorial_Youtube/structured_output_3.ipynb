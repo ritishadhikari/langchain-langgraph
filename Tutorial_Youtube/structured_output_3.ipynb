{
 "cells": [
  {
   "cell_type": "code",
   "execution_count": 10,
   "id": "b870b72b-c459-40a3-b774-5f9c43f8e498",
   "metadata": {},
   "outputs": [],
   "source": [
    "from pydantic import BaseModel, Field\n",
    "from langchain_openai import ChatOpenAI\n",
    "from typing import TypedDict, Annotated\n",
    "from typing import Optional\n",
    "from pprint import pprint"
   ]
  },
  {
   "cell_type": "code",
   "execution_count": 2,
   "id": "1d3cd047-1c35-4359-a07e-7e5b5294eb85",
   "metadata": {},
   "outputs": [],
   "source": [
    "llmOpenAI=ChatOpenAI(model=\"gpt-4o-mini\",temperature=0.2)"
   ]
  },
  {
   "cell_type": "markdown",
   "id": "31c3db80-dacd-4b00-ae3f-1f6292d9264d",
   "metadata": {},
   "source": [
    "<h3>Through Pydantic</h3>"
   ]
  },
  {
   "cell_type": "code",
   "execution_count": 3,
   "id": "72efd38f-a75f-47c1-bb5a-642372a2205f",
   "metadata": {},
   "outputs": [],
   "source": [
    "class Country(BaseModel):\n",
    "    \"\"\"\n",
    "        Information about a country\n",
    "    \"\"\"\n",
    "    name: str=Field(description=\"name of the country\")\n",
    "    language: str=Field(description=\"main language spoken in the country\")\n",
    "    capital: str=Field(description=\"capital of the country\")"
   ]
  },
  {
   "cell_type": "code",
   "execution_count": 6,
   "id": "c9941cc9-ee5b-46e9-b2dd-ceffecadb1d7",
   "metadata": {},
   "outputs": [
    {
     "name": "stdout",
     "output_type": "stream",
     "text": [
      "RunnableBinding(bound=ChatOpenAI(client=<openai.resources.chat.completions.completions.Completions object at 0x00000131AA6B0B90>, async_client=<openai.resources.chat.completions.completions.AsyncCompletions object at 0x00000131AA6BAED0>, root_client=<openai.OpenAI object at 0x00000131AA4E2010>, root_async_client=<openai.AsyncOpenAI object at 0x00000131AA6B0D50>, model_name='gpt-4o-mini', temperature=0.2, model_kwargs={}, openai_api_key=SecretStr('**********')), kwargs={'response_format': <class '__main__.Country'>, 'ls_structured_output_format': {'kwargs': {'method': 'json_schema', 'strict': None}, 'schema': {'type': 'function', 'function': {'name': 'Country', 'description': 'Information about a country', 'parameters': {'properties': {'name': {'description': 'name of the country', 'type': 'string'}, 'language': {'description': 'main language spoken in the country', 'type': 'string'}, 'capital': {'description': 'capital of the country', 'type': 'string'}}, 'required': ['name', 'language', 'capital'], 'type': 'object'}}}}}, config={}, config_factories=[])\n",
      "| RunnableBinding(bound=RunnableLambda(...), kwargs={}, config={}, config_factories=[], custom_output_type=<class '__main__.Country'>)\n"
     ]
    }
   ],
   "source": [
    "structuredLLM=llmOpenAI.with_structured_output(schema=Country)\n",
    "pprint(structuredLLM)"
   ]
  },
  {
   "cell_type": "code",
   "execution_count": 7,
   "id": "d4aba782-e8f9-4234-83fa-41878c26af8c",
   "metadata": {},
   "outputs": [],
   "source": [
    "response=structuredLLM.invoke(input=\"Tell me something about Switzerland\")"
   ]
  },
  {
   "cell_type": "code",
   "execution_count": 9,
   "id": "53d9964f-4879-4078-9203-14e2c405b1ea",
   "metadata": {},
   "outputs": [
    {
     "data": {
      "text/plain": [
       "Country(name='Switzerland', language='German, French, Italian, Romansh', capital='Bern')"
      ]
     },
     "execution_count": 9,
     "metadata": {},
     "output_type": "execute_result"
    }
   ],
   "source": [
    "response"
   ]
  },
  {
   "cell_type": "markdown",
   "id": "0e367dec-7e7e-4b87-a1b3-0d956da5fe62",
   "metadata": {},
   "source": [
    "<h3>Through TypedDict</h3>"
   ]
  },
  {
   "cell_type": "code",
   "execution_count": 11,
   "id": "4aeb4400-c9d6-4291-b9f6-f95302e5b445",
   "metadata": {},
   "outputs": [],
   "source": [
    "class Emperor(TypedDict):\n",
    "    born: Annotated[str, ..., \"The year the emperor was born\"]\n",
    "    rule_period: Annotated[str,...,\"The Duration of the years in ruled\"]\n",
    "    died: Annotated[str, ..., \"The year the emperor died\"]"
   ]
  },
  {
   "cell_type": "code",
   "execution_count": 12,
   "id": "e73e8983-8da7-4cd6-a2b0-55064d03f673",
   "metadata": {},
   "outputs": [
    {
     "data": {
      "text/plain": [
       "RunnableBinding(bound=ChatOpenAI(client=<openai.resources.chat.completions.completions.Completions object at 0x00000131AA6B0B90>, async_client=<openai.resources.chat.completions.completions.AsyncCompletions object at 0x00000131AA6BAED0>, root_client=<openai.OpenAI object at 0x00000131AA4E2010>, root_async_client=<openai.AsyncOpenAI object at 0x00000131AA6B0D50>, model_name='gpt-4o-mini', temperature=0.2, model_kwargs={}, openai_api_key=SecretStr('**********')), kwargs={'response_format': {'type': 'json_schema', 'json_schema': {'name': 'Emperor', 'description': \"dict() -> new empty dictionary\\ndict(mapping) -> new dictionary initialized from a mapping object's\\n    (key, value) pairs\\ndict(iterable) -> new dictionary initialized as if via:\\n    d = {}\\n    for k, v in iterable:\\n        d[k] = v\\ndict(**kwargs) -> new dictionary initialized with the name=value pairs\\n    in the keyword argument list.  For example:  dict(one=1, two=2)\", 'strict': False, 'schema': {'type': 'object', 'properties': {'born': {'description': 'The year the emperor was born', 'type': 'string'}, 'rule_period': {'description': 'The Duration of the years in ruled', 'type': 'string'}, 'died': {'description': 'The year the emperor died', 'type': 'string'}}, 'required': ['born', 'rule_period', 'died']}}}, 'ls_structured_output_format': {'kwargs': {'method': 'json_schema', 'strict': None}, 'schema': {'type': 'function', 'function': {'name': 'Emperor', 'description': \"dict() -> new empty dictionary\\ndict(mapping) -> new dictionary initialized from a mapping object's\\n    (key, value) pairs\\ndict(iterable) -> new dictionary initialized as if via:\\n    d = {}\\n    for k, v in iterable:\\n        d[k] = v\\ndict(**kwargs) -> new dictionary initialized with the name=value pairs\\n    in the keyword argument list.  For example:  dict(one=1, two=2)\", 'parameters': {'type': 'object', 'properties': {'born': {'description': 'The year the emperor was born', 'type': 'string'}, 'rule_period': {'description': 'The Duration of the years in ruled', 'type': 'string'}, 'died': {'description': 'The year the emperor died', 'type': 'string'}}, 'required': ['born', 'rule_period', 'died']}}}}}, config={}, config_factories=[])\n",
       "| JsonOutputParser()"
      ]
     },
     "execution_count": 12,
     "metadata": {},
     "output_type": "execute_result"
    }
   ],
   "source": [
    "structuredLLM=llmOpenAI.with_structured_output(schema=Emperor)\n",
    "structuredLLM"
   ]
  },
  {
   "cell_type": "code",
   "execution_count": 13,
   "id": "0d7ba023-b634-4b0e-b73c-a98de8f4337b",
   "metadata": {},
   "outputs": [],
   "source": [
    "response=structuredLLM.invoke(input=\"Aurangzeb\")"
   ]
  },
  {
   "cell_type": "code",
   "execution_count": 14,
   "id": "fe9a695b-c1af-4e39-9e80-9d1fa2406ee9",
   "metadata": {},
   "outputs": [
    {
     "data": {
      "text/plain": [
       "{'born': '1618', 'died': '1707', 'rule_period': '1658-1707'}"
      ]
     },
     "execution_count": 14,
     "metadata": {},
     "output_type": "execute_result"
    }
   ],
   "source": [
    "response"
   ]
  },
  {
   "cell_type": "markdown",
   "id": "e29b5863-77a6-42da-b5a5-6163900dc794",
   "metadata": {},
   "source": [
    "<h3>With Json schema</h3>"
   ]
  },
  {
   "cell_type": "code",
   "execution_count": 15,
   "id": "32d69cb0-a0fd-41f7-ba50-e843c50d87e9",
   "metadata": {},
   "outputs": [],
   "source": [
    "jsonSchema={\n",
    "    \"title\":\"religion\",\n",
    "    \"description\": \"Information about a particular religion\",\n",
    "    \"type\":\"object\",\n",
    "    \"properties\":\n",
    "        {\n",
    "            \"founding_year\":{\n",
    "                \"type\":\"string\",\n",
    "                \"description\":\"the year the religion got founded\"\n",
    "            },\n",
    "            \"followers\":{\n",
    "                \"type\":\"string\",\n",
    "                \"description\":\"total number of followers for the religion\"\n",
    "            },\n",
    "            \"holybook\":{\n",
    "                \"type\":\"string\",\n",
    "                \"description\":\"the holy book for the religion\",\n",
    "                \"default\":None\n",
    "            }\n",
    "        },\n",
    "    \"required\":[\"founding_year\",\"followers\"]\n",
    "}"
   ]
  },
  {
   "cell_type": "code",
   "execution_count": 16,
   "id": "1b434ecf-06c1-43a9-893b-7e00aa5c05fa",
   "metadata": {},
   "outputs": [
    {
     "data": {
      "text/plain": [
       "RunnableBinding(bound=ChatOpenAI(client=<openai.resources.chat.completions.completions.Completions object at 0x00000131AA6B0B90>, async_client=<openai.resources.chat.completions.completions.AsyncCompletions object at 0x00000131AA6BAED0>, root_client=<openai.OpenAI object at 0x00000131AA4E2010>, root_async_client=<openai.AsyncOpenAI object at 0x00000131AA6B0D50>, model_name='gpt-4o-mini', temperature=0.2, model_kwargs={}, openai_api_key=SecretStr('**********')), kwargs={'response_format': {'type': 'json_schema', 'json_schema': {'name': 'religion', 'description': 'Information about a particular religion', 'strict': False, 'schema': {'type': 'object', 'properties': {'founding_year': {'type': 'string', 'description': 'the year the religion got founded'}, 'followers': {'type': 'string', 'description': 'total number of followers for the religion'}, 'holybook': {'type': 'string', 'description': 'the holy book for the religion', 'default': None}}, 'required': ['founding_year', 'followers']}}}, 'ls_structured_output_format': {'kwargs': {'method': 'json_schema', 'strict': None}, 'schema': {'type': 'function', 'function': {'name': 'religion', 'description': 'Information about a particular religion', 'parameters': {'type': 'object', 'properties': {'founding_year': {'type': 'string', 'description': 'the year the religion got founded'}, 'followers': {'type': 'string', 'description': 'total number of followers for the religion'}, 'holybook': {'type': 'string', 'description': 'the holy book for the religion', 'default': None}}, 'required': ['founding_year', 'followers']}}}}}, config={}, config_factories=[])\n",
       "| JsonOutputParser()"
      ]
     },
     "execution_count": 16,
     "metadata": {},
     "output_type": "execute_result"
    }
   ],
   "source": [
    "structuredLLM=llmOpenAI.with_structured_output(schema=jsonSchema)\n",
    "structuredLLM"
   ]
  },
  {
   "cell_type": "code",
   "execution_count": 19,
   "id": "1a931de8-868e-4bbd-98ac-e30f8378438e",
   "metadata": {},
   "outputs": [],
   "source": [
    "response=structuredLLM.invoke(input=\"Jainism\")"
   ]
  },
  {
   "cell_type": "code",
   "execution_count": 20,
   "id": "6cc6f24c-6f6b-4101-9cc1-84fa2389291b",
   "metadata": {},
   "outputs": [
    {
     "data": {
      "text/plain": [
       "{'founding_year': '6th century BCE',\n",
       " 'followers': 'approximately 4.5 million',\n",
       " 'holybook': 'Agamas'}"
      ]
     },
     "execution_count": 20,
     "metadata": {},
     "output_type": "execute_result"
    }
   ],
   "source": [
    "response"
   ]
  },
  {
   "cell_type": "code",
   "execution_count": null,
   "id": "1a84937f-6169-4572-b39c-ccbfb4644f06",
   "metadata": {},
   "outputs": [],
   "source": []
  }
 ],
 "metadata": {
  "kernelspec": {
   "display_name": "lcnenv",
   "language": "python",
   "name": "python3"
  },
  "language_info": {
   "codemirror_mode": {
    "name": "ipython",
    "version": 3
   },
   "file_extension": ".py",
   "mimetype": "text/x-python",
   "name": "python",
   "nbconvert_exporter": "python",
   "pygments_lexer": "ipython3",
   "version": "3.11.11"
  }
 },
 "nbformat": 4,
 "nbformat_minor": 5
}
