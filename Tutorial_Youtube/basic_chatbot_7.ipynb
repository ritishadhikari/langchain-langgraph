{
 "cells": [
  {
   "cell_type": "code",
   "execution_count": 1,
   "id": "78c4570e-3a26-4c0f-a6e0-68161785bb87",
   "metadata": {},
   "outputs": [],
   "source": [
    "from typing import TypedDict, Annotated\n",
    "from langgraph.graph import add_messages, StateGraph, END\n",
    "from langchain_groq import ChatGroq\n",
    "from langchain_core.messages import AIMessage, HumanMessage\n",
    "from dotenv import load_dotenv"
   ]
  },
  {
   "cell_type": "code",
   "execution_count": 2,
   "id": "a259c24f-c1b4-431c-8525-a212ce6672eb",
   "metadata": {},
   "outputs": [
    {
     "data": {
      "text/plain": [
       "True"
      ]
     },
     "execution_count": 2,
     "metadata": {},
     "output_type": "execute_result"
    }
   ],
   "source": [
    "load_dotenv()"
   ]
  },
  {
   "cell_type": "code",
   "execution_count": 3,
   "id": "5546be31-a7f3-468a-9c33-3a14c5192100",
   "metadata": {},
   "outputs": [],
   "source": [
    "llmLlama=ChatGroq(model=\"llama-3.1-8b-instant\")"
   ]
  },
  {
   "cell_type": "code",
   "execution_count": 4,
   "id": "0bf4ce96-aaf3-455b-82c8-f78e23e3163c",
   "metadata": {},
   "outputs": [],
   "source": [
    "class BasicChatState(TypedDict):\n",
    "    messages: Annotated[list, add_messages]"
   ]
  },
  {
   "cell_type": "code",
   "execution_count": 6,
   "id": "ca1e9149-50ff-4f78-99c3-24a88c3b1bb1",
   "metadata": {},
   "outputs": [],
   "source": [
    "def chatbot(state:BasicChatState):\n",
    "    return {\n",
    "        \"messages\": [llmLlama.invoke(input=state[\"messages\"])]  # response will be an AI Message\n",
    "    }"
   ]
  },
  {
   "cell_type": "code",
   "execution_count": 7,
   "id": "a714a824-fa26-4288-8fa1-03a3742734f9",
   "metadata": {},
   "outputs": [],
   "source": [
    "graph=StateGraph(state_schema=BasicChatState)"
   ]
  },
  {
   "cell_type": "code",
   "execution_count": 8,
   "id": "a1bc1392-d4f5-4de3-a349-2709d11ccff1",
   "metadata": {},
   "outputs": [
    {
     "data": {
      "text/plain": [
       "<langgraph.graph.state.StateGraph at 0x1c51d030110>"
      ]
     },
     "execution_count": 8,
     "metadata": {},
     "output_type": "execute_result"
    }
   ],
   "source": [
    "graph.add_node(node=\"chatbot\",action=chatbot)"
   ]
  },
  {
   "cell_type": "code",
   "execution_count": 9,
   "id": "c5bc6475-0f98-41e8-b8d4-531dd174c173",
   "metadata": {},
   "outputs": [
    {
     "data": {
      "text/plain": [
       "<langgraph.graph.state.StateGraph at 0x1c51d030110>"
      ]
     },
     "execution_count": 9,
     "metadata": {},
     "output_type": "execute_result"
    }
   ],
   "source": [
    "graph.set_entry_point(key=\"chatbot\")"
   ]
  },
  {
   "cell_type": "code",
   "execution_count": 10,
   "id": "1f0a425c-34ce-49c9-85b9-f6d15f5f1358",
   "metadata": {},
   "outputs": [
    {
     "data": {
      "text/plain": [
       "<langgraph.graph.state.StateGraph at 0x1c51d030110>"
      ]
     },
     "execution_count": 10,
     "metadata": {},
     "output_type": "execute_result"
    }
   ],
   "source": [
    "graph.add_edge(start_key=\"chatbot\",end_key=END)"
   ]
  },
  {
   "cell_type": "code",
   "execution_count": 11,
   "id": "d7beea5e-df6c-4002-ba2f-b7c170afda16",
   "metadata": {},
   "outputs": [],
   "source": [
    "app=graph.compile()"
   ]
  },
  {
   "cell_type": "code",
   "execution_count": 12,
   "id": "b2640b55",
   "metadata": {},
   "outputs": [
    {
     "name": "stdout",
     "output_type": "stream",
     "text": [
      "+-----------+  \n",
      "| __start__ |  \n",
      "+-----------+  \n",
      "      *        \n",
      "      *        \n",
      "      *        \n",
      " +---------+   \n",
      " | chatbot |   \n",
      " +---------+   \n",
      "      *        \n",
      "      *        \n",
      "      *        \n",
      " +---------+   \n",
      " | __end__ |   \n",
      " +---------+   \n"
     ]
    }
   ],
   "source": [
    "app.get_graph().print_ascii()"
   ]
  },
  {
   "cell_type": "code",
   "execution_count": 16,
   "id": "d939b999-2704-44b9-b704-c33f8fa3783b",
   "metadata": {},
   "outputs": [
    {
     "name": "stdout",
     "output_type": "stream",
     "text": [
      "{'messages': [HumanMessage(content='What is an Atomic Number?', additional_kwargs={}, response_metadata={}, id='cb6b523f-02ae-4da6-9e96-96cb35bc7601'), AIMessage(content=\"An atomic number is a unique, whole number assigned to each element on the periodic table. It represents the number of protons present in the nucleus of an atom of that element. The atomic number is also equal to the number of electrons surrounding the nucleus in a neutral atom.\\n\\nIn simpler terms, the atomic number tells us what element an atom is, and it is used to distinguish one element from another. For example, the atomic number of hydrogen is 1, the atomic number of helium is 2, and the atomic number of oxygen is 8.\\n\\nThe atomic number is denoted by the symbol 'Z' and is a fundamental property of an element that remains constant, regardless of the isotope or the state of matter (solid, liquid, or gas) of the element.\\n\\nHere's a simple example to illustrate this concept:\\n\\n* Hydrogen (H) has an atomic number of 1, which means it has 1 proton in its nucleus.\\n* Helium (He) has an atomic number of 2, which means it has 2 protons in its nucleus.\\n* Oxygen (O) has an atomic number of 8, which means it has 8 protons in its nucleus.\\n\\nThe atomic number is a crucial concept in chemistry and physics, as it helps us identify and classify elements based on their atomic structure.\", additional_kwargs={}, response_metadata={'token_usage': {'completion_tokens': 271, 'prompt_tokens': 41, 'total_tokens': 312, 'completion_time': 0.789621839, 'prompt_time': 0.046288847, 'queue_time': 0.047825703000000004, 'total_time': 0.835910686}, 'model_name': 'llama-3.1-8b-instant', 'system_fingerprint': 'fp_c523237e5d', 'finish_reason': 'stop', 'logprobs': None}, id='run--3033bbcd-0f66-4ba1-b3a0-462cc23f3deb-0', usage_metadata={'input_tokens': 41, 'output_tokens': 271, 'total_tokens': 312})]}\n",
      "{'messages': [HumanMessage(content='What is a Periodic Table?', additional_kwargs={}, response_metadata={}, id='c006d47f-8b6e-45c6-b79e-f08e50e636c8'), AIMessage(content=\"The Periodic Table is a tabular arrangement of the known chemical elements, organized by their atomic number (number of protons in the nucleus), electron configuration, and recurring chemical properties. It's a powerful tool used by chemists and scientists to identify and classify elements based on their characteristics.\\n\\nThe Periodic Table was first developed by Dmitri Mendeleev in 1869, and it has undergone several modifications and updates since then. The current version of the Periodic Table consists of 118 known elements, each represented by a unique symbol and atomic number.\\n\\nThe table is arranged in rows called periods and columns called groups or families. Elements in the same group have similar chemical properties due to the same number of electrons in their outermost energy level. Elements in the same period tend to have similar electron configurations, which affects their chemical behavior.\\n\\nSome key features of the Periodic Table include:\\n\\n1. **Metals**, **Nonmetals**, and **Metalloids**: These categories are based on the element's chemical properties and behavior.\\n2. **Groups**: Elements in the same group have similar chemical properties and electron configurations.\\n3. **Periods**: Elements in the same period have similar electron configurations and chemical properties.\\n4. **Blocks**: The table is divided into four blocks: s-block, p-block, d-block, and f-block, which represent the different types of atomic orbitals.\\n5. **Atomic Number**: Each element is represented by a unique atomic number, which indicates the number of protons in the nucleus.\\n\\nThe Periodic Table is a fundamental tool in chemistry, allowing scientists to:\\n\\n1. **Identify elements**: By knowing the atomic number, symbol, and properties of an element.\\n2. **Predict chemical behavior**: By understanding the electron configuration and chemical properties of elements.\\n3. **Classify elements**: By grouping elements based on their properties and electron configurations.\\n\\nOverall, the Periodic Table is a powerful tool that helps scientists understand the properties and behavior of elements, which is essential for advancing our knowledge of chemistry and its applications.\", additional_kwargs={}, response_metadata={'token_usage': {'completion_tokens': 415, 'prompt_tokens': 42, 'total_tokens': 457, 'completion_time': 1.599489513, 'prompt_time': 0.67371972, 'queue_time': 0.04961429100000003, 'total_time': 2.273209233}, 'model_name': 'llama-3.1-8b-instant', 'system_fingerprint': 'fp_c523237e5d', 'finish_reason': 'stop', 'logprobs': None}, id='run--5b789081-728d-4590-817c-146ea2e5f102-0', usage_metadata={'input_tokens': 42, 'output_tokens': 415, 'total_tokens': 457})]}\n",
      "{'messages': [HumanMessage(content='What is the 12th element?', additional_kwargs={}, response_metadata={}, id='553cf8c4-d483-42e9-8175-c601bea97de4'), AIMessage(content='The 12th element in the periodic table is Magnesium (Mg).', additional_kwargs={}, response_metadata={'token_usage': {'completion_tokens': 17, 'prompt_tokens': 43, 'total_tokens': 60, 'completion_time': 0.032207561, 'prompt_time': 0.006663594, 'queue_time': 0.049171386, 'total_time': 0.038871155}, 'model_name': 'llama-3.1-8b-instant', 'system_fingerprint': 'fp_c523237e5d', 'finish_reason': 'stop', 'logprobs': None}, id='run--ca539041-ad14-4605-a996-5e9980a51514-0', usage_metadata={'input_tokens': 43, 'output_tokens': 17, 'total_tokens': 60})]}\n",
      "{'messages': [HumanMessage(content='What Is the 17th?', additional_kwargs={}, response_metadata={}, id='6bb8e525-56fd-48d7-82b2-2fdaa9f4593b'), AIMessage(content='I need a bit more information to give you a precise answer. There are several things that could be referred to by \"the 17th.\"\\n\\n- Date: The 17th day of a month can be any month of the year, depending on the context.\\n- Number: 17 is a number that appears in various cultures and contexts. It can represent different things depending on the context.\\n- Day of the week: Every week has a 17th day, but it would depend on the specific week and month.\\n\\nIf you provide more context or clarify what you are referring to, I can give you a more detailed answer.', additional_kwargs={}, response_metadata={'token_usage': {'completion_tokens': 128, 'prompt_tokens': 42, 'total_tokens': 170, 'completion_time': 0.262491362, 'prompt_time': 0.059175193, 'queue_time': 0.049328677, 'total_time': 0.321666555}, 'model_name': 'llama-3.1-8b-instant', 'system_fingerprint': 'fp_c523237e5d', 'finish_reason': 'stop', 'logprobs': None}, id='run--e8be6b2d-1c5d-400d-9a2b-c1901d778bd9-0', usage_metadata={'input_tokens': 42, 'output_tokens': 128, 'total_tokens': 170})]}\n"
     ]
    }
   ],
   "source": [
    "while True:\n",
    "    user_input=input(\"User: \")\n",
    "    if (user_input.casefold() in [\"exit\".casefold(),\"end\".casefold()]):\n",
    "        break\n",
    "    else:\n",
    "        result=app.invoke(input={\n",
    "            \"messages\":HumanMessage(content=user_input)\n",
    "        })\n",
    "        print(result)"
   ]
  },
  {
   "cell_type": "code",
   "execution_count": 17,
   "id": "efe18d8d-cdf1-4deb-a487-74151d0f55e4",
   "metadata": {},
   "outputs": [
    {
     "name": "stdout",
     "output_type": "stream",
     "text": [
      "The Periodic Table is a tabular arrangement of the known chemical elements, organized by their atomic number (number of protons in the nucleus), electron configuration, and recurring chemical properties. It is a powerful tool used in chemistry to classify and categorize elements into rows called periods and columns called groups.\n",
      "\n",
      "The Periodic Table was first developed by Dmitri Mendeleev in 1869 and has undergone several revisions since then. It is a visual representation of the relationships between elements, showing how they are related through their properties and behavior.\n",
      "\n",
      "The main features of the Periodic Table include:\n",
      "\n",
      "1. **Periods**: Horizontal rows of elements, which share similar chemical properties due to the same number of electron shells.\n",
      "2. **Groups**: Vertical columns of elements, which exhibit similar chemical properties due to the same number of electrons in their outer shell.\n",
      "3. **Blocks**: Sections of the table that group elements by their electron configuration, such as the s-block, p-block, and d-block.\n",
      "4. **Metals**, **Nonmetals**, and **Metalloids**: Categories of elements based on their physical and chemical properties.\n",
      "\n",
      "The Periodic Table is a powerful tool for:\n",
      "\n",
      "1. **Predicting chemical behavior**: By understanding the relationships between elements, chemists can predict their chemical properties and behavior.\n",
      "2. **Identifying patterns**: The Periodic Table reveals patterns and trends in chemical properties, such as atomic radius, electronegativity, and ionization energy.\n",
      "3. **Classifying elements**: The Periodic Table helps classify elements into different categories, such as metals, nonmetals, and metalloids.\n",
      "\n",
      "Overall, the Periodic Table is a fundamental tool in chemistry, providing a framework for understanding the relationships between elements and their properties.\n",
      "There have been several individuals who have won the Nobel Prize twice. Here are a few examples:\n",
      "\n",
      "1. Marie Curie (Physics in 1903 and Chemistry in 1911) - She was the first woman to win a Nobel Prize and the first person to win two Nobel Prizes in different fields.\n",
      "\n",
      "2. Linus Pauling (Chemistry in 1954 and Peace in 1962) - He was a renowned chemist who also made significant contributions to peace and disarmament.\n",
      "\n",
      "3. John Bardeen (Physics in 1956 and 1972) - He was an American physicist and engineer who won the Nobel Prize for his work on semiconductors.\n",
      "\n",
      "4. Frederick Sanger (Chemistry in 1958 and 1980) - He was a British biochemist who made significant contributions to the field of genetics and DNA sequencing.\n",
      "\n",
      "5. Jean-Pierre Sauvage, Fraser Stoddart and Ben Feringa (all have won chemistry prize) - In 2016, Jean-Pierre Sauvage, Fraser Stoddart and Ben Feringa were the winners of the Nobel Prize in Chemistry.\n",
      "    Sauvage (1989) and Stoddart (2006) have also won another prize that is not Nobel Prize\n",
      "I'd be happy to help, but you haven't specified two different subjects. Could you please provide more information about the subjects or context you're referring to? I'll do my best to provide an answer.\n"
     ]
    }
   ],
   "source": [
    "while True:\n",
    "    user_input=input(\"User: \")\n",
    "    if (user_input.casefold() in [\"exit\".casefold(),\"end\".casefold()]):\n",
    "        break\n",
    "    else:\n",
    "        result=app.invoke(input={\n",
    "            \"messages\":HumanMessage(content=user_input)\n",
    "        })\n",
    "        print(result['messages'][-1].content)"
   ]
  },
  {
   "cell_type": "code",
   "execution_count": null,
   "id": "61850229-a87a-4e4e-938e-fb9c4d7c879d",
   "metadata": {},
   "outputs": [],
   "source": []
  }
 ],
 "metadata": {
  "kernelspec": {
   "display_name": "lcnenv",
   "language": "python",
   "name": "python3"
  },
  "language_info": {
   "codemirror_mode": {
    "name": "ipython",
    "version": 3
   },
   "file_extension": ".py",
   "mimetype": "text/x-python",
   "name": "python",
   "nbconvert_exporter": "python",
   "pygments_lexer": "ipython3",
   "version": "3.11.11"
  }
 },
 "nbformat": 4,
 "nbformat_minor": 5
}
