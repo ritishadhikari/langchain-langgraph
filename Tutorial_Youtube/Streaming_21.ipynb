{
 "cells": [
  {
   "cell_type": "code",
   "execution_count": 3,
   "id": "5b52e2af-a73c-4517-8473-f4ceb76276eb",
   "metadata": {},
   "outputs": [],
   "source": [
    "from langchain_google_genai import ChatGoogleGenerativeAI\n",
    "from dotenv import load_dotenv\n",
    "from langchain_community.tools import TavilySearchResults\n",
    "from typing import TypedDict, Annotated,List\n",
    "from langgraph.graph import add_messages, StateGraph, END\n",
    "from langgraph.prebuilt import ToolNode\n",
    "from IPython.display import Image, display\n",
    "from langchain_core.runnables.graph import MermaidDrawMethod\n",
    "from pydantic import BaseModel"
   ]
  },
  {
   "cell_type": "code",
   "execution_count": 2,
   "id": "4c502197-eee7-4ace-9d2d-43a64889ffa7",
   "metadata": {},
   "outputs": [
    {
     "data": {
      "text/plain": [
       "True"
      ]
     },
     "execution_count": 2,
     "metadata": {},
     "output_type": "execute_result"
    }
   ],
   "source": [
    "load_dotenv()"
   ]
  },
  {
   "cell_type": "code",
   "execution_count": 34,
   "id": "104cec91-1e5d-4de7-a80d-b4682db163db",
   "metadata": {},
   "outputs": [],
   "source": [
    "class AgentState(TypedDict):\n",
    "    messages: Annotated[List, add_messages]"
   ]
  },
  {
   "cell_type": "code",
   "execution_count": 35,
   "id": "69c07590-cb08-468c-ad82-53c827de5e0c",
   "metadata": {},
   "outputs": [],
   "source": [
    "search_tool=TavilySearchResults(max_results=2)"
   ]
  },
  {
   "cell_type": "code",
   "execution_count": 36,
   "id": "fc2c1cd8-3888-451f-b56d-ee6c597ea592",
   "metadata": {},
   "outputs": [],
   "source": [
    "tools=[search_tool]"
   ]
  },
  {
   "cell_type": "code",
   "execution_count": 37,
   "id": "fc59384e-ba5e-4f19-aedb-6b2b7d869921",
   "metadata": {},
   "outputs": [],
   "source": [
    "llmGemini=ChatGoogleGenerativeAI(model=\"gemini-2.0-flash-001\")"
   ]
  },
  {
   "cell_type": "code",
   "execution_count": 38,
   "id": "d93d998d-7f5e-480f-9d7d-cbf4fd4bb0ad",
   "metadata": {},
   "outputs": [],
   "source": [
    "llm_with_tools=llmGemini.bind_tools(tools=tools)"
   ]
  },
  {
   "cell_type": "code",
   "execution_count": 39,
   "id": "10fe7b82-8c00-4a8d-8fd0-b1ffcf432ce3",
   "metadata": {},
   "outputs": [],
   "source": [
    "def model(state: AgentState):\n",
    "    state[\"messages\"]=[llm_with_tools.invoke(input=state[\"messages\"])]\n",
    "    return state\n",
    "    "
   ]
  },
  {
   "cell_type": "code",
   "execution_count": 40,
   "id": "49da1aea-7e34-4934-bd72-f1730e894fe7",
   "metadata": {},
   "outputs": [],
   "source": [
    "def tools_router(state:AgentState):\n",
    "    last_message=state[\"messages\"][-1]\n",
    "\n",
    "    if hasattr(last_message,\"tool_calls\") and len(last_message.tool_calls)>0:\n",
    "        return \"tool_node\"\n",
    "    else:\n",
    "        return \"end\""
   ]
  },
  {
   "cell_type": "code",
   "execution_count": 41,
   "id": "98a4f4f3-9861-4270-9745-3e84e8fe4f9b",
   "metadata": {},
   "outputs": [],
   "source": [
    "tool_node=ToolNode(tools=tools,messages_key=\"messages\")"
   ]
  },
  {
   "cell_type": "code",
   "execution_count": 42,
   "id": "744f123e-81ef-4a83-9970-10380e24424a",
   "metadata": {},
   "outputs": [],
   "source": [
    "graph=StateGraph(state_schema=AgentState)"
   ]
  },
  {
   "cell_type": "code",
   "execution_count": 43,
   "id": "6b381444-08ab-47d5-8037-e7181f72b263",
   "metadata": {},
   "outputs": [
    {
     "data": {
      "text/plain": [
       "<langgraph.graph.state.StateGraph at 0x2342b720550>"
      ]
     },
     "execution_count": 43,
     "metadata": {},
     "output_type": "execute_result"
    }
   ],
   "source": [
    "graph.add_node(node=\"model\",action=model)"
   ]
  },
  {
   "cell_type": "code",
   "execution_count": 44,
   "id": "645e0319-626d-4bb9-a93c-92ebe247ac93",
   "metadata": {},
   "outputs": [
    {
     "data": {
      "text/plain": [
       "<langgraph.graph.state.StateGraph at 0x2342b720550>"
      ]
     },
     "execution_count": 44,
     "metadata": {},
     "output_type": "execute_result"
    }
   ],
   "source": [
    "graph.add_node(node=\"tool_node\",action=tool_node)"
   ]
  },
  {
   "cell_type": "code",
   "execution_count": 45,
   "id": "80fe4ec5-b4fa-4e14-bb23-5d6479edab34",
   "metadata": {},
   "outputs": [
    {
     "data": {
      "text/plain": [
       "<langgraph.graph.state.StateGraph at 0x2342b720550>"
      ]
     },
     "execution_count": 45,
     "metadata": {},
     "output_type": "execute_result"
    }
   ],
   "source": [
    "graph.set_entry_point(key=\"model\")"
   ]
  },
  {
   "cell_type": "code",
   "execution_count": 46,
   "id": "3c7e811e-1fd7-4698-bc90-a290e77b8d27",
   "metadata": {},
   "outputs": [
    {
     "data": {
      "text/plain": [
       "<langgraph.graph.state.StateGraph at 0x2342b720550>"
      ]
     },
     "execution_count": 46,
     "metadata": {},
     "output_type": "execute_result"
    }
   ],
   "source": [
    "graph.add_conditional_edges(source=\"model\",path=tools_router,path_map={\"tool_node\":\"tool_node\",\"end\":END})"
   ]
  },
  {
   "cell_type": "code",
   "execution_count": 47,
   "id": "b37ffbd7-3708-4ce1-9d3d-2a6f58c1661f",
   "metadata": {},
   "outputs": [
    {
     "data": {
      "text/plain": [
       "<langgraph.graph.state.StateGraph at 0x2342b720550>"
      ]
     },
     "execution_count": 47,
     "metadata": {},
     "output_type": "execute_result"
    }
   ],
   "source": [
    "graph.add_edge(start_key=\"tool_node\",end_key=\"model\")"
   ]
  },
  {
   "cell_type": "code",
   "execution_count": 48,
   "id": "a34c8ad4-fd13-474b-9a8a-fc8c6e328003",
   "metadata": {},
   "outputs": [],
   "source": [
    "app=graph.compile()"
   ]
  },
  {
   "cell_type": "code",
   "execution_count": 49,
   "id": "9066f40b",
   "metadata": {},
   "outputs": [
    {
     "name": "stdout",
     "output_type": "stream",
     "text": [
      "          +-----------+           \n",
      "          | __start__ |           \n",
      "          +-----------+           \n",
      "                 *                \n",
      "                 *                \n",
      "                 *                \n",
      "            +-------+             \n",
      "            | model |             \n",
      "            +-------+.            \n",
      "           **         ..          \n",
      "         **             ..        \n",
      "        *                 .       \n",
      "+-----------+         +---------+ \n",
      "| tool_node |         | __end__ | \n",
      "+-----------+         +---------+ \n"
     ]
    }
   ],
   "source": [
    "print(app.get_graph().draw_ascii())"
   ]
  },
  {
   "cell_type": "code",
   "execution_count": 50,
   "id": "41eb0666-e48d-4efb-8a71-8bc5212d7f3f",
   "metadata": {},
   "outputs": [
    {
     "ename": "KeyboardInterrupt",
     "evalue": "",
     "output_type": "error",
     "traceback": [
      "\u001b[31m---------------------------------------------------------------------------\u001b[39m",
      "\u001b[31mTimeoutError\u001b[39m                              Traceback (most recent call last)",
      "\u001b[36mFile \u001b[39m\u001b[32mc:\\Users\\MSI\\anaconda3\\envs\\lcnenv\\Lib\\http\\client.py:1395\u001b[39m, in \u001b[36mHTTPConnection.getresponse\u001b[39m\u001b[34m(self)\u001b[39m\n\u001b[32m   1394\u001b[39m \u001b[38;5;28;01mtry\u001b[39;00m:\n\u001b[32m-> \u001b[39m\u001b[32m1395\u001b[39m     \u001b[43mresponse\u001b[49m\u001b[43m.\u001b[49m\u001b[43mbegin\u001b[49m\u001b[43m(\u001b[49m\u001b[43m)\u001b[49m\n\u001b[32m   1396\u001b[39m \u001b[38;5;28;01mexcept\u001b[39;00m \u001b[38;5;167;01mConnectionError\u001b[39;00m:\n",
      "\u001b[36mFile \u001b[39m\u001b[32mc:\\Users\\MSI\\anaconda3\\envs\\lcnenv\\Lib\\http\\client.py:325\u001b[39m, in \u001b[36mHTTPResponse.begin\u001b[39m\u001b[34m(self)\u001b[39m\n\u001b[32m    324\u001b[39m \u001b[38;5;28;01mwhile\u001b[39;00m \u001b[38;5;28;01mTrue\u001b[39;00m:\n\u001b[32m--> \u001b[39m\u001b[32m325\u001b[39m     version, status, reason = \u001b[38;5;28;43mself\u001b[39;49m\u001b[43m.\u001b[49m\u001b[43m_read_status\u001b[49m\u001b[43m(\u001b[49m\u001b[43m)\u001b[49m\n\u001b[32m    326\u001b[39m     \u001b[38;5;28;01mif\u001b[39;00m status != CONTINUE:\n",
      "\u001b[36mFile \u001b[39m\u001b[32mc:\\Users\\MSI\\anaconda3\\envs\\lcnenv\\Lib\\http\\client.py:286\u001b[39m, in \u001b[36mHTTPResponse._read_status\u001b[39m\u001b[34m(self)\u001b[39m\n\u001b[32m    285\u001b[39m \u001b[38;5;28;01mdef\u001b[39;00m\u001b[38;5;250m \u001b[39m\u001b[34m_read_status\u001b[39m(\u001b[38;5;28mself\u001b[39m):\n\u001b[32m--> \u001b[39m\u001b[32m286\u001b[39m     line = \u001b[38;5;28mstr\u001b[39m(\u001b[38;5;28;43mself\u001b[39;49m\u001b[43m.\u001b[49m\u001b[43mfp\u001b[49m\u001b[43m.\u001b[49m\u001b[43mreadline\u001b[49m\u001b[43m(\u001b[49m\u001b[43m_MAXLINE\u001b[49m\u001b[43m \u001b[49m\u001b[43m+\u001b[49m\u001b[43m \u001b[49m\u001b[32;43m1\u001b[39;49m\u001b[43m)\u001b[49m, \u001b[33m\"\u001b[39m\u001b[33miso-8859-1\u001b[39m\u001b[33m\"\u001b[39m)\n\u001b[32m    287\u001b[39m     \u001b[38;5;28;01mif\u001b[39;00m \u001b[38;5;28mlen\u001b[39m(line) > _MAXLINE:\n",
      "\u001b[36mFile \u001b[39m\u001b[32mc:\\Users\\MSI\\anaconda3\\envs\\lcnenv\\Lib\\socket.py:718\u001b[39m, in \u001b[36mSocketIO.readinto\u001b[39m\u001b[34m(self, b)\u001b[39m\n\u001b[32m    717\u001b[39m \u001b[38;5;28;01mtry\u001b[39;00m:\n\u001b[32m--> \u001b[39m\u001b[32m718\u001b[39m     \u001b[38;5;28;01mreturn\u001b[39;00m \u001b[38;5;28;43mself\u001b[39;49m\u001b[43m.\u001b[49m\u001b[43m_sock\u001b[49m\u001b[43m.\u001b[49m\u001b[43mrecv_into\u001b[49m\u001b[43m(\u001b[49m\u001b[43mb\u001b[49m\u001b[43m)\u001b[49m\n\u001b[32m    719\u001b[39m \u001b[38;5;28;01mexcept\u001b[39;00m timeout:\n",
      "\u001b[36mFile \u001b[39m\u001b[32mc:\\Users\\MSI\\anaconda3\\envs\\lcnenv\\Lib\\ssl.py:1314\u001b[39m, in \u001b[36mSSLSocket.recv_into\u001b[39m\u001b[34m(self, buffer, nbytes, flags)\u001b[39m\n\u001b[32m   1311\u001b[39m         \u001b[38;5;28;01mraise\u001b[39;00m \u001b[38;5;167;01mValueError\u001b[39;00m(\n\u001b[32m   1312\u001b[39m           \u001b[33m\"\u001b[39m\u001b[33mnon-zero flags not allowed in calls to recv_into() on \u001b[39m\u001b[38;5;132;01m%s\u001b[39;00m\u001b[33m\"\u001b[39m %\n\u001b[32m   1313\u001b[39m           \u001b[38;5;28mself\u001b[39m.\u001b[34m__class__\u001b[39m)\n\u001b[32m-> \u001b[39m\u001b[32m1314\u001b[39m     \u001b[38;5;28;01mreturn\u001b[39;00m \u001b[38;5;28;43mself\u001b[39;49m\u001b[43m.\u001b[49m\u001b[43mread\u001b[49m\u001b[43m(\u001b[49m\u001b[43mnbytes\u001b[49m\u001b[43m,\u001b[49m\u001b[43m \u001b[49m\u001b[43mbuffer\u001b[49m\u001b[43m)\u001b[49m\n\u001b[32m   1315\u001b[39m \u001b[38;5;28;01melse\u001b[39;00m:\n",
      "\u001b[36mFile \u001b[39m\u001b[32mc:\\Users\\MSI\\anaconda3\\envs\\lcnenv\\Lib\\ssl.py:1166\u001b[39m, in \u001b[36mSSLSocket.read\u001b[39m\u001b[34m(self, len, buffer)\u001b[39m\n\u001b[32m   1165\u001b[39m \u001b[38;5;28;01mif\u001b[39;00m buffer \u001b[38;5;129;01mis\u001b[39;00m \u001b[38;5;129;01mnot\u001b[39;00m \u001b[38;5;28;01mNone\u001b[39;00m:\n\u001b[32m-> \u001b[39m\u001b[32m1166\u001b[39m     \u001b[38;5;28;01mreturn\u001b[39;00m \u001b[38;5;28;43mself\u001b[39;49m\u001b[43m.\u001b[49m\u001b[43m_sslobj\u001b[49m\u001b[43m.\u001b[49m\u001b[43mread\u001b[49m\u001b[43m(\u001b[49m\u001b[38;5;28;43mlen\u001b[39;49m\u001b[43m,\u001b[49m\u001b[43m \u001b[49m\u001b[43mbuffer\u001b[49m\u001b[43m)\u001b[49m\n\u001b[32m   1167\u001b[39m \u001b[38;5;28;01melse\u001b[39;00m:\n",
      "\u001b[31mTimeoutError\u001b[39m: The read operation timed out",
      "\nDuring handling of the above exception, another exception occurred:\n",
      "\u001b[31mKeyboardInterrupt\u001b[39m                         Traceback (most recent call last)",
      "\u001b[36mCell\u001b[39m\u001b[36m \u001b[39m\u001b[32mIn[50]\u001b[39m\u001b[32m, line 1\u001b[39m\n\u001b[32m----> \u001b[39m\u001b[32m1\u001b[39m display(Image(data=\u001b[43mapp\u001b[49m\u001b[43m.\u001b[49m\u001b[43mget_graph\u001b[49m\u001b[43m(\u001b[49m\u001b[43mxray\u001b[49m\u001b[43m=\u001b[49m\u001b[38;5;28;43;01mTrue\u001b[39;49;00m\u001b[43m)\u001b[49m\u001b[43m.\u001b[49m\u001b[43mdraw_mermaid_png\u001b[49m\u001b[43m(\u001b[49m\u001b[43m)\u001b[49m))\n",
      "\u001b[36mFile \u001b[39m\u001b[32mc:\\Users\\MSI\\anaconda3\\envs\\lcnenv\\Lib\\site-packages\\langchain_core\\runnables\\graph.py:683\u001b[39m, in \u001b[36mGraph.draw_mermaid_png\u001b[39m\u001b[34m(self, curve_style, node_colors, wrap_label_n_words, output_file_path, draw_method, background_color, padding, max_retries, retry_delay, frontmatter_config)\u001b[39m\n\u001b[32m    675\u001b[39m \u001b[38;5;28;01mfrom\u001b[39;00m\u001b[38;5;250m \u001b[39m\u001b[34;01mlangchain_core\u001b[39;00m\u001b[34;01m.\u001b[39;00m\u001b[34;01mrunnables\u001b[39;00m\u001b[34;01m.\u001b[39;00m\u001b[34;01mgraph_mermaid\u001b[39;00m\u001b[38;5;250m \u001b[39m\u001b[38;5;28;01mimport\u001b[39;00m draw_mermaid_png\n\u001b[32m    677\u001b[39m mermaid_syntax = \u001b[38;5;28mself\u001b[39m.draw_mermaid(\n\u001b[32m    678\u001b[39m     curve_style=curve_style,\n\u001b[32m    679\u001b[39m     node_colors=node_colors,\n\u001b[32m    680\u001b[39m     wrap_label_n_words=wrap_label_n_words,\n\u001b[32m    681\u001b[39m     frontmatter_config=frontmatter_config,\n\u001b[32m    682\u001b[39m )\n\u001b[32m--> \u001b[39m\u001b[32m683\u001b[39m \u001b[38;5;28;01mreturn\u001b[39;00m \u001b[43mdraw_mermaid_png\u001b[49m\u001b[43m(\u001b[49m\n\u001b[32m    684\u001b[39m \u001b[43m    \u001b[49m\u001b[43mmermaid_syntax\u001b[49m\u001b[43m=\u001b[49m\u001b[43mmermaid_syntax\u001b[49m\u001b[43m,\u001b[49m\n\u001b[32m    685\u001b[39m \u001b[43m    \u001b[49m\u001b[43moutput_file_path\u001b[49m\u001b[43m=\u001b[49m\u001b[43moutput_file_path\u001b[49m\u001b[43m,\u001b[49m\n\u001b[32m    686\u001b[39m \u001b[43m    \u001b[49m\u001b[43mdraw_method\u001b[49m\u001b[43m=\u001b[49m\u001b[43mdraw_method\u001b[49m\u001b[43m,\u001b[49m\n\u001b[32m    687\u001b[39m \u001b[43m    \u001b[49m\u001b[43mbackground_color\u001b[49m\u001b[43m=\u001b[49m\u001b[43mbackground_color\u001b[49m\u001b[43m,\u001b[49m\n\u001b[32m    688\u001b[39m \u001b[43m    \u001b[49m\u001b[43mpadding\u001b[49m\u001b[43m=\u001b[49m\u001b[43mpadding\u001b[49m\u001b[43m,\u001b[49m\n\u001b[32m    689\u001b[39m \u001b[43m    \u001b[49m\u001b[43mmax_retries\u001b[49m\u001b[43m=\u001b[49m\u001b[43mmax_retries\u001b[49m\u001b[43m,\u001b[49m\n\u001b[32m    690\u001b[39m \u001b[43m    \u001b[49m\u001b[43mretry_delay\u001b[49m\u001b[43m=\u001b[49m\u001b[43mretry_delay\u001b[49m\u001b[43m,\u001b[49m\n\u001b[32m    691\u001b[39m \u001b[43m\u001b[49m\u001b[43m)\u001b[49m\n",
      "\u001b[36mFile \u001b[39m\u001b[32mc:\\Users\\MSI\\anaconda3\\envs\\lcnenv\\Lib\\site-packages\\langchain_core\\runnables\\graph_mermaid.py:293\u001b[39m, in \u001b[36mdraw_mermaid_png\u001b[39m\u001b[34m(mermaid_syntax, output_file_path, draw_method, background_color, padding, max_retries, retry_delay)\u001b[39m\n\u001b[32m    287\u001b[39m     img_bytes = asyncio.run(\n\u001b[32m    288\u001b[39m         _render_mermaid_using_pyppeteer(\n\u001b[32m    289\u001b[39m             mermaid_syntax, output_file_path, background_color, padding\n\u001b[32m    290\u001b[39m         )\n\u001b[32m    291\u001b[39m     )\n\u001b[32m    292\u001b[39m \u001b[38;5;28;01melif\u001b[39;00m draw_method == MermaidDrawMethod.API:\n\u001b[32m--> \u001b[39m\u001b[32m293\u001b[39m     img_bytes = \u001b[43m_render_mermaid_using_api\u001b[49m\u001b[43m(\u001b[49m\n\u001b[32m    294\u001b[39m \u001b[43m        \u001b[49m\u001b[43mmermaid_syntax\u001b[49m\u001b[43m,\u001b[49m\n\u001b[32m    295\u001b[39m \u001b[43m        \u001b[49m\u001b[43moutput_file_path\u001b[49m\u001b[43m=\u001b[49m\u001b[43moutput_file_path\u001b[49m\u001b[43m,\u001b[49m\n\u001b[32m    296\u001b[39m \u001b[43m        \u001b[49m\u001b[43mbackground_color\u001b[49m\u001b[43m=\u001b[49m\u001b[43mbackground_color\u001b[49m\u001b[43m,\u001b[49m\n\u001b[32m    297\u001b[39m \u001b[43m        \u001b[49m\u001b[43mmax_retries\u001b[49m\u001b[43m=\u001b[49m\u001b[43mmax_retries\u001b[49m\u001b[43m,\u001b[49m\n\u001b[32m    298\u001b[39m \u001b[43m        \u001b[49m\u001b[43mretry_delay\u001b[49m\u001b[43m=\u001b[49m\u001b[43mretry_delay\u001b[49m\u001b[43m,\u001b[49m\n\u001b[32m    299\u001b[39m \u001b[43m    \u001b[49m\u001b[43m)\u001b[49m\n\u001b[32m    300\u001b[39m \u001b[38;5;28;01melse\u001b[39;00m:\n\u001b[32m    301\u001b[39m     supported_methods = \u001b[33m\"\u001b[39m\u001b[33m, \u001b[39m\u001b[33m\"\u001b[39m.join([m.value \u001b[38;5;28;01mfor\u001b[39;00m m \u001b[38;5;129;01min\u001b[39;00m MermaidDrawMethod])\n",
      "\u001b[36mFile \u001b[39m\u001b[32mc:\\Users\\MSI\\anaconda3\\envs\\lcnenv\\Lib\\site-packages\\langchain_core\\runnables\\graph_mermaid.py:430\u001b[39m, in \u001b[36m_render_mermaid_using_api\u001b[39m\u001b[34m(mermaid_syntax, output_file_path, background_color, file_type, max_retries, retry_delay)\u001b[39m\n\u001b[32m    428\u001b[39m \u001b[38;5;28;01mfor\u001b[39;00m attempt \u001b[38;5;129;01min\u001b[39;00m \u001b[38;5;28mrange\u001b[39m(max_retries + \u001b[32m1\u001b[39m):\n\u001b[32m    429\u001b[39m     \u001b[38;5;28;01mtry\u001b[39;00m:\n\u001b[32m--> \u001b[39m\u001b[32m430\u001b[39m         response = \u001b[43mrequests\u001b[49m\u001b[43m.\u001b[49m\u001b[43mget\u001b[49m\u001b[43m(\u001b[49m\u001b[43mimage_url\u001b[49m\u001b[43m,\u001b[49m\u001b[43m \u001b[49m\u001b[43mtimeout\u001b[49m\u001b[43m=\u001b[49m\u001b[32;43m10\u001b[39;49m\u001b[43m)\u001b[49m\n\u001b[32m    431\u001b[39m         \u001b[38;5;28;01mif\u001b[39;00m response.status_code == requests.codes.ok:\n\u001b[32m    432\u001b[39m             img_bytes = response.content\n",
      "\u001b[36mFile \u001b[39m\u001b[32mc:\\Users\\MSI\\anaconda3\\envs\\lcnenv\\Lib\\site-packages\\requests\\api.py:73\u001b[39m, in \u001b[36mget\u001b[39m\u001b[34m(url, params, **kwargs)\u001b[39m\n\u001b[32m     62\u001b[39m \u001b[38;5;28;01mdef\u001b[39;00m\u001b[38;5;250m \u001b[39m\u001b[34mget\u001b[39m(url, params=\u001b[38;5;28;01mNone\u001b[39;00m, **kwargs):\n\u001b[32m     63\u001b[39m \u001b[38;5;250m    \u001b[39m\u001b[33mr\u001b[39m\u001b[33;03m\"\"\"Sends a GET request.\u001b[39;00m\n\u001b[32m     64\u001b[39m \n\u001b[32m     65\u001b[39m \u001b[33;03m    :param url: URL for the new :class:`Request` object.\u001b[39;00m\n\u001b[32m   (...)\u001b[39m\u001b[32m     70\u001b[39m \u001b[33;03m    :rtype: requests.Response\u001b[39;00m\n\u001b[32m     71\u001b[39m \u001b[33;03m    \"\"\"\u001b[39;00m\n\u001b[32m---> \u001b[39m\u001b[32m73\u001b[39m     \u001b[38;5;28;01mreturn\u001b[39;00m \u001b[43mrequest\u001b[49m\u001b[43m(\u001b[49m\u001b[33;43m\"\u001b[39;49m\u001b[33;43mget\u001b[39;49m\u001b[33;43m\"\u001b[39;49m\u001b[43m,\u001b[49m\u001b[43m \u001b[49m\u001b[43murl\u001b[49m\u001b[43m,\u001b[49m\u001b[43m \u001b[49m\u001b[43mparams\u001b[49m\u001b[43m=\u001b[49m\u001b[43mparams\u001b[49m\u001b[43m,\u001b[49m\u001b[43m \u001b[49m\u001b[43m*\u001b[49m\u001b[43m*\u001b[49m\u001b[43mkwargs\u001b[49m\u001b[43m)\u001b[49m\n",
      "\u001b[36mFile \u001b[39m\u001b[32mc:\\Users\\MSI\\anaconda3\\envs\\lcnenv\\Lib\\site-packages\\requests\\api.py:59\u001b[39m, in \u001b[36mrequest\u001b[39m\u001b[34m(method, url, **kwargs)\u001b[39m\n\u001b[32m     55\u001b[39m \u001b[38;5;66;03m# By using the 'with' statement we are sure the session is closed, thus we\u001b[39;00m\n\u001b[32m     56\u001b[39m \u001b[38;5;66;03m# avoid leaving sockets open which can trigger a ResourceWarning in some\u001b[39;00m\n\u001b[32m     57\u001b[39m \u001b[38;5;66;03m# cases, and look like a memory leak in others.\u001b[39;00m\n\u001b[32m     58\u001b[39m \u001b[38;5;28;01mwith\u001b[39;00m sessions.Session() \u001b[38;5;28;01mas\u001b[39;00m session:\n\u001b[32m---> \u001b[39m\u001b[32m59\u001b[39m     \u001b[38;5;28;01mreturn\u001b[39;00m \u001b[43msession\u001b[49m\u001b[43m.\u001b[49m\u001b[43mrequest\u001b[49m\u001b[43m(\u001b[49m\u001b[43mmethod\u001b[49m\u001b[43m=\u001b[49m\u001b[43mmethod\u001b[49m\u001b[43m,\u001b[49m\u001b[43m \u001b[49m\u001b[43murl\u001b[49m\u001b[43m=\u001b[49m\u001b[43murl\u001b[49m\u001b[43m,\u001b[49m\u001b[43m \u001b[49m\u001b[43m*\u001b[49m\u001b[43m*\u001b[49m\u001b[43mkwargs\u001b[49m\u001b[43m)\u001b[49m\n",
      "\u001b[36mFile \u001b[39m\u001b[32mc:\\Users\\MSI\\anaconda3\\envs\\lcnenv\\Lib\\site-packages\\requests\\sessions.py:589\u001b[39m, in \u001b[36mSession.request\u001b[39m\u001b[34m(self, method, url, params, data, headers, cookies, files, auth, timeout, allow_redirects, proxies, hooks, stream, verify, cert, json)\u001b[39m\n\u001b[32m    584\u001b[39m send_kwargs = {\n\u001b[32m    585\u001b[39m     \u001b[33m\"\u001b[39m\u001b[33mtimeout\u001b[39m\u001b[33m\"\u001b[39m: timeout,\n\u001b[32m    586\u001b[39m     \u001b[33m\"\u001b[39m\u001b[33mallow_redirects\u001b[39m\u001b[33m\"\u001b[39m: allow_redirects,\n\u001b[32m    587\u001b[39m }\n\u001b[32m    588\u001b[39m send_kwargs.update(settings)\n\u001b[32m--> \u001b[39m\u001b[32m589\u001b[39m resp = \u001b[38;5;28;43mself\u001b[39;49m\u001b[43m.\u001b[49m\u001b[43msend\u001b[49m\u001b[43m(\u001b[49m\u001b[43mprep\u001b[49m\u001b[43m,\u001b[49m\u001b[43m \u001b[49m\u001b[43m*\u001b[49m\u001b[43m*\u001b[49m\u001b[43msend_kwargs\u001b[49m\u001b[43m)\u001b[49m\n\u001b[32m    591\u001b[39m \u001b[38;5;28;01mreturn\u001b[39;00m resp\n",
      "\u001b[36mFile \u001b[39m\u001b[32mc:\\Users\\MSI\\anaconda3\\envs\\lcnenv\\Lib\\site-packages\\requests\\sessions.py:703\u001b[39m, in \u001b[36mSession.send\u001b[39m\u001b[34m(self, request, **kwargs)\u001b[39m\n\u001b[32m    700\u001b[39m start = preferred_clock()\n\u001b[32m    702\u001b[39m \u001b[38;5;66;03m# Send the request\u001b[39;00m\n\u001b[32m--> \u001b[39m\u001b[32m703\u001b[39m r = \u001b[43madapter\u001b[49m\u001b[43m.\u001b[49m\u001b[43msend\u001b[49m\u001b[43m(\u001b[49m\u001b[43mrequest\u001b[49m\u001b[43m,\u001b[49m\u001b[43m \u001b[49m\u001b[43m*\u001b[49m\u001b[43m*\u001b[49m\u001b[43mkwargs\u001b[49m\u001b[43m)\u001b[49m\n\u001b[32m    705\u001b[39m \u001b[38;5;66;03m# Total elapsed time of the request (approximately)\u001b[39;00m\n\u001b[32m    706\u001b[39m elapsed = preferred_clock() - start\n",
      "\u001b[36mFile \u001b[39m\u001b[32mc:\\Users\\MSI\\anaconda3\\envs\\lcnenv\\Lib\\site-packages\\requests\\adapters.py:667\u001b[39m, in \u001b[36mHTTPAdapter.send\u001b[39m\u001b[34m(self, request, stream, timeout, verify, cert, proxies)\u001b[39m\n\u001b[32m    664\u001b[39m     timeout = TimeoutSauce(connect=timeout, read=timeout)\n\u001b[32m    666\u001b[39m \u001b[38;5;28;01mtry\u001b[39;00m:\n\u001b[32m--> \u001b[39m\u001b[32m667\u001b[39m     resp = \u001b[43mconn\u001b[49m\u001b[43m.\u001b[49m\u001b[43murlopen\u001b[49m\u001b[43m(\u001b[49m\n\u001b[32m    668\u001b[39m \u001b[43m        \u001b[49m\u001b[43mmethod\u001b[49m\u001b[43m=\u001b[49m\u001b[43mrequest\u001b[49m\u001b[43m.\u001b[49m\u001b[43mmethod\u001b[49m\u001b[43m,\u001b[49m\n\u001b[32m    669\u001b[39m \u001b[43m        \u001b[49m\u001b[43murl\u001b[49m\u001b[43m=\u001b[49m\u001b[43murl\u001b[49m\u001b[43m,\u001b[49m\n\u001b[32m    670\u001b[39m \u001b[43m        \u001b[49m\u001b[43mbody\u001b[49m\u001b[43m=\u001b[49m\u001b[43mrequest\u001b[49m\u001b[43m.\u001b[49m\u001b[43mbody\u001b[49m\u001b[43m,\u001b[49m\n\u001b[32m    671\u001b[39m \u001b[43m        \u001b[49m\u001b[43mheaders\u001b[49m\u001b[43m=\u001b[49m\u001b[43mrequest\u001b[49m\u001b[43m.\u001b[49m\u001b[43mheaders\u001b[49m\u001b[43m,\u001b[49m\n\u001b[32m    672\u001b[39m \u001b[43m        \u001b[49m\u001b[43mredirect\u001b[49m\u001b[43m=\u001b[49m\u001b[38;5;28;43;01mFalse\u001b[39;49;00m\u001b[43m,\u001b[49m\n\u001b[32m    673\u001b[39m \u001b[43m        \u001b[49m\u001b[43massert_same_host\u001b[49m\u001b[43m=\u001b[49m\u001b[38;5;28;43;01mFalse\u001b[39;49;00m\u001b[43m,\u001b[49m\n\u001b[32m    674\u001b[39m \u001b[43m        \u001b[49m\u001b[43mpreload_content\u001b[49m\u001b[43m=\u001b[49m\u001b[38;5;28;43;01mFalse\u001b[39;49;00m\u001b[43m,\u001b[49m\n\u001b[32m    675\u001b[39m \u001b[43m        \u001b[49m\u001b[43mdecode_content\u001b[49m\u001b[43m=\u001b[49m\u001b[38;5;28;43;01mFalse\u001b[39;49;00m\u001b[43m,\u001b[49m\n\u001b[32m    676\u001b[39m \u001b[43m        \u001b[49m\u001b[43mretries\u001b[49m\u001b[43m=\u001b[49m\u001b[38;5;28;43mself\u001b[39;49m\u001b[43m.\u001b[49m\u001b[43mmax_retries\u001b[49m\u001b[43m,\u001b[49m\n\u001b[32m    677\u001b[39m \u001b[43m        \u001b[49m\u001b[43mtimeout\u001b[49m\u001b[43m=\u001b[49m\u001b[43mtimeout\u001b[49m\u001b[43m,\u001b[49m\n\u001b[32m    678\u001b[39m \u001b[43m        \u001b[49m\u001b[43mchunked\u001b[49m\u001b[43m=\u001b[49m\u001b[43mchunked\u001b[49m\u001b[43m,\u001b[49m\n\u001b[32m    679\u001b[39m \u001b[43m    \u001b[49m\u001b[43m)\u001b[49m\n\u001b[32m    681\u001b[39m \u001b[38;5;28;01mexcept\u001b[39;00m (ProtocolError, \u001b[38;5;167;01mOSError\u001b[39;00m) \u001b[38;5;28;01mas\u001b[39;00m err:\n\u001b[32m    682\u001b[39m     \u001b[38;5;28;01mraise\u001b[39;00m \u001b[38;5;167;01mConnectionError\u001b[39;00m(err, request=request)\n",
      "\u001b[36mFile \u001b[39m\u001b[32mc:\\Users\\MSI\\anaconda3\\envs\\lcnenv\\Lib\\site-packages\\urllib3\\connectionpool.py:787\u001b[39m, in \u001b[36mHTTPConnectionPool.urlopen\u001b[39m\u001b[34m(self, method, url, body, headers, retries, redirect, assert_same_host, timeout, pool_timeout, release_conn, chunked, body_pos, preload_content, decode_content, **response_kw)\u001b[39m\n\u001b[32m    784\u001b[39m response_conn = conn \u001b[38;5;28;01mif\u001b[39;00m \u001b[38;5;129;01mnot\u001b[39;00m release_conn \u001b[38;5;28;01melse\u001b[39;00m \u001b[38;5;28;01mNone\u001b[39;00m\n\u001b[32m    786\u001b[39m \u001b[38;5;66;03m# Make the request on the HTTPConnection object\u001b[39;00m\n\u001b[32m--> \u001b[39m\u001b[32m787\u001b[39m response = \u001b[38;5;28;43mself\u001b[39;49m\u001b[43m.\u001b[49m\u001b[43m_make_request\u001b[49m\u001b[43m(\u001b[49m\n\u001b[32m    788\u001b[39m \u001b[43m    \u001b[49m\u001b[43mconn\u001b[49m\u001b[43m,\u001b[49m\n\u001b[32m    789\u001b[39m \u001b[43m    \u001b[49m\u001b[43mmethod\u001b[49m\u001b[43m,\u001b[49m\n\u001b[32m    790\u001b[39m \u001b[43m    \u001b[49m\u001b[43murl\u001b[49m\u001b[43m,\u001b[49m\n\u001b[32m    791\u001b[39m \u001b[43m    \u001b[49m\u001b[43mtimeout\u001b[49m\u001b[43m=\u001b[49m\u001b[43mtimeout_obj\u001b[49m\u001b[43m,\u001b[49m\n\u001b[32m    792\u001b[39m \u001b[43m    \u001b[49m\u001b[43mbody\u001b[49m\u001b[43m=\u001b[49m\u001b[43mbody\u001b[49m\u001b[43m,\u001b[49m\n\u001b[32m    793\u001b[39m \u001b[43m    \u001b[49m\u001b[43mheaders\u001b[49m\u001b[43m=\u001b[49m\u001b[43mheaders\u001b[49m\u001b[43m,\u001b[49m\n\u001b[32m    794\u001b[39m \u001b[43m    \u001b[49m\u001b[43mchunked\u001b[49m\u001b[43m=\u001b[49m\u001b[43mchunked\u001b[49m\u001b[43m,\u001b[49m\n\u001b[32m    795\u001b[39m \u001b[43m    \u001b[49m\u001b[43mretries\u001b[49m\u001b[43m=\u001b[49m\u001b[43mretries\u001b[49m\u001b[43m,\u001b[49m\n\u001b[32m    796\u001b[39m \u001b[43m    \u001b[49m\u001b[43mresponse_conn\u001b[49m\u001b[43m=\u001b[49m\u001b[43mresponse_conn\u001b[49m\u001b[43m,\u001b[49m\n\u001b[32m    797\u001b[39m \u001b[43m    \u001b[49m\u001b[43mpreload_content\u001b[49m\u001b[43m=\u001b[49m\u001b[43mpreload_content\u001b[49m\u001b[43m,\u001b[49m\n\u001b[32m    798\u001b[39m \u001b[43m    \u001b[49m\u001b[43mdecode_content\u001b[49m\u001b[43m=\u001b[49m\u001b[43mdecode_content\u001b[49m\u001b[43m,\u001b[49m\n\u001b[32m    799\u001b[39m \u001b[43m    \u001b[49m\u001b[43m*\u001b[49m\u001b[43m*\u001b[49m\u001b[43mresponse_kw\u001b[49m\u001b[43m,\u001b[49m\n\u001b[32m    800\u001b[39m \u001b[43m\u001b[49m\u001b[43m)\u001b[49m\n\u001b[32m    802\u001b[39m \u001b[38;5;66;03m# Everything went great!\u001b[39;00m\n\u001b[32m    803\u001b[39m clean_exit = \u001b[38;5;28;01mTrue\u001b[39;00m\n",
      "\u001b[36mFile \u001b[39m\u001b[32mc:\\Users\\MSI\\anaconda3\\envs\\lcnenv\\Lib\\site-packages\\urllib3\\connectionpool.py:534\u001b[39m, in \u001b[36mHTTPConnectionPool._make_request\u001b[39m\u001b[34m(self, conn, method, url, body, headers, retries, timeout, chunked, response_conn, preload_content, decode_content, enforce_content_length)\u001b[39m\n\u001b[32m    532\u001b[39m \u001b[38;5;66;03m# Receive the response from the server\u001b[39;00m\n\u001b[32m    533\u001b[39m \u001b[38;5;28;01mtry\u001b[39;00m:\n\u001b[32m--> \u001b[39m\u001b[32m534\u001b[39m     response = \u001b[43mconn\u001b[49m\u001b[43m.\u001b[49m\u001b[43mgetresponse\u001b[49m\u001b[43m(\u001b[49m\u001b[43m)\u001b[49m\n\u001b[32m    535\u001b[39m \u001b[38;5;28;01mexcept\u001b[39;00m (BaseSSLError, \u001b[38;5;167;01mOSError\u001b[39;00m) \u001b[38;5;28;01mas\u001b[39;00m e:\n\u001b[32m    536\u001b[39m     \u001b[38;5;28mself\u001b[39m._raise_timeout(err=e, url=url, timeout_value=read_timeout)\n",
      "\u001b[36mFile \u001b[39m\u001b[32mc:\\Users\\MSI\\anaconda3\\envs\\lcnenv\\Lib\\site-packages\\urllib3\\connection.py:516\u001b[39m, in \u001b[36mHTTPConnection.getresponse\u001b[39m\u001b[34m(self)\u001b[39m\n\u001b[32m    513\u001b[39m _shutdown = \u001b[38;5;28mgetattr\u001b[39m(\u001b[38;5;28mself\u001b[39m.sock, \u001b[33m\"\u001b[39m\u001b[33mshutdown\u001b[39m\u001b[33m\"\u001b[39m, \u001b[38;5;28;01mNone\u001b[39;00m)\n\u001b[32m    515\u001b[39m \u001b[38;5;66;03m# Get the response from http.client.HTTPConnection\u001b[39;00m\n\u001b[32m--> \u001b[39m\u001b[32m516\u001b[39m httplib_response = \u001b[38;5;28;43msuper\u001b[39;49m\u001b[43m(\u001b[49m\u001b[43m)\u001b[49m\u001b[43m.\u001b[49m\u001b[43mgetresponse\u001b[49m\u001b[43m(\u001b[49m\u001b[43m)\u001b[49m\n\u001b[32m    518\u001b[39m \u001b[38;5;28;01mtry\u001b[39;00m:\n\u001b[32m    519\u001b[39m     assert_header_parsing(httplib_response.msg)\n",
      "\u001b[36mFile \u001b[39m\u001b[32mc:\\Users\\MSI\\anaconda3\\envs\\lcnenv\\Lib\\http\\client.py:1411\u001b[39m, in \u001b[36mHTTPConnection.getresponse\u001b[39m\u001b[34m(self)\u001b[39m\n\u001b[32m   1409\u001b[39m     \u001b[38;5;28;01mreturn\u001b[39;00m response\n\u001b[32m   1410\u001b[39m \u001b[38;5;28;01mexcept\u001b[39;00m:\n\u001b[32m-> \u001b[39m\u001b[32m1411\u001b[39m     \u001b[43mresponse\u001b[49m\u001b[43m.\u001b[49m\u001b[43mclose\u001b[49m\u001b[43m(\u001b[49m\u001b[43m)\u001b[49m\n\u001b[32m   1412\u001b[39m     \u001b[38;5;28;01mraise\u001b[39;00m\n",
      "\u001b[36mFile \u001b[39m\u001b[32mc:\\Users\\MSI\\anaconda3\\envs\\lcnenv\\Lib\\http\\client.py:424\u001b[39m, in \u001b[36mHTTPResponse.close\u001b[39m\u001b[34m(self)\u001b[39m\n\u001b[32m    421\u001b[39m     \u001b[38;5;28mself\u001b[39m.fp = \u001b[38;5;28;01mNone\u001b[39;00m\n\u001b[32m    422\u001b[39m     fp.close()\n\u001b[32m--> \u001b[39m\u001b[32m424\u001b[39m \u001b[38;5;28;01mdef\u001b[39;00m\u001b[38;5;250m \u001b[39m\u001b[34mclose\u001b[39m(\u001b[38;5;28mself\u001b[39m):\n\u001b[32m    425\u001b[39m     \u001b[38;5;28;01mtry\u001b[39;00m:\n\u001b[32m    426\u001b[39m         \u001b[38;5;28msuper\u001b[39m().close() \u001b[38;5;66;03m# set \"closed\" flag\u001b[39;00m\n",
      "\u001b[31mKeyboardInterrupt\u001b[39m: "
     ]
    }
   ],
   "source": [
    "display(Image(data=app.get_graph(xray=True).draw_mermaid_png()))"
   ]
  },
  {
   "cell_type": "code",
   "execution_count": 51,
   "id": "a83550fb-ac39-4c20-871b-f2c76a5deabf",
   "metadata": {},
   "outputs": [],
   "source": [
    "input={\n",
    "    \"messages\":[\"What's the current weather in Bangalore?\"]\n",
    "}"
   ]
  },
  {
   "cell_type": "code",
   "execution_count": 52,
   "id": "b540aece-9f33-45c5-a81d-a16e34f9774f",
   "metadata": {
    "scrolled": true
   },
   "outputs": [
    {
     "data": {
      "text/plain": [
       "{'messages': [HumanMessage(content=\"What's the current weather in Bangalore?\", additional_kwargs={}, response_metadata={}, id='2fd824f9-8fe3-49d5-8ed3-2a9e502847cf'),\n",
       "  AIMessage(content='', additional_kwargs={'function_call': {'name': 'tavily_search_results_json', 'arguments': '{\"query\": \"weather in Bangalore\"}'}}, response_metadata={'prompt_feedback': {'block_reason': 0, 'safety_ratings': []}, 'finish_reason': 'STOP', 'model_name': 'gemini-2.0-flash-001', 'safety_ratings': []}, id='run-9c9adf99-35d5-41da-8412-b05ba606edda-0', tool_calls=[{'name': 'tavily_search_results_json', 'args': {'query': 'weather in Bangalore'}, 'id': '4ffb8f90-7b5a-4793-8a8d-c9c7a05819ff', 'type': 'tool_call'}], usage_metadata={'input_tokens': 58, 'output_tokens': 12, 'total_tokens': 70, 'input_token_details': {'cache_read': 0}}),\n",
       "  ToolMessage(content='[{\"title\": \"Bengaluru Weather Forecast 18 May 2025 - Times of India\", \"url\": \"https://timesofindia.indiatimes.com/weather/bengaluru-weather-forecast-today/560001\", \"content\": \"Today\\'s Weather in Bengaluru: In Bengaluru today, the weather is expected to be Partly Cloudy with a maximum temperature of 28°C and a minimum of 22°C.\", \"score\": 0.94276565}, {\"title\": \"Bangalore Weather Today (Sunday, May 18, 2025) - India Today\", \"url\": \"https://www.indiatoday.in/weather/bangalore-weather-forecast-today\", \"content\": \"The minimum temperature in Bangalore today is likely to hover around 21 degrees Celsius, while the maximum temperature might reach 26 degrees Celsius.\", \"score\": 0.921929}]', name='tavily_search_results_json', id='d9709225-a89f-4239-bd51-bf9483dfb433', tool_call_id='4ffb8f90-7b5a-4793-8a8d-c9c7a05819ff', artifact={'query': 'weather in Bangalore', 'follow_up_questions': None, 'answer': None, 'images': [], 'results': [{'url': 'https://timesofindia.indiatimes.com/weather/bengaluru-weather-forecast-today/560001', 'title': 'Bengaluru Weather Forecast 18 May 2025 - Times of India', 'content': \"Today's Weather in Bengaluru: In Bengaluru today, the weather is expected to be Partly Cloudy with a maximum temperature of 28°C and a minimum of 22°C.\", 'score': 0.94276565, 'raw_content': None}, {'url': 'https://www.indiatoday.in/weather/bangalore-weather-forecast-today', 'title': 'Bangalore Weather Today (Sunday, May 18, 2025) - India Today', 'content': 'The minimum temperature in Bangalore today is likely to hover around 21 degrees Celsius, while the maximum temperature might reach 26 degrees Celsius.', 'score': 0.921929, 'raw_content': None}], 'response_time': 2.03}),\n",
       "  AIMessage(content='The weather in Bangalore today, May 18, 2025, is expected to be Partly Cloudy. The maximum temperature will be 28°C and the minimum will be 22°C, according to the Times of India. India Today reports a maximum of 26°C and a minimum of 21°C.', additional_kwargs={}, response_metadata={'prompt_feedback': {'block_reason': 0, 'safety_ratings': []}, 'finish_reason': 'STOP', 'model_name': 'gemini-2.0-flash-001', 'safety_ratings': []}, id='run-da756147-8c7d-4b0a-8e0d-c749d7c3ab52-0', usage_metadata={'input_tokens': 242, 'output_tokens': 74, 'total_tokens': 316, 'input_token_details': {'cache_read': 0}})]}"
      ]
     },
     "execution_count": 52,
     "metadata": {},
     "output_type": "execute_result"
    }
   ],
   "source": [
    "app.invoke(input=input)"
   ]
  },
  {
   "cell_type": "code",
   "execution_count": 53,
   "id": "ec2246fe-7714-48c2-aa7b-d1c39b2ce669",
   "metadata": {},
   "outputs": [],
   "source": [
    "events=app.stream(input=input, stream_mode=\"values\")"
   ]
  },
  {
   "cell_type": "code",
   "execution_count": 54,
   "id": "a07c05df-1d24-4e3e-9e95-b22130da0b48",
   "metadata": {
    "scrolled": true
   },
   "outputs": [
    {
     "name": "stdout",
     "output_type": "stream",
     "text": [
      "{'messages': [HumanMessage(content=\"What's the current weather in Bangalore?\", additional_kwargs={}, response_metadata={}, id='8c64d29b-394b-4ea1-bfd9-01f8bcdb3ecd')]} \n",
      "\n",
      "{'messages': [HumanMessage(content=\"What's the current weather in Bangalore?\", additional_kwargs={}, response_metadata={}, id='8c64d29b-394b-4ea1-bfd9-01f8bcdb3ecd'), AIMessage(content='', additional_kwargs={'function_call': {'name': 'tavily_search_results_json', 'arguments': '{\"query\": \"weather in Bangalore\"}'}}, response_metadata={'prompt_feedback': {'block_reason': 0, 'safety_ratings': []}, 'finish_reason': 'STOP', 'model_name': 'gemini-2.0-flash-001', 'safety_ratings': []}, id='run-57b6cf67-64c6-45b6-9981-dafc085a0917-0', tool_calls=[{'name': 'tavily_search_results_json', 'args': {'query': 'weather in Bangalore'}, 'id': 'cdf2ee13-9626-4ed4-8bcb-6ea3516e9fe6', 'type': 'tool_call'}], usage_metadata={'input_tokens': 58, 'output_tokens': 12, 'total_tokens': 70, 'input_token_details': {'cache_read': 0}})]} \n",
      "\n",
      "{'messages': [HumanMessage(content=\"What's the current weather in Bangalore?\", additional_kwargs={}, response_metadata={}, id='8c64d29b-394b-4ea1-bfd9-01f8bcdb3ecd'), AIMessage(content='', additional_kwargs={'function_call': {'name': 'tavily_search_results_json', 'arguments': '{\"query\": \"weather in Bangalore\"}'}}, response_metadata={'prompt_feedback': {'block_reason': 0, 'safety_ratings': []}, 'finish_reason': 'STOP', 'model_name': 'gemini-2.0-flash-001', 'safety_ratings': []}, id='run-57b6cf67-64c6-45b6-9981-dafc085a0917-0', tool_calls=[{'name': 'tavily_search_results_json', 'args': {'query': 'weather in Bangalore'}, 'id': 'cdf2ee13-9626-4ed4-8bcb-6ea3516e9fe6', 'type': 'tool_call'}], usage_metadata={'input_tokens': 58, 'output_tokens': 12, 'total_tokens': 70, 'input_token_details': {'cache_read': 0}}), ToolMessage(content='[{\"title\": \"Bengaluru Weather Forecast 18 May 2025 - Times of India\", \"url\": \"https://timesofindia.indiatimes.com/weather/bengaluru-weather-forecast-today/560001\", \"content\": \"Today\\'s Weather in Bengaluru: In Bengaluru today, the weather is expected to be Partly Cloudy with a maximum temperature of 28°C and a minimum of 22°C.\", \"score\": 0.94276565}, {\"title\": \"Bangalore Weather Today (Sunday, May 18, 2025) - India Today\", \"url\": \"https://www.indiatoday.in/weather/bangalore-weather-forecast-today\", \"content\": \"The minimum temperature in Bangalore today is likely to hover around 21 degrees Celsius, while the maximum temperature might reach 26 degrees Celsius.\", \"score\": 0.921929}]', name='tavily_search_results_json', id='0674a6d5-96b1-4325-91f1-c0d6bd32bf59', tool_call_id='cdf2ee13-9626-4ed4-8bcb-6ea3516e9fe6', artifact={'query': 'weather in Bangalore', 'follow_up_questions': None, 'answer': None, 'images': [], 'results': [{'url': 'https://timesofindia.indiatimes.com/weather/bengaluru-weather-forecast-today/560001', 'title': 'Bengaluru Weather Forecast 18 May 2025 - Times of India', 'content': \"Today's Weather in Bengaluru: In Bengaluru today, the weather is expected to be Partly Cloudy with a maximum temperature of 28°C and a minimum of 22°C.\", 'score': 0.94276565, 'raw_content': None}, {'url': 'https://www.indiatoday.in/weather/bangalore-weather-forecast-today', 'title': 'Bangalore Weather Today (Sunday, May 18, 2025) - India Today', 'content': 'The minimum temperature in Bangalore today is likely to hover around 21 degrees Celsius, while the maximum temperature might reach 26 degrees Celsius.', 'score': 0.921929, 'raw_content': None}], 'response_time': 2.07})]} \n",
      "\n",
      "{'messages': [HumanMessage(content=\"What's the current weather in Bangalore?\", additional_kwargs={}, response_metadata={}, id='8c64d29b-394b-4ea1-bfd9-01f8bcdb3ecd'), AIMessage(content='', additional_kwargs={'function_call': {'name': 'tavily_search_results_json', 'arguments': '{\"query\": \"weather in Bangalore\"}'}}, response_metadata={'prompt_feedback': {'block_reason': 0, 'safety_ratings': []}, 'finish_reason': 'STOP', 'model_name': 'gemini-2.0-flash-001', 'safety_ratings': []}, id='run-57b6cf67-64c6-45b6-9981-dafc085a0917-0', tool_calls=[{'name': 'tavily_search_results_json', 'args': {'query': 'weather in Bangalore'}, 'id': 'cdf2ee13-9626-4ed4-8bcb-6ea3516e9fe6', 'type': 'tool_call'}], usage_metadata={'input_tokens': 58, 'output_tokens': 12, 'total_tokens': 70, 'input_token_details': {'cache_read': 0}}), ToolMessage(content='[{\"title\": \"Bengaluru Weather Forecast 18 May 2025 - Times of India\", \"url\": \"https://timesofindia.indiatimes.com/weather/bengaluru-weather-forecast-today/560001\", \"content\": \"Today\\'s Weather in Bengaluru: In Bengaluru today, the weather is expected to be Partly Cloudy with a maximum temperature of 28°C and a minimum of 22°C.\", \"score\": 0.94276565}, {\"title\": \"Bangalore Weather Today (Sunday, May 18, 2025) - India Today\", \"url\": \"https://www.indiatoday.in/weather/bangalore-weather-forecast-today\", \"content\": \"The minimum temperature in Bangalore today is likely to hover around 21 degrees Celsius, while the maximum temperature might reach 26 degrees Celsius.\", \"score\": 0.921929}]', name='tavily_search_results_json', id='0674a6d5-96b1-4325-91f1-c0d6bd32bf59', tool_call_id='cdf2ee13-9626-4ed4-8bcb-6ea3516e9fe6', artifact={'query': 'weather in Bangalore', 'follow_up_questions': None, 'answer': None, 'images': [], 'results': [{'url': 'https://timesofindia.indiatimes.com/weather/bengaluru-weather-forecast-today/560001', 'title': 'Bengaluru Weather Forecast 18 May 2025 - Times of India', 'content': \"Today's Weather in Bengaluru: In Bengaluru today, the weather is expected to be Partly Cloudy with a maximum temperature of 28°C and a minimum of 22°C.\", 'score': 0.94276565, 'raw_content': None}, {'url': 'https://www.indiatoday.in/weather/bangalore-weather-forecast-today', 'title': 'Bangalore Weather Today (Sunday, May 18, 2025) - India Today', 'content': 'The minimum temperature in Bangalore today is likely to hover around 21 degrees Celsius, while the maximum temperature might reach 26 degrees Celsius.', 'score': 0.921929, 'raw_content': None}], 'response_time': 2.07}), AIMessage(content='The weather in Bangalore today is expected to be Partly Cloudy. The maximum temperature will be 28°C and the minimum will be 22°C. Another source indicates a high of 26°C and a low of 21°C.', additional_kwargs={}, response_metadata={'prompt_feedback': {'block_reason': 0, 'safety_ratings': []}, 'finish_reason': 'STOP', 'model_name': 'gemini-2.0-flash-001', 'safety_ratings': []}, id='run-e154fe84-06a0-4f9b-88f2-0d12b6984ea2-0', usage_metadata={'input_tokens': 242, 'output_tokens': 55, 'total_tokens': 297, 'input_token_details': {'cache_read': 0}})]} \n",
      "\n"
     ]
    }
   ],
   "source": [
    "for event in events:\n",
    "    print(event,\"\\n\")"
   ]
  },
  {
   "cell_type": "code",
   "execution_count": 55,
   "id": "218ef42b-257f-4164-aaa6-8c9e4e6d3b1a",
   "metadata": {},
   "outputs": [],
   "source": [
    "events=app.stream(input=input, stream_mode=\"updates\")"
   ]
  },
  {
   "cell_type": "code",
   "execution_count": 56,
   "id": "3fcc996d-8c27-4796-867f-f4c0b85a3dbc",
   "metadata": {},
   "outputs": [
    {
     "name": "stdout",
     "output_type": "stream",
     "text": [
      "{'model': {'messages': [AIMessage(content='', additional_kwargs={'function_call': {'name': 'tavily_search_results_json', 'arguments': '{\"query\": \"weather in Bangalore\"}'}}, response_metadata={'prompt_feedback': {'block_reason': 0, 'safety_ratings': []}, 'finish_reason': 'STOP', 'model_name': 'gemini-2.0-flash-001', 'safety_ratings': []}, id='run-c4254f7e-0db7-4df0-b4b6-3e200f9a29e6-0', tool_calls=[{'name': 'tavily_search_results_json', 'args': {'query': 'weather in Bangalore'}, 'id': '43960402-3c6a-44f9-9bad-3d941bc0cd21', 'type': 'tool_call'}], usage_metadata={'input_tokens': 58, 'output_tokens': 12, 'total_tokens': 70, 'input_token_details': {'cache_read': 0}})]}} \n",
      "\n",
      "{'tool_node': {'messages': [ToolMessage(content='[{\"title\": \"Bengaluru Weather Forecast 18 May 2025 - Times of India\", \"url\": \"https://timesofindia.indiatimes.com/weather/bengaluru-weather-forecast-today/560001\", \"content\": \"Today\\'s Weather in Bengaluru: In Bengaluru today, the weather is expected to be Partly Cloudy with a maximum temperature of 28°C and a minimum of 22°C.\", \"score\": 0.94276565}, {\"title\": \"Bangalore Weather Today (Sunday, May 18, 2025) - India Today\", \"url\": \"https://www.indiatoday.in/weather/bangalore-weather-forecast-today\", \"content\": \"The minimum temperature in Bangalore today is likely to hover around 21 degrees Celsius, while the maximum temperature might reach 26 degrees Celsius.\", \"score\": 0.921929}]', name='tavily_search_results_json', id='74548a40-0d8f-455a-929c-398d36330bef', tool_call_id='43960402-3c6a-44f9-9bad-3d941bc0cd21', artifact={'query': 'weather in Bangalore', 'follow_up_questions': None, 'answer': None, 'images': [], 'results': [{'url': 'https://timesofindia.indiatimes.com/weather/bengaluru-weather-forecast-today/560001', 'title': 'Bengaluru Weather Forecast 18 May 2025 - Times of India', 'content': \"Today's Weather in Bengaluru: In Bengaluru today, the weather is expected to be Partly Cloudy with a maximum temperature of 28°C and a minimum of 22°C.\", 'score': 0.94276565, 'raw_content': None}, {'url': 'https://www.indiatoday.in/weather/bangalore-weather-forecast-today', 'title': 'Bangalore Weather Today (Sunday, May 18, 2025) - India Today', 'content': 'The minimum temperature in Bangalore today is likely to hover around 21 degrees Celsius, while the maximum temperature might reach 26 degrees Celsius.', 'score': 0.921929, 'raw_content': None}], 'response_time': 2.26})]}} \n",
      "\n",
      "{'model': {'messages': [AIMessage(content='The weather in Bangalore today, May 18, 2025, is expected to be partly cloudy. The maximum temperature will be 28°C and the minimum will be 22°C, according to the Times of India. India Today reports a maximum of 26°C and a minimum of 21°C.', additional_kwargs={}, response_metadata={'prompt_feedback': {'block_reason': 0, 'safety_ratings': []}, 'finish_reason': 'STOP', 'model_name': 'gemini-2.0-flash-001', 'safety_ratings': []}, id='run-780eec09-1901-4187-8d6c-85d166955ad5-0', usage_metadata={'input_tokens': 242, 'output_tokens': 74, 'total_tokens': 316, 'input_token_details': {'cache_read': 0}})]}} \n",
      "\n"
     ]
    }
   ],
   "source": [
    "for event in events:\n",
    "    print(event,\"\\n\")"
   ]
  },
  {
   "cell_type": "code",
   "execution_count": 57,
   "id": "9dfdb79d-e26a-4b93-ab2b-a3b8d9029354",
   "metadata": {},
   "outputs": [],
   "source": [
    "input={\n",
    "    \"messages\":[\"Hi how are you?\"]\n",
    "}"
   ]
  },
  {
   "cell_type": "code",
   "execution_count": 58,
   "id": "ae13e5ec-9085-4a23-98b8-61649e4de248",
   "metadata": {},
   "outputs": [],
   "source": [
    "events=app.astream_events(input=input, version=\"v2\")"
   ]
  },
  {
   "cell_type": "code",
   "execution_count": 59,
   "id": "110633c2-0725-4241-87d1-d0e063359a7f",
   "metadata": {},
   "outputs": [
    {
     "name": "stdout",
     "output_type": "stream",
     "text": [
      "{'event': 'on_chain_start', 'data': {'input': {'messages': ['Hi how are you?']}}, 'name': 'LangGraph', 'tags': [], 'run_id': 'e1f5f870-6a32-4027-b932-99e13a4ea104', 'metadata': {}, 'parent_ids': []} \n",
      "\n",
      "{'event': 'on_chain_start', 'data': {'input': {'messages': [HumanMessage(content='Hi how are you?', additional_kwargs={}, response_metadata={}, id='5597075d-0aba-4b48-aeb1-56ba2a88787c')]}}, 'name': 'model', 'tags': ['graph:step:1'], 'run_id': '39837551-9ae9-4adc-a649-2ba255175db4', 'metadata': {'langgraph_step': 1, 'langgraph_node': 'model', 'langgraph_triggers': ('branch:to:model',), 'langgraph_path': ('__pregel_pull', 'model'), 'langgraph_checkpoint_ns': 'model:5a6bc4f7-ad45-461a-1ee6-7d92718d4a23'}, 'parent_ids': ['e1f5f870-6a32-4027-b932-99e13a4ea104']} \n",
      "\n",
      "{'event': 'on_chat_model_start', 'data': {'input': {'messages': [[HumanMessage(content='Hi how are you?', additional_kwargs={}, response_metadata={}, id='5597075d-0aba-4b48-aeb1-56ba2a88787c')]]}}, 'name': 'ChatGoogleGenerativeAI', 'tags': ['seq:step:1'], 'run_id': '253efaaa-32a0-478b-9e41-e341ba8fd2c5', 'metadata': {'langgraph_step': 1, 'langgraph_node': 'model', 'langgraph_triggers': ('branch:to:model',), 'langgraph_path': ('__pregel_pull', 'model'), 'langgraph_checkpoint_ns': 'model:5a6bc4f7-ad45-461a-1ee6-7d92718d4a23', 'checkpoint_ns': 'model:5a6bc4f7-ad45-461a-1ee6-7d92718d4a23', 'ls_provider': 'google_genai', 'ls_model_name': 'models/gemini-2.0-flash-001', 'ls_model_type': 'chat', 'ls_temperature': 0.7}, 'parent_ids': ['e1f5f870-6a32-4027-b932-99e13a4ea104', '39837551-9ae9-4adc-a649-2ba255175db4']} \n",
      "\n",
      "{'event': 'on_chat_model_stream', 'data': {'chunk': AIMessageChunk(content='I am doing well', additional_kwargs={}, response_metadata={'safety_ratings': []}, id='run-253efaaa-32a0-478b-9e41-e341ba8fd2c5', usage_metadata={'input_tokens': 79, 'output_tokens': 0, 'total_tokens': 79, 'input_token_details': {'cache_read': 0}})}, 'run_id': '253efaaa-32a0-478b-9e41-e341ba8fd2c5', 'name': 'ChatGoogleGenerativeAI', 'tags': ['seq:step:1'], 'metadata': {'langgraph_step': 1, 'langgraph_node': 'model', 'langgraph_triggers': ('branch:to:model',), 'langgraph_path': ('__pregel_pull', 'model'), 'langgraph_checkpoint_ns': 'model:5a6bc4f7-ad45-461a-1ee6-7d92718d4a23', 'checkpoint_ns': 'model:5a6bc4f7-ad45-461a-1ee6-7d92718d4a23', 'ls_provider': 'google_genai', 'ls_model_name': 'models/gemini-2.0-flash-001', 'ls_model_type': 'chat', 'ls_temperature': 0.7}, 'parent_ids': ['e1f5f870-6a32-4027-b932-99e13a4ea104', '39837551-9ae9-4adc-a649-2ba255175db4']} \n",
      "\n",
      "{'event': 'on_chat_model_stream', 'data': {'chunk': AIMessageChunk(content=', thank you for asking! How can I help you today?', additional_kwargs={}, response_metadata={'finish_reason': 'STOP', 'model_name': 'gemini-2.0-flash-001', 'safety_ratings': []}, id='run-253efaaa-32a0-478b-9e41-e341ba8fd2c5', usage_metadata={'input_tokens': -25, 'output_tokens': 18, 'total_tokens': -7, 'input_token_details': {'cache_read': 0}})}, 'run_id': '253efaaa-32a0-478b-9e41-e341ba8fd2c5', 'name': 'ChatGoogleGenerativeAI', 'tags': ['seq:step:1'], 'metadata': {'langgraph_step': 1, 'langgraph_node': 'model', 'langgraph_triggers': ('branch:to:model',), 'langgraph_path': ('__pregel_pull', 'model'), 'langgraph_checkpoint_ns': 'model:5a6bc4f7-ad45-461a-1ee6-7d92718d4a23', 'checkpoint_ns': 'model:5a6bc4f7-ad45-461a-1ee6-7d92718d4a23', 'ls_provider': 'google_genai', 'ls_model_name': 'models/gemini-2.0-flash-001', 'ls_model_type': 'chat', 'ls_temperature': 0.7}, 'parent_ids': ['e1f5f870-6a32-4027-b932-99e13a4ea104', '39837551-9ae9-4adc-a649-2ba255175db4']} \n",
      "\n",
      "{'event': 'on_chat_model_end', 'data': {'output': AIMessage(content='I am doing well, thank you for asking! How can I help you today?', additional_kwargs={}, response_metadata={'safety_ratings': [], 'finish_reason': 'STOP', 'model_name': 'gemini-2.0-flash-001'}, id='run-253efaaa-32a0-478b-9e41-e341ba8fd2c5', usage_metadata={'input_tokens': 54, 'output_tokens': 18, 'total_tokens': 72, 'input_token_details': {'cache_read': 0}}), 'input': {'messages': [[HumanMessage(content='Hi how are you?', additional_kwargs={}, response_metadata={}, id='5597075d-0aba-4b48-aeb1-56ba2a88787c')]]}}, 'run_id': '253efaaa-32a0-478b-9e41-e341ba8fd2c5', 'name': 'ChatGoogleGenerativeAI', 'tags': ['seq:step:1'], 'metadata': {'langgraph_step': 1, 'langgraph_node': 'model', 'langgraph_triggers': ('branch:to:model',), 'langgraph_path': ('__pregel_pull', 'model'), 'langgraph_checkpoint_ns': 'model:5a6bc4f7-ad45-461a-1ee6-7d92718d4a23', 'checkpoint_ns': 'model:5a6bc4f7-ad45-461a-1ee6-7d92718d4a23', 'ls_provider': 'google_genai', 'ls_model_name': 'models/gemini-2.0-flash-001', 'ls_model_type': 'chat', 'ls_temperature': 0.7}, 'parent_ids': ['e1f5f870-6a32-4027-b932-99e13a4ea104', '39837551-9ae9-4adc-a649-2ba255175db4']} \n",
      "\n",
      "{'event': 'on_chain_start', 'data': {'input': {'messages': [HumanMessage(content='Hi how are you?', additional_kwargs={}, response_metadata={}, id='5597075d-0aba-4b48-aeb1-56ba2a88787c'), AIMessage(content='I am doing well, thank you for asking! How can I help you today?', additional_kwargs={}, response_metadata={'safety_ratings': [], 'finish_reason': 'STOP', 'model_name': 'gemini-2.0-flash-001'}, id='run-253efaaa-32a0-478b-9e41-e341ba8fd2c5', usage_metadata={'input_tokens': 54, 'output_tokens': 18, 'total_tokens': 72, 'input_token_details': {'cache_read': 0}})]}}, 'name': 'tools_router', 'tags': ['seq:step:3'], 'run_id': '69c47883-5236-4807-86ed-ba57076d7930', 'metadata': {'langgraph_step': 1, 'langgraph_node': 'model', 'langgraph_triggers': ('branch:to:model',), 'langgraph_path': ('__pregel_pull', 'model'), 'langgraph_checkpoint_ns': 'model:5a6bc4f7-ad45-461a-1ee6-7d92718d4a23'}, 'parent_ids': ['e1f5f870-6a32-4027-b932-99e13a4ea104', '39837551-9ae9-4adc-a649-2ba255175db4']} \n",
      "\n",
      "{'event': 'on_chain_end', 'data': {'output': 'end', 'input': {'messages': [HumanMessage(content='Hi how are you?', additional_kwargs={}, response_metadata={}, id='5597075d-0aba-4b48-aeb1-56ba2a88787c'), AIMessage(content='I am doing well, thank you for asking! How can I help you today?', additional_kwargs={}, response_metadata={'safety_ratings': [], 'finish_reason': 'STOP', 'model_name': 'gemini-2.0-flash-001'}, id='run-253efaaa-32a0-478b-9e41-e341ba8fd2c5', usage_metadata={'input_tokens': 54, 'output_tokens': 18, 'total_tokens': 72, 'input_token_details': {'cache_read': 0}})]}}, 'run_id': '69c47883-5236-4807-86ed-ba57076d7930', 'name': 'tools_router', 'tags': ['seq:step:3'], 'metadata': {'langgraph_step': 1, 'langgraph_node': 'model', 'langgraph_triggers': ('branch:to:model',), 'langgraph_path': ('__pregel_pull', 'model'), 'langgraph_checkpoint_ns': 'model:5a6bc4f7-ad45-461a-1ee6-7d92718d4a23'}, 'parent_ids': ['e1f5f870-6a32-4027-b932-99e13a4ea104', '39837551-9ae9-4adc-a649-2ba255175db4']} \n",
      "\n",
      "{'event': 'on_chain_stream', 'run_id': '39837551-9ae9-4adc-a649-2ba255175db4', 'name': 'model', 'tags': ['graph:step:1'], 'metadata': {'langgraph_step': 1, 'langgraph_node': 'model', 'langgraph_triggers': ('branch:to:model',), 'langgraph_path': ('__pregel_pull', 'model'), 'langgraph_checkpoint_ns': 'model:5a6bc4f7-ad45-461a-1ee6-7d92718d4a23'}, 'data': {'chunk': {'messages': [AIMessage(content='I am doing well, thank you for asking! How can I help you today?', additional_kwargs={}, response_metadata={'safety_ratings': [], 'finish_reason': 'STOP', 'model_name': 'gemini-2.0-flash-001'}, id='run-253efaaa-32a0-478b-9e41-e341ba8fd2c5', usage_metadata={'input_tokens': 54, 'output_tokens': 18, 'total_tokens': 72, 'input_token_details': {'cache_read': 0}})]}}, 'parent_ids': ['e1f5f870-6a32-4027-b932-99e13a4ea104']} \n",
      "\n",
      "{'event': 'on_chain_end', 'data': {'output': {'messages': [AIMessage(content='I am doing well, thank you for asking! How can I help you today?', additional_kwargs={}, response_metadata={'safety_ratings': [], 'finish_reason': 'STOP', 'model_name': 'gemini-2.0-flash-001'}, id='run-253efaaa-32a0-478b-9e41-e341ba8fd2c5', usage_metadata={'input_tokens': 54, 'output_tokens': 18, 'total_tokens': 72, 'input_token_details': {'cache_read': 0}})]}, 'input': {'messages': [AIMessage(content='I am doing well, thank you for asking! How can I help you today?', additional_kwargs={}, response_metadata={'safety_ratings': [], 'finish_reason': 'STOP', 'model_name': 'gemini-2.0-flash-001'}, id='run-253efaaa-32a0-478b-9e41-e341ba8fd2c5', usage_metadata={'input_tokens': 54, 'output_tokens': 18, 'total_tokens': 72, 'input_token_details': {'cache_read': 0}})]}}, 'run_id': '39837551-9ae9-4adc-a649-2ba255175db4', 'name': 'model', 'tags': ['graph:step:1'], 'metadata': {'langgraph_step': 1, 'langgraph_node': 'model', 'langgraph_triggers': ('branch:to:model',), 'langgraph_path': ('__pregel_pull', 'model'), 'langgraph_checkpoint_ns': 'model:5a6bc4f7-ad45-461a-1ee6-7d92718d4a23'}, 'parent_ids': ['e1f5f870-6a32-4027-b932-99e13a4ea104']} \n",
      "\n",
      "{'event': 'on_chain_stream', 'run_id': 'e1f5f870-6a32-4027-b932-99e13a4ea104', 'name': 'LangGraph', 'tags': [], 'metadata': {}, 'data': {'chunk': {'model': {'messages': [AIMessage(content='I am doing well, thank you for asking! How can I help you today?', additional_kwargs={}, response_metadata={'safety_ratings': [], 'finish_reason': 'STOP', 'model_name': 'gemini-2.0-flash-001'}, id='run-253efaaa-32a0-478b-9e41-e341ba8fd2c5', usage_metadata={'input_tokens': 54, 'output_tokens': 18, 'total_tokens': 72, 'input_token_details': {'cache_read': 0}})]}}}, 'parent_ids': []} \n",
      "\n",
      "{'event': 'on_chain_end', 'data': {'output': {'messages': [HumanMessage(content='Hi how are you?', additional_kwargs={}, response_metadata={}, id='5597075d-0aba-4b48-aeb1-56ba2a88787c'), AIMessage(content='I am doing well, thank you for asking! How can I help you today?', additional_kwargs={}, response_metadata={'safety_ratings': [], 'finish_reason': 'STOP', 'model_name': 'gemini-2.0-flash-001'}, id='run-253efaaa-32a0-478b-9e41-e341ba8fd2c5', usage_metadata={'input_tokens': 54, 'output_tokens': 18, 'total_tokens': 72, 'input_token_details': {'cache_read': 0}})]}}, 'run_id': 'e1f5f870-6a32-4027-b932-99e13a4ea104', 'name': 'LangGraph', 'tags': [], 'metadata': {}, 'parent_ids': []} \n",
      "\n"
     ]
    }
   ],
   "source": [
    "async for event in events:\n",
    "    print(event,\"\\n\")"
   ]
  },
  {
   "cell_type": "code",
   "execution_count": 60,
   "id": "e9d8594c-5974-4cdc-8fef-add01a053298",
   "metadata": {},
   "outputs": [],
   "source": [
    "events=app.astream_events(input=input, version=\"v2\")"
   ]
  },
  {
   "cell_type": "code",
   "execution_count": 61,
   "id": "1ad1af66-33a5-4243-b5ac-ef6ee313d395",
   "metadata": {},
   "outputs": [
    {
     "name": "stdout",
     "output_type": "stream",
     "text": [
      "I am doing well, thank you for asking! How can I help you today?"
     ]
    }
   ],
   "source": [
    "async for event in events:\n",
    "    if event[\"event\"]==\"on_chat_model_stream\":\n",
    "        print(event['data']['chunk'].content,end=\"\",flush=True)"
   ]
  }
 ],
 "metadata": {
  "kernelspec": {
   "display_name": "lcnenv",
   "language": "python",
   "name": "python3"
  },
  "language_info": {
   "codemirror_mode": {
    "name": "ipython",
    "version": 3
   },
   "file_extension": ".py",
   "mimetype": "text/x-python",
   "name": "python",
   "nbconvert_exporter": "python",
   "pygments_lexer": "ipython3",
   "version": "3.11.11"
  }
 },
 "nbformat": 4,
 "nbformat_minor": 5
}
