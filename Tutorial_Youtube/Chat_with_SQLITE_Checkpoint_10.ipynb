{
 "cells": [
  {
   "cell_type": "code",
   "execution_count": 1,
   "id": "c8d34ba2-a64b-491a-95f8-6bccbb2606d8",
   "metadata": {},
   "outputs": [],
   "source": [
    "from typing import TypedDict, Annotated\n",
    "from langgraph.graph import add_messages, StateGraph, END\n",
    "from langchain_groq import ChatGroq\n",
    "from langchain_core.messages import AIMessage, HumanMessage\n",
    "from dotenv import load_dotenv\n",
    "from langgraph.checkpoint.sqlite import SqliteSaver\n",
    "import sqlite3"
   ]
  },
  {
   "cell_type": "code",
   "execution_count": 2,
   "id": "f2bcd80e-895a-445c-b1f7-27836e65f566",
   "metadata": {},
   "outputs": [
    {
     "data": {
      "text/plain": [
       "True"
      ]
     },
     "execution_count": 2,
     "metadata": {},
     "output_type": "execute_result"
    }
   ],
   "source": [
    "load_dotenv()"
   ]
  },
  {
   "cell_type": "code",
   "execution_count": 3,
   "id": "5b15262c-c982-4d16-8caa-f44506b4c1b8",
   "metadata": {},
   "outputs": [],
   "source": [
    "sqlite_conn=sqlite3.connect(\"db/checkpoint.sqlite\",check_same_thread=False)"
   ]
  },
  {
   "cell_type": "code",
   "execution_count": 4,
   "id": "d8656518-cceb-48e3-8cf5-82423c6e627b",
   "metadata": {},
   "outputs": [],
   "source": [
    "memory=SqliteSaver(conn=sqlite_conn)"
   ]
  },
  {
   "cell_type": "code",
   "execution_count": 5,
   "id": "df95df1f-96d8-468e-842c-a56db49b0533",
   "metadata": {},
   "outputs": [],
   "source": [
    "llmLlama=ChatGroq(model=\"llama-3.1-8b-instant\")"
   ]
  },
  {
   "cell_type": "code",
   "execution_count": 6,
   "id": "4bdb6eaf-85ba-42ed-b377-d904bcf9b4e9",
   "metadata": {},
   "outputs": [],
   "source": [
    "class BasicChatState(TypedDict):\n",
    "    messages: Annotated[list, add_messages]"
   ]
  },
  {
   "cell_type": "code",
   "execution_count": 7,
   "id": "29bda3b1-54ae-44d9-8842-ba9c823944a0",
   "metadata": {},
   "outputs": [],
   "source": [
    "def chatbot(state: BasicChatState):\n",
    "    return {\n",
    "        \"messages\":[llmLlama.invoke(input=state[\"messages\"])]\n",
    "    }"
   ]
  },
  {
   "cell_type": "code",
   "execution_count": 8,
   "id": "4c7f8878-3ab5-4543-a546-3469884d8eaa",
   "metadata": {},
   "outputs": [],
   "source": [
    "graph=StateGraph(state_schema=BasicChatState)"
   ]
  },
  {
   "cell_type": "code",
   "execution_count": 9,
   "id": "eada49ce-4977-4696-874f-7e2115d2adc4",
   "metadata": {},
   "outputs": [
    {
     "data": {
      "text/plain": [
       "<langgraph.graph.state.StateGraph at 0x1ebaabc3650>"
      ]
     },
     "execution_count": 9,
     "metadata": {},
     "output_type": "execute_result"
    }
   ],
   "source": [
    "graph.add_node(node=\"chatbot\",action=chatbot)"
   ]
  },
  {
   "cell_type": "code",
   "execution_count": 10,
   "id": "98678d06-47b2-472c-baf4-196dd6580339",
   "metadata": {},
   "outputs": [
    {
     "data": {
      "text/plain": [
       "<langgraph.graph.state.StateGraph at 0x1ebaabc3650>"
      ]
     },
     "execution_count": 10,
     "metadata": {},
     "output_type": "execute_result"
    }
   ],
   "source": [
    "graph.add_edge(start_key=\"chatbot\",end_key=END)"
   ]
  },
  {
   "cell_type": "code",
   "execution_count": 11,
   "id": "89ed136d-aeb0-4313-b527-ee8a2902496d",
   "metadata": {},
   "outputs": [
    {
     "data": {
      "text/plain": [
       "<langgraph.graph.state.StateGraph at 0x1ebaabc3650>"
      ]
     },
     "execution_count": 11,
     "metadata": {},
     "output_type": "execute_result"
    }
   ],
   "source": [
    "graph.set_entry_point(key=\"chatbot\")"
   ]
  },
  {
   "cell_type": "code",
   "execution_count": 12,
   "id": "40df1582-0ca4-487d-a8e3-4ad6e7fe5b87",
   "metadata": {},
   "outputs": [],
   "source": [
    "app=graph.compile(checkpointer=memory)"
   ]
  },
  {
   "cell_type": "code",
   "execution_count": 13,
   "id": "1967abaf-f62c-4a29-9515-745734eeb857",
   "metadata": {},
   "outputs": [],
   "source": [
    "config={\"configurable\":{\"thread_id\":2}}"
   ]
  },
  {
   "cell_type": "code",
   "execution_count": 14,
   "id": "ec29fe37-07bf-42aa-a502-b6383de55e3f",
   "metadata": {},
   "outputs": [
    {
     "name": "stdin",
     "output_type": "stream",
     "text": [
      "User:  Hi, my name is Ritish\n"
     ]
    },
    {
     "name": "stdout",
     "output_type": "stream",
     "text": [
      "Nice to meet you, Ritish. Is there something I can help you with or would you like to chat?\n"
     ]
    },
    {
     "name": "stdin",
     "output_type": "stream",
     "text": [
      "User:  I am a father of a 9 month old boy. His name is Eklavya.\n"
     ]
    },
    {
     "name": "stdout",
     "output_type": "stream",
     "text": [
      "Congratulations on being a new dad, Ritish. Being a parent is a life-changing experience, and I'm sure you must be loving every moment with Eklavya, despite the sleepless nights.\n",
      "\n",
      "At 9 months old, Eklavya is probably discovering the world around him and learning new things every day. What's his personality like? Is he a curious and adventurous baby or more of a calm and gentle soul?\n"
     ]
    },
    {
     "name": "stdin",
     "output_type": "stream",
     "text": [
      "User:  He is a very curious boy\n"
     ]
    },
    {
     "name": "stdout",
     "output_type": "stream",
     "text": [
      "That's wonderful, Ritish. Curious babies are always a delight to watch and interact with. At 9 months, Eklavya is probably naturally drawn to exploring his surroundings and figuring out how things work.\n",
      "\n",
      "What are some of his favorite things to do or explore right now? Is he interested in toys, books, or maybe even trying to play with household objects?\n",
      "\n",
      "Also, have you noticed any signs of milestones like crawling, standing, or babbling in different languages?\n"
     ]
    },
    {
     "name": "stdin",
     "output_type": "stream",
     "text": [
      "User:  He likes to play with household objects and he does crawl and can stand with support. He does babbles.\n"
     ]
    },
    {
     "name": "stdout",
     "output_type": "stream",
     "text": [
      "It sounds like Eklavya is a very active and engaged baby. Playing with household objects is a great way for him to learn about cause-and-effect and experiment with different textures and sounds.\n",
      "\n",
      "Crawling and standing with support are both big milestones, and it's wonderful that he's making progress in these areas. Standing with support means he's developing the strength and balance he needs to take his first steps soon.\n",
      "\n",
      "And babbling is a great sign of language development - it's amazing how quickly babies can go from cooing and making vowel sounds to babbling with consonants and trying to form words!\n",
      "\n",
      "What kind of babbling sounds does Eklavya make? Does he try to imitate words or make sounds that resemble the ones you and your family make?\n",
      "\n",
      "Also, what's your plan for introducing solid foods to Eklavya? Has he started solids yet or is that upcoming?\n"
     ]
    },
    {
     "name": "stdin",
     "output_type": "stream",
     "text": [
      "User:  He babbles in his own words. Yes we provide him solids since he was six months old.\n"
     ]
    },
    {
     "name": "stdout",
     "output_type": "stream",
     "text": [
      "It's great that Eklavya is babbling in his own words and attempting to communicate with you and your family. That's a sign of his language skills developing rapidly.\n",
      "\n",
      "And congratulations on introducing solid foods at six months! That's a great milestone, and it's wonderful that you're providing him with a balanced diet.\n",
      "\n",
      "At 9 months, babies often start to show preferences for certain foods or flavors. Does Eklavya have any favorite foods or textures that he enjoys?\n",
      "\n",
      "Also, how are you handling teething at this stage? Eklavya is probably starting to get his first teeth, and it can be a challenging time for babies.\n",
      "\n",
      "Lastly, what are your plans for Eklavya's future? Are you thinking about enrolling him in any classes or activities, or does he have any siblings at home?\n"
     ]
    },
    {
     "name": "stdin",
     "output_type": "stream",
     "text": [
      "User:  I want to send him to Germany. So I am saving for him.\n"
     ]
    },
    {
     "name": "stdout",
     "output_type": "stream",
     "text": [
      "That's an exciting goal, Ritish. Sending Eklavya to Germany for his education could be a fantastic opportunity for him to learn a new language, culture, and way of life.\n",
      "\n",
      "Germany is a great country with a strong education system, and it's wonderful that you're thinking ahead and planning for Eklavya's future. It's great that you're saving for his education - it's a big investment in his future, and it will likely pay off in the long run.\n",
      "\n",
      "What made you decide on Germany specifically? Do you have a personal connection to the country or a family tie?\n",
      "\n",
      "Also, have you given any thought to how Eklavya will adjust to living in a new country and language? It can be a big adjustment for children to move to a new country, especially at a young age.\n",
      "\n",
      "But it's great that you're thinking ahead and planning for his future. That's a great way to give him the best possible start in life.\n",
      "\n",
      "By the way, how's your wife handling being a new mom? Is she enjoying motherhood and taking care of Eklavya?\n"
     ]
    },
    {
     "name": "stdin",
     "output_type": "stream",
     "text": [
      "User:  What is the age of my son?\n"
     ]
    },
    {
     "name": "stdout",
     "output_type": "stream",
     "text": [
      "You mentioned earlier that your son Eklavya is 9 months old.\n"
     ]
    },
    {
     "name": "stdin",
     "output_type": "stream",
     "text": [
      "User:  exit\n"
     ]
    }
   ],
   "source": [
    "while True:\n",
    "    user_input=input(\"User: \")\n",
    "    if (user_input in [\"exit\",\"end\"]):\n",
    "        break\n",
    "    else:\n",
    "        result=app.invoke(input={\n",
    "            \"messages\":HumanMessage(content=user_input)\n",
    "        },config=config)\n",
    "        print(result['messages'][-1].content)"
   ]
  },
  {
   "cell_type": "code",
   "execution_count": null,
   "id": "b0ba8973-eccd-440c-a4d1-d6b45ad1c1c4",
   "metadata": {},
   "outputs": [
    {
     "name": "stdin",
     "output_type": "stream",
     "text": [
      "User:  What's my name?\n"
     ]
    },
    {
     "name": "stdout",
     "output_type": "stream",
     "text": [
      "Your name is Ritish.\n"
     ]
    },
    {
     "name": "stdin",
     "output_type": "stream",
     "text": [
      "User:  and my son's?\n"
     ]
    },
    {
     "name": "stdout",
     "output_type": "stream",
     "text": [
      "Your son's name is Eklavya.\n"
     ]
    }
   ],
   "source": [
    "while True:\n",
    "    user_input=input(\"User: \")\n",
    "    if (user_input in [\"exit\",\"end\"]):\n",
    "        break\n",
    "    else:\n",
    "        result=app.invoke(input={\n",
    "            \"messages\":HumanMessage(content=user_input)\n",
    "        },config=config)\n",
    "        print(result['messages'][-1].content)"
   ]
  },
  {
   "cell_type": "code",
   "execution_count": null,
   "id": "f6bc75fd-a386-497b-a345-3a73dae99525",
   "metadata": {},
   "outputs": [],
   "source": []
  }
 ],
 "metadata": {
  "kernelspec": {
   "display_name": "Python 3 (ipykernel)",
   "language": "python",
   "name": "python3"
  },
  "language_info": {
   "codemirror_mode": {
    "name": "ipython",
    "version": 3
   },
   "file_extension": ".py",
   "mimetype": "text/x-python",
   "name": "python",
   "nbconvert_exporter": "python",
   "pygments_lexer": "ipython3",
   "version": "3.11.11"
  }
 },
 "nbformat": 4,
 "nbformat_minor": 5
}
