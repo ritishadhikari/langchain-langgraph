{
 "cells": [
  {
   "cell_type": "code",
   "execution_count": 1,
   "id": "0fd95bf1-97ab-4be7-831e-ed3cea172aab",
   "metadata": {},
   "outputs": [],
   "source": [
    "from typing import TypedDict, Annotated\n",
    "from langgraph.graph import add_messages, StateGraph, END\n",
    "from langchain_groq import ChatGroq\n",
    "from langchain_core.messages import AIMessage, HumanMessage\n",
    "from dotenv import load_dotenv\n",
    "# In-memory Checkpointer\n",
    "from langgraph.checkpoint.memory import MemorySaver"
   ]
  },
  {
   "cell_type": "code",
   "execution_count": 2,
   "id": "e0f0f072-a1b4-44c9-b9d1-2dd7d5424253",
   "metadata": {},
   "outputs": [
    {
     "data": {
      "text/plain": [
       "True"
      ]
     },
     "execution_count": 2,
     "metadata": {},
     "output_type": "execute_result"
    }
   ],
   "source": [
    "load_dotenv()"
   ]
  },
  {
   "cell_type": "code",
   "execution_count": 3,
   "id": "a24d285c-d55d-40d9-aac0-c7cae0db0ca4",
   "metadata": {},
   "outputs": [],
   "source": [
    "memory=MemorySaver()"
   ]
  },
  {
   "cell_type": "code",
   "execution_count": 4,
   "id": "9f1e722e-85a2-4218-b66a-b8d96527920c",
   "metadata": {},
   "outputs": [],
   "source": [
    "llmLlama=ChatGroq(model=\"llama-3.1-8b-instant\")"
   ]
  },
  {
   "cell_type": "code",
   "execution_count": 5,
   "id": "69f207f1-83ec-4ecb-b7f1-1fbd696809f6",
   "metadata": {},
   "outputs": [],
   "source": [
    "class BasicChatState(TypedDict):\n",
    "    messages: Annotated[list, add_messages]"
   ]
  },
  {
   "cell_type": "code",
   "execution_count": 6,
   "id": "409ff162-e5b4-4a30-b259-fe60096e1a72",
   "metadata": {},
   "outputs": [],
   "source": [
    "def chatbot(state: BasicChatState):\n",
    "    return {\n",
    "        \"messages\":[llmLlama.invoke(input=state[\"messages\"])]\n",
    "    }"
   ]
  },
  {
   "cell_type": "code",
   "execution_count": 7,
   "id": "2a616be9-f223-4559-afca-be336945d380",
   "metadata": {},
   "outputs": [],
   "source": [
    "graph=StateGraph(state_schema=BasicChatState)"
   ]
  },
  {
   "cell_type": "code",
   "execution_count": 8,
   "id": "51ff7aad-f92d-41d0-9c26-7265a6c45e61",
   "metadata": {},
   "outputs": [
    {
     "data": {
      "text/plain": [
       "<langgraph.graph.state.StateGraph at 0x1453bda9ed0>"
      ]
     },
     "execution_count": 8,
     "metadata": {},
     "output_type": "execute_result"
    }
   ],
   "source": [
    "graph.add_node(node=\"chatbot\",action=chatbot)"
   ]
  },
  {
   "cell_type": "code",
   "execution_count": 9,
   "id": "fda261ff-ccfa-416f-a143-a8c429a03cb1",
   "metadata": {},
   "outputs": [
    {
     "data": {
      "text/plain": [
       "<langgraph.graph.state.StateGraph at 0x1453bda9ed0>"
      ]
     },
     "execution_count": 9,
     "metadata": {},
     "output_type": "execute_result"
    }
   ],
   "source": [
    "graph.add_edge(start_key=\"chatbot\",end_key=END)"
   ]
  },
  {
   "cell_type": "code",
   "execution_count": 10,
   "id": "b593d6c3-75c3-4103-b757-24f43729d9df",
   "metadata": {},
   "outputs": [
    {
     "data": {
      "text/plain": [
       "<langgraph.graph.state.StateGraph at 0x1453bda9ed0>"
      ]
     },
     "execution_count": 10,
     "metadata": {},
     "output_type": "execute_result"
    }
   ],
   "source": [
    "graph.set_entry_point(key=\"chatbot\")"
   ]
  },
  {
   "cell_type": "code",
   "execution_count": 11,
   "id": "434ca2ef-9604-4b41-bfb4-a9d744809fed",
   "metadata": {},
   "outputs": [],
   "source": [
    "app=graph.compile(checkpointer=memory)"
   ]
  },
  {
   "cell_type": "code",
   "execution_count": 12,
   "id": "33d70da0",
   "metadata": {},
   "outputs": [
    {
     "name": "stdout",
     "output_type": "stream",
     "text": [
      "+-----------+  \n",
      "| __start__ |  \n",
      "+-----------+  \n",
      "      *        \n",
      "      *        \n",
      "      *        \n",
      " +---------+   \n",
      " | chatbot |   \n",
      " +---------+   \n",
      "      *        \n",
      "      *        \n",
      "      *        \n",
      " +---------+   \n",
      " | __end__ |   \n",
      " +---------+   \n"
     ]
    }
   ],
   "source": [
    "app.get_graph().print_ascii()"
   ]
  },
  {
   "cell_type": "code",
   "execution_count": 13,
   "id": "40e5f691-d6c6-4276-a87b-7acc57fa3e19",
   "metadata": {},
   "outputs": [],
   "source": [
    "config={\"configurable\":{\"thread_id\":1}}"
   ]
  },
  {
   "cell_type": "code",
   "execution_count": 14,
   "id": "e9abd180-511f-446a-8070-17a0d29ccb88",
   "metadata": {},
   "outputs": [],
   "source": [
    "response1=app.invoke(input={\"messages\":HumanMessage(content=\"Hi I am Harish\")},config=config)"
   ]
  },
  {
   "cell_type": "code",
   "execution_count": 15,
   "id": "316cae5b-9d1e-40f8-a10c-48276eb818d5",
   "metadata": {},
   "outputs": [
    {
     "data": {
      "text/plain": [
       "{'messages': [HumanMessage(content='Hi I am Harish', additional_kwargs={}, response_metadata={}, id='835bf596-3e52-43ea-9965-8ab6865f8df5'),\n",
       "  AIMessage(content=\"Hello Harish, it's nice to meet you. How are you doing today? Is there anything I can help you with or would you like to chat?\", additional_kwargs={}, response_metadata={'token_usage': {'completion_tokens': 33, 'prompt_tokens': 40, 'total_tokens': 73, 'completion_time': 0.047546255, 'prompt_time': 0.003726528, 'queue_time': 0.628732633, 'total_time': 0.051272783}, 'model_name': 'llama-3.1-8b-instant', 'system_fingerprint': 'fp_c523237e5d', 'finish_reason': 'stop', 'logprobs': None}, id='run--49ecf88e-7c8c-4df0-8328-49d5c767f530-0', usage_metadata={'input_tokens': 40, 'output_tokens': 33, 'total_tokens': 73})]}"
      ]
     },
     "execution_count": 15,
     "metadata": {},
     "output_type": "execute_result"
    }
   ],
   "source": [
    "response1"
   ]
  },
  {
   "cell_type": "code",
   "execution_count": 16,
   "id": "39c3807f-955b-407d-a1aa-74410c9a907e",
   "metadata": {},
   "outputs": [],
   "source": [
    "response2=app.invoke(input={\"messages\":HumanMessage(content=\"What's my name?\")},config=config)"
   ]
  },
  {
   "cell_type": "code",
   "execution_count": 17,
   "id": "6b101aa6-1cbd-434e-b694-1449fd65b4f5",
   "metadata": {},
   "outputs": [
    {
     "data": {
      "text/plain": [
       "{'messages': [HumanMessage(content='Hi I am Harish', additional_kwargs={}, response_metadata={}, id='835bf596-3e52-43ea-9965-8ab6865f8df5'),\n",
       "  AIMessage(content=\"Hello Harish, it's nice to meet you. How are you doing today? Is there anything I can help you with or would you like to chat?\", additional_kwargs={}, response_metadata={'token_usage': {'completion_tokens': 33, 'prompt_tokens': 40, 'total_tokens': 73, 'completion_time': 0.047546255, 'prompt_time': 0.003726528, 'queue_time': 0.628732633, 'total_time': 0.051272783}, 'model_name': 'llama-3.1-8b-instant', 'system_fingerprint': 'fp_c523237e5d', 'finish_reason': 'stop', 'logprobs': None}, id='run--49ecf88e-7c8c-4df0-8328-49d5c767f530-0', usage_metadata={'input_tokens': 40, 'output_tokens': 33, 'total_tokens': 73}),\n",
       "  HumanMessage(content=\"What's my name?\", additional_kwargs={}, response_metadata={}, id='68262735-e20c-47d4-a3ea-7e49e9cdd6db'),\n",
       "  AIMessage(content='Your name is Harish.', additional_kwargs={}, response_metadata={'token_usage': {'completion_tokens': 7, 'prompt_tokens': 87, 'total_tokens': 94, 'completion_time': 0.009333333, 'prompt_time': 0.007425908, 'queue_time': 0.162408056, 'total_time': 0.016759241}, 'model_name': 'llama-3.1-8b-instant', 'system_fingerprint': 'fp_c523237e5d', 'finish_reason': 'stop', 'logprobs': None}, id='run--aeda3700-3299-4b1d-9766-cc9f1b652bc1-0', usage_metadata={'input_tokens': 87, 'output_tokens': 7, 'total_tokens': 94})]}"
      ]
     },
     "execution_count": 17,
     "metadata": {},
     "output_type": "execute_result"
    }
   ],
   "source": [
    "response2"
   ]
  },
  {
   "cell_type": "code",
   "execution_count": 18,
   "id": "cc032cf8-ef9d-4a27-959f-d7dbd891520c",
   "metadata": {},
   "outputs": [],
   "source": [
    "# get snapshot of the latest checkpoint\n",
    "snapshot=app.get_state(config=config)"
   ]
  },
  {
   "cell_type": "code",
   "execution_count": 19,
   "id": "0642ebe9-5cde-4cf9-92ce-0a5ae7a6a5eb",
   "metadata": {},
   "outputs": [
    {
     "data": {
      "text/plain": [
       "StateSnapshot(values={'messages': [HumanMessage(content='Hi I am Harish', additional_kwargs={}, response_metadata={}, id='835bf596-3e52-43ea-9965-8ab6865f8df5'), AIMessage(content=\"Hello Harish, it's nice to meet you. How are you doing today? Is there anything I can help you with or would you like to chat?\", additional_kwargs={}, response_metadata={'token_usage': {'completion_tokens': 33, 'prompt_tokens': 40, 'total_tokens': 73, 'completion_time': 0.047546255, 'prompt_time': 0.003726528, 'queue_time': 0.628732633, 'total_time': 0.051272783}, 'model_name': 'llama-3.1-8b-instant', 'system_fingerprint': 'fp_c523237e5d', 'finish_reason': 'stop', 'logprobs': None}, id='run--49ecf88e-7c8c-4df0-8328-49d5c767f530-0', usage_metadata={'input_tokens': 40, 'output_tokens': 33, 'total_tokens': 73}), HumanMessage(content=\"What's my name?\", additional_kwargs={}, response_metadata={}, id='68262735-e20c-47d4-a3ea-7e49e9cdd6db'), AIMessage(content='Your name is Harish.', additional_kwargs={}, response_metadata={'token_usage': {'completion_tokens': 7, 'prompt_tokens': 87, 'total_tokens': 94, 'completion_time': 0.009333333, 'prompt_time': 0.007425908, 'queue_time': 0.162408056, 'total_time': 0.016759241}, 'model_name': 'llama-3.1-8b-instant', 'system_fingerprint': 'fp_c523237e5d', 'finish_reason': 'stop', 'logprobs': None}, id='run--aeda3700-3299-4b1d-9766-cc9f1b652bc1-0', usage_metadata={'input_tokens': 87, 'output_tokens': 7, 'total_tokens': 94})]}, next=(), config={'configurable': {'thread_id': '1', 'checkpoint_ns': '', 'checkpoint_id': '1f06969e-b4ee-6af3-8004-3865bedd77d2'}}, metadata={'source': 'loop', 'writes': {'chatbot': {'messages': [AIMessage(content='Your name is Harish.', additional_kwargs={}, response_metadata={'token_usage': {'completion_tokens': 7, 'prompt_tokens': 87, 'total_tokens': 94, 'completion_time': 0.009333333, 'prompt_time': 0.007425908, 'queue_time': 0.162408056, 'total_time': 0.016759241}, 'model_name': 'llama-3.1-8b-instant', 'system_fingerprint': 'fp_c523237e5d', 'finish_reason': 'stop', 'logprobs': None}, id='run--aeda3700-3299-4b1d-9766-cc9f1b652bc1-0', usage_metadata={'input_tokens': 87, 'output_tokens': 7, 'total_tokens': 94})]}}, 'step': 4, 'parents': {}, 'thread_id': 1}, created_at='2025-07-25T15:13:28.878565+00:00', parent_config={'configurable': {'thread_id': '1', 'checkpoint_ns': '', 'checkpoint_id': '1f06969e-b200-6ad4-8003-18715d33642d'}}, tasks=())"
      ]
     },
     "execution_count": 19,
     "metadata": {},
     "output_type": "execute_result"
    }
   ],
   "source": [
    "snapshot"
   ]
  },
  {
   "cell_type": "code",
   "execution_count": 22,
   "id": "9ff656a4-8089-4d57-9c36-19554de0e02d",
   "metadata": {},
   "outputs": [
    {
     "name": "stdout",
     "output_type": "stream",
     "text": [
      "Since my knowledge cutoff is December 2023, I can provide information up to that date. As of my knowledge cutoff, the President of the United States was Joe Biden. However, please note that the presidency may have changed since my knowledge cutoff.\n",
      "As of my knowledge cutoff in December 2023, Narendra Modi is the Prime Minister of India. He has been serving as the Prime Minister since 2014, and his term has been extended due to the 2019 general elections, where his party, the Bharatiya Janata Party (BJP), won a majority.\n",
      "I think there might be some confusion earlier. You initially told me your name was Harish, but now you've mentioned it's actually Ritish.\n",
      "Your name is Ritish.\n"
     ]
    }
   ],
   "source": [
    "while True:\n",
    "    user_input=input(\"User: \")\n",
    "    if (user_input in [\"exit\",\"end\"]):\n",
    "        break\n",
    "    else:\n",
    "        result=app.invoke(input={\n",
    "            \"messages\":HumanMessage(content=user_input)\n",
    "        },config=config)\n",
    "        print(result['messages'][-1].content)"
   ]
  },
  {
   "cell_type": "code",
   "execution_count": null,
   "id": "0ddd4599-9cd7-438f-bc32-c41f09c9d140",
   "metadata": {},
   "outputs": [
    {
     "name": "stdout",
     "output_type": "stream",
     "text": [
      "User:  What's my name?\n"
     ]
    },
    {
     "name": "stdout",
     "output_type": "stream",
     "text": [
      "Your name is Harish.\n"
     ]
    }
   ],
   "source": [
    "while True:\n",
    "    user_input=input(\"User: \")\n",
    "    if (user_input in [\"exit\",\"end\"]):\n",
    "        break\n",
    "    else:\n",
    "        result=app.invoke(input={\n",
    "            \"messages\":HumanMessage(content=user_input)\n",
    "        },config=config)\n",
    "        print(result['messages'][-1].content)"
   ]
  },
  {
   "cell_type": "code",
   "execution_count": null,
   "id": "dab881a1-44b7-4a1a-a27a-f5648d026601",
   "metadata": {},
   "outputs": [],
   "source": []
  }
 ],
 "metadata": {
  "kernelspec": {
   "display_name": "lcnenv",
   "language": "python",
   "name": "python3"
  },
  "language_info": {
   "codemirror_mode": {
    "name": "ipython",
    "version": 3
   },
   "file_extension": ".py",
   "mimetype": "text/x-python",
   "name": "python",
   "nbconvert_exporter": "python",
   "pygments_lexer": "ipython3",
   "version": "3.11.11"
  }
 },
 "nbformat": 4,
 "nbformat_minor": 5
}
