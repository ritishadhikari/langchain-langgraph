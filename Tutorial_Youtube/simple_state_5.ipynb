{
 "cells": [
  {
   "cell_type": "code",
   "execution_count": 1,
   "id": "9dcc99f1-9c5d-4a76-85da-8be525e271f9",
   "metadata": {},
   "outputs": [],
   "source": [
    "from typing import TypedDict,List,Annotated\n",
    "from langgraph.graph import END, START, StateGraph\n",
    "import operator\n",
    "from IPython.display import Image, display\n",
    "from langchain_core.runnables.graph import MermaidDrawMethod"
   ]
  },
  {
   "cell_type": "code",
   "execution_count": 2,
   "id": "22c994bc-63d6-47b2-9ab4-f8aa743e00a5",
   "metadata": {},
   "outputs": [],
   "source": [
    "class SimpleState(TypedDict):\n",
    "    # count: int\n",
    "    count: Annotated[int,operator.add]\n",
    "    # summation: int\n",
    "    summation: Annotated[int,operator.add]\n",
    "    # tracking_sums: List['names']\n",
    "    tracking_sums: Annotated[List[int],operator.concat]"
   ]
  },
  {
   "cell_type": "code",
   "execution_count": 3,
   "id": "4459d479-28c8-4532-92c7-dd142dd3cb3c",
   "metadata": {},
   "outputs": [],
   "source": [
    "def increment(state:SimpleState) -> SimpleState:\n",
    "    # new_count=state['count'] + 1\n",
    "    # new_sum=state['summation'] + new_count\n",
    "\n",
    "    \n",
    "    return {\n",
    "        # \"count\": new_count,\n",
    "        \"count\":1,\n",
    "        # \"summation\": new_sum,\n",
    "        \"summation\": state['count'] + 1,\n",
    "        # \"tracking_sums\":state['tracking_sums'] +[new_sum],\n",
    "        \"tracking_sums\": [state['count'] + 1]\n",
    "    }"
   ]
  },
  {
   "cell_type": "code",
   "execution_count": 4,
   "id": "ca7ae822-561f-480f-9da8-53e4b7a24500",
   "metadata": {},
   "outputs": [],
   "source": [
    "def should_continue(state:SimpleState):\n",
    "    if state['count']<5:\n",
    "        return \"continue\"\n",
    "    else:\n",
    "        return \"stop\""
   ]
  },
  {
   "cell_type": "code",
   "execution_count": 5,
   "id": "51cb1b12-8b2d-43d2-b6ee-ac7ce474a495",
   "metadata": {},
   "outputs": [],
   "source": [
    "graph=StateGraph(state_schema=SimpleState)"
   ]
  },
  {
   "cell_type": "code",
   "execution_count": 6,
   "id": "b71cc7d7-e073-4fce-9b9e-4e35e20c88cf",
   "metadata": {},
   "outputs": [
    {
     "data": {
      "text/plain": [
       "<langgraph.graph.state.StateGraph at 0x1f37fd6b8d0>"
      ]
     },
     "execution_count": 6,
     "metadata": {},
     "output_type": "execute_result"
    }
   ],
   "source": [
    "graph.add_node(node=\"increment\",action=increment)"
   ]
  },
  {
   "cell_type": "code",
   "execution_count": 7,
   "id": "fa022c50-7e51-48e2-9df9-8d9236b59f44",
   "metadata": {},
   "outputs": [
    {
     "data": {
      "text/plain": [
       "<langgraph.graph.state.StateGraph at 0x1f37fd6b8d0>"
      ]
     },
     "execution_count": 7,
     "metadata": {},
     "output_type": "execute_result"
    }
   ],
   "source": [
    "graph.set_entry_point(key=\"increment\")"
   ]
  },
  {
   "cell_type": "code",
   "execution_count": 8,
   "id": "4b60aa72-1064-41b3-97f1-863f9ed9272e",
   "metadata": {},
   "outputs": [
    {
     "data": {
      "text/plain": [
       "<langgraph.graph.state.StateGraph at 0x1f37fd6b8d0>"
      ]
     },
     "execution_count": 8,
     "metadata": {},
     "output_type": "execute_result"
    }
   ],
   "source": [
    "graph.add_conditional_edges(\n",
    "                 source=\"increment\",\n",
    "                 path=should_continue,\n",
    "                 path_map={\n",
    "                     \"continue\": \"increment\",\n",
    "                     \"stop\": END\n",
    "                 }\n",
    "             )"
   ]
  },
  {
   "cell_type": "code",
   "execution_count": 9,
   "id": "9e7ab320-5f47-41e3-bab0-841fa904d006",
   "metadata": {},
   "outputs": [],
   "source": [
    "app=graph.compile()"
   ]
  },
  {
   "cell_type": "code",
   "execution_count": 10,
   "id": "c96a04f4",
   "metadata": {},
   "outputs": [
    {
     "data": {
      "image/png": "[encoded data removed]",
      "text/plain": [
       "<IPython.core.display.Image object>"
      ]
     },
     "metadata": {},
     "output_type": "display_data"
    }
   ],
   "source": [
    "display(Image(data=app.get_graph(xray=True).draw_mermaid_png(max_retries=3)))"
   ]
  },
  {
   "cell_type": "code",
   "execution_count": 11,
   "id": "331c9c93-50cf-4672-9e14-6991a37776e4",
   "metadata": {},
   "outputs": [],
   "source": [
    "state={\"count\":0,\"summation\":0,\"tracking_sums\":[]}"
   ]
  },
  {
   "cell_type": "code",
   "execution_count": 13,
   "id": "1aab5911-3724-43b6-8abc-6f605fe4dd7a",
   "metadata": {},
   "outputs": [],
   "source": [
    "result=app.invoke(input=state)"
   ]
  },
  {
   "cell_type": "code",
   "execution_count": 14,
   "id": "53ef34e3-616e-4269-b2ee-f169d32b8848",
   "metadata": {},
   "outputs": [
    {
     "data": {
      "text/plain": [
       "{'count': 5, 'summation': 15, 'tracking_sums': [1, 2, 3, 4, 5]}"
      ]
     },
     "execution_count": 14,
     "metadata": {},
     "output_type": "execute_result"
    }
   ],
   "source": [
    "result"
   ]
  },
  {
   "cell_type": "code",
   "execution_count": null,
   "id": "6a1abd56",
   "metadata": {},
   "outputs": [],
   "source": []
  }
 ],
 "metadata": {
  "kernelspec": {
   "display_name": "lcnenv",
   "language": "python",
   "name": "python3"
  },
  "language_info": {
   "codemirror_mode": {
    "name": "ipython",
    "version": 3
   },
   "file_extension": ".py",
   "mimetype": "text/x-python",
   "name": "python",
   "nbconvert_exporter": "python",
   "pygments_lexer": "ipython3",
   "version": "3.11.11"
  }
 },
 "nbformat": 4,
 "nbformat_minor": 5
}
