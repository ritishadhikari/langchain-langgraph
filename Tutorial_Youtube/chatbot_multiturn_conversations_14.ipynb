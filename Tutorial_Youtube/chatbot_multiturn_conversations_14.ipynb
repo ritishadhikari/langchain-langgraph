{
 "cells": [
  {
   "cell_type": "code",
   "execution_count": 81,
   "id": "84226da3-1576-48b3-aa15-75305faae315",
   "metadata": {},
   "outputs": [],
   "source": [
    "from langgraph.graph import StateGraph, START, END, add_messages\n",
    "from langgraph.types import Command, interrupt\n",
    "from typing import TypedDict, Annotated, List\n",
    "from langgraph.checkpoint.memory import MemorySaver\n",
    "from langchain_groq import ChatGroq\n",
    "from langchain_core.messages import HumanMessage, SystemMessage, AIMessage\n",
    "import uuid\n",
    "from langchain_core.messages import HumanMessage\n",
    "from IPython.display import Image, display"
   ]
  },
  {
   "cell_type": "code",
   "execution_count": 82,
   "id": "1c4a604c-8480-4b01-9368-5d0607fd27a2",
   "metadata": {},
   "outputs": [],
   "source": [
    "llm=ChatGroq(model=\"llama-3.1-8b-instant\")"
   ]
  },
  {
   "cell_type": "code",
   "execution_count": 105,
   "id": "586e0ada",
   "metadata": {},
   "outputs": [],
   "source": [
    "persistent_state={}"
   ]
  },
  {
   "cell_type": "code",
   "execution_count": 106,
   "id": "5a001e7d-dbcc-448e-8a88-1b7391e06c1a",
   "metadata": {},
   "outputs": [],
   "source": [
    "class State(TypedDict):\n",
    "    linkedin_topic: str\n",
    "    generated_post: Annotated[List[str], add_messages]\n",
    "    human_feedback: Annotated[List[str], add_messages]"
   ]
  },
  {
   "cell_type": "code",
   "execution_count": 107,
   "id": "a81caf0d-3d61-46cb-9fed-5b3dd59f4b35",
   "metadata": {},
   "outputs": [],
   "source": [
    "def model(state: State):\n",
    "    \"\"\"\n",
    "        Here, we're using the LLM to generate a LinkedIn Post with human feedback incorporated\n",
    "    \"\"\"\n",
    "    \n",
    "    # print(\"[model] Generating content\")\n",
    "    linkedin_topic=state['linkedin_topic']\n",
    "    feedback= state['human_feedback'][-1].content if state['human_feedback'] else \"No Feedback Yet\"\n",
    "\n",
    "    # Here we define the prompt\n",
    "    prompt=f\"\"\"\n",
    "\n",
    "    LinkedIn Topic: {linkedin_topic}\n",
    "    Human Feedback: {feedback}\n",
    "\n",
    "    Generate a structured and well written LinkedIn post based on the given topic\n",
    "\n",
    "    Consider previous human feedback to refine the response\n",
    "    \"\"\"\n",
    "    response=llm.invoke(input=[\n",
    "        SystemMessage(content=\"You are an expert LinkedIn content writer\"),\n",
    "        HumanMessage(content=prompt)\n",
    "    ])\n",
    "\n",
    "    generated_linkedin_post=response.content\n",
    "\n",
    "    # print(f\"Model Node generated post:\\n {generated_linkedin_post}\")\n",
    "\n",
    "    state['generated_post']=[AIMessage(content=generated_linkedin_post)]\n",
    "    # state['human_feedback']=[AIMessage(content=feedback)]\n",
    "    \n",
    "    model_payload={\n",
    "        \"generated_post\": [AIMessage(content=generated_linkedin_post)],\n",
    "        \"human_feedback\": [feedback]\n",
    "    }\n",
    "    # print(f\"Present State: {model_payload}\\n\")\n",
    "    persistent_state['state']=state\n",
    "    return state\n",
    "\n",
    "    "
   ]
  },
  {
   "cell_type": "code",
   "execution_count": 108,
   "id": "79025e7d-b179-4145-9434-29ff2d10f1a1",
   "metadata": {},
   "outputs": [],
   "source": [
    "def human_node(state:State):\n",
    "    \"\"\"\n",
    "        Human Intervention node - loops back to model unless input is done\n",
    "    \"\"\"\n",
    "    # print(\"\\n [human_node] awaiting human feedback...\")\n",
    "    generated_post=state[\"generated_post\"][-1]\n",
    "    \n",
    "    # Interrupt to get user feedback\n",
    "    user_feedback=interrupt(\n",
    "        value={\n",
    "            \"generated_post\":generated_post,\n",
    "            \"message\":\"Provide feedback or type 'done' to finish\"\n",
    "        }\n",
    "    )\n",
    "\n",
    "    # print(f\"[human_node] Received human feedback: {user_feedback}\")\n",
    "\n",
    "    # If user types \"done\", transition to END node\n",
    "    if user_feedback.casefold()==\"done\":\n",
    "        return Command(\n",
    "                    update={\"human_feedback\":[AIMessage(content=\"Finalised\")]},\n",
    "                    goto=\"end_node\"\n",
    "                )\n",
    "    else:\n",
    "        return Command(\n",
    "                    update={\"human_feedback\": [AIMessage(content=user_feedback)]},\n",
    "                    goto=\"model\"\n",
    "                )"
   ]
  },
  {
   "cell_type": "code",
   "execution_count": 109,
   "id": "2c72d681-dce3-4766-acd3-5668460bfaa2",
   "metadata": {},
   "outputs": [],
   "source": [
    "def end_node(state:State):\n",
    "    \"\"\"\n",
    "     Final Node\n",
    "    \"\"\"\n",
    "    # print(\"\\n[end_node] Process finished\")\n",
    "    # print(f\"Final Generated Post: {state['generated_post'][-1].content}\")\n",
    "    # print(f\"Final Human feedback: {state['human_feedback'][-1].content}\")\n",
    "    return {\n",
    "        \"generated_post\":state[\"generated_post\"][-1].content,\n",
    "        \"human_feedback\":state[\"human_feedback\"][-1].content\n",
    "    }    "
   ]
  },
  {
   "cell_type": "code",
   "execution_count": 110,
   "id": "5d2ecc7c-4e49-4c4e-bcbd-f565442375db",
   "metadata": {},
   "outputs": [],
   "source": [
    "graph=StateGraph(state_schema=State)"
   ]
  },
  {
   "cell_type": "code",
   "execution_count": 111,
   "id": "e0226f99-2b96-45e6-b211-5a3f104759f9",
   "metadata": {},
   "outputs": [
    {
     "data": {
      "text/plain": [
       "<langgraph.graph.state.StateGraph at 0x1f2ab38b550>"
      ]
     },
     "execution_count": 111,
     "metadata": {},
     "output_type": "execute_result"
    }
   ],
   "source": [
    "graph.add_node(node=\"model\",action=model)"
   ]
  },
  {
   "cell_type": "code",
   "execution_count": 112,
   "id": "0e79ccc6-dc4a-4510-ad2c-b99023b6273e",
   "metadata": {},
   "outputs": [
    {
     "data": {
      "text/plain": [
       "<langgraph.graph.state.StateGraph at 0x1f2ab38b550>"
      ]
     },
     "execution_count": 112,
     "metadata": {},
     "output_type": "execute_result"
    }
   ],
   "source": [
    "graph.add_node(node=\"human_node\",action=human_node)"
   ]
  },
  {
   "cell_type": "code",
   "execution_count": 113,
   "id": "285ea7ad-f06f-462c-9f82-57c30e6a6746",
   "metadata": {},
   "outputs": [
    {
     "data": {
      "text/plain": [
       "<langgraph.graph.state.StateGraph at 0x1f2ab38b550>"
      ]
     },
     "execution_count": 113,
     "metadata": {},
     "output_type": "execute_result"
    }
   ],
   "source": [
    "graph.set_entry_point(key=\"model\")"
   ]
  },
  {
   "cell_type": "code",
   "execution_count": 114,
   "id": "ced534bd-83d8-470d-8c05-d0067626ffa4",
   "metadata": {},
   "outputs": [
    {
     "data": {
      "text/plain": [
       "<langgraph.graph.state.StateGraph at 0x1f2ab38b550>"
      ]
     },
     "execution_count": 114,
     "metadata": {},
     "output_type": "execute_result"
    }
   ],
   "source": [
    "graph.add_node(node=\"end_node\",action=end_node)"
   ]
  },
  {
   "cell_type": "code",
   "execution_count": 115,
   "id": "f3ec040d-c719-4341-9572-707c440d0aff",
   "metadata": {},
   "outputs": [
    {
     "data": {
      "text/plain": [
       "<langgraph.graph.state.StateGraph at 0x1f2ab38b550>"
      ]
     },
     "execution_count": 115,
     "metadata": {},
     "output_type": "execute_result"
    }
   ],
   "source": [
    "graph.add_edge(start_key=START,end_key=\"model\")"
   ]
  },
  {
   "cell_type": "code",
   "execution_count": 116,
   "id": "b4885b3a-e804-4080-b45b-b50abf2bb211",
   "metadata": {},
   "outputs": [
    {
     "data": {
      "text/plain": [
       "<langgraph.graph.state.StateGraph at 0x1f2ab38b550>"
      ]
     },
     "execution_count": 116,
     "metadata": {},
     "output_type": "execute_result"
    }
   ],
   "source": [
    "graph.add_edge(start_key=\"model\",end_key=\"human_node\")"
   ]
  },
  {
   "cell_type": "code",
   "execution_count": 117,
   "id": "43bd3475-38e1-42cc-9944-b17d7a0eb10a",
   "metadata": {},
   "outputs": [
    {
     "data": {
      "text/plain": [
       "<langgraph.graph.state.StateGraph at 0x1f2ab38b550>"
      ]
     },
     "execution_count": 117,
     "metadata": {},
     "output_type": "execute_result"
    }
   ],
   "source": [
    "graph.set_finish_point(key=\"end_node\")"
   ]
  },
  {
   "cell_type": "code",
   "execution_count": 118,
   "id": "fc822c07-6411-4093-b178-75d39c519094",
   "metadata": {},
   "outputs": [],
   "source": [
    "checkpointer=MemorySaver()"
   ]
  },
  {
   "cell_type": "code",
   "execution_count": 119,
   "id": "c40e512a-31dc-493d-a2bd-44e59688932d",
   "metadata": {},
   "outputs": [],
   "source": [
    "app=graph.compile(checkpointer=checkpointer)"
   ]
  },
  {
   "cell_type": "code",
   "execution_count": 120,
   "id": "b9d258ff-1bdc-4fb8-a2f1-1deb13a4f4d4",
   "metadata": {},
   "outputs": [],
   "source": [
    "thread_config={\n",
    "    \"configurable\":{\"thread_id\":uuid.uuid4()}\n",
    "    }"
   ]
  },
  {
   "cell_type": "code",
   "execution_count": 121,
   "id": "8b7f1336",
   "metadata": {},
   "outputs": [
    {
     "name": "stdout",
     "output_type": "stream",
     "text": [
      "+-----------+  \n",
      "| __start__ |  \n",
      "+-----------+  \n",
      "       *       \n",
      "       *       \n",
      "       *       \n",
      "  +-------+    \n",
      "  | model |    \n",
      "  +-------+    \n",
      "       *       \n",
      "       *       \n",
      "       *       \n",
      "+------------+ \n",
      "| human_node | \n",
      "+------------+ \n",
      "       *       \n",
      "       *       \n",
      "       *       \n",
      "  +---------+  \n",
      "  | __end__ |  \n",
      "  +---------+  \n"
     ]
    }
   ],
   "source": [
    "app.get_graph().print_ascii()"
   ]
  },
  {
   "cell_type": "code",
   "execution_count": 122,
   "id": "9d661d23",
   "metadata": {},
   "outputs": [
    {
     "data": {
      "image/png": "[encoded data removed]",
      "text/plain": [
       "<IPython.core.display.Image object>"
      ]
     },
     "metadata": {},
     "output_type": "display_data"
    }
   ],
   "source": [
    "display(Image(data=app.get_graph().draw_mermaid_png()))"
   ]
  },
  {
   "cell_type": "code",
   "execution_count": 123,
   "id": "c188d9d5-e79a-4d1b-9611-8c5e0b906289",
   "metadata": {},
   "outputs": [],
   "source": [
    "linkedin_topic=input(\"Enter your Linkedin topic: \")\n",
    "initial_state={\n",
    "    \"linkedin_topic\":linkedin_topic,\n",
    "    \"generated_post\":[],\n",
    "    \"human_feedback\":[]\n",
    "}"
   ]
  },
  {
   "cell_type": "code",
   "execution_count": 124,
   "id": "6c2c9856-b3fc-47ed-81c2-eaeb1d73cffa",
   "metadata": {},
   "outputs": [
    {
     "data": {
      "text/plain": [
       "{'linkedin_topic': 'Test Cricker', 'generated_post': [], 'human_feedback': []}"
      ]
     },
     "execution_count": 124,
     "metadata": {},
     "output_type": "execute_result"
    }
   ],
   "source": [
    "initial_state"
   ]
  },
  {
   "cell_type": "code",
   "execution_count": 125,
   "id": "ed488d21-09fd-4928-bd33-7428ce8fea8c",
   "metadata": {},
   "outputs": [
    {
     "name": "stdout",
     "output_type": "stream",
     "text": [
      "{'model': {'linkedin_topic': 'Test Cricker', 'generated_post': [AIMessage(content='Given that there is no previous feedback, I will create a high-quality LinkedIn post based on the topic \"Test Cricket.\" This post aims to engage the audience, spark discussions, and demonstrate expertise in the field.\\n\\n**Post Title:** \"The Unmatched Excitement of Test Cricket: Why It Remains the Pinnacle of Cricket\"\\n\\n**Introduction**\\n\\nAs a cricket enthusiast, I\\'m often asked why Test cricket remains the most revered and thrilling format of the game. The answer lies in its unique blend of skill, strategy, and endurance. In this post, I\\'ll delve into the reasons why Test cricket stands out from the rest and what makes it the ultimate test of a cricketer\\'s mettle.\\n\\n**The Unmatched Challenge**\\n\\nTest cricket\\'s longer duration (five days) and multiple innings present a formidable challenge for players. Each session demands mental and physical toughness, as teams must navigate the ebbs and flows of the game while adapting to changing conditions. This grueling test of wills is what sets Test cricket apart from its shorter formats.\\n\\n**The Art of Patience and Perseverance**\\n\\nA Test match is a marathon, not a sprint. It requires a deep understanding of the game\\'s nuances, patience, and perseverance. The ability to outlast and outmaneuver the opposition is crucial in Test cricket. This aspect of the game demands a unique combination of skill, strategy, and mental fortitude.\\n\\n**The Unpredictability and Thrills**\\n\\nTest cricket is renowned for its unpredictable nature. A single session can change the course of the game, making it a thrilling experience for fans and players alike. The thrill of a late collapse, a miraculous recovery, or a spectacular individual performance keeps spectators on the edge of their seats.\\n\\n**Conclusion**\\n\\nTest cricket\\'s unmatched excitement, combined with its unique challenges and thrills, makes it the pinnacle of the sport. As we continue to witness the evolution of cricket, it\\'s essential to cherish and preserve the essence of Test cricket. What do you think makes Test cricket so special? Share your thoughts in the comments below!\\n\\n**Call-to-Action:** Let\\'s discuss the merits of Test cricket. Share your favorite Test cricket moments or experiences in the comments, and let\\'s celebrate the beauty of the game together!\\n\\nThis post aims to engage the audience by:\\n\\n- Asking a thought-provoking question\\n- Sharing personal experiences and opinions\\n- Encouraging discussion and feedback\\n- Highlighting the unique aspects of Test cricket\\n- Creating a sense of community and shared passion for the game', additional_kwargs={}, response_metadata={}, id='3f800536-49a3-493a-8829-92fb3dda7a45')], 'human_feedback': []}}\n",
      "{'__interrupt__': (Interrupt(value={'generated_post': AIMessage(content='Given that there is no previous feedback, I will create a high-quality LinkedIn post based on the topic \"Test Cricket.\" This post aims to engage the audience, spark discussions, and demonstrate expertise in the field.\\n\\n**Post Title:** \"The Unmatched Excitement of Test Cricket: Why It Remains the Pinnacle of Cricket\"\\n\\n**Introduction**\\n\\nAs a cricket enthusiast, I\\'m often asked why Test cricket remains the most revered and thrilling format of the game. The answer lies in its unique blend of skill, strategy, and endurance. In this post, I\\'ll delve into the reasons why Test cricket stands out from the rest and what makes it the ultimate test of a cricketer\\'s mettle.\\n\\n**The Unmatched Challenge**\\n\\nTest cricket\\'s longer duration (five days) and multiple innings present a formidable challenge for players. Each session demands mental and physical toughness, as teams must navigate the ebbs and flows of the game while adapting to changing conditions. This grueling test of wills is what sets Test cricket apart from its shorter formats.\\n\\n**The Art of Patience and Perseverance**\\n\\nA Test match is a marathon, not a sprint. It requires a deep understanding of the game\\'s nuances, patience, and perseverance. The ability to outlast and outmaneuver the opposition is crucial in Test cricket. This aspect of the game demands a unique combination of skill, strategy, and mental fortitude.\\n\\n**The Unpredictability and Thrills**\\n\\nTest cricket is renowned for its unpredictable nature. A single session can change the course of the game, making it a thrilling experience for fans and players alike. The thrill of a late collapse, a miraculous recovery, or a spectacular individual performance keeps spectators on the edge of their seats.\\n\\n**Conclusion**\\n\\nTest cricket\\'s unmatched excitement, combined with its unique challenges and thrills, makes it the pinnacle of the sport. As we continue to witness the evolution of cricket, it\\'s essential to cherish and preserve the essence of Test cricket. What do you think makes Test cricket so special? Share your thoughts in the comments below!\\n\\n**Call-to-Action:** Let\\'s discuss the merits of Test cricket. Share your favorite Test cricket moments or experiences in the comments, and let\\'s celebrate the beauty of the game together!\\n\\nThis post aims to engage the audience by:\\n\\n- Asking a thought-provoking question\\n- Sharing personal experiences and opinions\\n- Encouraging discussion and feedback\\n- Highlighting the unique aspects of Test cricket\\n- Creating a sense of community and shared passion for the game', additional_kwargs={}, response_metadata={}, id='3f800536-49a3-493a-8829-92fb3dda7a45'), 'message': \"Provide feedback or type 'done' to finish\"}, resumable=True, ns=['human_node:90015c0d-3c6f-a097-3d59-cc6ef49da3de']),)}\n",
      "{'linkedin_topic': 'Test Cricker', 'generated_post': [AIMessage(content='Given that there is no previous feedback, I will create a high-quality LinkedIn post based on the topic \"Test Cricket.\" This post aims to engage the audience, spark discussions, and demonstrate expertise in the field.\\n\\n**Post Title:** \"The Unmatched Excitement of Test Cricket: Why It Remains the Pinnacle of Cricket\"\\n\\n**Introduction**\\n\\nAs a cricket enthusiast, I\\'m often asked why Test cricket remains the most revered and thrilling format of the game. The answer lies in its unique blend of skill, strategy, and endurance. In this post, I\\'ll delve into the reasons why Test cricket stands out from the rest and what makes it the ultimate test of a cricketer\\'s mettle.\\n\\n**The Unmatched Challenge**\\n\\nTest cricket\\'s longer duration (five days) and multiple innings present a formidable challenge for players. Each session demands mental and physical toughness, as teams must navigate the ebbs and flows of the game while adapting to changing conditions. This grueling test of wills is what sets Test cricket apart from its shorter formats.\\n\\n**The Art of Patience and Perseverance**\\n\\nA Test match is a marathon, not a sprint. It requires a deep understanding of the game\\'s nuances, patience, and perseverance. The ability to outlast and outmaneuver the opposition is crucial in Test cricket. This aspect of the game demands a unique combination of skill, strategy, and mental fortitude.\\n\\n**The Unpredictability and Thrills**\\n\\nTest cricket is renowned for its unpredictable nature. A single session can change the course of the game, making it a thrilling experience for fans and players alike. The thrill of a late collapse, a miraculous recovery, or a spectacular individual performance keeps spectators on the edge of their seats.\\n\\n**Conclusion**\\n\\nTest cricket\\'s unmatched excitement, combined with its unique challenges and thrills, makes it the pinnacle of the sport. As we continue to witness the evolution of cricket, it\\'s essential to cherish and preserve the essence of Test cricket. What do you think makes Test cricket so special? Share your thoughts in the comments below!\\n\\n**Call-to-Action:** Let\\'s discuss the merits of Test cricket. Share your favorite Test cricket moments or experiences in the comments, and let\\'s celebrate the beauty of the game together!\\n\\nThis post aims to engage the audience by:\\n\\n- Asking a thought-provoking question\\n- Sharing personal experiences and opinions\\n- Encouraging discussion and feedback\\n- Highlighting the unique aspects of Test cricket\\n- Creating a sense of community and shared passion for the game', additional_kwargs={}, response_metadata={}, id='3f800536-49a3-493a-8829-92fb3dda7a45'), AIMessage(content=\"Here's a structured and well-written LinkedIn post on the topic of Test Cricket, infused with your requested tone of ambition:\\n\\n**Title:** Embracing the Timeless Spirit of Test Cricket - Redefining Excellence in the Face of Adversity\\n\\n**Post:**\\n\\nAs we witness the resurgence of interest in Test cricket, I'm reminded of the timeless spirit that defines this magnificent sport. It's a test of endurance, skill, and mental fortitude - a true reflection of the human spirit.\\n\\nIn an era where instant gratification and short-term gains often take center stage, Test cricket stands out as a beacon of excellence. It's a reminder that true greatness is not achieved overnight, but through dedication, perseverance, and a willingness to push oneself to the limit.\\n\\nAs professionals, we can draw valuable lessons from the world of Test cricket. Here are a few key takeaways:\\n\\n **Resilience is Key**: Test cricket is not for the faint of heart. Players face setbacks, injuries, and pressure, yet they always find a way to bounce back. Similarly, as professionals, we must develop the resilience to navigate challenges, learn from failures, and emerge stronger on the other side.\\n\\n **Continuous Improvement**: Test cricket is a game of inches. Small margins can make all the difference between victory and defeat. As professionals, we must strive for continuous improvement, honing our skills, and staying adaptable in a rapidly changing landscape.\\n\\n **Teamwork and Camaraderie**: Test cricket is a team sport that requires collaboration, trust, and mutual respect. As professionals, we must prioritize building strong relationships with our colleagues, leveraging each other's strengths, and creating a supportive environment that fosters growth and success.\\n\\nLet's draw inspiration from the world of Test cricket and recommit ourselves to excellence. Let's push beyond our limits, take calculated risks, and strive for greatness.\\n\\n**What are your thoughts on the timeless spirit of Test cricket? Share your experiences and insights in the comments below!**\\n\\n**Hashtags:** #TestCricket #Excellence #Resilience #ContinuousImprovement #Teamwork #ProfessionalGrowth\", additional_kwargs={}, response_metadata={}, id='d77ddfbc-dc21-422a-8a48-98ae8f2b3fc1')], 'human_feedback': [AIMessage(content='Make it ambitious', additional_kwargs={}, response_metadata={}, id='bb893ac9-9721-486f-bdb7-bac77a598a1c')]}\n",
      "{'linkedin_topic': 'Test Cricker', 'generated_post': [AIMessage(content='Given that there is no previous feedback, I will create a high-quality LinkedIn post based on the topic \"Test Cricket.\" This post aims to engage the audience, spark discussions, and demonstrate expertise in the field.\\n\\n**Post Title:** \"The Unmatched Excitement of Test Cricket: Why It Remains the Pinnacle of Cricket\"\\n\\n**Introduction**\\n\\nAs a cricket enthusiast, I\\'m often asked why Test cricket remains the most revered and thrilling format of the game. The answer lies in its unique blend of skill, strategy, and endurance. In this post, I\\'ll delve into the reasons why Test cricket stands out from the rest and what makes it the ultimate test of a cricketer\\'s mettle.\\n\\n**The Unmatched Challenge**\\n\\nTest cricket\\'s longer duration (five days) and multiple innings present a formidable challenge for players. Each session demands mental and physical toughness, as teams must navigate the ebbs and flows of the game while adapting to changing conditions. This grueling test of wills is what sets Test cricket apart from its shorter formats.\\n\\n**The Art of Patience and Perseverance**\\n\\nA Test match is a marathon, not a sprint. It requires a deep understanding of the game\\'s nuances, patience, and perseverance. The ability to outlast and outmaneuver the opposition is crucial in Test cricket. This aspect of the game demands a unique combination of skill, strategy, and mental fortitude.\\n\\n**The Unpredictability and Thrills**\\n\\nTest cricket is renowned for its unpredictable nature. A single session can change the course of the game, making it a thrilling experience for fans and players alike. The thrill of a late collapse, a miraculous recovery, or a spectacular individual performance keeps spectators on the edge of their seats.\\n\\n**Conclusion**\\n\\nTest cricket\\'s unmatched excitement, combined with its unique challenges and thrills, makes it the pinnacle of the sport. As we continue to witness the evolution of cricket, it\\'s essential to cherish and preserve the essence of Test cricket. What do you think makes Test cricket so special? Share your thoughts in the comments below!\\n\\n**Call-to-Action:** Let\\'s discuss the merits of Test cricket. Share your favorite Test cricket moments or experiences in the comments, and let\\'s celebrate the beauty of the game together!\\n\\nThis post aims to engage the audience by:\\n\\n- Asking a thought-provoking question\\n- Sharing personal experiences and opinions\\n- Encouraging discussion and feedback\\n- Highlighting the unique aspects of Test cricket\\n- Creating a sense of community and shared passion for the game', additional_kwargs={}, response_metadata={}, id='3f800536-49a3-493a-8829-92fb3dda7a45'), AIMessage(content=\"Here's a structured and well-written LinkedIn post on the topic of Test Cricket, infused with your requested tone of ambition:\\n\\n**Title:** Embracing the Timeless Spirit of Test Cricket - Redefining Excellence in the Face of Adversity\\n\\n**Post:**\\n\\nAs we witness the resurgence of interest in Test cricket, I'm reminded of the timeless spirit that defines this magnificent sport. It's a test of endurance, skill, and mental fortitude - a true reflection of the human spirit.\\n\\nIn an era where instant gratification and short-term gains often take center stage, Test cricket stands out as a beacon of excellence. It's a reminder that true greatness is not achieved overnight, but through dedication, perseverance, and a willingness to push oneself to the limit.\\n\\nAs professionals, we can draw valuable lessons from the world of Test cricket. Here are a few key takeaways:\\n\\n **Resilience is Key**: Test cricket is not for the faint of heart. Players face setbacks, injuries, and pressure, yet they always find a way to bounce back. Similarly, as professionals, we must develop the resilience to navigate challenges, learn from failures, and emerge stronger on the other side.\\n\\n **Continuous Improvement**: Test cricket is a game of inches. Small margins can make all the difference between victory and defeat. As professionals, we must strive for continuous improvement, honing our skills, and staying adaptable in a rapidly changing landscape.\\n\\n **Teamwork and Camaraderie**: Test cricket is a team sport that requires collaboration, trust, and mutual respect. As professionals, we must prioritize building strong relationships with our colleagues, leveraging each other's strengths, and creating a supportive environment that fosters growth and success.\\n\\nLet's draw inspiration from the world of Test cricket and recommit ourselves to excellence. Let's push beyond our limits, take calculated risks, and strive for greatness.\\n\\n**What are your thoughts on the timeless spirit of Test cricket? Share your experiences and insights in the comments below!**\\n\\n**Hashtags:** #TestCricket #Excellence #Resilience #ContinuousImprovement #Teamwork #ProfessionalGrowth\", additional_kwargs={}, response_metadata={}, id='d77ddfbc-dc21-422a-8a48-98ae8f2b3fc1'), AIMessage(content='Here\\'s a revised LinkedIn post on \"Test Cricket\" that\\'s shorter and engaging:\\n\\n**The Pride of Test Cricket**\\n\\nAs a cricket enthusiast, there\\'s something special about Test cricket that sets it apart from other formats. The longest, most grueling, and yet, most rewarding form of the game.\\n\\nFrom the thrill of a century on a difficult pitch to the drama of a drawn Test match, every moment is a testament to the skill, strategy, and endurance of the players.\\n\\nWhat do you love most about Test cricket? Share your thoughts in the comments below!\\n\\n#TestCricket #CricketLovers #ThePrideOfTheGame', additional_kwargs={}, response_metadata={}, id='d35c09a2-a426-4ca4-8ca2-8f5446fc4b0e')], 'human_feedback': [AIMessage(content='Make it ambitious', additional_kwargs={}, response_metadata={}, id='bb893ac9-9721-486f-bdb7-bac77a598a1c'), AIMessage(content='make it shorter', additional_kwargs={}, response_metadata={}, id='a22794e9-c378-42dd-b21a-c101d1a99767')]}\n",
      "{'linkedin_topic': 'Test Cricker', 'generated_post': [AIMessage(content='Given that there is no previous feedback, I will create a high-quality LinkedIn post based on the topic \"Test Cricket.\" This post aims to engage the audience, spark discussions, and demonstrate expertise in the field.\\n\\n**Post Title:** \"The Unmatched Excitement of Test Cricket: Why It Remains the Pinnacle of Cricket\"\\n\\n**Introduction**\\n\\nAs a cricket enthusiast, I\\'m often asked why Test cricket remains the most revered and thrilling format of the game. The answer lies in its unique blend of skill, strategy, and endurance. In this post, I\\'ll delve into the reasons why Test cricket stands out from the rest and what makes it the ultimate test of a cricketer\\'s mettle.\\n\\n**The Unmatched Challenge**\\n\\nTest cricket\\'s longer duration (five days) and multiple innings present a formidable challenge for players. Each session demands mental and physical toughness, as teams must navigate the ebbs and flows of the game while adapting to changing conditions. This grueling test of wills is what sets Test cricket apart from its shorter formats.\\n\\n**The Art of Patience and Perseverance**\\n\\nA Test match is a marathon, not a sprint. It requires a deep understanding of the game\\'s nuances, patience, and perseverance. The ability to outlast and outmaneuver the opposition is crucial in Test cricket. This aspect of the game demands a unique combination of skill, strategy, and mental fortitude.\\n\\n**The Unpredictability and Thrills**\\n\\nTest cricket is renowned for its unpredictable nature. A single session can change the course of the game, making it a thrilling experience for fans and players alike. The thrill of a late collapse, a miraculous recovery, or a spectacular individual performance keeps spectators on the edge of their seats.\\n\\n**Conclusion**\\n\\nTest cricket\\'s unmatched excitement, combined with its unique challenges and thrills, makes it the pinnacle of the sport. As we continue to witness the evolution of cricket, it\\'s essential to cherish and preserve the essence of Test cricket. What do you think makes Test cricket so special? Share your thoughts in the comments below!\\n\\n**Call-to-Action:** Let\\'s discuss the merits of Test cricket. Share your favorite Test cricket moments or experiences in the comments, and let\\'s celebrate the beauty of the game together!\\n\\nThis post aims to engage the audience by:\\n\\n- Asking a thought-provoking question\\n- Sharing personal experiences and opinions\\n- Encouraging discussion and feedback\\n- Highlighting the unique aspects of Test cricket\\n- Creating a sense of community and shared passion for the game', additional_kwargs={}, response_metadata={}, id='3f800536-49a3-493a-8829-92fb3dda7a45'), AIMessage(content=\"Here's a structured and well-written LinkedIn post on the topic of Test Cricket, infused with your requested tone of ambition:\\n\\n**Title:** Embracing the Timeless Spirit of Test Cricket - Redefining Excellence in the Face of Adversity\\n\\n**Post:**\\n\\nAs we witness the resurgence of interest in Test cricket, I'm reminded of the timeless spirit that defines this magnificent sport. It's a test of endurance, skill, and mental fortitude - a true reflection of the human spirit.\\n\\nIn an era where instant gratification and short-term gains often take center stage, Test cricket stands out as a beacon of excellence. It's a reminder that true greatness is not achieved overnight, but through dedication, perseverance, and a willingness to push oneself to the limit.\\n\\nAs professionals, we can draw valuable lessons from the world of Test cricket. Here are a few key takeaways:\\n\\n **Resilience is Key**: Test cricket is not for the faint of heart. Players face setbacks, injuries, and pressure, yet they always find a way to bounce back. Similarly, as professionals, we must develop the resilience to navigate challenges, learn from failures, and emerge stronger on the other side.\\n\\n **Continuous Improvement**: Test cricket is a game of inches. Small margins can make all the difference between victory and defeat. As professionals, we must strive for continuous improvement, honing our skills, and staying adaptable in a rapidly changing landscape.\\n\\n **Teamwork and Camaraderie**: Test cricket is a team sport that requires collaboration, trust, and mutual respect. As professionals, we must prioritize building strong relationships with our colleagues, leveraging each other's strengths, and creating a supportive environment that fosters growth and success.\\n\\nLet's draw inspiration from the world of Test cricket and recommit ourselves to excellence. Let's push beyond our limits, take calculated risks, and strive for greatness.\\n\\n**What are your thoughts on the timeless spirit of Test cricket? Share your experiences and insights in the comments below!**\\n\\n**Hashtags:** #TestCricket #Excellence #Resilience #ContinuousImprovement #Teamwork #ProfessionalGrowth\", additional_kwargs={}, response_metadata={}, id='d77ddfbc-dc21-422a-8a48-98ae8f2b3fc1'), AIMessage(content='Here\\'s a revised LinkedIn post on \"Test Cricket\" that\\'s shorter and engaging:\\n\\n**The Pride of Test Cricket**\\n\\nAs a cricket enthusiast, there\\'s something special about Test cricket that sets it apart from other formats. The longest, most grueling, and yet, most rewarding form of the game.\\n\\nFrom the thrill of a century on a difficult pitch to the drama of a drawn Test match, every moment is a testament to the skill, strategy, and endurance of the players.\\n\\nWhat do you love most about Test cricket? Share your thoughts in the comments below!\\n\\n#TestCricket #CricketLovers #ThePrideOfTheGame', additional_kwargs={}, response_metadata={}, id='d35c09a2-a426-4ca4-8ca2-8f5446fc4b0e'), HumanMessage(content='Here\\'s a revised LinkedIn post on \"Test Cricket\" that\\'s shorter and engaging:\\n\\n**The Pride of Test Cricket**\\n\\nAs a cricket enthusiast, there\\'s something special about Test cricket that sets it apart from other formats. The longest, most grueling, and yet, most rewarding form of the game.\\n\\nFrom the thrill of a century on a difficult pitch to the drama of a drawn Test match, every moment is a testament to the skill, strategy, and endurance of the players.\\n\\nWhat do you love most about Test cricket? Share your thoughts in the comments below!\\n\\n#TestCricket #CricketLovers #ThePrideOfTheGame', additional_kwargs={}, response_metadata={}, id='1412da10-b53d-4ef5-9775-6fdf3e8553bf')], 'human_feedback': [AIMessage(content='Make it ambitious', additional_kwargs={}, response_metadata={}, id='bb893ac9-9721-486f-bdb7-bac77a598a1c'), AIMessage(content='make it shorter', additional_kwargs={}, response_metadata={}, id='a22794e9-c378-42dd-b21a-c101d1a99767'), AIMessage(content='Finalised', additional_kwargs={}, response_metadata={}, id='d52e6a62-faa1-49ae-a862-b70fdd96aef5'), HumanMessage(content='Finalised', additional_kwargs={}, response_metadata={}, id='808c694f-31d8-4877-9601-64b51cc4bdaa')]}\n"
     ]
    }
   ],
   "source": [
    "for chunk in app.stream(input=initial_state, config=thread_config):\n",
    "    print(chunk)\n",
    "    for node_id, value in chunk.items():\n",
    "        # If we reach an interrupt, continously ask for human feedback\n",
    "        if (node_id==\"__interrupt__\"):\n",
    "            while True:\n",
    "                user_feedback=input(\"Provide feedback (or type 'done' when finished): \")\n",
    "\n",
    "                # Resume the graph execution with the user's feedback\n",
    "                response=app.invoke(input=Command(resume=user_feedback),config=thread_config)\n",
    "                print(response)\n",
    "                # Exit loop if user says done\n",
    "                if user_feedback.lower()==\"done\":\n",
    "                    break"
   ]
  },
  {
   "cell_type": "code",
   "execution_count": 126,
   "id": "4183409f",
   "metadata": {},
   "outputs": [
    {
     "data": {
      "text/plain": [
       "{'state': {'linkedin_topic': 'Test Cricker',\n",
       "  'generated_post': [AIMessage(content='Here\\'s a revised LinkedIn post on \"Test Cricket\" that\\'s shorter and engaging:\\n\\n**The Pride of Test Cricket**\\n\\nAs a cricket enthusiast, there\\'s something special about Test cricket that sets it apart from other formats. The longest, most grueling, and yet, most rewarding form of the game.\\n\\nFrom the thrill of a century on a difficult pitch to the drama of a drawn Test match, every moment is a testament to the skill, strategy, and endurance of the players.\\n\\nWhat do you love most about Test cricket? Share your thoughts in the comments below!\\n\\n#TestCricket #CricketLovers #ThePrideOfTheGame', additional_kwargs={}, response_metadata={}, id='d35c09a2-a426-4ca4-8ca2-8f5446fc4b0e')],\n",
       "  'human_feedback': [AIMessage(content='Make it ambitious', additional_kwargs={}, response_metadata={}, id='bb893ac9-9721-486f-bdb7-bac77a598a1c'),\n",
       "   AIMessage(content='make it shorter', additional_kwargs={}, response_metadata={}, id='a22794e9-c378-42dd-b21a-c101d1a99767')]}}"
      ]
     },
     "execution_count": 126,
     "metadata": {},
     "output_type": "execute_result"
    }
   ],
   "source": [
    "persistent_state"
   ]
  },
  {
   "cell_type": "code",
   "execution_count": null,
   "id": "9e7ff0e8",
   "metadata": {},
   "outputs": [],
   "source": []
  }
 ],
 "metadata": {
  "kernelspec": {
   "display_name": "lcnenv",
   "language": "python",
   "name": "python3"
  },
  "language_info": {
   "codemirror_mode": {
    "name": "ipython",
    "version": 3
   },
   "file_extension": ".py",
   "mimetype": "text/x-python",
   "name": "python",
   "nbconvert_exporter": "python",
   "pygments_lexer": "ipython3",
   "version": "3.11.11"
  }
 },
 "nbformat": 4,
 "nbformat_minor": 5
}
