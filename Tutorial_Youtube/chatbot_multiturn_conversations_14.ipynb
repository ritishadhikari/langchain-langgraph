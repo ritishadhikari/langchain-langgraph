{
 "cells": [
  {
   "cell_type": "code",
   "execution_count": 19,
   "id": "84226da3-1576-48b3-aa15-75305faae315",
   "metadata": {},
   "outputs": [],
   "source": [
    "from langgraph.graph import StateGraph, START, END, add_messages\n",
    "from langgraph.types import Command, interrupt\n",
    "from typing import TypedDict, Annotated, List\n",
    "from langgraph.checkpoint.memory import MemorySaver\n",
    "from langchain_groq import ChatGroq\n",
    "from langchain_core.messages import HumanMessage, SystemMessage, AIMessage\n",
    "import uuid\n",
    "from langchain_core.messages import HumanMessage\n",
    "from IPython.display import Image, display"
   ]
  },
  {
   "cell_type": "code",
   "execution_count": 2,
   "id": "1c4a604c-8480-4b01-9368-5d0607fd27a2",
   "metadata": {},
   "outputs": [],
   "source": [
    "llm=ChatGroq(model=\"llama-3.1-8b-instant\")"
   ]
  },
  {
   "cell_type": "code",
   "execution_count": 3,
   "id": "5a001e7d-dbcc-448e-8a88-1b7391e06c1a",
   "metadata": {},
   "outputs": [],
   "source": [
    "class State(TypedDict):\n",
    "    linkedin_topic: str\n",
    "    generated_post: Annotated[List[str], add_messages]\n",
    "    human_feedback: Annotated[List[str], add_messages]"
   ]
  },
  {
   "cell_type": "code",
   "execution_count": 4,
   "id": "a81caf0d-3d61-46cb-9fed-5b3dd59f4b35",
   "metadata": {},
   "outputs": [],
   "source": [
    "def model(state: State):\n",
    "    \"\"\"\n",
    "        Here, we're using the LLM to generate a LinkedIn Post with human feedback incorporated\n",
    "    \"\"\"\n",
    "    \n",
    "    print(\"[model] Generating content\")\n",
    "    linkedin_topic=state['linkedin_topic']\n",
    "    feedback= state['human_feedback'][-1].content if state['human_feedback'] else \"No Feedback Yet\"\n",
    "\n",
    "    # Here we define the prompt\n",
    "    prompt=f\"\"\"\n",
    "\n",
    "    LinkedIn Topic: {linkedin_topic}\n",
    "    Human Feedback: {feedback}\n",
    "\n",
    "    Generate a structured and well written LinkedIn post based on the given topic\n",
    "\n",
    "    Consider previous human feedback to refine the response\n",
    "    \"\"\"\n",
    "    response=llm.invoke(input=[\n",
    "        SystemMessage(content=\"You are an expert LinkedIn content writer\"),\n",
    "        HumanMessage(content=prompt)\n",
    "    ])\n",
    "\n",
    "    generated_linkedin_post=response.content\n",
    "\n",
    "    print(f\"Model Node generated post:\\n {generated_linkedin_post}\")\n",
    "    \n",
    "    model_payload={\n",
    "        \"generated_post\": [AIMessage(content=generated_linkedin_post)],\n",
    "        \"human_feedback\": [feedback]\n",
    "    }\n",
    "    print(f\"Present State: {model_payload}\\n\")\n",
    "    \n",
    "    return model_payload\n",
    "\n",
    "    "
   ]
  },
  {
   "cell_type": "code",
   "execution_count": 5,
   "id": "79025e7d-b179-4145-9434-29ff2d10f1a1",
   "metadata": {},
   "outputs": [],
   "source": [
    "def human_node(state:State):\n",
    "    \"\"\"\n",
    "        Human Intervention node - loops back to model unless input is done\n",
    "    \"\"\"\n",
    "    print(\"\\n [human_node] awaiting human feedback...\")\n",
    "    generated_post=state[\"generated_post\"][-1]\n",
    "    \n",
    "    # Interrupt to get user feedback\n",
    "    user_feedback=interrupt(\n",
    "        value={\n",
    "            \"generated_post\":generated_post,\n",
    "            \"message\":\"Provide feedback or type 'done' to finish\"\n",
    "        }\n",
    "    )\n",
    "\n",
    "    print(f\"[human_node] Received human feedback: {user_feedback}\")\n",
    "\n",
    "    # If user types \"done\", transition to END node\n",
    "    if user_feedback.casefold()==\"done\":\n",
    "        return Command(\n",
    "                    update={\"human_feedback\":[\"Finalised\"]},\n",
    "                    goto=\"end_node\"\n",
    "                )\n",
    "    else:\n",
    "        return Command(\n",
    "                    update={\"human_feedback\": [user_feedback]},\n",
    "                    goto=\"model\"\n",
    "                )"
   ]
  },
  {
   "cell_type": "code",
   "execution_count": 6,
   "id": "2c72d681-dce3-4766-acd3-5668460bfaa2",
   "metadata": {},
   "outputs": [],
   "source": [
    "def end_node(state:State):\n",
    "    \"\"\"\n",
    "     Final Node\n",
    "    \"\"\"\n",
    "    # print(\"\\n[end_node] Process finished\")\n",
    "    print(f\"Final Generated Post: {state['generated_post'][-1].content}\")\n",
    "    print(f\"Final Human feedback: {state['human_feedback'][-1].content}\")\n",
    "    return {\n",
    "        \"generated_post\":state[\"generated_post\"][-1].content,\n",
    "        \"human_feedback\":state[\"human_feedback\"][-1].content\n",
    "    }    "
   ]
  },
  {
   "cell_type": "code",
   "execution_count": 7,
   "id": "5d2ecc7c-4e49-4c4e-bcbd-f565442375db",
   "metadata": {},
   "outputs": [],
   "source": [
    "graph=StateGraph(state_schema=State)"
   ]
  },
  {
   "cell_type": "code",
   "execution_count": 8,
   "id": "e0226f99-2b96-45e6-b211-5a3f104759f9",
   "metadata": {},
   "outputs": [
    {
     "data": {
      "text/plain": [
       "<langgraph.graph.state.StateGraph at 0x2c9e98cb2d0>"
      ]
     },
     "execution_count": 8,
     "metadata": {},
     "output_type": "execute_result"
    }
   ],
   "source": [
    "graph.add_node(node=\"model\",action=model)"
   ]
  },
  {
   "cell_type": "code",
   "execution_count": 9,
   "id": "0e79ccc6-dc4a-4510-ad2c-b99023b6273e",
   "metadata": {},
   "outputs": [
    {
     "data": {
      "text/plain": [
       "<langgraph.graph.state.StateGraph at 0x2c9e98cb2d0>"
      ]
     },
     "execution_count": 9,
     "metadata": {},
     "output_type": "execute_result"
    }
   ],
   "source": [
    "graph.add_node(node=\"human_node\",action=human_node)"
   ]
  },
  {
   "cell_type": "code",
   "execution_count": 10,
   "id": "285ea7ad-f06f-462c-9f82-57c30e6a6746",
   "metadata": {},
   "outputs": [
    {
     "data": {
      "text/plain": [
       "<langgraph.graph.state.StateGraph at 0x2c9e98cb2d0>"
      ]
     },
     "execution_count": 10,
     "metadata": {},
     "output_type": "execute_result"
    }
   ],
   "source": [
    "graph.set_entry_point(key=\"model\")"
   ]
  },
  {
   "cell_type": "code",
   "execution_count": 11,
   "id": "ced534bd-83d8-470d-8c05-d0067626ffa4",
   "metadata": {},
   "outputs": [
    {
     "data": {
      "text/plain": [
       "<langgraph.graph.state.StateGraph at 0x2c9e98cb2d0>"
      ]
     },
     "execution_count": 11,
     "metadata": {},
     "output_type": "execute_result"
    }
   ],
   "source": [
    "graph.add_node(node=\"end_node\",action=end_node)"
   ]
  },
  {
   "cell_type": "code",
   "execution_count": 12,
   "id": "f3ec040d-c719-4341-9572-707c440d0aff",
   "metadata": {},
   "outputs": [
    {
     "data": {
      "text/plain": [
       "<langgraph.graph.state.StateGraph at 0x2c9e98cb2d0>"
      ]
     },
     "execution_count": 12,
     "metadata": {},
     "output_type": "execute_result"
    }
   ],
   "source": [
    "graph.add_edge(start_key=START,end_key=\"model\")"
   ]
  },
  {
   "cell_type": "code",
   "execution_count": 13,
   "id": "b4885b3a-e804-4080-b45b-b50abf2bb211",
   "metadata": {},
   "outputs": [
    {
     "data": {
      "text/plain": [
       "<langgraph.graph.state.StateGraph at 0x2c9e98cb2d0>"
      ]
     },
     "execution_count": 13,
     "metadata": {},
     "output_type": "execute_result"
    }
   ],
   "source": [
    "graph.add_edge(start_key=\"model\",end_key=\"human_node\")"
   ]
  },
  {
   "cell_type": "code",
   "execution_count": 14,
   "id": "43bd3475-38e1-42cc-9944-b17d7a0eb10a",
   "metadata": {},
   "outputs": [
    {
     "data": {
      "text/plain": [
       "<langgraph.graph.state.StateGraph at 0x2c9e98cb2d0>"
      ]
     },
     "execution_count": 14,
     "metadata": {},
     "output_type": "execute_result"
    }
   ],
   "source": [
    "graph.set_finish_point(key=\"end_node\")"
   ]
  },
  {
   "cell_type": "code",
   "execution_count": 15,
   "id": "fc822c07-6411-4093-b178-75d39c519094",
   "metadata": {},
   "outputs": [],
   "source": [
    "checkpointer=MemorySaver()"
   ]
  },
  {
   "cell_type": "code",
   "execution_count": 16,
   "id": "c40e512a-31dc-493d-a2bd-44e59688932d",
   "metadata": {},
   "outputs": [],
   "source": [
    "app=graph.compile(checkpointer=checkpointer)"
   ]
  },
  {
   "cell_type": "code",
   "execution_count": 17,
   "id": "b9d258ff-1bdc-4fb8-a2f1-1deb13a4f4d4",
   "metadata": {},
   "outputs": [],
   "source": [
    "thread_config={\n",
    "    \"configurable\":{\"thread_id\":uuid.uuid4()}\n",
    "    }"
   ]
  },
  {
   "cell_type": "code",
   "execution_count": 18,
   "id": "8b7f1336",
   "metadata": {},
   "outputs": [
    {
     "name": "stdout",
     "output_type": "stream",
     "text": [
      "+-----------+  \n",
      "| __start__ |  \n",
      "+-----------+  \n",
      "       *       \n",
      "       *       \n",
      "       *       \n",
      "  +-------+    \n",
      "  | model |    \n",
      "  +-------+    \n",
      "       *       \n",
      "       *       \n",
      "       *       \n",
      "+------------+ \n",
      "| human_node | \n",
      "+------------+ \n",
      "       *       \n",
      "       *       \n",
      "       *       \n",
      "  +---------+  \n",
      "  | __end__ |  \n",
      "  +---------+  \n"
     ]
    }
   ],
   "source": [
    "app.get_graph().print_ascii()"
   ]
  },
  {
   "cell_type": "code",
   "execution_count": 20,
   "id": "9d661d23",
   "metadata": {},
   "outputs": [
    {
     "data": {
      "image/png": "[encoded data removed]",
      "text/plain": [
       "<IPython.core.display.Image object>"
      ]
     },
     "metadata": {},
     "output_type": "display_data"
    }
   ],
   "source": [
    "display(Image(data=app.get_graph().draw_mermaid_png()))"
   ]
  },
  {
   "cell_type": "code",
   "execution_count": 21,
   "id": "c188d9d5-e79a-4d1b-9611-8c5e0b906289",
   "metadata": {},
   "outputs": [],
   "source": [
    "linkedin_topic=input(\"Enter your Linkedin topic: \")\n",
    "initial_state={\n",
    "    \"linkedin_topic\":linkedin_topic,\n",
    "    \"generated_post\":[],\n",
    "    \"human_feedback\":[]\n",
    "}"
   ]
  },
  {
   "cell_type": "code",
   "execution_count": 22,
   "id": "6c2c9856-b3fc-47ed-81c2-eaeb1d73cffa",
   "metadata": {},
   "outputs": [
    {
     "data": {
      "text/plain": [
       "{'linkedin_topic': 'New Job Opportunity with AI !',\n",
       " 'generated_post': [],\n",
       " 'human_feedback': []}"
      ]
     },
     "execution_count": 22,
     "metadata": {},
     "output_type": "execute_result"
    }
   ],
   "source": [
    "initial_state"
   ]
  },
  {
   "cell_type": "code",
   "execution_count": null,
   "id": "ed488d21-09fd-4928-bd33-7428ce8fea8c",
   "metadata": {},
   "outputs": [
    {
     "name": "stdout",
     "output_type": "stream",
     "text": [
      "[model] Generating content\n",
      "Model Node generated post:\n",
      " Here's a structured and well-written LinkedIn post based on the topic \"New Job Opportunity with AI!\" Since there's no previous human feedback, I'll create a post that's engaging, informative, and optimized for LinkedIn's algorithm.\n",
      "\n",
      "**New Job Opportunity: Unlock the Power of AI!**\n",
      "\n",
      "Exciting news! I'm thrilled to announce a new job opportunity that combines cutting-edge technology with human expertise. As a [Your Profession/Industry], I'm seeking a talented individual to join our team and help us revolutionize the way we work with AI.\n",
      "\n",
      "**Job Title:** AI Implementation Specialist\n",
      "\n",
      "**Job Description:**\n",
      "\n",
      "We're looking for a skilled AI Implementation Specialist to join our team and help us integrate AI-powered solutions into our business operations. The successful candidate will be responsible for:\n",
      "\n",
      "- Designing and implementing AI-driven workflows\n",
      "- Collaborating with cross-functional teams to identify areas for AI-driven innovation\n",
      "- Analyzing data to optimize AI performance and accuracy\n",
      "- Developing and maintaining AI-powered tools and platforms\n",
      "\n",
      "**Responsibilities:**\n",
      "\n",
      "- Develop and implement AI-powered solutions to drive business growth and efficiency\n",
      "- Collaborate with stakeholders to identify business needs and develop tailored AI solutions\n",
      "- Conduct thorough analysis of data to inform AI-driven decision-making\n",
      "- Stay up-to-date with industry trends and advancements in AI technology\n",
      "\n",
      "**Requirements:**\n",
      "\n",
      "- 3+ years of experience in AI development, implementation, or a related field\n",
      "- Strong background in machine learning, natural language processing, or computer vision\n",
      "- Excellent problem-solving and analytical skills\n",
      "- Ability to work collaboratively with cross-functional teams\n",
      "- Strong communication and presentation skills\n",
      "\n",
      "**What We Offer:**\n",
      "\n",
      "- Competitive salary and benefits package\n",
      "- Opportunities for professional growth and development\n",
      "- Collaborative and dynamic work environment\n",
      "- Access to cutting-edge AI technology and tools\n",
      "\n",
      "**How to Apply:**\n",
      "\n",
      "If you're passionate about AI and ready to take your career to the next level, please submit your application, including your resume and a cover letter, to [Your Email Address or LinkedIn Profile].\n",
      "\n",
      "**Let's Revolutionize the Way We Work with AI!**\n",
      "\n",
      "Join our team and be part of the AI revolution! Apply now and take the first step towards a dynamic and rewarding career in AI.\n",
      "\n",
      "#AI #JobOpportunity #NewJob #CareerGrowth #ProfessionalDevelopment #MachineLearning #NaturalLanguageProcessing #ComputerVision #BusinessInnovation\n",
      "\n",
      "I've included the following elements to make the post engaging and informative:\n",
      "\n",
      "1. **Eye-catching title**: A clear and concise title that grabs attention and highlights the opportunity.\n",
      "2. **Job description**: A detailed job description that outlines the responsibilities and requirements of the role.\n",
      "3. **Responsibilities and requirements**: Clear and concise lists that outline the expectations and qualifications for the position.\n",
      "4. **What we offer**: A brief summary of the benefits and perks of working with the company.\n",
      "5. **How to apply**: A clear call-to-action that directs interested candidates to submit their applications.\n",
      "6. **Hashtags**: Relevant and popular hashtags that help the post reach a wider audience.\n",
      "\n",
      "I've also included a brief summary at the end to reiterate the importance of the role and encourage interested candidates to apply.\n",
      "Present State: {'generated_post': [AIMessage(content='Here\\'s a structured and well-written LinkedIn post based on the topic \"New Job Opportunity with AI!\" Since there\\'s no previous human feedback, I\\'ll create a post that\\'s engaging, informative, and optimized for LinkedIn\\'s algorithm.\\n\\n**New Job Opportunity: Unlock the Power of AI!**\\n\\nExciting news! I\\'m thrilled to announce a new job opportunity that combines cutting-edge technology with human expertise. As a [Your Profession/Industry], I\\'m seeking a talented individual to join our team and help us revolutionize the way we work with AI.\\n\\n**Job Title:** AI Implementation Specialist\\n\\n**Job Description:**\\n\\nWe\\'re looking for a skilled AI Implementation Specialist to join our team and help us integrate AI-powered solutions into our business operations. The successful candidate will be responsible for:\\n\\n- Designing and implementing AI-driven workflows\\n- Collaborating with cross-functional teams to identify areas for AI-driven innovation\\n- Analyzing data to optimize AI performance and accuracy\\n- Developing and maintaining AI-powered tools and platforms\\n\\n**Responsibilities:**\\n\\n- Develop and implement AI-powered solutions to drive business growth and efficiency\\n- Collaborate with stakeholders to identify business needs and develop tailored AI solutions\\n- Conduct thorough analysis of data to inform AI-driven decision-making\\n- Stay up-to-date with industry trends and advancements in AI technology\\n\\n**Requirements:**\\n\\n- 3+ years of experience in AI development, implementation, or a related field\\n- Strong background in machine learning, natural language processing, or computer vision\\n- Excellent problem-solving and analytical skills\\n- Ability to work collaboratively with cross-functional teams\\n- Strong communication and presentation skills\\n\\n**What We Offer:**\\n\\n- Competitive salary and benefits package\\n- Opportunities for professional growth and development\\n- Collaborative and dynamic work environment\\n- Access to cutting-edge AI technology and tools\\n\\n**How to Apply:**\\n\\nIf you\\'re passionate about AI and ready to take your career to the next level, please submit your application, including your resume and a cover letter, to [Your Email Address or LinkedIn Profile].\\n\\n**Let\\'s Revolutionize the Way We Work with AI!**\\n\\nJoin our team and be part of the AI revolution! Apply now and take the first step towards a dynamic and rewarding career in AI.\\n\\n#AI #JobOpportunity #NewJob #CareerGrowth #ProfessionalDevelopment #MachineLearning #NaturalLanguageProcessing #ComputerVision #BusinessInnovation\\n\\nI\\'ve included the following elements to make the post engaging and informative:\\n\\n1. **Eye-catching title**: A clear and concise title that grabs attention and highlights the opportunity.\\n2. **Job description**: A detailed job description that outlines the responsibilities and requirements of the role.\\n3. **Responsibilities and requirements**: Clear and concise lists that outline the expectations and qualifications for the position.\\n4. **What we offer**: A brief summary of the benefits and perks of working with the company.\\n5. **How to apply**: A clear call-to-action that directs interested candidates to submit their applications.\\n6. **Hashtags**: Relevant and popular hashtags that help the post reach a wider audience.\\n\\nI\\'ve also included a brief summary at the end to reiterate the importance of the role and encourage interested candidates to apply.', additional_kwargs={}, response_metadata={})], 'human_feedback': ['No Feedback Yet']}\n",
      "\n",
      "\n",
      " [human_node] awaiting human feedback...\n",
      "\n",
      " [human_node] awaiting human feedback...\n",
      "[human_node] Received human feedback: Make it large\n",
      "[model] Generating content\n",
      "Model Node generated post:\n",
      " Here's a well-structured and engaging LinkedIn post based on the topic \"New Job Opportunity with AI!\":\n",
      "\n",
      "**Exciting News!**\n",
      "\n",
      "I'm thrilled to announce that I've joined [Company Name], a pioneering organization that's leading the charge in AI innovation! As a seasoned [Your Profession] with a passion for harnessing the power of AI, I'm excited to embark on this new chapter and contribute to the company's mission to revolutionize the industry.\n",
      "\n",
      "**What You Can Expect:**\n",
      "\n",
      "At [Company Name], I'll be working on cutting-edge projects that integrate AI and Machine Learning to drive business growth and improve customer experiences. Some of the exciting aspects of this role include:\n",
      "\n",
      "- **Collaborating with cross-functional teams**: Working closely with data scientists, engineers, and product managers to design, develop, and deploy AI-powered solutions.\n",
      "- **Developing and implementing AI strategies**: Identifying opportunities to leverage AI and Machine Learning to drive business value and improve customer satisfaction.\n",
      "- **Staying at the forefront of AI innovation**: Participating in industry conferences, workshops, and training programs to stay up-to-date on the latest advancements in AI and Machine Learning.\n",
      "\n",
      "**What I'm Looking for:**\n",
      "\n",
      "If you're passionate about AI and are looking for a challenging and rewarding role, I encourage you to explore this opportunity. As a team member, you can expect:\n",
      "\n",
      "- **Opportunities for growth and development**: A culture that supports continuous learning and professional growth, with opportunities to develop new skills and expertise in AI and Machine Learning.\n",
      "- **Collaborative and dynamic work environment**: A team of talented professionals who share your passion for innovation and are committed to delivering exceptional results.\n",
      "- **Recognition and rewards**: A comprehensive compensation and benefits package that recognizes your hard work and contributions to the company's success.\n",
      "\n",
      "**Ready to Join the AI Revolution?**\n",
      "\n",
      "If you're interested in learning more about this exciting opportunity or would like to explore how [Company Name] can help you achieve your career goals, I'd love to connect with you. Let's discuss the possibilities and take the first step towards an exciting new chapter in your career!\n",
      "\n",
      "**#AI #MachineLearning #CareerGrowth #Innovation #JobOpportunity**\n",
      "\n",
      "**About [Company Name]:**\n",
      "\n",
      "[Company Name] is a leading [industry/sector] company that's dedicated to harnessing the power of AI to drive business growth and improve customer experiences. With a team of talented professionals and a commitment to innovation, we're constantly pushing the boundaries of what's possible in AI and Machine Learning.\n",
      "\n",
      "**About Me:**\n",
      "\n",
      "I'm [Your Name], a seasoned [Your Profession] with a passion for AI and Machine Learning. With [number] years of experience in the industry, I've developed a strong understanding of the opportunities and challenges that come with integrating AI into business operations. I'm excited to bring my expertise to [Company Name] and contribute to the company's mission to revolutionize the industry.\n",
      "Present State: {'generated_post': [AIMessage(content='Here\\'s a well-structured and engaging LinkedIn post based on the topic \"New Job Opportunity with AI!\":\\n\\n**Exciting News!**\\n\\nI\\'m thrilled to announce that I\\'ve joined [Company Name], a pioneering organization that\\'s leading the charge in AI innovation! As a seasoned [Your Profession] with a passion for harnessing the power of AI, I\\'m excited to embark on this new chapter and contribute to the company\\'s mission to revolutionize the industry.\\n\\n**What You Can Expect:**\\n\\nAt [Company Name], I\\'ll be working on cutting-edge projects that integrate AI and Machine Learning to drive business growth and improve customer experiences. Some of the exciting aspects of this role include:\\n\\n- **Collaborating with cross-functional teams**: Working closely with data scientists, engineers, and product managers to design, develop, and deploy AI-powered solutions.\\n- **Developing and implementing AI strategies**: Identifying opportunities to leverage AI and Machine Learning to drive business value and improve customer satisfaction.\\n- **Staying at the forefront of AI innovation**: Participating in industry conferences, workshops, and training programs to stay up-to-date on the latest advancements in AI and Machine Learning.\\n\\n**What I\\'m Looking for:**\\n\\nIf you\\'re passionate about AI and are looking for a challenging and rewarding role, I encourage you to explore this opportunity. As a team member, you can expect:\\n\\n- **Opportunities for growth and development**: A culture that supports continuous learning and professional growth, with opportunities to develop new skills and expertise in AI and Machine Learning.\\n- **Collaborative and dynamic work environment**: A team of talented professionals who share your passion for innovation and are committed to delivering exceptional results.\\n- **Recognition and rewards**: A comprehensive compensation and benefits package that recognizes your hard work and contributions to the company\\'s success.\\n\\n**Ready to Join the AI Revolution?**\\n\\nIf you\\'re interested in learning more about this exciting opportunity or would like to explore how [Company Name] can help you achieve your career goals, I\\'d love to connect with you. Let\\'s discuss the possibilities and take the first step towards an exciting new chapter in your career!\\n\\n**#AI #MachineLearning #CareerGrowth #Innovation #JobOpportunity**\\n\\n**About [Company Name]:**\\n\\n[Company Name] is a leading [industry/sector] company that\\'s dedicated to harnessing the power of AI to drive business growth and improve customer experiences. With a team of talented professionals and a commitment to innovation, we\\'re constantly pushing the boundaries of what\\'s possible in AI and Machine Learning.\\n\\n**About Me:**\\n\\nI\\'m [Your Name], a seasoned [Your Profession] with a passion for AI and Machine Learning. With [number] years of experience in the industry, I\\'ve developed a strong understanding of the opportunities and challenges that come with integrating AI into business operations. I\\'m excited to bring my expertise to [Company Name] and contribute to the company\\'s mission to revolutionize the industry.', additional_kwargs={}, response_metadata={})], 'human_feedback': ['Make it large']}\n",
      "\n",
      "\n",
      " [human_node] awaiting human feedback...\n",
      "\n",
      " [human_node] awaiting human feedback...\n",
      "[human_node] Received human feedback: done\n",
      "Final Generated Post: Here's a well-structured and engaging LinkedIn post based on the topic \"New Job Opportunity with AI!\":\n",
      "\n",
      "**Exciting News!**\n",
      "\n",
      "I'm thrilled to announce that I've joined [Company Name], a pioneering organization that's leading the charge in AI innovation! As a seasoned [Your Profession] with a passion for harnessing the power of AI, I'm excited to embark on this new chapter and contribute to the company's mission to revolutionize the industry.\n",
      "\n",
      "**What You Can Expect:**\n",
      "\n",
      "At [Company Name], I'll be working on cutting-edge projects that integrate AI and Machine Learning to drive business growth and improve customer experiences. Some of the exciting aspects of this role include:\n",
      "\n",
      "- **Collaborating with cross-functional teams**: Working closely with data scientists, engineers, and product managers to design, develop, and deploy AI-powered solutions.\n",
      "- **Developing and implementing AI strategies**: Identifying opportunities to leverage AI and Machine Learning to drive business value and improve customer satisfaction.\n",
      "- **Staying at the forefront of AI innovation**: Participating in industry conferences, workshops, and training programs to stay up-to-date on the latest advancements in AI and Machine Learning.\n",
      "\n",
      "**What I'm Looking for:**\n",
      "\n",
      "If you're passionate about AI and are looking for a challenging and rewarding role, I encourage you to explore this opportunity. As a team member, you can expect:\n",
      "\n",
      "- **Opportunities for growth and development**: A culture that supports continuous learning and professional growth, with opportunities to develop new skills and expertise in AI and Machine Learning.\n",
      "- **Collaborative and dynamic work environment**: A team of talented professionals who share your passion for innovation and are committed to delivering exceptional results.\n",
      "- **Recognition and rewards**: A comprehensive compensation and benefits package that recognizes your hard work and contributions to the company's success.\n",
      "\n",
      "**Ready to Join the AI Revolution?**\n",
      "\n",
      "If you're interested in learning more about this exciting opportunity or would like to explore how [Company Name] can help you achieve your career goals, I'd love to connect with you. Let's discuss the possibilities and take the first step towards an exciting new chapter in your career!\n",
      "\n",
      "**#AI #MachineLearning #CareerGrowth #Innovation #JobOpportunity**\n",
      "\n",
      "**About [Company Name]:**\n",
      "\n",
      "[Company Name] is a leading [industry/sector] company that's dedicated to harnessing the power of AI to drive business growth and improve customer experiences. With a team of talented professionals and a commitment to innovation, we're constantly pushing the boundaries of what's possible in AI and Machine Learning.\n",
      "\n",
      "**About Me:**\n",
      "\n",
      "I'm [Your Name], a seasoned [Your Profession] with a passion for AI and Machine Learning. With [number] years of experience in the industry, I've developed a strong understanding of the opportunities and challenges that come with integrating AI into business operations. I'm excited to bring my expertise to [Company Name] and contribute to the company's mission to revolutionize the industry.\n",
      "Final Human feedback: Finalised\n"
     ]
    }
   ],
   "source": [
    "for chunk in app.stream(input=initial_state, config=thread_config):\n",
    "    for node_id, value in chunk.items():\n",
    "        # If we reach an interrupt, continously ask for human feedback\n",
    "        if (node_id==\"__interrupt__\"):\n",
    "            while True:\n",
    "                user_feedback=input(\"Provide feedback (or type 'done' when finished): \")\n",
    "\n",
    "                # Resume the graph execution with the user's feedback\n",
    "                app.invoke(input=Command(resume=user_feedback),config=thread_config)\n",
    "\n",
    "                # Exit loop if user says done\n",
    "                if user_feedback.lower()==\"done\":\n",
    "                    break"
   ]
  },
  {
   "cell_type": "code",
   "execution_count": null,
   "id": "646c104b-a324-4d0a-b639-299d5b8ceef9",
   "metadata": {},
   "outputs": [],
   "source": []
  },
  {
   "cell_type": "code",
   "execution_count": null,
   "id": "c26fe9dd-9053-4626-8a5c-b54bd297af81",
   "metadata": {},
   "outputs": [],
   "source": []
  }
 ],
 "metadata": {
  "kernelspec": {
   "display_name": "lcnenv",
   "language": "python",
   "name": "python3"
  },
  "language_info": {
   "codemirror_mode": {
    "name": "ipython",
    "version": 3
   },
   "file_extension": ".py",
   "mimetype": "text/x-python",
   "name": "python",
   "nbconvert_exporter": "python",
   "pygments_lexer": "ipython3",
   "version": "3.11.11"
  }
 },
 "nbformat": 4,
 "nbformat_minor": 5
}
