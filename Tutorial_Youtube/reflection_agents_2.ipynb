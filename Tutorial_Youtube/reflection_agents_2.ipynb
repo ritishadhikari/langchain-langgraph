{
 "cells": [
  {
   "cell_type": "code",
   "execution_count": 1,
   "id": "0bcff718-bc57-4cd2-95c4-9fdad46175c8",
   "metadata": {},
   "outputs": [],
   "source": [
    "from langchain_core.prompts import ChatPromptTemplate, MessagesPlaceholder\n",
    "from langchain_google_genai import ChatGoogleGenerativeAI\n",
    "from langchain_openai import ChatOpenAI\n",
    "from dotenv import load_dotenv\n",
    "from typing import List, Sequence\n",
    "from langchain_core.messages import BaseMessage, HumanMessage\n",
    "from langgraph.graph import END, MessageGraph\n",
    "from IPython.display import Image, display\n",
    "from langchain_core.runnables.graph import MermaidDrawMethod"
   ]
  },
  {
   "cell_type": "code",
   "execution_count": 2,
   "id": "0c176a10-c3c1-46ce-b407-8a210662e2ca",
   "metadata": {},
   "outputs": [
    {
     "data": {
      "text/plain": [
       "True"
      ]
     },
     "execution_count": 2,
     "metadata": {},
     "output_type": "execute_result"
    }
   ],
   "source": [
    "load_dotenv()"
   ]
  },
  {
   "cell_type": "code",
   "execution_count": 9,
   "id": "cdbd2567-9d39-40ed-b468-d845d77059f8",
   "metadata": {},
   "outputs": [],
   "source": [
    "generationPrompt=ChatPromptTemplate.from_messages(\n",
    "    messages=[\n",
    "                (\n",
    "                    \"system\",\n",
    "                    \"\"\"You are a twitter techie influencer assistant tasked with writing excellent twitter posts\n",
    "                    Generate the best twitter post accessible for the user's request\n",
    "                    If the user provides critique, respond with a revised version of your attempts\"\"\"\n",
    "                ),\n",
    "                MessagesPlaceholder(variable_name=\"messages\")\n",
    "            ]\n",
    ")"
   ]
  },
  {
   "cell_type": "code",
   "execution_count": 6,
   "id": "344295ec-a289-43f5-893f-efe7048ef4e5",
   "metadata": {},
   "outputs": [],
   "source": [
    "reflectionPrompt=ChatPromptTemplate.from_messages(\n",
    "    messages=[\n",
    "                (\n",
    "                    \"system\",\n",
    "                    \"\"\"You are a viral twitter influencer grading a tweet. Generate critique and recommendations for the user's tweet\n",
    "                    Always provide detailed recommendations, including requests for length, virality, style, etc.\"\"\"\n",
    "                ),\n",
    "                MessagesPlaceholder(variable_name=\"messages\"),\n",
    "             ]\n",
    "            )"
   ]
  },
  {
   "cell_type": "code",
   "execution_count": 7,
   "id": "af532a34-c761-4789-be5d-8fa987300a3f",
   "metadata": {},
   "outputs": [],
   "source": [
    "llmGemini=ChatGoogleGenerativeAI(model=\"gemini-2.0-flash-001\")\n",
    "llmOpenAI=ChatOpenAI(model=\"gpt-4o-mini\",temperature=0.5)"
   ]
  },
  {
   "cell_type": "code",
   "execution_count": 10,
   "id": "9b7f2f3e-d3af-4a52-9cd1-6bded11baa7b",
   "metadata": {},
   "outputs": [],
   "source": [
    "generationChain=generationPrompt|llmOpenAI"
   ]
  },
  {
   "cell_type": "code",
   "execution_count": 11,
   "id": "c2ec7ff4-ba68-4954-b9a5-832d169c1503",
   "metadata": {},
   "outputs": [],
   "source": [
    "reflectionChain=reflectionPrompt|llmOpenAI"
   ]
  },
  {
   "cell_type": "code",
   "execution_count": 12,
   "id": "2fdb8e3e-c3a0-4484-ba00-245d6f4055e4",
   "metadata": {},
   "outputs": [],
   "source": [
    "graph=MessageGraph()"
   ]
  },
  {
   "cell_type": "code",
   "execution_count": 13,
   "id": "f760843b-1147-4cad-9a1d-e72bebec69b2",
   "metadata": {},
   "outputs": [],
   "source": [
    "REFLECT=\"reflect\""
   ]
  },
  {
   "cell_type": "code",
   "execution_count": 14,
   "id": "8da357dc-00f3-4a76-8da2-f31309ebf25b",
   "metadata": {},
   "outputs": [],
   "source": [
    "GENERATE=\"generate\""
   ]
  },
  {
   "cell_type": "code",
   "execution_count": 15,
   "id": "01142806-de6f-4688-9372-696c8364237c",
   "metadata": {},
   "outputs": [],
   "source": [
    "def generateNode(state):\n",
    "    return generationChain.invoke(input={\"messages\":state})"
   ]
  },
  {
   "cell_type": "code",
   "execution_count": 16,
   "id": "b296580c-f819-4bf0-b53b-7119f611ed5b",
   "metadata": {},
   "outputs": [],
   "source": [
    "def reflectNode(state):\n",
    "    response=reflectionChain.invoke(input={\"messages\":state})\n",
    "    # let the agent get tricked into believing that the message came from human\n",
    "    return [HumanMessage(content=response.content)]\n",
    "   "
   ]
  },
  {
   "cell_type": "code",
   "execution_count": 17,
   "id": "dd2051b1-ae20-42c9-93b1-b66aa86b75be",
   "metadata": {},
   "outputs": [
    {
     "data": {
      "text/plain": [
       "<langgraph.graph.message.MessageGraph at 0x210db3e1c90>"
      ]
     },
     "execution_count": 17,
     "metadata": {},
     "output_type": "execute_result"
    }
   ],
   "source": [
    "graph.add_node(node=GENERATE,action=generateNode)"
   ]
  },
  {
   "cell_type": "code",
   "execution_count": 18,
   "id": "982f59bb-2406-4346-8895-2f8cade8d101",
   "metadata": {},
   "outputs": [
    {
     "data": {
      "text/plain": [
       "<langgraph.graph.message.MessageGraph at 0x210db3e1c90>"
      ]
     },
     "execution_count": 18,
     "metadata": {},
     "output_type": "execute_result"
    }
   ],
   "source": [
    "graph.add_node(node=REFLECT,action=reflectNode)"
   ]
  },
  {
   "cell_type": "code",
   "execution_count": 19,
   "id": "b34bf22e-4b40-43c5-a0b4-7316f8030a38",
   "metadata": {},
   "outputs": [
    {
     "data": {
      "text/plain": [
       "<langgraph.graph.message.MessageGraph at 0x210db3e1c90>"
      ]
     },
     "execution_count": 19,
     "metadata": {},
     "output_type": "execute_result"
    }
   ],
   "source": [
    "graph.set_entry_point(key=GENERATE)"
   ]
  },
  {
   "cell_type": "code",
   "execution_count": 20,
   "id": "8a1665ce-6d8e-44bf-9470-1c7cb474de8e",
   "metadata": {},
   "outputs": [],
   "source": [
    "def should_continue(state):\n",
    "    if len(state) >4:\n",
    "        return \"end\"\n",
    "    else:\n",
    "        return \"reflect\""
   ]
  },
  {
   "cell_type": "code",
   "execution_count": 21,
   "id": "71dc103c-5e74-48e5-9648-2ba9e576f777",
   "metadata": {},
   "outputs": [
    {
     "data": {
      "text/plain": [
       "<langgraph.graph.message.MessageGraph at 0x210db3e1c90>"
      ]
     },
     "execution_count": 21,
     "metadata": {},
     "output_type": "execute_result"
    }
   ],
   "source": [
    "# the should continue is path is a conditional path which is established through this function\n",
    "graph.add_conditional_edges(\n",
    "    source=GENERATE,\n",
    "    path=should_continue,\n",
    "    path_map={\"end\":END, \"reflect\":REFLECT},\n",
    "    ) "
   ]
  },
  {
   "cell_type": "code",
   "execution_count": 22,
   "id": "908b0c86-2238-4671-9256-acc540ded662",
   "metadata": {},
   "outputs": [
    {
     "data": {
      "text/plain": [
       "<langgraph.graph.message.MessageGraph at 0x210db3e1c90>"
      ]
     },
     "execution_count": 22,
     "metadata": {},
     "output_type": "execute_result"
    }
   ],
   "source": [
    "graph.add_edge(start_key=REFLECT,end_key=GENERATE)"
   ]
  },
  {
   "cell_type": "code",
   "execution_count": 23,
   "id": "2c5045c4-b4f5-413e-887e-10548e646373",
   "metadata": {},
   "outputs": [],
   "source": [
    "app=graph.compile()"
   ]
  },
  {
   "cell_type": "code",
   "execution_count": 24,
   "id": "3a779840-a4d1-478d-a5ba-d4ee8d23b18d",
   "metadata": {},
   "outputs": [
    {
     "name": "stdout",
     "output_type": "stream",
     "text": [
      "---\n",
      "config:\n",
      "  flowchart:\n",
      "    curve: linear\n",
      "---\n",
      "graph TD;\n",
      "\t__start__([<p>__start__</p>]):::first\n",
      "\tgenerate(generate)\n",
      "\treflect(reflect)\n",
      "\t__end__([<p>__end__</p>]):::last\n",
      "\t__start__ --> generate;\n",
      "\tgenerate -.-> reflect;\n",
      "\treflect --> generate;\n",
      "\tgenerate -.-> __end__;\n",
      "\tclassDef default fill:#f2f0ff,line-height:1.2\n",
      "\tclassDef first fill-opacity:0\n",
      "\tclassDef last fill:#bfb6fc\n",
      "\n"
     ]
    }
   ],
   "source": [
    "print(app.get_graph().draw_mermaid())"
   ]
  },
  {
   "cell_type": "code",
   "execution_count": 25,
   "id": "31316c9e",
   "metadata": {},
   "outputs": [
    {
     "data": {
      "image/png": "[encoded data removed]",
      "text/plain": [
       "<IPython.core.display.Image object>"
      ]
     },
     "metadata": {},
     "output_type": "display_data"
    }
   ],
   "source": [
    "display(Image(data=app.get_graph(xray=True).draw_mermaid_png(max_retries=3)))"
   ]
  },
  {
   "cell_type": "code",
   "execution_count": 26,
   "id": "c66b11ba-1617-496c-907f-732aaded8271",
   "metadata": {},
   "outputs": [
    {
     "name": "stdout",
     "output_type": "stream",
     "text": [
      "          +-----------+            \n",
      "          | __start__ |            \n",
      "          +-----------+            \n",
      "                *                  \n",
      "                *                  \n",
      "                *                  \n",
      "          +----------+             \n",
      "          | generate |             \n",
      "          +----------+             \n",
      "          ***        ...           \n",
      "         *              .          \n",
      "       **                ..        \n",
      "+---------+           +---------+  \n",
      "| reflect |           | __end__ |  \n",
      "+---------+           +---------+  \n"
     ]
    }
   ],
   "source": [
    "app.get_graph().print_ascii()"
   ]
  },
  {
   "cell_type": "code",
   "execution_count": 27,
   "id": "04d64b2b-b8b6-43bb-acd1-dfd48ca6b7a6",
   "metadata": {},
   "outputs": [],
   "source": [
    "prompt=\"AI agents taking over content creation\""
   ]
  },
  {
   "cell_type": "code",
   "execution_count": 28,
   "id": "e3152490-1bf9-421f-bb3d-ad616bbd83aa",
   "metadata": {},
   "outputs": [],
   "source": [
    "response=app.invoke(input=HumanMessage(content=prompt))"
   ]
  },
  {
   "cell_type": "code",
   "execution_count": 29,
   "id": "015b7e22-5fbd-4690-a309-df70657af783",
   "metadata": {},
   "outputs": [
    {
     "data": {
      "text/plain": [
       "[HumanMessage(content='AI agents taking over content creation', additional_kwargs={}, response_metadata={}, id='4450a479-4ca5-4d76-9d28-73d2b56cd78c'),\n",
       " AIMessage(content='🚀 AI agents are revolutionizing content creation! From writing engaging articles to generating stunning visuals, they’re enhancing creativity and efficiency. 🌟 Embrace the future of storytelling where humans and AI collaborate to produce remarkable content! #AI #ContentCreation #Innovation', additional_kwargs={'refusal': None}, response_metadata={'token_usage': {'completion_tokens': 51, 'prompt_tokens': 59, 'total_tokens': 110, 'completion_tokens_details': {'accepted_prediction_tokens': 0, 'audio_tokens': 0, 'reasoning_tokens': 0, 'rejected_prediction_tokens': 0}, 'prompt_tokens_details': {'audio_tokens': 0, 'cached_tokens': 0}}, 'model_name': 'gpt-4o-mini-2024-07-18', 'system_fingerprint': None, 'id': 'chatcmpl-Bwioy6YMwZD53ydNtU90xZFmxqyse', 'finish_reason': 'stop', 'logprobs': None}, id='run--e79b1160-371a-4633-a96d-b810e2446afd-0', usage_metadata={'input_tokens': 59, 'output_tokens': 51, 'total_tokens': 110, 'input_token_details': {'audio': 0, 'cache_read': 0}, 'output_token_details': {'audio': 0, 'reasoning': 0}}),\n",
       " HumanMessage(content='### Tweet Critique\\n\\n**Strengths:**\\n1. **Timeliness:** The topic of AI in content creation is highly relevant and trending, making it a good choice for engagement.\\n2. **Positive Tone:** The optimistic view of AI enhancing creativity can resonate well with audiences who are excited about technological advancements.\\n\\n**Areas for Improvement:**\\n1. **Length:** The tweet is a bit lengthy for Twitter\\'s character limit (280 characters). While it’s within the limit, it could be more concise to improve readability and impact.\\n2. **Engagement:** While you use hashtags effectively, the tweet could benefit from a question or a call-to-action to encourage interaction.\\n3. **Specificity:** The statement is broad. Adding a specific example of how AI is currently being used in content creation could make it more relatable and informative.\\n4. **Virality Potential:** To increase the likelihood of virality, consider incorporating a trending topic or meme related to AI, or a popular culture reference that can grab attention.\\n\\n### Recommendations:\\n1. **Shorten the Message:** Aim for a more concise message. For example, trim unnecessary phrases and focus on the core idea.\\n   \\n   **Revised Example:**  \\n   \"AI agents are transforming content creation! 🤖✨ Imagine collaborating with AI to craft stunning stories and visuals. How do you see AI changing the way we create? #AI #ContentCreation\"\\n\\n2. **Add a Question:** Encourage engagement by asking your audience for their thoughts or experiences.\\n   \\n   **Example:** \"What’s your take on AI in content creation? Are you excited or concerned?\"\\n\\n3. **Incorporate Visuals:** If possible, include an eye-catching graphic or a short video that illustrates AI in action. Visuals can significantly boost engagement.\\n\\n4. **Use Trending Hashtags:** Research and include any trending hashtags related to AI and content creation to increase visibility.\\n\\n5. **Engage with Responses:** Be prepared to respond to comments and questions to foster community interaction and keep the conversation going.\\n\\nBy implementing these tweaks, you can enhance the impact of your tweet, increase engagement, and potentially boost its virality! 🌟', additional_kwargs={}, response_metadata={}, id='da3ac959-552c-4727-bbb2-c72199577b2e'),\n",
       " AIMessage(content=\"Thank you for the insightful critique! Here's a revised version of the tweet that incorporates your suggestions:\\n\\n🤖✨ AI agents are transforming content creation! Imagine collaborating with AI to craft stunning stories and visuals. How do you see AI changing the way we create? Share your thoughts! #AI #ContentCreation #FutureOfWork\\n\\nThis version is more concise, includes a question for engagement, and maintains a positive tone. Let me know if there are any other adjustments you'd like!\", additional_kwargs={'refusal': None}, response_metadata={'token_usage': {'completion_tokens': 95, 'prompt_tokens': 551, 'total_tokens': 646, 'completion_tokens_details': {'accepted_prediction_tokens': 0, 'audio_tokens': 0, 'reasoning_tokens': 0, 'rejected_prediction_tokens': 0}, 'prompt_tokens_details': {'audio_tokens': 0, 'cached_tokens': 0}}, 'model_name': 'gpt-4o-mini-2024-07-18', 'system_fingerprint': None, 'id': 'chatcmpl-BwipBEKRQL2KUImNIGvZIS2J0sdHR', 'finish_reason': 'stop', 'logprobs': None}, id='run--b4734cc9-93c4-45a6-99ad-0f2c31a15675-0', usage_metadata={'input_tokens': 551, 'output_tokens': 95, 'total_tokens': 646, 'input_token_details': {'audio': 0, 'cache_read': 0}, 'output_token_details': {'audio': 0, 'reasoning': 0}}),\n",
       " HumanMessage(content='### Revised Tweet\\n\\n🤖✨ AI agents are transforming content creation! Imagine collaborating with AI to craft stunning stories and visuals. How do you see AI changing the way we create? Share your thoughts! #AI #ContentCreation #FutureOfWork\\n\\n### Critique of the Revised Tweet\\n\\n**Strengths:**\\n1. **Conciseness:** The tweet is now more concise, making it easier to read and understand quickly.\\n2. **Engagement:** The question invites responses from your audience, encouraging interaction and fostering discussion.\\n3. **Visual Appeal:** The use of emojis adds a fun visual element, making the tweet stand out in feeds.\\n\\n**Areas for Further Improvement:**\\n1. **Specific Examples:** Consider adding a brief example of AI tools or platforms that are currently being used in content creation to provide context and enhance relatability.\\n2. **Trending Hashtags:** While you have included relevant hashtags, it’s worth checking for any trending hashtags related to AI or content creation that could increase visibility.\\n3. **Visual Content:** If possible, pair the tweet with a relevant image, infographic, or video to capture attention and increase engagement.\\n\\n### Additional Recommendations:\\n1. **Example Addition:** You could add a mention of a specific AI tool. For instance:  \\n   \"AI agents like ChatGPT and DALL-E are changing the game! How do you see AI changing the way we create?\"\\n\\n2. **Hashtag Research:** Use a tool like Hashtagify or Trendsmap to find trending hashtags related to your topic for even greater reach.\\n\\n3. **Follow-Up Engagement:** After posting, engage with responses to your question to build community and keep the conversation alive.\\n\\nBy making these adjustments, you can further enhance the tweet\\'s potential for virality and engagement. Keep up the great work! 🌟', additional_kwargs={}, response_metadata={}, id='780b07a5-ffba-4507-b6aa-737018c43b5a'),\n",
       " AIMessage(content='Thanks for the valuable feedback! Here’s an updated version of the tweet that incorporates your suggestions:\\n\\n🤖✨ AI agents like ChatGPT and DALL-E are transforming content creation! Imagine collaborating with these tools to craft stunning stories and visuals. How do you see AI changing the way we create? Share your thoughts! #AI #ContentCreation #Innovation\\n\\nThis version includes specific examples of AI tools to provide context. If you have any trending hashtags in mind or any other adjustments, let me know!', additional_kwargs={'refusal': None}, response_metadata={'token_usage': {'completion_tokens': 100, 'prompt_tokens': 1018, 'total_tokens': 1118, 'completion_tokens_details': {'accepted_prediction_tokens': 0, 'audio_tokens': 0, 'reasoning_tokens': 0, 'rejected_prediction_tokens': 0}, 'prompt_tokens_details': {'audio_tokens': 0, 'cached_tokens': 0}}, 'model_name': 'gpt-4o-mini-2024-07-18', 'system_fingerprint': None, 'id': 'chatcmpl-BwipOoVuYIGo402dbSdE8poqMIfse', 'finish_reason': 'stop', 'logprobs': None}, id='run--0c547e0c-ed94-4edd-8ee6-b38e78dbd941-0', usage_metadata={'input_tokens': 1018, 'output_tokens': 100, 'total_tokens': 1118, 'input_token_details': {'audio': 0, 'cache_read': 0}, 'output_token_details': {'audio': 0, 'reasoning': 0}})]"
      ]
     },
     "execution_count": 29,
     "metadata": {},
     "output_type": "execute_result"
    }
   ],
   "source": [
    "response"
   ]
  },
  {
   "cell_type": "code",
   "execution_count": 30,
   "id": "5648bb15",
   "metadata": {},
   "outputs": [
    {
     "data": {
      "text/plain": [
       "'Thanks for the valuable feedback! Here’s an updated version of the tweet that incorporates your suggestions:\\n\\n🤖✨ AI agents like ChatGPT and DALL-E are transforming content creation! Imagine collaborating with these tools to craft stunning stories and visuals. How do you see AI changing the way we create? Share your thoughts! #AI #ContentCreation #Innovation\\n\\nThis version includes specific examples of AI tools to provide context. If you have any trending hashtags in mind or any other adjustments, let me know!'"
      ]
     },
     "execution_count": 30,
     "metadata": {},
     "output_type": "execute_result"
    }
   ],
   "source": [
    "response[-1].content"
   ]
  }
 ],
 "metadata": {
  "kernelspec": {
   "display_name": "lcnenv",
   "language": "python",
   "name": "python3"
  },
  "language_info": {
   "codemirror_mode": {
    "name": "ipython",
    "version": 3
   },
   "file_extension": ".py",
   "mimetype": "text/x-python",
   "name": "python",
   "nbconvert_exporter": "python",
   "pygments_lexer": "ipython3",
   "version": "3.11.11"
  }
 },
 "nbformat": 4,
 "nbformat_minor": 5
}
