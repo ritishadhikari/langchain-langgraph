{
 "cells": [
  {
   "cell_type": "markdown",
   "id": "bdaa7765",
   "metadata": {},
   "source": [
    "<h3>VVI (Reusable Code)</h3>"
   ]
  },
  {
   "cell_type": "code",
   "execution_count": 1,
   "id": "d21fc614-fb09-4f8d-a460-fe92bdf66b56",
   "metadata": {},
   "outputs": [],
   "source": [
    "from typing import TypedDict, Annotated, Dict\n",
    "from langgraph.graph import add_messages, StateGraph, END, START\n",
    "from langchain_groq import ChatGroq\n",
    "from langchain_core.messages import AIMessage, HumanMessage\n",
    "from dotenv import load_dotenv\n",
    "from langchain_community.tools.tavily_search import TavilySearchResults\n",
    "from langgraph.prebuilt import ToolNode\n",
    "from IPython.display import Image, display\n",
    "from langchain_core.runnables.graph import MermaidDrawMethod"
   ]
  },
  {
   "cell_type": "code",
   "execution_count": 2,
   "id": "3131f51a-d776-4667-8204-f861b28a7330",
   "metadata": {},
   "outputs": [
    {
     "data": {
      "text/plain": [
       "True"
      ]
     },
     "execution_count": 2,
     "metadata": {},
     "output_type": "execute_result"
    }
   ],
   "source": [
    "load_dotenv()"
   ]
  },
  {
   "cell_type": "code",
   "execution_count": 3,
   "id": "866d37eb-1756-47c0-9032-0cdb12791ed1",
   "metadata": {},
   "outputs": [],
   "source": [
    "class ChildState(TypedDict):\n",
    "    messages: Annotated[list, add_messages]"
   ]
  },
  {
   "cell_type": "code",
   "execution_count": 4,
   "id": "84f9c8d6-04ac-41cb-be5d-400b352c9c90",
   "metadata": {},
   "outputs": [],
   "source": [
    "search_tool=TavilySearchResults(max_results=2)"
   ]
  },
  {
   "cell_type": "code",
   "execution_count": 6,
   "id": "50f18f32-9afa-4174-94a0-b15b73b95b7d",
   "metadata": {},
   "outputs": [],
   "source": [
    "tools=[search_tool]"
   ]
  },
  {
   "cell_type": "code",
   "execution_count": 8,
   "id": "a56b0677-4658-43fb-896a-e800d55f07c3",
   "metadata": {},
   "outputs": [],
   "source": [
    "llmLlama=ChatGroq(model=\"llama-3.1-8b-instant\")"
   ]
  },
  {
   "cell_type": "code",
   "execution_count": 9,
   "id": "647cb0ac-7e1b-4c3a-a8da-59a2f832964b",
   "metadata": {},
   "outputs": [
    {
     "data": {
      "text/plain": [
       "AIMessage(content='SRT can refer to different entities, but some of the most notable ones are:\\n\\n1. **Street Racing Technology (SRT)**: SRT is a performance division of FCA (Fiat Chrysler Automobiles), which is now part of Stellantis. It was established in 2004 to focus on creating high-performance vehicles. The division is known for its iconic models, such as the Dodge Challenger SRT Hellcat and the Dodge Charger SRT Hellcat. SRT is no longer a standalone brand but operates as a subsidiary of Dodge, focusing on creating high-performance vehicles.\\n\\n2. **Ram SRT**: Ram SRT is a high-performance version of the Ram 1500 pickup truck, which was introduced in 2019. It is powered by a 6.2-liter supercharged V8 engine, producing 702 horsepower.\\n\\n3. **SRT (Society for Research on Tilapia)**: SRT is a research organization that focuses on the biology and culture of tilapia fish.', additional_kwargs={}, response_metadata={'token_usage': {'completion_tokens': 205, 'prompt_tokens': 40, 'total_tokens': 245, 'completion_time': 0.342898763, 'prompt_time': 0.001930889, 'queue_time': 0.051905707, 'total_time': 0.344829652}, 'model_name': 'llama-3.1-8b-instant', 'system_fingerprint': 'fp_c523237e5d', 'finish_reason': 'stop', 'logprobs': None}, id='run--07faf9e2-7156-417f-ace1-5fa7119b6ef3-0', usage_metadata={'input_tokens': 40, 'output_tokens': 205, 'total_tokens': 245})"
      ]
     },
     "execution_count": 9,
     "metadata": {},
     "output_type": "execute_result"
    }
   ],
   "source": [
    "# illustrations\n",
    "llmLlama.invoke(input=\"Who is SRT?\")"
   ]
  },
  {
   "cell_type": "code",
   "execution_count": 10,
   "id": "d1ae6d8e-afb0-4ec9-9fde-63b0c4bba094",
   "metadata": {},
   "outputs": [],
   "source": [
    "llm_with_tools=llmLlama.bind_tools(tools=tools)"
   ]
  },
  {
   "cell_type": "code",
   "execution_count": 11,
   "id": "d619e058-848f-4ab6-9377-900efdec67ff",
   "metadata": {},
   "outputs": [
    {
     "data": {
      "text/plain": [
       "AIMessage(content='', additional_kwargs={'tool_calls': [{'id': '4vewwyn6e', 'function': {'arguments': '{\"query\":\"Kharagpur current temperature\"}', 'name': 'tavily_search_results_json'}, 'type': 'function'}]}, response_metadata={'token_usage': {'completion_tokens': 23, 'prompt_tokens': 289, 'total_tokens': 312, 'completion_time': 0.034418824, 'prompt_time': 0.041738406, 'queue_time': 0.05056599, 'total_time': 0.07615723}, 'model_name': 'llama-3.1-8b-instant', 'system_fingerprint': 'fp_c523237e5d', 'finish_reason': 'tool_calls', 'logprobs': None}, id='run--32e107b6-30ad-44a8-8715-300befa6c385-0', tool_calls=[{'name': 'tavily_search_results_json', 'args': {'query': 'Kharagpur current temperature'}, 'id': '4vewwyn6e', 'type': 'tool_call'}], usage_metadata={'input_tokens': 289, 'output_tokens': 23, 'total_tokens': 312})"
      ]
     },
     "execution_count": 11,
     "metadata": {},
     "output_type": "execute_result"
    }
   ],
   "source": [
    "# illustration\n",
    "t=llm_with_tools.invoke(input=\"What's the temperature at Kharagpur now?\")\n",
    "t"
   ]
  },
  {
   "cell_type": "code",
   "execution_count": 12,
   "id": "ddcc8696-9bc6-4eca-b965-8bad505c9643",
   "metadata": {},
   "outputs": [
    {
     "data": {
      "text/plain": [
       "[{'title': 'Current Weather - Kharagpur, West Bengal - AccuWeather',\n",
       "  'url': 'https://www.accuweather.com/en/in/kharagpur/191582/current-weather/191582',\n",
       "  'content': 'Current Weather · 91°F Cloudy · RealFeel® 104°. Very Hot. RealFeel Guide. Very Hot. 101° to 107°. Caution advised. Danger of dehydration, heat stroke, heat',\n",
       "  'score': 0.86713725},\n",
       " {'title': 'Kharagpur, West Bengal, India 14 day weather forecast',\n",
       "  'url': 'https://www.timeanddate.com/weather/india/kharagpur/ext',\n",
       "  'content': '| Sat Aug 9 |  | 89 / 83 °F | Passing showers. Overcast. | 93 °F | 12 mph | ↑ | 62% | 50% | 0.02\" | 3 (Moderate) | 5:17 am | 6:16 pm |\\n| Sun Aug 10 |  | 89 / 83 °F | Cloudy. | 92 °F | 11 mph | ↑ | 60% | 41% | 0.01\" | 3 (Moderate) | 5:17 am | 6:16 pm |\\n|  |  |  |  |  |  |  |  |  |  |  |  |  |\\n| --- | --- | --- | --- | --- | --- | --- | --- | --- | --- | --- | --- | --- |\\n| \\\\ Updated Sunday, July 27, 2025 8:54:12 am Kharagpur time - Weather by CustomWeather, © 2025 | | | | | | | | | | | | | [...] | Thu Jul 31 |  | 90 / 79 °F | Thunderstorms. Overcast. | 102 °F | 5 mph | ↑ | 73% | 83% | 1.13\" | 5 (Moderate) | 5:13 am | 6:22 pm |\\n| Fri Aug 1 |  | 93 / 80 °F | Isolated tstorms. Overcast. | 107 °F | 6 mph | ↑ | 67% | 51% | 0.15\" | 5 (Moderate) | 5:13 am | 6:21 pm |\\n| Sat Aug 2 |  | 96 / 82 °F | Showers early. Overcast. | 110 °F | 8 mph | ↑ | 62% | 24% | 0.17\" | 5 (Moderate) | 5:14 am | 6:21 pm | [...] | Mon Jul 28 |  | 87 / 80 °F | Thundershowers. Overcast. | 97 °F | 7 mph | ↑ | 76% | 65% | 0.22\" | 3 (Moderate) | 5:12 am | 6:23 pm |\\n| Tue Jul 29 |  | 89 / 79 °F | A few tstorms. Overcast. | 103 °F | 3 mph | ↑ | 74% | 56% | 0.23\" | 3 (Moderate) | 5:12 am | 6:23 pm |\\n| Wed Jul 30 |  | 91 / 79 °F | Thunderstorms. Cloudy. | 105 °F | 5 mph | ↑ | 69% | 62% | 0.41\" | 5 (Moderate) | 5:13 am | 6:22 pm |',\n",
       "  'score': 0.78846955}]"
      ]
     },
     "execution_count": 12,
     "metadata": {},
     "output_type": "execute_result"
    }
   ],
   "source": [
    "# illustration\n",
    "search_tool.invoke(t.tool_calls[0]['args']['query'])"
   ]
  },
  {
   "cell_type": "code",
   "execution_count": 13,
   "id": "e23c21c3-3939-4b9f-92e3-9cd1682d75fa",
   "metadata": {},
   "outputs": [],
   "source": [
    "def agent(state:ChildState):\n",
    "    state[\"messages\"]=llm_with_tools.invoke(input=state[\"messages\"])\n",
    "    return state"
   ]
  },
  {
   "cell_type": "code",
   "execution_count": 14,
   "id": "73c7d95e-2360-47cb-8698-20a70e837ab8",
   "metadata": {},
   "outputs": [],
   "source": [
    "def tools_router(state: ChildState):\n",
    "    print(f\"State prior to tool calling: {state}\\n\")\n",
    "    last_message=state[\"messages\"][-1]\n",
    "    if (hasattr(last_message,\"tool_calls\")) and len(last_message.tool_calls)>0:\n",
    "        return \"tool_node\"\n",
    "    else:\n",
    "        return \"end\""
   ]
  },
  {
   "cell_type": "code",
   "execution_count": 17,
   "id": "0219e56a-5da5-4953-9a65-264f368d98b0",
   "metadata": {},
   "outputs": [],
   "source": [
    "tool_node=ToolNode(tools=tools)"
   ]
  },
  {
   "cell_type": "code",
   "execution_count": 18,
   "id": "e3667c4b-81c1-4095-a881-44d95c2d2af4",
   "metadata": {},
   "outputs": [],
   "source": [
    "subGraph=StateGraph(state_schema=ChildState)"
   ]
  },
  {
   "cell_type": "code",
   "execution_count": 19,
   "id": "325df6b3-5726-4675-a83f-4d5f1881a8d3",
   "metadata": {},
   "outputs": [
    {
     "data": {
      "text/plain": [
       "<langgraph.graph.state.StateGraph at 0x28e39d14650>"
      ]
     },
     "execution_count": 19,
     "metadata": {},
     "output_type": "execute_result"
    }
   ],
   "source": [
    "subGraph.add_node(node=\"agent\",action=agent)"
   ]
  },
  {
   "cell_type": "code",
   "execution_count": 20,
   "id": "559605ba-0ef9-4cca-8e92-b5b2b3536610",
   "metadata": {},
   "outputs": [
    {
     "data": {
      "text/plain": [
       "<langgraph.graph.state.StateGraph at 0x28e39d14650>"
      ]
     },
     "execution_count": 20,
     "metadata": {},
     "output_type": "execute_result"
    }
   ],
   "source": [
    "subGraph.add_node(node=\"tool_node\", action=tool_node)"
   ]
  },
  {
   "cell_type": "code",
   "execution_count": 21,
   "id": "7c2bc752-9d4e-4bcd-b3ee-3b90a135f803",
   "metadata": {},
   "outputs": [
    {
     "data": {
      "text/plain": [
       "<langgraph.graph.state.StateGraph at 0x28e39d14650>"
      ]
     },
     "execution_count": 21,
     "metadata": {},
     "output_type": "execute_result"
    }
   ],
   "source": [
    "subGraph.add_conditional_edges(source=\"agent\",path=tools_router,\n",
    "                               path_map={\"tool_node\":\"tool_node\",\"end\":END}\n",
    "                              )"
   ]
  },
  {
   "cell_type": "code",
   "execution_count": 22,
   "id": "8c19283a-0aea-4511-9ca8-fcef8d1e6967",
   "metadata": {},
   "outputs": [
    {
     "data": {
      "text/plain": [
       "<langgraph.graph.state.StateGraph at 0x28e39d14650>"
      ]
     },
     "execution_count": 22,
     "metadata": {},
     "output_type": "execute_result"
    }
   ],
   "source": [
    "subGraph.add_edge(start_key=\"tool_node\",end_key=\"agent\")"
   ]
  },
  {
   "cell_type": "code",
   "execution_count": 23,
   "id": "f9b77c79-5152-4a3d-9fab-8b462a220ab1",
   "metadata": {},
   "outputs": [
    {
     "data": {
      "text/plain": [
       "<langgraph.graph.state.StateGraph at 0x28e39d14650>"
      ]
     },
     "execution_count": 23,
     "metadata": {},
     "output_type": "execute_result"
    }
   ],
   "source": [
    "subGraph.set_entry_point(key=\"agent\")"
   ]
  },
  {
   "cell_type": "code",
   "execution_count": 24,
   "id": "a8d22185-bb4c-4d82-a541-082d8ed534e3",
   "metadata": {},
   "outputs": [],
   "source": [
    "search_app=subGraph.compile()"
   ]
  },
  {
   "cell_type": "code",
   "execution_count": 25,
   "id": "fa23c81d",
   "metadata": {},
   "outputs": [
    {
     "name": "stdout",
     "output_type": "stream",
     "text": [
      "          +-----------+           \n",
      "          | __start__ |           \n",
      "          +-----------+           \n",
      "                 *                \n",
      "                 *                \n",
      "                 *                \n",
      "            +-------+             \n",
      "            | agent |             \n",
      "            +-------+.            \n",
      "           **         ..          \n",
      "         **             ..        \n",
      "        *                 .       \n",
      "+-----------+         +---------+ \n",
      "| tool_node |         | __end__ | \n",
      "+-----------+         +---------+ \n",
      "None\n"
     ]
    }
   ],
   "source": [
    "print(search_app.get_graph().print_ascii())"
   ]
  },
  {
   "cell_type": "code",
   "execution_count": 26,
   "id": "c20327bb-e3ef-4810-8e57-64792af0f28f",
   "metadata": {},
   "outputs": [
    {
     "data": {
      "image/png": "[encoded data removed]",
      "text/plain": [
       "<IPython.core.display.Image object>"
      ]
     },
     "metadata": {},
     "output_type": "display_data"
    }
   ],
   "source": [
    "display(Image(data=search_app.get_graph().draw_mermaid_png(draw_method=MermaidDrawMethod.API)))"
   ]
  },
  {
   "cell_type": "code",
   "execution_count": 27,
   "id": "459286f2-8ed6-45d8-9c9c-107a46c39d1c",
   "metadata": {
    "scrolled": true
   },
   "outputs": [
    {
     "name": "stdout",
     "output_type": "stream",
     "text": [
      "State prior to tool calling: {'messages': [HumanMessage(content='How is the weather in Chennai?', additional_kwargs={}, response_metadata={}, id='b819527b-e887-475b-8dac-be1a397c664d'), AIMessage(content='', additional_kwargs={'tool_calls': [{'id': '7kkx108z8', 'function': {'arguments': '{\"query\":\"Chennai weather\"}', 'name': 'tavily_search_results_json'}, 'type': 'function'}]}, response_metadata={'token_usage': {'completion_tokens': 20, 'prompt_tokens': 285, 'total_tokens': 305, 'completion_time': 0.03366499, 'prompt_time': 0.016915045, 'queue_time': 0.05591318499999999, 'total_time': 0.050580035}, 'model_name': 'llama-3.1-8b-instant', 'system_fingerprint': 'fp_c523237e5d', 'finish_reason': 'tool_calls', 'logprobs': None}, id='run--e9768509-03c7-40d4-93b3-eb23d5eea437-0', tool_calls=[{'name': 'tavily_search_results_json', 'args': {'query': 'Chennai weather'}, 'id': '7kkx108z8', 'type': 'tool_call'}], usage_metadata={'input_tokens': 285, 'output_tokens': 20, 'total_tokens': 305})]}\n",
      "\n",
      "State prior to tool calling: {'messages': [HumanMessage(content='How is the weather in Chennai?', additional_kwargs={}, response_metadata={}, id='b819527b-e887-475b-8dac-be1a397c664d'), AIMessage(content='', additional_kwargs={'tool_calls': [{'id': '7kkx108z8', 'function': {'arguments': '{\"query\":\"Chennai weather\"}', 'name': 'tavily_search_results_json'}, 'type': 'function'}]}, response_metadata={'token_usage': {'completion_tokens': 20, 'prompt_tokens': 285, 'total_tokens': 305, 'completion_time': 0.03366499, 'prompt_time': 0.016915045, 'queue_time': 0.05591318499999999, 'total_time': 0.050580035}, 'model_name': 'llama-3.1-8b-instant', 'system_fingerprint': 'fp_c523237e5d', 'finish_reason': 'tool_calls', 'logprobs': None}, id='run--e9768509-03c7-40d4-93b3-eb23d5eea437-0', tool_calls=[{'name': 'tavily_search_results_json', 'args': {'query': 'Chennai weather'}, 'id': '7kkx108z8', 'type': 'tool_call'}], usage_metadata={'input_tokens': 285, 'output_tokens': 20, 'total_tokens': 305}), ToolMessage(content='[{\"title\": \"Chennai weather in July 2025 - Weather25.com\", \"url\": \"https://www.weather25.com/asia/india/tamil-nadu/chennai?page=month&month=July\", \"content\": \"weather25.com\\\\nSearch\\\\nweather in India\\\\nRemove from your favorite locations\\\\nAdd to my locations\\\\nShare\\\\nweather in India\\\\n\\\\n# Chennai weather in July 2025\\\\n\\\\nThe temperatures in Chennai during July are extremely high, between 28°C and hot as 34°C, drinking water regularly is advisable.\\\\n\\\\nYou can expect about 3 to 8 days of rain in Chennai during the month of July. It’s a good idea to bring along your umbrella so that you don’t get caught in poor weather. [...] | 20 Partly cloudy 33° /28° | 21 Overcast 34° /28° | 22 Patchy rain possible 32° /27° | 23 Light rain shower 34° /27° | 24 Thundery outbreaks possible 33° /27° | 25 Patchy rain possible 32° /27° | 26 Moderate rain at times 32° /27° |\\\\n| 27 Patchy rain possible 33° /28° | 28 Partly cloudy 34° /28° | 29 Thundery outbreaks possible 35° /28° | 30 Partly cloudy 34° /28° | 31 Thundery outbreaks possible 34° /28° |  |  | [...] Moderate rain at times\\\\nPatchy rain possible\\\\nPartly cloudy\\\\nThundery outbreaks possible\\\\nPartly cloudy\\\\nThundery outbreaks possible\", \"score\": 0.89324445}, {\"title\": \"July 2025 Weather History in Chennai Tamil Nadu, India\", \"url\": \"https://weatherspark.com/h/m/110123/2025/7/Historical-Weather-in-July-2025-in-Chennai-Tamil-Nadu-India\", \"content\": \"8:02 PM | WNW | - | 1:36 PM | N | 237,960 mi | | 27 | | 8% | 7:59 AM | ENE | 8:41 PM | W | - | 2:22 PM | S | 241,014 mi | | 28 | | 14% | 8:49 AM | E | 9:18 PM | W | - | 3:04 PM | S | 244,006 mi | | 29 | | 22% | 9:36 AM | E | 9:52 PM | W | - | 3:45 PM | S | 246,698 mi | | 30 | | 31% | 10:22 AM | E | 10:27 PM | W | - | 4:25 PM | S | 248,879 mi | | 31 | | 40% | 11:08 AM | ESE | 11:03 PM | WSW | - | 5:05 PM | S | 250,380 mi | ### Humidity Comfort Levels in July 2025 in Chennai Summer 2025 Link [...] S | 250,615 mi | | 7 | | 90% | - | 2:28 AM | WSW | 3:45 PM | ESE | 9:30 PM | S | 249,266 mi | | 8 | | 95% | - | 3:15 AM | WSW | 4:39 PM | ESE | 10:23 PM | S | 247,433 mi | | 9 | | 99% | - | 4:07 AM | WSW | 5:34 PM | ESE | 11:18 PM | S | 245,280 mi | | 10 | | 100% | - | 5:02 AM | WSW | 6:27 PM | ESE | - | - | | 11 | | 100% | - | 5:59 AM | WSW | 7:18 PM | ESE | 12:14 AM | S | 242,967 mi | | 12 | | 99% | - | 6:56 AM | WSW | 8:05 PM | ESE | 1:08 AM | S | 240,635 mi | | 13 | | 96% | - | 7:52 AM | [...] WSW | 8:49 PM | ESE | 1:59 AM | S | 238,395 mi | | 14 | | 90% | - | 8:46 AM | WSW | 9:30 PM | E | 2:48 AM | S | 236,314 mi | | 15 | | 82% | - | 9:39 AM | W | 10:10 PM | E | 3:35 AM | S | 234,429 mi | | 16 | | 73% | - | 10:32 AM | W | 10:50 PM | E | 4:20 AM | S | 232,755 mi | | 17 | | 62% | - | 11:25 AM | W | 11:31 PM | ENE | 5:06 AM | S | 231,306 mi | | 18 | | 50% | - | 12:21 PM | WNW | - | 5:54 AM | S | 230,111 mi | | 19 | | 38% | 12:16 AM | ENE | 1:20 PM | WNW | - | 6:46 AM | N | 229,230 mi |\", \"score\": 0.86136365}]', name='tavily_search_results_json', id='a26c5074-abc7-487b-9023-710cf90c4cba', tool_call_id='7kkx108z8', artifact={'query': 'Chennai weather', 'follow_up_questions': None, 'answer': None, 'images': [], 'results': [{'url': 'https://www.weather25.com/asia/india/tamil-nadu/chennai?page=month&month=July', 'title': 'Chennai weather in July 2025 - Weather25.com', 'content': 'weather25.com\\nSearch\\nweather in India\\nRemove from your favorite locations\\nAdd to my locations\\nShare\\nweather in India\\n\\n# Chennai weather in July 2025\\n\\nThe temperatures in Chennai during July are extremely high, between 28°C and hot as 34°C, drinking water regularly is advisable.\\n\\nYou can expect about 3 to 8 days of rain in Chennai during the month of July. It’s a good idea to bring along your umbrella so that you don’t get caught in poor weather. [...] | 20 Partly cloudy 33° /28° | 21 Overcast 34° /28° | 22 Patchy rain possible 32° /27° | 23 Light rain shower 34° /27° | 24 Thundery outbreaks possible 33° /27° | 25 Patchy rain possible 32° /27° | 26 Moderate rain at times 32° /27° |\\n| 27 Patchy rain possible 33° /28° | 28 Partly cloudy 34° /28° | 29 Thundery outbreaks possible 35° /28° | 30 Partly cloudy 34° /28° | 31 Thundery outbreaks possible 34° /28° |  |  | [...] Moderate rain at times\\nPatchy rain possible\\nPartly cloudy\\nThundery outbreaks possible\\nPartly cloudy\\nThundery outbreaks possible', 'score': 0.89324445, 'raw_content': None}, {'url': 'https://weatherspark.com/h/m/110123/2025/7/Historical-Weather-in-July-2025-in-Chennai-Tamil-Nadu-India', 'title': 'July 2025 Weather History in Chennai Tamil Nadu, India', 'content': '8:02 PM | WNW | - | 1:36 PM | N | 237,960 mi | | 27 | | 8% | 7:59 AM | ENE | 8:41 PM | W | - | 2:22 PM | S | 241,014 mi | | 28 | | 14% | 8:49 AM | E | 9:18 PM | W | - | 3:04 PM | S | 244,006 mi | | 29 | | 22% | 9:36 AM | E | 9:52 PM | W | - | 3:45 PM | S | 246,698 mi | | 30 | | 31% | 10:22 AM | E | 10:27 PM | W | - | 4:25 PM | S | 248,879 mi | | 31 | | 40% | 11:08 AM | ESE | 11:03 PM | WSW | - | 5:05 PM | S | 250,380 mi | ### Humidity Comfort Levels in July 2025 in Chennai Summer 2025 Link [...] S | 250,615 mi | | 7 | | 90% | - | 2:28 AM | WSW | 3:45 PM | ESE | 9:30 PM | S | 249,266 mi | | 8 | | 95% | - | 3:15 AM | WSW | 4:39 PM | ESE | 10:23 PM | S | 247,433 mi | | 9 | | 99% | - | 4:07 AM | WSW | 5:34 PM | ESE | 11:18 PM | S | 245,280 mi | | 10 | | 100% | - | 5:02 AM | WSW | 6:27 PM | ESE | - | - | | 11 | | 100% | - | 5:59 AM | WSW | 7:18 PM | ESE | 12:14 AM | S | 242,967 mi | | 12 | | 99% | - | 6:56 AM | WSW | 8:05 PM | ESE | 1:08 AM | S | 240,635 mi | | 13 | | 96% | - | 7:52 AM | [...] WSW | 8:49 PM | ESE | 1:59 AM | S | 238,395 mi | | 14 | | 90% | - | 8:46 AM | WSW | 9:30 PM | E | 2:48 AM | S | 236,314 mi | | 15 | | 82% | - | 9:39 AM | W | 10:10 PM | E | 3:35 AM | S | 234,429 mi | | 16 | | 73% | - | 10:32 AM | W | 10:50 PM | E | 4:20 AM | S | 232,755 mi | | 17 | | 62% | - | 11:25 AM | W | 11:31 PM | ENE | 5:06 AM | S | 231,306 mi | | 18 | | 50% | - | 12:21 PM | WNW | - | 5:54 AM | S | 230,111 mi | | 19 | | 38% | 12:16 AM | ENE | 1:20 PM | WNW | - | 6:46 AM | N | 229,230 mi |', 'score': 0.86136365, 'raw_content': None}], 'response_time': 3.4}), AIMessage(content=\"The weather in Chennai in July 2025 is expected to be extremely hot, with temperatures ranging from 28°C to 34°C. It is also expected to rain around 3 to 8 days during the month. It's a good idea to bring along your umbrella to avoid getting caught in poor weather. The humidity levels are expected to be high, with comfort levels ranging from 90% to 100%.\", additional_kwargs={}, response_metadata={'token_usage': {'completion_tokens': 85, 'prompt_tokens': 1543, 'total_tokens': 1628, 'completion_time': 0.178848308, 'prompt_time': 0.098568047, 'queue_time': 0.052064242999999996, 'total_time': 0.277416355}, 'model_name': 'llama-3.1-8b-instant', 'system_fingerprint': 'fp_c523237e5d', 'finish_reason': 'stop', 'logprobs': None}, id='run--8d6f8398-7057-40f7-85ff-c302c80fba89-0', usage_metadata={'input_tokens': 1543, 'output_tokens': 85, 'total_tokens': 1628})]}\n",
      "\n"
     ]
    }
   ],
   "source": [
    "response=search_app.invoke(input={\"messages\":\"How is the weather in Chennai?\"})"
   ]
  },
  {
   "cell_type": "code",
   "execution_count": 28,
   "id": "5dfc2503-e3b1-4c86-b7d7-432b98ce6714",
   "metadata": {},
   "outputs": [
    {
     "data": {
      "text/plain": [
       "{'messages': [HumanMessage(content='How is the weather in Chennai?', additional_kwargs={}, response_metadata={}, id='b819527b-e887-475b-8dac-be1a397c664d'),\n",
       "  AIMessage(content='', additional_kwargs={'tool_calls': [{'id': '7kkx108z8', 'function': {'arguments': '{\"query\":\"Chennai weather\"}', 'name': 'tavily_search_results_json'}, 'type': 'function'}]}, response_metadata={'token_usage': {'completion_tokens': 20, 'prompt_tokens': 285, 'total_tokens': 305, 'completion_time': 0.03366499, 'prompt_time': 0.016915045, 'queue_time': 0.05591318499999999, 'total_time': 0.050580035}, 'model_name': 'llama-3.1-8b-instant', 'system_fingerprint': 'fp_c523237e5d', 'finish_reason': 'tool_calls', 'logprobs': None}, id='run--e9768509-03c7-40d4-93b3-eb23d5eea437-0', tool_calls=[{'name': 'tavily_search_results_json', 'args': {'query': 'Chennai weather'}, 'id': '7kkx108z8', 'type': 'tool_call'}], usage_metadata={'input_tokens': 285, 'output_tokens': 20, 'total_tokens': 305}),\n",
       "  ToolMessage(content='[{\"title\": \"Chennai weather in July 2025 - Weather25.com\", \"url\": \"https://www.weather25.com/asia/india/tamil-nadu/chennai?page=month&month=July\", \"content\": \"weather25.com\\\\nSearch\\\\nweather in India\\\\nRemove from your favorite locations\\\\nAdd to my locations\\\\nShare\\\\nweather in India\\\\n\\\\n# Chennai weather in July 2025\\\\n\\\\nThe temperatures in Chennai during July are extremely high, between 28°C and hot as 34°C, drinking water regularly is advisable.\\\\n\\\\nYou can expect about 3 to 8 days of rain in Chennai during the month of July. It’s a good idea to bring along your umbrella so that you don’t get caught in poor weather. [...] | 20 Partly cloudy 33° /28° | 21 Overcast 34° /28° | 22 Patchy rain possible 32° /27° | 23 Light rain shower 34° /27° | 24 Thundery outbreaks possible 33° /27° | 25 Patchy rain possible 32° /27° | 26 Moderate rain at times 32° /27° |\\\\n| 27 Patchy rain possible 33° /28° | 28 Partly cloudy 34° /28° | 29 Thundery outbreaks possible 35° /28° | 30 Partly cloudy 34° /28° | 31 Thundery outbreaks possible 34° /28° |  |  | [...] Moderate rain at times\\\\nPatchy rain possible\\\\nPartly cloudy\\\\nThundery outbreaks possible\\\\nPartly cloudy\\\\nThundery outbreaks possible\", \"score\": 0.89324445}, {\"title\": \"July 2025 Weather History in Chennai Tamil Nadu, India\", \"url\": \"https://weatherspark.com/h/m/110123/2025/7/Historical-Weather-in-July-2025-in-Chennai-Tamil-Nadu-India\", \"content\": \"8:02 PM | WNW | - | 1:36 PM | N | 237,960 mi | | 27 | | 8% | 7:59 AM | ENE | 8:41 PM | W | - | 2:22 PM | S | 241,014 mi | | 28 | | 14% | 8:49 AM | E | 9:18 PM | W | - | 3:04 PM | S | 244,006 mi | | 29 | | 22% | 9:36 AM | E | 9:52 PM | W | - | 3:45 PM | S | 246,698 mi | | 30 | | 31% | 10:22 AM | E | 10:27 PM | W | - | 4:25 PM | S | 248,879 mi | | 31 | | 40% | 11:08 AM | ESE | 11:03 PM | WSW | - | 5:05 PM | S | 250,380 mi | ### Humidity Comfort Levels in July 2025 in Chennai Summer 2025 Link [...] S | 250,615 mi | | 7 | | 90% | - | 2:28 AM | WSW | 3:45 PM | ESE | 9:30 PM | S | 249,266 mi | | 8 | | 95% | - | 3:15 AM | WSW | 4:39 PM | ESE | 10:23 PM | S | 247,433 mi | | 9 | | 99% | - | 4:07 AM | WSW | 5:34 PM | ESE | 11:18 PM | S | 245,280 mi | | 10 | | 100% | - | 5:02 AM | WSW | 6:27 PM | ESE | - | - | | 11 | | 100% | - | 5:59 AM | WSW | 7:18 PM | ESE | 12:14 AM | S | 242,967 mi | | 12 | | 99% | - | 6:56 AM | WSW | 8:05 PM | ESE | 1:08 AM | S | 240,635 mi | | 13 | | 96% | - | 7:52 AM | [...] WSW | 8:49 PM | ESE | 1:59 AM | S | 238,395 mi | | 14 | | 90% | - | 8:46 AM | WSW | 9:30 PM | E | 2:48 AM | S | 236,314 mi | | 15 | | 82% | - | 9:39 AM | W | 10:10 PM | E | 3:35 AM | S | 234,429 mi | | 16 | | 73% | - | 10:32 AM | W | 10:50 PM | E | 4:20 AM | S | 232,755 mi | | 17 | | 62% | - | 11:25 AM | W | 11:31 PM | ENE | 5:06 AM | S | 231,306 mi | | 18 | | 50% | - | 12:21 PM | WNW | - | 5:54 AM | S | 230,111 mi | | 19 | | 38% | 12:16 AM | ENE | 1:20 PM | WNW | - | 6:46 AM | N | 229,230 mi |\", \"score\": 0.86136365}]', name='tavily_search_results_json', id='a26c5074-abc7-487b-9023-710cf90c4cba', tool_call_id='7kkx108z8', artifact={'query': 'Chennai weather', 'follow_up_questions': None, 'answer': None, 'images': [], 'results': [{'url': 'https://www.weather25.com/asia/india/tamil-nadu/chennai?page=month&month=July', 'title': 'Chennai weather in July 2025 - Weather25.com', 'content': 'weather25.com\\nSearch\\nweather in India\\nRemove from your favorite locations\\nAdd to my locations\\nShare\\nweather in India\\n\\n# Chennai weather in July 2025\\n\\nThe temperatures in Chennai during July are extremely high, between 28°C and hot as 34°C, drinking water regularly is advisable.\\n\\nYou can expect about 3 to 8 days of rain in Chennai during the month of July. It’s a good idea to bring along your umbrella so that you don’t get caught in poor weather. [...] | 20 Partly cloudy 33° /28° | 21 Overcast 34° /28° | 22 Patchy rain possible 32° /27° | 23 Light rain shower 34° /27° | 24 Thundery outbreaks possible 33° /27° | 25 Patchy rain possible 32° /27° | 26 Moderate rain at times 32° /27° |\\n| 27 Patchy rain possible 33° /28° | 28 Partly cloudy 34° /28° | 29 Thundery outbreaks possible 35° /28° | 30 Partly cloudy 34° /28° | 31 Thundery outbreaks possible 34° /28° |  |  | [...] Moderate rain at times\\nPatchy rain possible\\nPartly cloudy\\nThundery outbreaks possible\\nPartly cloudy\\nThundery outbreaks possible', 'score': 0.89324445, 'raw_content': None}, {'url': 'https://weatherspark.com/h/m/110123/2025/7/Historical-Weather-in-July-2025-in-Chennai-Tamil-Nadu-India', 'title': 'July 2025 Weather History in Chennai Tamil Nadu, India', 'content': '8:02 PM | WNW | - | 1:36 PM | N | 237,960 mi | | 27 | | 8% | 7:59 AM | ENE | 8:41 PM | W | - | 2:22 PM | S | 241,014 mi | | 28 | | 14% | 8:49 AM | E | 9:18 PM | W | - | 3:04 PM | S | 244,006 mi | | 29 | | 22% | 9:36 AM | E | 9:52 PM | W | - | 3:45 PM | S | 246,698 mi | | 30 | | 31% | 10:22 AM | E | 10:27 PM | W | - | 4:25 PM | S | 248,879 mi | | 31 | | 40% | 11:08 AM | ESE | 11:03 PM | WSW | - | 5:05 PM | S | 250,380 mi | ### Humidity Comfort Levels in July 2025 in Chennai Summer 2025 Link [...] S | 250,615 mi | | 7 | | 90% | - | 2:28 AM | WSW | 3:45 PM | ESE | 9:30 PM | S | 249,266 mi | | 8 | | 95% | - | 3:15 AM | WSW | 4:39 PM | ESE | 10:23 PM | S | 247,433 mi | | 9 | | 99% | - | 4:07 AM | WSW | 5:34 PM | ESE | 11:18 PM | S | 245,280 mi | | 10 | | 100% | - | 5:02 AM | WSW | 6:27 PM | ESE | - | - | | 11 | | 100% | - | 5:59 AM | WSW | 7:18 PM | ESE | 12:14 AM | S | 242,967 mi | | 12 | | 99% | - | 6:56 AM | WSW | 8:05 PM | ESE | 1:08 AM | S | 240,635 mi | | 13 | | 96% | - | 7:52 AM | [...] WSW | 8:49 PM | ESE | 1:59 AM | S | 238,395 mi | | 14 | | 90% | - | 8:46 AM | WSW | 9:30 PM | E | 2:48 AM | S | 236,314 mi | | 15 | | 82% | - | 9:39 AM | W | 10:10 PM | E | 3:35 AM | S | 234,429 mi | | 16 | | 73% | - | 10:32 AM | W | 10:50 PM | E | 4:20 AM | S | 232,755 mi | | 17 | | 62% | - | 11:25 AM | W | 11:31 PM | ENE | 5:06 AM | S | 231,306 mi | | 18 | | 50% | - | 12:21 PM | WNW | - | 5:54 AM | S | 230,111 mi | | 19 | | 38% | 12:16 AM | ENE | 1:20 PM | WNW | - | 6:46 AM | N | 229,230 mi |', 'score': 0.86136365, 'raw_content': None}], 'response_time': 3.4}),\n",
       "  AIMessage(content=\"The weather in Chennai in July 2025 is expected to be extremely hot, with temperatures ranging from 28°C to 34°C. It is also expected to rain around 3 to 8 days during the month. It's a good idea to bring along your umbrella to avoid getting caught in poor weather. The humidity levels are expected to be high, with comfort levels ranging from 90% to 100%.\", additional_kwargs={}, response_metadata={'token_usage': {'completion_tokens': 85, 'prompt_tokens': 1543, 'total_tokens': 1628, 'completion_time': 0.178848308, 'prompt_time': 0.098568047, 'queue_time': 0.052064242999999996, 'total_time': 0.277416355}, 'model_name': 'llama-3.1-8b-instant', 'system_fingerprint': 'fp_c523237e5d', 'finish_reason': 'stop', 'logprobs': None}, id='run--8d6f8398-7057-40f7-85ff-c302c80fba89-0', usage_metadata={'input_tokens': 1543, 'output_tokens': 85, 'total_tokens': 1628})]}"
      ]
     },
     "execution_count": 28,
     "metadata": {},
     "output_type": "execute_result"
    }
   ],
   "source": [
    "response"
   ]
  },
  {
   "cell_type": "markdown",
   "id": "38fcb494-3e8c-46b4-8e8d-f97ab2184a6f",
   "metadata": {},
   "source": [
    "<h3>Shared Schema, direct embedding</h3>"
   ]
  },
  {
   "cell_type": "code",
   "execution_count": 29,
   "id": "a369319e-5efa-4261-a382-6fc8277de062",
   "metadata": {},
   "outputs": [],
   "source": [
    "class ParentState(TypedDict):\n",
    "    messages:Annotated[list, add_messages]"
   ]
  },
  {
   "cell_type": "code",
   "execution_count": 30,
   "id": "ea40d608-4585-4f22-891c-ffa3e34595f4",
   "metadata": {},
   "outputs": [],
   "source": [
    "# Create a parent graph\n",
    "parent_graph=StateGraph(state_schema=ParentState)"
   ]
  },
  {
   "cell_type": "code",
   "execution_count": 31,
   "id": "d486a258-3ac1-4326-8579-c377b1d8ded1",
   "metadata": {},
   "outputs": [
    {
     "data": {
      "text/plain": [
       "<langgraph.graph.state.StateGraph at 0x28e57a60c50>"
      ]
     },
     "execution_count": 31,
     "metadata": {},
     "output_type": "execute_result"
    }
   ],
   "source": [
    "# Add the subgraph as a node\n",
    "parent_graph.add_node(node=\"search_agent\",action=search_app)"
   ]
  },
  {
   "cell_type": "code",
   "execution_count": 32,
   "id": "c86c379f-5d20-4f07-87cc-9a81ac58e6fb",
   "metadata": {},
   "outputs": [
    {
     "data": {
      "text/plain": [
       "<langgraph.graph.state.StateGraph at 0x28e57a60c50>"
      ]
     },
     "execution_count": 32,
     "metadata": {},
     "output_type": "execute_result"
    }
   ],
   "source": [
    "# connect the flow\n",
    "parent_graph.add_edge(start_key=START,end_key=\"search_agent\")"
   ]
  },
  {
   "cell_type": "code",
   "execution_count": 33,
   "id": "2001f374-edc0-4f1b-ac14-f9cba9ae2cbe",
   "metadata": {},
   "outputs": [
    {
     "data": {
      "text/plain": [
       "<langgraph.graph.state.StateGraph at 0x28e57a60c50>"
      ]
     },
     "execution_count": 33,
     "metadata": {},
     "output_type": "execute_result"
    }
   ],
   "source": [
    "# connect the flow\n",
    "parent_graph.add_edge(start_key=\"search_agent\",end_key=END)"
   ]
  },
  {
   "cell_type": "code",
   "execution_count": 34,
   "id": "f5397da8-d689-4756-8caa-8bea306ac64b",
   "metadata": {},
   "outputs": [],
   "source": [
    "# Compile the parent graph\n",
    "parent_app=parent_graph.compile()"
   ]
  },
  {
   "cell_type": "code",
   "execution_count": 35,
   "id": "8e40196b-4aef-47a4-ad3e-100217a2f771",
   "metadata": {},
   "outputs": [
    {
     "data": {
      "image/png": "[encoded data removed]",
      "text/plain": [
       "<IPython.core.display.Image object>"
      ]
     },
     "metadata": {},
     "output_type": "display_data"
    }
   ],
   "source": [
    "display(Image(data=parent_app.get_graph().draw_mermaid_png(draw_method=MermaidDrawMethod.API)))"
   ]
  },
  {
   "cell_type": "code",
   "execution_count": 37,
   "id": "f8ec721f-1e11-4e48-9ec8-3a63fd560213",
   "metadata": {},
   "outputs": [
    {
     "name": "stdout",
     "output_type": "stream",
     "text": [
      "State prior to tool calling: {'messages': [HumanMessage(content='How is the weather in Kolkata?', additional_kwargs={}, response_metadata={}, id='11dcc0c7-8f06-4bf6-9a58-4c2b5967b4be'), AIMessage(content='', additional_kwargs={'tool_calls': [{'id': '1szw8xyvq', 'function': {'arguments': '{\"query\":\"Kolkata weather\"}', 'name': 'tavily_search_results_json'}, 'type': 'function'}]}, response_metadata={'token_usage': {'completion_tokens': 20, 'prompt_tokens': 285, 'total_tokens': 305, 'completion_time': 0.037495732, 'prompt_time': 0.020869387, 'queue_time': 0.324704318, 'total_time': 0.058365119}, 'model_name': 'llama-3.1-8b-instant', 'system_fingerprint': 'fp_c523237e5d', 'finish_reason': 'tool_calls', 'logprobs': None}, id='run--57388af7-ebfc-45b1-983c-24685583101a-0', tool_calls=[{'name': 'tavily_search_results_json', 'args': {'query': 'Kolkata weather'}, 'id': '1szw8xyvq', 'type': 'tool_call'}], usage_metadata={'input_tokens': 285, 'output_tokens': 20, 'total_tokens': 305})]}\n",
      "\n",
      "State prior to tool calling: {'messages': [HumanMessage(content='How is the weather in Kolkata?', additional_kwargs={}, response_metadata={}, id='11dcc0c7-8f06-4bf6-9a58-4c2b5967b4be'), AIMessage(content='', additional_kwargs={'tool_calls': [{'id': '1szw8xyvq', 'function': {'arguments': '{\"query\":\"Kolkata weather\"}', 'name': 'tavily_search_results_json'}, 'type': 'function'}]}, response_metadata={'token_usage': {'completion_tokens': 20, 'prompt_tokens': 285, 'total_tokens': 305, 'completion_time': 0.037495732, 'prompt_time': 0.020869387, 'queue_time': 0.324704318, 'total_time': 0.058365119}, 'model_name': 'llama-3.1-8b-instant', 'system_fingerprint': 'fp_c523237e5d', 'finish_reason': 'tool_calls', 'logprobs': None}, id='run--57388af7-ebfc-45b1-983c-24685583101a-0', tool_calls=[{'name': 'tavily_search_results_json', 'args': {'query': 'Kolkata weather'}, 'id': '1szw8xyvq', 'type': 'tool_call'}], usage_metadata={'input_tokens': 285, 'output_tokens': 20, 'total_tokens': 305}), ToolMessage(content='[{\"title\": \"Kolkata weather in July 2025 - Weather25.com\", \"url\": \"https://www.weather25.com/asia/india/west-bengal/kolkata?page=month&month=July\", \"content\": \"| 27 Image 54: Moderate or heavy rain shower 93°/80° | 28 Image 55: Torrential rain shower 93°/80° | 29 Image 56: Light rain shower 91°/80° | 30 Image 57: Light rain shower 95°/80° | 31 Image 58: Light rain shower 93°/80° |  |  | [...] | Sun | Mon | Tue | Wed | Thu | Fri | Sat |\\\\n| --- | --- | --- | --- | --- | --- | --- |\\\\n|  |  | 1 Image 28: Light rain shower 93°/80° | 2 Image 29: Light rain shower 95°/82° | 3 Image 30: Moderate or heavy rain shower 91°/82° | 4 Image 31: Moderate or heavy rain shower 93°/82° | 5 Image 32: Light rain shower 93°/82° | [...] Our weather forecast can give you a great sense of what weather to expect in Kolkata in July 2025.\\\\n\\\\nIf you’re planning to visit Kolkata in the near future, we highly recommend that you review the 14 day weather forecast for Kolkata before you arrive.\\\\n\\\\nImage 22: Temperatures\\\\n\\\\nTemperatures\\\\n\\\\n93° /82° \\\\n\\\\nImage 23: Rainy Days\\\\n\\\\nRainy Days\\\\n\\\\n20\\\\n\\\\nImage 24: Snowy Days\\\\n\\\\nSnowy Days\\\\n\\\\n0\\\\n\\\\nImage 25: Dry Days\\\\n\\\\nDry Days\\\\n\\\\n11\\\\n\\\\nImage 26: Rainfall\\\\n\\\\nRainfall\\\\n\\\\n13.78\\\\n\\\\nin\\\\n\\\\nImage 27: 10.2\\\\n\\\\nSun Hours\\\\n\\\\n10.2\\\\n\\\\nHrs\", \"score\": 0.9363841}, {\"title\": \"Weather Kolkata in July 2025: Temperature & Climate\", \"url\": \"https://en.climate-data.org/asia/india/west-bengal/kolkata-2826/t/july-7/\", \"content\": \"| Max. Temperature °C (°F) | 25.3 °C (77.5) °F | 29 °C (84.1) °F | 33.3 °C (91.9) °F | 35.7 °C (96.2) °F | 35.4 °C (95.7) °F | 33.1 °C (91.6) °F | 31.1 °C (87.9) °F | 31 °C (87.7) °F | 30.8 °C (87.5) °F | 30.2 °C (86.3) °F | 28.5 °C (83.3) °F | 25.9 °C (78.6) °F |\\\\n| Precipitation / Rainfall mm (in) | 12 (0) | 27 (1) | 35 (1) | 63 (2) | 127 (5) | 277 (10) | 365 (14) | 312 (12) | 260 (10) | 135 (5) | 32 (1) | 11 (0) | [...] | 23. July | 28 °C | 82 °F | 31 °C | 88 °F | 26 °C | 79 °F | 24.6 mm | 1.0 inch. |\\\\n| 24. July | 28 °C | 82 °F | 31 °C | 88 °F | 26 °C | 79 °F | 24.1 mm | 0.9 inch. |\\\\n| 25. July | 28 °C | 82 °F | 31 °C | 88 °F | 26 °C | 79 °F | 25.1 mm | 1.0 inch. |\\\\n| 26. July | 28 °C | 82 °F | 31 °C | 88 °F | 26 °C | 78 °F | 31.0 mm | 1.2 inch. |\\\\n| 27. July | 28 °C | 82 °F | 31 °C | 87 °F | 26 °C | 78 °F | 31.6 mm | 1.2 inch. |\\\\n| 28. July | 28 °C | 82 °F | 31 °C | 88 °F | 26 °C | 78 °F | 28.3 mm | 1.1 inch. | [...] | Min. Temperature °C (°F) | 12.9 °C (55.3) °F | 16.5 °C (61.7) °F | 21.4 °C (70.5) °F | 25.5 °C (77.8) °F | 26.9 °C (80.5) °F | 27 °C (80.5) °F | 26.1 °C (78.9) °F | 25.8 °C (78.4) °F | 25.3 °C (77.5) °F | 23 °C (73.4) °F | 18.4 °C (65.1) °F | 14.5 °C (58.1) °F |\", \"score\": 0.8795718}]', name='tavily_search_results_json', id='a457e683-c041-4412-a752-847780fb2fcb', tool_call_id='1szw8xyvq', artifact={'query': 'Kolkata weather', 'follow_up_questions': None, 'answer': None, 'images': [], 'results': [{'url': 'https://www.weather25.com/asia/india/west-bengal/kolkata?page=month&month=July', 'title': 'Kolkata weather in July 2025 - Weather25.com', 'content': '| 27 Image 54: Moderate or heavy rain shower 93°/80° | 28 Image 55: Torrential rain shower 93°/80° | 29 Image 56: Light rain shower 91°/80° | 30 Image 57: Light rain shower 95°/80° | 31 Image 58: Light rain shower 93°/80° |  |  | [...] | Sun | Mon | Tue | Wed | Thu | Fri | Sat |\\n| --- | --- | --- | --- | --- | --- | --- |\\n|  |  | 1 Image 28: Light rain shower 93°/80° | 2 Image 29: Light rain shower 95°/82° | 3 Image 30: Moderate or heavy rain shower 91°/82° | 4 Image 31: Moderate or heavy rain shower 93°/82° | 5 Image 32: Light rain shower 93°/82° | [...] Our weather forecast can give you a great sense of what weather to expect in Kolkata in July 2025.\\n\\nIf you’re planning to visit Kolkata in the near future, we highly recommend that you review the 14 day weather forecast for Kolkata before you arrive.\\n\\nImage 22: Temperatures\\n\\nTemperatures\\n\\n93° /82° \\n\\nImage 23: Rainy Days\\n\\nRainy Days\\n\\n20\\n\\nImage 24: Snowy Days\\n\\nSnowy Days\\n\\n0\\n\\nImage 25: Dry Days\\n\\nDry Days\\n\\n11\\n\\nImage 26: Rainfall\\n\\nRainfall\\n\\n13.78\\n\\nin\\n\\nImage 27: 10.2\\n\\nSun Hours\\n\\n10.2\\n\\nHrs', 'score': 0.9363841, 'raw_content': None}, {'url': 'https://en.climate-data.org/asia/india/west-bengal/kolkata-2826/t/july-7/', 'title': 'Weather Kolkata in July 2025: Temperature & Climate', 'content': '| Max. Temperature °C (°F) | 25.3 °C (77.5) °F | 29 °C (84.1) °F | 33.3 °C (91.9) °F | 35.7 °C (96.2) °F | 35.4 °C (95.7) °F | 33.1 °C (91.6) °F | 31.1 °C (87.9) °F | 31 °C (87.7) °F | 30.8 °C (87.5) °F | 30.2 °C (86.3) °F | 28.5 °C (83.3) °F | 25.9 °C (78.6) °F |\\n| Precipitation / Rainfall mm (in) | 12 (0) | 27 (1) | 35 (1) | 63 (2) | 127 (5) | 277 (10) | 365 (14) | 312 (12) | 260 (10) | 135 (5) | 32 (1) | 11 (0) | [...] | 23. July | 28 °C | 82 °F | 31 °C | 88 °F | 26 °C | 79 °F | 24.6 mm | 1.0 inch. |\\n| 24. July | 28 °C | 82 °F | 31 °C | 88 °F | 26 °C | 79 °F | 24.1 mm | 0.9 inch. |\\n| 25. July | 28 °C | 82 °F | 31 °C | 88 °F | 26 °C | 79 °F | 25.1 mm | 1.0 inch. |\\n| 26. July | 28 °C | 82 °F | 31 °C | 88 °F | 26 °C | 78 °F | 31.0 mm | 1.2 inch. |\\n| 27. July | 28 °C | 82 °F | 31 °C | 87 °F | 26 °C | 78 °F | 31.6 mm | 1.2 inch. |\\n| 28. July | 28 °C | 82 °F | 31 °C | 88 °F | 26 °C | 78 °F | 28.3 mm | 1.1 inch. | [...] | Min. Temperature °C (°F) | 12.9 °C (55.3) °F | 16.5 °C (61.7) °F | 21.4 °C (70.5) °F | 25.5 °C (77.8) °F | 26.9 °C (80.5) °F | 27 °C (80.5) °F | 26.1 °C (78.9) °F | 25.8 °C (78.4) °F | 25.3 °C (77.5) °F | 23 °C (73.4) °F | 18.4 °C (65.1) °F | 14.5 °C (58.1) °F |', 'score': 0.8795718, 'raw_content': None}], 'response_time': 0.74}), AIMessage(content='The weather in Kolkata is expected to be rainy with moderate to heavy rain showers throughout the day. The temperature is expected to be around 93°F (33.9°C) during the day and 80°F (26.7°C) at night. It is recommended to check the weather forecast regularly for updates and to plan accordingly.', additional_kwargs={}, response_metadata={'token_usage': {'completion_tokens': 68, 'prompt_tokens': 1553, 'total_tokens': 1621, 'completion_time': 0.29810362, 'prompt_time': 0.144366174, 'queue_time': 0.542360937, 'total_time': 0.442469794}, 'model_name': 'llama-3.1-8b-instant', 'system_fingerprint': 'fp_c523237e5d', 'finish_reason': 'stop', 'logprobs': None}, id='run--5930c4bd-e717-48c4-88a6-95618181d145-0', usage_metadata={'input_tokens': 1553, 'output_tokens': 68, 'total_tokens': 1621})]}\n",
      "\n"
     ]
    }
   ],
   "source": [
    "response=parent_app.invoke(input={\"messages\":\"How is the weather in Kolkata?\"})"
   ]
  },
  {
   "cell_type": "code",
   "execution_count": 38,
   "id": "00aa1ff9-17e1-49b7-9d49-3ecc44dcf027",
   "metadata": {},
   "outputs": [
    {
     "data": {
      "text/plain": [
       "{'messages': [HumanMessage(content='How is the weather in Kolkata?', additional_kwargs={}, response_metadata={}, id='11dcc0c7-8f06-4bf6-9a58-4c2b5967b4be'),\n",
       "  AIMessage(content='', additional_kwargs={'tool_calls': [{'id': '1szw8xyvq', 'function': {'arguments': '{\"query\":\"Kolkata weather\"}', 'name': 'tavily_search_results_json'}, 'type': 'function'}]}, response_metadata={'token_usage': {'completion_tokens': 20, 'prompt_tokens': 285, 'total_tokens': 305, 'completion_time': 0.037495732, 'prompt_time': 0.020869387, 'queue_time': 0.324704318, 'total_time': 0.058365119}, 'model_name': 'llama-3.1-8b-instant', 'system_fingerprint': 'fp_c523237e5d', 'finish_reason': 'tool_calls', 'logprobs': None}, id='run--57388af7-ebfc-45b1-983c-24685583101a-0', tool_calls=[{'name': 'tavily_search_results_json', 'args': {'query': 'Kolkata weather'}, 'id': '1szw8xyvq', 'type': 'tool_call'}], usage_metadata={'input_tokens': 285, 'output_tokens': 20, 'total_tokens': 305}),\n",
       "  ToolMessage(content='[{\"title\": \"Kolkata weather in July 2025 - Weather25.com\", \"url\": \"https://www.weather25.com/asia/india/west-bengal/kolkata?page=month&month=July\", \"content\": \"| 27 Image 54: Moderate or heavy rain shower 93°/80° | 28 Image 55: Torrential rain shower 93°/80° | 29 Image 56: Light rain shower 91°/80° | 30 Image 57: Light rain shower 95°/80° | 31 Image 58: Light rain shower 93°/80° |  |  | [...] | Sun | Mon | Tue | Wed | Thu | Fri | Sat |\\\\n| --- | --- | --- | --- | --- | --- | --- |\\\\n|  |  | 1 Image 28: Light rain shower 93°/80° | 2 Image 29: Light rain shower 95°/82° | 3 Image 30: Moderate or heavy rain shower 91°/82° | 4 Image 31: Moderate or heavy rain shower 93°/82° | 5 Image 32: Light rain shower 93°/82° | [...] Our weather forecast can give you a great sense of what weather to expect in Kolkata in July 2025.\\\\n\\\\nIf you’re planning to visit Kolkata in the near future, we highly recommend that you review the 14 day weather forecast for Kolkata before you arrive.\\\\n\\\\nImage 22: Temperatures\\\\n\\\\nTemperatures\\\\n\\\\n93° /82° \\\\n\\\\nImage 23: Rainy Days\\\\n\\\\nRainy Days\\\\n\\\\n20\\\\n\\\\nImage 24: Snowy Days\\\\n\\\\nSnowy Days\\\\n\\\\n0\\\\n\\\\nImage 25: Dry Days\\\\n\\\\nDry Days\\\\n\\\\n11\\\\n\\\\nImage 26: Rainfall\\\\n\\\\nRainfall\\\\n\\\\n13.78\\\\n\\\\nin\\\\n\\\\nImage 27: 10.2\\\\n\\\\nSun Hours\\\\n\\\\n10.2\\\\n\\\\nHrs\", \"score\": 0.9363841}, {\"title\": \"Weather Kolkata in July 2025: Temperature & Climate\", \"url\": \"https://en.climate-data.org/asia/india/west-bengal/kolkata-2826/t/july-7/\", \"content\": \"| Max. Temperature °C (°F) | 25.3 °C (77.5) °F | 29 °C (84.1) °F | 33.3 °C (91.9) °F | 35.7 °C (96.2) °F | 35.4 °C (95.7) °F | 33.1 °C (91.6) °F | 31.1 °C (87.9) °F | 31 °C (87.7) °F | 30.8 °C (87.5) °F | 30.2 °C (86.3) °F | 28.5 °C (83.3) °F | 25.9 °C (78.6) °F |\\\\n| Precipitation / Rainfall mm (in) | 12 (0) | 27 (1) | 35 (1) | 63 (2) | 127 (5) | 277 (10) | 365 (14) | 312 (12) | 260 (10) | 135 (5) | 32 (1) | 11 (0) | [...] | 23. July | 28 °C | 82 °F | 31 °C | 88 °F | 26 °C | 79 °F | 24.6 mm | 1.0 inch. |\\\\n| 24. July | 28 °C | 82 °F | 31 °C | 88 °F | 26 °C | 79 °F | 24.1 mm | 0.9 inch. |\\\\n| 25. July | 28 °C | 82 °F | 31 °C | 88 °F | 26 °C | 79 °F | 25.1 mm | 1.0 inch. |\\\\n| 26. July | 28 °C | 82 °F | 31 °C | 88 °F | 26 °C | 78 °F | 31.0 mm | 1.2 inch. |\\\\n| 27. July | 28 °C | 82 °F | 31 °C | 87 °F | 26 °C | 78 °F | 31.6 mm | 1.2 inch. |\\\\n| 28. July | 28 °C | 82 °F | 31 °C | 88 °F | 26 °C | 78 °F | 28.3 mm | 1.1 inch. | [...] | Min. Temperature °C (°F) | 12.9 °C (55.3) °F | 16.5 °C (61.7) °F | 21.4 °C (70.5) °F | 25.5 °C (77.8) °F | 26.9 °C (80.5) °F | 27 °C (80.5) °F | 26.1 °C (78.9) °F | 25.8 °C (78.4) °F | 25.3 °C (77.5) °F | 23 °C (73.4) °F | 18.4 °C (65.1) °F | 14.5 °C (58.1) °F |\", \"score\": 0.8795718}]', name='tavily_search_results_json', id='a457e683-c041-4412-a752-847780fb2fcb', tool_call_id='1szw8xyvq', artifact={'query': 'Kolkata weather', 'follow_up_questions': None, 'answer': None, 'images': [], 'results': [{'url': 'https://www.weather25.com/asia/india/west-bengal/kolkata?page=month&month=July', 'title': 'Kolkata weather in July 2025 - Weather25.com', 'content': '| 27 Image 54: Moderate or heavy rain shower 93°/80° | 28 Image 55: Torrential rain shower 93°/80° | 29 Image 56: Light rain shower 91°/80° | 30 Image 57: Light rain shower 95°/80° | 31 Image 58: Light rain shower 93°/80° |  |  | [...] | Sun | Mon | Tue | Wed | Thu | Fri | Sat |\\n| --- | --- | --- | --- | --- | --- | --- |\\n|  |  | 1 Image 28: Light rain shower 93°/80° | 2 Image 29: Light rain shower 95°/82° | 3 Image 30: Moderate or heavy rain shower 91°/82° | 4 Image 31: Moderate or heavy rain shower 93°/82° | 5 Image 32: Light rain shower 93°/82° | [...] Our weather forecast can give you a great sense of what weather to expect in Kolkata in July 2025.\\n\\nIf you’re planning to visit Kolkata in the near future, we highly recommend that you review the 14 day weather forecast for Kolkata before you arrive.\\n\\nImage 22: Temperatures\\n\\nTemperatures\\n\\n93° /82° \\n\\nImage 23: Rainy Days\\n\\nRainy Days\\n\\n20\\n\\nImage 24: Snowy Days\\n\\nSnowy Days\\n\\n0\\n\\nImage 25: Dry Days\\n\\nDry Days\\n\\n11\\n\\nImage 26: Rainfall\\n\\nRainfall\\n\\n13.78\\n\\nin\\n\\nImage 27: 10.2\\n\\nSun Hours\\n\\n10.2\\n\\nHrs', 'score': 0.9363841, 'raw_content': None}, {'url': 'https://en.climate-data.org/asia/india/west-bengal/kolkata-2826/t/july-7/', 'title': 'Weather Kolkata in July 2025: Temperature & Climate', 'content': '| Max. Temperature °C (°F) | 25.3 °C (77.5) °F | 29 °C (84.1) °F | 33.3 °C (91.9) °F | 35.7 °C (96.2) °F | 35.4 °C (95.7) °F | 33.1 °C (91.6) °F | 31.1 °C (87.9) °F | 31 °C (87.7) °F | 30.8 °C (87.5) °F | 30.2 °C (86.3) °F | 28.5 °C (83.3) °F | 25.9 °C (78.6) °F |\\n| Precipitation / Rainfall mm (in) | 12 (0) | 27 (1) | 35 (1) | 63 (2) | 127 (5) | 277 (10) | 365 (14) | 312 (12) | 260 (10) | 135 (5) | 32 (1) | 11 (0) | [...] | 23. July | 28 °C | 82 °F | 31 °C | 88 °F | 26 °C | 79 °F | 24.6 mm | 1.0 inch. |\\n| 24. July | 28 °C | 82 °F | 31 °C | 88 °F | 26 °C | 79 °F | 24.1 mm | 0.9 inch. |\\n| 25. July | 28 °C | 82 °F | 31 °C | 88 °F | 26 °C | 79 °F | 25.1 mm | 1.0 inch. |\\n| 26. July | 28 °C | 82 °F | 31 °C | 88 °F | 26 °C | 78 °F | 31.0 mm | 1.2 inch. |\\n| 27. July | 28 °C | 82 °F | 31 °C | 87 °F | 26 °C | 78 °F | 31.6 mm | 1.2 inch. |\\n| 28. July | 28 °C | 82 °F | 31 °C | 88 °F | 26 °C | 78 °F | 28.3 mm | 1.1 inch. | [...] | Min. Temperature °C (°F) | 12.9 °C (55.3) °F | 16.5 °C (61.7) °F | 21.4 °C (70.5) °F | 25.5 °C (77.8) °F | 26.9 °C (80.5) °F | 27 °C (80.5) °F | 26.1 °C (78.9) °F | 25.8 °C (78.4) °F | 25.3 °C (77.5) °F | 23 °C (73.4) °F | 18.4 °C (65.1) °F | 14.5 °C (58.1) °F |', 'score': 0.8795718, 'raw_content': None}], 'response_time': 0.74}),\n",
       "  AIMessage(content='The weather in Kolkata is expected to be rainy with moderate to heavy rain showers throughout the day. The temperature is expected to be around 93°F (33.9°C) during the day and 80°F (26.7°C) at night. It is recommended to check the weather forecast regularly for updates and to plan accordingly.', additional_kwargs={}, response_metadata={'token_usage': {'completion_tokens': 68, 'prompt_tokens': 1553, 'total_tokens': 1621, 'completion_time': 0.29810362, 'prompt_time': 0.144366174, 'queue_time': 0.542360937, 'total_time': 0.442469794}, 'model_name': 'llama-3.1-8b-instant', 'system_fingerprint': 'fp_c523237e5d', 'finish_reason': 'stop', 'logprobs': None}, id='run--5930c4bd-e717-48c4-88a6-95618181d145-0', usage_metadata={'input_tokens': 1553, 'output_tokens': 68, 'total_tokens': 1621})]}"
      ]
     },
     "execution_count": 38,
     "metadata": {},
     "output_type": "execute_result"
    }
   ],
   "source": [
    "response"
   ]
  },
  {
   "cell_type": "markdown",
   "id": "968a75e2-6ee7-4548-a311-51551bb5fb7e",
   "metadata": {},
   "source": [
    "<h3>Different Schema (Invoke with Transformation)</h3>"
   ]
  },
  {
   "cell_type": "code",
   "execution_count": 39,
   "id": "44a0f5c9-cee3-4dee-bcbe-2d085543f04f",
   "metadata": {},
   "outputs": [],
   "source": [
    "# define parent graph with a different scheme\n",
    "class QueryState(TypedDict):\n",
    "    query: str\n",
    "    response: str"
   ]
  },
  {
   "cell_type": "code",
   "execution_count": 40,
   "id": "dbd66bce-64ec-4550-8626-40503fb0ad25",
   "metadata": {},
   "outputs": [],
   "source": [
    "# Function to invoke a Subgraph\n",
    "def search_agent(state: QueryState) -> Dict:\n",
    "    # Transform from parent schema to Subgraph schema\n",
    "    subgraph_input={\"messages\":[state['query']]}\n",
    "    # Invoke the subgraph\n",
    "    subgraph_result=search_app.invoke(input=subgraph_input)\n",
    "\n",
    "    state['response']=subgraph_result[\"messages\"][-1].content\n",
    "    return state"
   ]
  },
  {
   "cell_type": "code",
   "execution_count": 42,
   "id": "8e7627ab-171b-4498-b52f-978295e84c21",
   "metadata": {},
   "outputs": [],
   "source": [
    "# Create a parent graph\n",
    "parent_graph=StateGraph(state_schema=QueryState)"
   ]
  },
  {
   "cell_type": "code",
   "execution_count": 43,
   "id": "9c1fb155-b1b9-4cb4-90c1-8673135c88a3",
   "metadata": {},
   "outputs": [
    {
     "data": {
      "text/plain": [
       "<langgraph.graph.state.StateGraph at 0x28e392f7d10>"
      ]
     },
     "execution_count": 43,
     "metadata": {},
     "output_type": "execute_result"
    }
   ],
   "source": [
    "# Add transformation node that invokes subgraph\n",
    "parent_graph.add_node(node=\"search_agent\",action=search_agent)"
   ]
  },
  {
   "cell_type": "code",
   "execution_count": 44,
   "id": "c8aef7db-6d73-4c76-ad52-c45304e24cf7",
   "metadata": {},
   "outputs": [
    {
     "data": {
      "text/plain": [
       "<langgraph.graph.state.StateGraph at 0x28e392f7d10>"
      ]
     },
     "execution_count": 44,
     "metadata": {},
     "output_type": "execute_result"
    }
   ],
   "source": [
    "# connect the flow\n",
    "parent_graph.add_edge(start_key=START,end_key=\"search_agent\")"
   ]
  },
  {
   "cell_type": "code",
   "execution_count": 45,
   "id": "dd39fdab-5dd3-4b7c-8ee1-db23b297c1dc",
   "metadata": {},
   "outputs": [
    {
     "data": {
      "text/plain": [
       "<langgraph.graph.state.StateGraph at 0x28e392f7d10>"
      ]
     },
     "execution_count": 45,
     "metadata": {},
     "output_type": "execute_result"
    }
   ],
   "source": [
    "# connect the flow\n",
    "parent_graph.add_edge(start_key=\"search_agent\",end_key=END)"
   ]
  },
  {
   "cell_type": "code",
   "execution_count": 46,
   "id": "a4e9e511-8079-4176-a1fb-d63816e444f5",
   "metadata": {},
   "outputs": [],
   "source": [
    "# Compile the parent graph\n",
    "parent_app=parent_graph.compile()"
   ]
  },
  {
   "cell_type": "code",
   "execution_count": 47,
   "id": "88dcbe1a",
   "metadata": {},
   "outputs": [
    {
     "data": {
      "image/png": "[encoded data removed]",
      "text/plain": [
       "<IPython.core.display.Image object>"
      ]
     },
     "metadata": {},
     "output_type": "display_data"
    }
   ],
   "source": [
    "display(Image(data=parent_app.get_graph().draw_mermaid_png(draw_method=MermaidDrawMethod.API)))"
   ]
  },
  {
   "cell_type": "code",
   "execution_count": 48,
   "id": "36521f3d-0b30-464e-931f-42a309cd7ae4",
   "metadata": {},
   "outputs": [
    {
     "name": "stdout",
     "output_type": "stream",
     "text": [
      "State prior to tool calling: {'messages': [HumanMessage(content='How is the weather in Kolkata?', additional_kwargs={}, response_metadata={}, id='322d2d75-e073-438a-a335-eeac64fac482'), AIMessage(content='', additional_kwargs={'tool_calls': [{'id': 'fs5v8y5w5', 'function': {'arguments': '{\"query\":\"Kolkata weather\"}', 'name': 'tavily_search_results_json'}, 'type': 'function'}]}, response_metadata={'token_usage': {'completion_tokens': 20, 'prompt_tokens': 285, 'total_tokens': 305, 'completion_time': 0.033751404, 'prompt_time': 0.01840649, 'queue_time': 0.051867812, 'total_time': 0.052157894}, 'model_name': 'llama-3.1-8b-instant', 'system_fingerprint': 'fp_c523237e5d', 'finish_reason': 'tool_calls', 'logprobs': None}, id='run--a1541a0e-1096-455a-a9e5-765c7d0977be-0', tool_calls=[{'name': 'tavily_search_results_json', 'args': {'query': 'Kolkata weather'}, 'id': 'fs5v8y5w5', 'type': 'tool_call'}], usage_metadata={'input_tokens': 285, 'output_tokens': 20, 'total_tokens': 305})]}\n",
      "\n",
      "State prior to tool calling: {'messages': [HumanMessage(content='How is the weather in Kolkata?', additional_kwargs={}, response_metadata={}, id='322d2d75-e073-438a-a335-eeac64fac482'), AIMessage(content='', additional_kwargs={'tool_calls': [{'id': 'fs5v8y5w5', 'function': {'arguments': '{\"query\":\"Kolkata weather\"}', 'name': 'tavily_search_results_json'}, 'type': 'function'}]}, response_metadata={'token_usage': {'completion_tokens': 20, 'prompt_tokens': 285, 'total_tokens': 305, 'completion_time': 0.033751404, 'prompt_time': 0.01840649, 'queue_time': 0.051867812, 'total_time': 0.052157894}, 'model_name': 'llama-3.1-8b-instant', 'system_fingerprint': 'fp_c523237e5d', 'finish_reason': 'tool_calls', 'logprobs': None}, id='run--a1541a0e-1096-455a-a9e5-765c7d0977be-0', tool_calls=[{'name': 'tavily_search_results_json', 'args': {'query': 'Kolkata weather'}, 'id': 'fs5v8y5w5', 'type': 'tool_call'}], usage_metadata={'input_tokens': 285, 'output_tokens': 20, 'total_tokens': 305}), ToolMessage(content='[{\"title\": \"Kolkata weather in July 2025 - Weather25.com\", \"url\": \"https://www.weather25.com/asia/india/west-bengal/kolkata?page=month&month=July\", \"content\": \"| 27 Image 54: Moderate or heavy rain shower 93°/80° | 28 Image 55: Torrential rain shower 93°/80° | 29 Image 56: Light rain shower 91°/80° | 30 Image 57: Light rain shower 95°/80° | 31 Image 58: Light rain shower 93°/80° |  |  | [...] | Sun | Mon | Tue | Wed | Thu | Fri | Sat |\\\\n| --- | --- | --- | --- | --- | --- | --- |\\\\n|  |  | 1 Image 28: Light rain shower 93°/80° | 2 Image 29: Light rain shower 95°/82° | 3 Image 30: Moderate or heavy rain shower 91°/82° | 4 Image 31: Moderate or heavy rain shower 93°/82° | 5 Image 32: Light rain shower 93°/82° | [...] Our weather forecast can give you a great sense of what weather to expect in Kolkata in July 2025.\\\\n\\\\nIf you’re planning to visit Kolkata in the near future, we highly recommend that you review the 14 day weather forecast for Kolkata before you arrive.\\\\n\\\\nImage 22: Temperatures\\\\n\\\\nTemperatures\\\\n\\\\n93° /82° \\\\n\\\\nImage 23: Rainy Days\\\\n\\\\nRainy Days\\\\n\\\\n20\\\\n\\\\nImage 24: Snowy Days\\\\n\\\\nSnowy Days\\\\n\\\\n0\\\\n\\\\nImage 25: Dry Days\\\\n\\\\nDry Days\\\\n\\\\n11\\\\n\\\\nImage 26: Rainfall\\\\n\\\\nRainfall\\\\n\\\\n13.78\\\\n\\\\nin\\\\n\\\\nImage 27: 10.2\\\\n\\\\nSun Hours\\\\n\\\\n10.2\\\\n\\\\nHrs\", \"score\": 0.9363841}, {\"title\": \"Weather Kolkata in July 2025: Temperature & Climate\", \"url\": \"https://en.climate-data.org/asia/india/west-bengal/kolkata-2826/t/july-7/\", \"content\": \"| Max. Temperature °C (°F) | 25.3 °C (77.5) °F | 29 °C (84.1) °F | 33.3 °C (91.9) °F | 35.7 °C (96.2) °F | 35.4 °C (95.7) °F | 33.1 °C (91.6) °F | 31.1 °C (87.9) °F | 31 °C (87.7) °F | 30.8 °C (87.5) °F | 30.2 °C (86.3) °F | 28.5 °C (83.3) °F | 25.9 °C (78.6) °F |\\\\n| Precipitation / Rainfall mm (in) | 12 (0) | 27 (1) | 35 (1) | 63 (2) | 127 (5) | 277 (10) | 365 (14) | 312 (12) | 260 (10) | 135 (5) | 32 (1) | 11 (0) | [...] | 23. July | 28 °C | 82 °F | 31 °C | 88 °F | 26 °C | 79 °F | 24.6 mm | 1.0 inch. |\\\\n| 24. July | 28 °C | 82 °F | 31 °C | 88 °F | 26 °C | 79 °F | 24.1 mm | 0.9 inch. |\\\\n| 25. July | 28 °C | 82 °F | 31 °C | 88 °F | 26 °C | 79 °F | 25.1 mm | 1.0 inch. |\\\\n| 26. July | 28 °C | 82 °F | 31 °C | 88 °F | 26 °C | 78 °F | 31.0 mm | 1.2 inch. |\\\\n| 27. July | 28 °C | 82 °F | 31 °C | 87 °F | 26 °C | 78 °F | 31.6 mm | 1.2 inch. |\\\\n| 28. July | 28 °C | 82 °F | 31 °C | 88 °F | 26 °C | 78 °F | 28.3 mm | 1.1 inch. | [...] | Min. Temperature °C (°F) | 12.9 °C (55.3) °F | 16.5 °C (61.7) °F | 21.4 °C (70.5) °F | 25.5 °C (77.8) °F | 26.9 °C (80.5) °F | 27 °C (80.5) °F | 26.1 °C (78.9) °F | 25.8 °C (78.4) °F | 25.3 °C (77.5) °F | 23 °C (73.4) °F | 18.4 °C (65.1) °F | 14.5 °C (58.1) °F |\", \"score\": 0.8795718}]', name='tavily_search_results_json', id='7903a86a-da40-46a0-9d37-2182fb4ea5a7', tool_call_id='fs5v8y5w5', artifact={'query': 'Kolkata weather', 'follow_up_questions': None, 'answer': None, 'images': [], 'results': [{'url': 'https://www.weather25.com/asia/india/west-bengal/kolkata?page=month&month=July', 'title': 'Kolkata weather in July 2025 - Weather25.com', 'content': '| 27 Image 54: Moderate or heavy rain shower 93°/80° | 28 Image 55: Torrential rain shower 93°/80° | 29 Image 56: Light rain shower 91°/80° | 30 Image 57: Light rain shower 95°/80° | 31 Image 58: Light rain shower 93°/80° |  |  | [...] | Sun | Mon | Tue | Wed | Thu | Fri | Sat |\\n| --- | --- | --- | --- | --- | --- | --- |\\n|  |  | 1 Image 28: Light rain shower 93°/80° | 2 Image 29: Light rain shower 95°/82° | 3 Image 30: Moderate or heavy rain shower 91°/82° | 4 Image 31: Moderate or heavy rain shower 93°/82° | 5 Image 32: Light rain shower 93°/82° | [...] Our weather forecast can give you a great sense of what weather to expect in Kolkata in July 2025.\\n\\nIf you’re planning to visit Kolkata in the near future, we highly recommend that you review the 14 day weather forecast for Kolkata before you arrive.\\n\\nImage 22: Temperatures\\n\\nTemperatures\\n\\n93° /82° \\n\\nImage 23: Rainy Days\\n\\nRainy Days\\n\\n20\\n\\nImage 24: Snowy Days\\n\\nSnowy Days\\n\\n0\\n\\nImage 25: Dry Days\\n\\nDry Days\\n\\n11\\n\\nImage 26: Rainfall\\n\\nRainfall\\n\\n13.78\\n\\nin\\n\\nImage 27: 10.2\\n\\nSun Hours\\n\\n10.2\\n\\nHrs', 'score': 0.9363841, 'raw_content': None}, {'url': 'https://en.climate-data.org/asia/india/west-bengal/kolkata-2826/t/july-7/', 'title': 'Weather Kolkata in July 2025: Temperature & Climate', 'content': '| Max. Temperature °C (°F) | 25.3 °C (77.5) °F | 29 °C (84.1) °F | 33.3 °C (91.9) °F | 35.7 °C (96.2) °F | 35.4 °C (95.7) °F | 33.1 °C (91.6) °F | 31.1 °C (87.9) °F | 31 °C (87.7) °F | 30.8 °C (87.5) °F | 30.2 °C (86.3) °F | 28.5 °C (83.3) °F | 25.9 °C (78.6) °F |\\n| Precipitation / Rainfall mm (in) | 12 (0) | 27 (1) | 35 (1) | 63 (2) | 127 (5) | 277 (10) | 365 (14) | 312 (12) | 260 (10) | 135 (5) | 32 (1) | 11 (0) | [...] | 23. July | 28 °C | 82 °F | 31 °C | 88 °F | 26 °C | 79 °F | 24.6 mm | 1.0 inch. |\\n| 24. July | 28 °C | 82 °F | 31 °C | 88 °F | 26 °C | 79 °F | 24.1 mm | 0.9 inch. |\\n| 25. July | 28 °C | 82 °F | 31 °C | 88 °F | 26 °C | 79 °F | 25.1 mm | 1.0 inch. |\\n| 26. July | 28 °C | 82 °F | 31 °C | 88 °F | 26 °C | 78 °F | 31.0 mm | 1.2 inch. |\\n| 27. July | 28 °C | 82 °F | 31 °C | 87 °F | 26 °C | 78 °F | 31.6 mm | 1.2 inch. |\\n| 28. July | 28 °C | 82 °F | 31 °C | 88 °F | 26 °C | 78 °F | 28.3 mm | 1.1 inch. | [...] | Min. Temperature °C (°F) | 12.9 °C (55.3) °F | 16.5 °C (61.7) °F | 21.4 °C (70.5) °F | 25.5 °C (77.8) °F | 26.9 °C (80.5) °F | 27 °C (80.5) °F | 26.1 °C (78.9) °F | 25.8 °C (78.4) °F | 25.3 °C (77.5) °F | 23 °C (73.4) °F | 18.4 °C (65.1) °F | 14.5 °C (58.1) °F |', 'score': 0.8795718, 'raw_content': None}], 'response_time': 1.07}), AIMessage(content='The weather in Kolkata in July 2025 is expected to be hot and humid with temperatures ranging from 25°C to 35°C. There is a high chance of rainfall, with an average of 365 mm of precipitation throughout the month. The humidity is expected to be high, ranging from 60% to 90%. It is recommended to pack light and breathable clothing, as well as an umbrella or raincoat to protect against the rain.', additional_kwargs={}, response_metadata={'token_usage': {'completion_tokens': 91, 'prompt_tokens': 1553, 'total_tokens': 1644, 'completion_time': 0.133392344, 'prompt_time': 1.668956737, 'queue_time': 0.05063385300000012, 'total_time': 1.802349081}, 'model_name': 'llama-3.1-8b-instant', 'system_fingerprint': 'fp_c523237e5d', 'finish_reason': 'stop', 'logprobs': None}, id='run--5ba6a440-9653-4262-9f59-9590bc4f587f-0', usage_metadata={'input_tokens': 1553, 'output_tokens': 91, 'total_tokens': 1644})]}\n",
      "\n"
     ]
    }
   ],
   "source": [
    "response=parent_app.invoke(input={\"query\":\"How is the weather in Kolkata?\",\"response\":\"\"})"
   ]
  },
  {
   "cell_type": "code",
   "execution_count": 49,
   "id": "9654f823-0c5f-43a0-832c-cedb60923499",
   "metadata": {},
   "outputs": [
    {
     "data": {
      "text/plain": [
       "{'query': 'How is the weather in Kolkata?',\n",
       " 'response': 'The weather in Kolkata in July 2025 is expected to be hot and humid with temperatures ranging from 25°C to 35°C. There is a high chance of rainfall, with an average of 365 mm of precipitation throughout the month. The humidity is expected to be high, ranging from 60% to 90%. It is recommended to pack light and breathable clothing, as well as an umbrella or raincoat to protect against the rain.'}"
      ]
     },
     "execution_count": 49,
     "metadata": {},
     "output_type": "execute_result"
    }
   ],
   "source": [
    "response"
   ]
  },
  {
   "cell_type": "code",
   "execution_count": null,
   "id": "1979c25e-5d18-4a0a-a80d-f72777b4c384",
   "metadata": {},
   "outputs": [],
   "source": []
  },
  {
   "cell_type": "code",
   "execution_count": null,
   "id": "4accdd80-4147-479c-a74a-baafe6808516",
   "metadata": {},
   "outputs": [],
   "source": []
  }
 ],
 "metadata": {
  "kernelspec": {
   "display_name": "lcnenv",
   "language": "python",
   "name": "python3"
  },
  "language_info": {
   "codemirror_mode": {
    "name": "ipython",
    "version": 3
   },
   "file_extension": ".py",
   "mimetype": "text/x-python",
   "name": "python",
   "nbconvert_exporter": "python",
   "pygments_lexer": "ipython3",
   "version": "3.11.11"
  }
 },
 "nbformat": 4,
 "nbformat_minor": 5
}
