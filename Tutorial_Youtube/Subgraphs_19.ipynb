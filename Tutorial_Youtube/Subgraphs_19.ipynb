{
 "cells": [
  {
   "cell_type": "code",
   "execution_count": 1,
   "id": "d21fc614-fb09-4f8d-a460-fe92bdf66b56",
   "metadata": {},
   "outputs": [],
   "source": [
    "from typing import TypedDict, Annotated, Dict\n",
    "from langgraph.graph import add_messages, StateGraph, END, START\n",
    "from langchain_groq import ChatGroq\n",
    "from langchain_core.messages import AIMessage, HumanMessage\n",
    "from dotenv import load_dotenv\n",
    "from langchain_community.tools.tavily_search import TavilySearchResults\n",
    "from langgraph.prebuilt import ToolNode\n",
    "from IPython.display import Image, display\n",
    "from langchain_core.runnables.graph import MermaidDrawMethod"
   ]
  },
  {
   "cell_type": "code",
   "execution_count": 2,
   "id": "3131f51a-d776-4667-8204-f861b28a7330",
   "metadata": {},
   "outputs": [
    {
     "data": {
      "text/plain": [
       "True"
      ]
     },
     "execution_count": 2,
     "metadata": {},
     "output_type": "execute_result"
    }
   ],
   "source": [
    "load_dotenv()"
   ]
  },
  {
   "cell_type": "code",
   "execution_count": 3,
   "id": "866d37eb-1756-47c0-9032-0cdb12791ed1",
   "metadata": {},
   "outputs": [],
   "source": [
    "class ChildState(TypedDict):\n",
    "    messages: Annotated[list, add_messages]"
   ]
  },
  {
   "cell_type": "code",
   "execution_count": 4,
   "id": "84f9c8d6-04ac-41cb-be5d-400b352c9c90",
   "metadata": {},
   "outputs": [],
   "source": [
    "search_tool=TavilySearchResults(max_results=2)"
   ]
  },
  {
   "cell_type": "code",
   "execution_count": 5,
   "id": "50f18f32-9afa-4174-94a0-b15b73b95b7d",
   "metadata": {},
   "outputs": [],
   "source": [
    "tools=[search_tool]"
   ]
  },
  {
   "cell_type": "code",
   "execution_count": 6,
   "id": "a56b0677-4658-43fb-896a-e800d55f07c3",
   "metadata": {},
   "outputs": [],
   "source": [
    "llmLlama=ChatGroq(model=\"llama-3.1-8b-instant\")"
   ]
  },
  {
   "cell_type": "code",
   "execution_count": 7,
   "id": "647cb0ac-7e1b-4c3a-a8da-59a2f832964b",
   "metadata": {},
   "outputs": [
    {
     "data": {
      "text/plain": [
       "AIMessage(content=\"SRT can refer to several things, but I'll provide a few possibilities:\\n\\n1. **Street Racing Technology**: SRT is an American manufacturer of high-performance vehicles, which was previously a division of Chrysler. SRT stood for Street and Racing Technology. The company was later merged with Dodge Performance to form SRT Performance, but in 2020, it was reorganized as a performance brand within Stellantis, and it's now known as Dodge//SRT Performance.\\n\\n2. **Super Racing Team**: SRT is also the name of a team in the GT World Challenge Asia series, competing with an Audi R8 car.\\n\\n3. **SRT (TV series)**: SRT is also the name of a Hong Kong TV series aired in 1993.\\n\\n4. **SRT (Organization)**: The Special Response Team, also known as the SRT, is an elite tactical unit within law enforcement agencies in the US, used for high-risk operations.\\n\\nTo provide a more accurate answer, I would need more context or information about the 'SRT' you are referring to.\", additional_kwargs={}, response_metadata={'token_usage': {'completion_tokens': 222, 'prompt_tokens': 40, 'total_tokens': 262, 'completion_time': 0.296, 'prompt_time': 0.002375119, 'queue_time': 0.048297181, 'total_time': 0.298375119}, 'model_name': 'llama-3.1-8b-instant', 'system_fingerprint': 'fp_f7bd09b454', 'finish_reason': 'stop', 'logprobs': None}, id='run-c1c9bfd3-b031-4269-8b69-1f00f0409a48-0', usage_metadata={'input_tokens': 40, 'output_tokens': 222, 'total_tokens': 262})"
      ]
     },
     "execution_count": 7,
     "metadata": {},
     "output_type": "execute_result"
    }
   ],
   "source": [
    "# illustrations\n",
    "llmLlama.invoke(input=\"Who is SRT?\")"
   ]
  },
  {
   "cell_type": "code",
   "execution_count": 8,
   "id": "d1ae6d8e-afb0-4ec9-9fde-63b0c4bba094",
   "metadata": {},
   "outputs": [],
   "source": [
    "llm_with_tools=llmLlama.bind_tools(tools=tools)"
   ]
  },
  {
   "cell_type": "code",
   "execution_count": 9,
   "id": "d619e058-848f-4ab6-9377-900efdec67ff",
   "metadata": {},
   "outputs": [
    {
     "data": {
      "text/plain": [
       "AIMessage(content='', additional_kwargs={'tool_calls': [{'id': 'call_kyt4', 'function': {'arguments': '{\"query\": \"Current temperature in Kharagpur\"}', 'name': 'tavily_search_results_json'}, 'type': 'function'}]}, response_metadata={'token_usage': {'completion_tokens': 24, 'prompt_tokens': 577, 'total_tokens': 601, 'completion_time': 0.032810374, 'prompt_time': 0.027947442, 'queue_time': -0.060318752, 'total_time': 0.060757816}, 'model_name': 'llama-3.1-8b-instant', 'system_fingerprint': 'fp_a4265e44d5', 'finish_reason': 'tool_calls', 'logprobs': None}, id='run-bad744b3-b0cb-4365-a791-2814034700e3-0', tool_calls=[{'name': 'tavily_search_results_json', 'args': {'query': 'Current temperature in Kharagpur'}, 'id': 'call_kyt4', 'type': 'tool_call'}], usage_metadata={'input_tokens': 577, 'output_tokens': 24, 'total_tokens': 601})"
      ]
     },
     "execution_count": 9,
     "metadata": {},
     "output_type": "execute_result"
    }
   ],
   "source": [
    "# illustration\n",
    "t=llm_with_tools.invoke(input=\"What's the temperature at Kharagpur now?\")\n",
    "t"
   ]
  },
  {
   "cell_type": "code",
   "execution_count": 10,
   "id": "ddcc8696-9bc6-4eca-b965-8bad505c9643",
   "metadata": {},
   "outputs": [
    {
     "data": {
      "text/plain": [
       "[{'title': 'Kharagpur Weather Today and AQI Level',\n",
       "  'url': 'https://www.businesstoday.in/weather/kharagpur-weather-forecast-today',\n",
       "  'content': \"Today's minimum temperature in Kharagpur is recorded at 28°c (degrees celsius), and the maximum temperature is expected to go as high as 40°c (degrees celsius).\",\n",
       "  'score': 0.88564163},\n",
       " {'title': 'Current Weather - Kharagpur, West Bengal - AccuWeather',\n",
       "  'url': 'https://www.accuweather.com/en/in/kharagpur/191582/current-weather/191582',\n",
       "  'content': 'Current Weather · 96°F Mostly sunny · RealFeel® 107°. Very Hot. RealFeel Guide. Very Hot. 101° to 107°. Caution advised. Danger of dehydration, heat stroke, heat',\n",
       "  'score': 0.8684817}]"
      ]
     },
     "execution_count": 10,
     "metadata": {},
     "output_type": "execute_result"
    }
   ],
   "source": [
    "# illustration\n",
    "search_tool.invoke(t.tool_calls[0]['args']['query'])"
   ]
  },
  {
   "cell_type": "code",
   "execution_count": 11,
   "id": "e23c21c3-3939-4b9f-92e3-9cd1682d75fa",
   "metadata": {},
   "outputs": [],
   "source": [
    "def agent(state:ChildState):\n",
    "    state[\"messages\"]=llm_with_tools.invoke(input=state[\"messages\"])\n",
    "    return state"
   ]
  },
  {
   "cell_type": "code",
   "execution_count": 12,
   "id": "73c7d95e-2360-47cb-8698-20a70e837ab8",
   "metadata": {},
   "outputs": [],
   "source": [
    "def tools_router(state: ChildState):\n",
    "    print(f\"State prior to tool calling: {state}\\n\")\n",
    "    last_message=state[\"messages\"][-1]\n",
    "    if (hasattr(last_message,\"tool_calls\")) and len(last_message.tool_calls)>0:\n",
    "        return \"tool_node\"\n",
    "    else:\n",
    "        return \"end\""
   ]
  },
  {
   "cell_type": "code",
   "execution_count": 13,
   "id": "0219e56a-5da5-4953-9a65-264f368d98b0",
   "metadata": {},
   "outputs": [],
   "source": [
    "tool_node=ToolNode(tools=tools)"
   ]
  },
  {
   "cell_type": "code",
   "execution_count": 14,
   "id": "e3667c4b-81c1-4095-a881-44d95c2d2af4",
   "metadata": {},
   "outputs": [],
   "source": [
    "subGraph=StateGraph(state_schema=ChildState)"
   ]
  },
  {
   "cell_type": "code",
   "execution_count": 15,
   "id": "325df6b3-5726-4675-a83f-4d5f1881a8d3",
   "metadata": {},
   "outputs": [
    {
     "data": {
      "text/plain": [
       "<langgraph.graph.state.StateGraph at 0x1b5f0bba750>"
      ]
     },
     "execution_count": 15,
     "metadata": {},
     "output_type": "execute_result"
    }
   ],
   "source": [
    "subGraph.add_node(node=\"agent\",action=agent)"
   ]
  },
  {
   "cell_type": "code",
   "execution_count": 16,
   "id": "559605ba-0ef9-4cca-8e92-b5b2b3536610",
   "metadata": {},
   "outputs": [
    {
     "data": {
      "text/plain": [
       "<langgraph.graph.state.StateGraph at 0x1b5f0bba750>"
      ]
     },
     "execution_count": 16,
     "metadata": {},
     "output_type": "execute_result"
    }
   ],
   "source": [
    "subGraph.add_node(node=\"tool_node\", action=tool_node)"
   ]
  },
  {
   "cell_type": "code",
   "execution_count": 17,
   "id": "7c2bc752-9d4e-4bcd-b3ee-3b90a135f803",
   "metadata": {},
   "outputs": [
    {
     "data": {
      "text/plain": [
       "<langgraph.graph.state.StateGraph at 0x1b5f0bba750>"
      ]
     },
     "execution_count": 17,
     "metadata": {},
     "output_type": "execute_result"
    }
   ],
   "source": [
    "subGraph.add_conditional_edges(source=\"agent\",path=tools_router,\n",
    "                               path_map={\"tool_node\":\"tool_node\",\"end\":END}\n",
    "                              )"
   ]
  },
  {
   "cell_type": "code",
   "execution_count": 18,
   "id": "8c19283a-0aea-4511-9ca8-fcef8d1e6967",
   "metadata": {},
   "outputs": [
    {
     "data": {
      "text/plain": [
       "<langgraph.graph.state.StateGraph at 0x1b5f0bba750>"
      ]
     },
     "execution_count": 18,
     "metadata": {},
     "output_type": "execute_result"
    }
   ],
   "source": [
    "subGraph.add_edge(start_key=\"tool_node\",end_key=\"agent\")"
   ]
  },
  {
   "cell_type": "code",
   "execution_count": 19,
   "id": "f9b77c79-5152-4a3d-9fab-8b462a220ab1",
   "metadata": {},
   "outputs": [
    {
     "data": {
      "text/plain": [
       "<langgraph.graph.state.StateGraph at 0x1b5f0bba750>"
      ]
     },
     "execution_count": 19,
     "metadata": {},
     "output_type": "execute_result"
    }
   ],
   "source": [
    "subGraph.set_entry_point(key=\"agent\")"
   ]
  },
  {
   "cell_type": "code",
   "execution_count": 20,
   "id": "a8d22185-bb4c-4d82-a541-082d8ed534e3",
   "metadata": {},
   "outputs": [],
   "source": [
    "search_app=subGraph.compile()"
   ]
  },
  {
   "cell_type": "code",
   "execution_count": 21,
   "id": "fa23c81d",
   "metadata": {},
   "outputs": [
    {
     "name": "stdout",
     "output_type": "stream",
     "text": [
      "          +-----------+           \n",
      "          | __start__ |           \n",
      "          +-----------+           \n",
      "                 *                \n",
      "                 *                \n",
      "                 *                \n",
      "            +-------+             \n",
      "            | agent |             \n",
      "            +-------+.            \n",
      "           **         ..          \n",
      "         **             ..        \n",
      "        *                 .       \n",
      "+-----------+         +---------+ \n",
      "| tool_node |         | __end__ | \n",
      "+-----------+         +---------+ \n",
      "None\n"
     ]
    }
   ],
   "source": [
    "print(search_app.get_graph().print_ascii())"
   ]
  },
  {
   "cell_type": "code",
   "execution_count": 22,
   "id": "c20327bb-e3ef-4810-8e57-64792af0f28f",
   "metadata": {},
   "outputs": [
    {
     "data": {
      "image/png": "[encoded data removed]",
      "text/plain": [
       "<IPython.core.display.Image object>"
      ]
     },
     "metadata": {},
     "output_type": "display_data"
    }
   ],
   "source": [
    "display(Image(data=search_app.get_graph().draw_mermaid_png(draw_method=MermaidDrawMethod.API)))"
   ]
  },
  {
   "cell_type": "code",
   "execution_count": 23,
   "id": "459286f2-8ed6-45d8-9c9c-107a46c39d1c",
   "metadata": {
    "scrolled": true
   },
   "outputs": [
    {
     "name": "stdout",
     "output_type": "stream",
     "text": [
      "State prior to tool calling: {'messages': [HumanMessage(content='How is the weather in Chennai?', additional_kwargs={}, response_metadata={}, id='7e9eaf78-5d01-43ce-97d6-af71f45fa868'), AIMessage(content='', additional_kwargs={'tool_calls': [{'id': 'call_7bdh', 'function': {'arguments': '{\"query\": \"Chennai weather\"}', 'name': 'tavily_search_results_json'}, 'type': 'function'}]}, response_metadata={'token_usage': {'completion_tokens': 20, 'prompt_tokens': 285, 'total_tokens': 305, 'completion_time': 0.027304153, 'prompt_time': 0.008940262, 'queue_time': 0.051525458, 'total_time': 0.036244415}, 'model_name': 'llama-3.1-8b-instant', 'system_fingerprint': 'fp_a4265e44d5', 'finish_reason': 'tool_calls', 'logprobs': None}, id='run-308d5f6f-7301-4b32-b2b2-28006c5735a4-0', tool_calls=[{'name': 'tavily_search_results_json', 'args': {'query': 'Chennai weather'}, 'id': 'call_7bdh', 'type': 'tool_call'}], usage_metadata={'input_tokens': 285, 'output_tokens': 20, 'total_tokens': 305})]}\n",
      "\n",
      "State prior to tool calling: {'messages': [HumanMessage(content='How is the weather in Chennai?', additional_kwargs={}, response_metadata={}, id='7e9eaf78-5d01-43ce-97d6-af71f45fa868'), AIMessage(content='', additional_kwargs={'tool_calls': [{'id': 'call_7bdh', 'function': {'arguments': '{\"query\": \"Chennai weather\"}', 'name': 'tavily_search_results_json'}, 'type': 'function'}]}, response_metadata={'token_usage': {'completion_tokens': 20, 'prompt_tokens': 285, 'total_tokens': 305, 'completion_time': 0.027304153, 'prompt_time': 0.008940262, 'queue_time': 0.051525458, 'total_time': 0.036244415}, 'model_name': 'llama-3.1-8b-instant', 'system_fingerprint': 'fp_a4265e44d5', 'finish_reason': 'tool_calls', 'logprobs': None}, id='run-308d5f6f-7301-4b32-b2b2-28006c5735a4-0', tool_calls=[{'name': 'tavily_search_results_json', 'args': {'query': 'Chennai weather'}, 'id': 'call_7bdh', 'type': 'tool_call'}], usage_metadata={'input_tokens': 285, 'output_tokens': 20, 'total_tokens': 305}), ToolMessage(content='[{\"title\": \"Chennai Weather Forecast 17 May 2025 - Times of India\", \"url\": \"https://timesofindia.indiatimes.com/weather/chennai-weather-forecast-today/600017\", \"content\": \"Today\\'s Weather in Chennai: In Chennai today, the weather is expected to be Haze with a maximum temperature of 36°C and a minimum of 27°C. Sunrise in\", \"score\": 0.95324475}, {\"title\": \"Chennai Weather Today (Saturday, May 17, 2025) - India Today\", \"url\": \"https://www.indiatoday.in/weather/chennai-weather-forecast-today\", \"content\": \"The mercury level is expected to hover around 29 degrees Celsius throughout the day, with the wind speed around 7.13. The wind will move around 78 degrees with\", \"score\": 0.93762916}]', name='tavily_search_results_json', id='63bd1f52-4eb6-43e2-ba40-e1b3f10e6812', tool_call_id='call_7bdh', artifact={'query': 'Chennai weather', 'follow_up_questions': None, 'answer': None, 'images': [], 'results': [{'url': 'https://timesofindia.indiatimes.com/weather/chennai-weather-forecast-today/600017', 'title': 'Chennai Weather Forecast 17 May 2025 - Times of India', 'content': \"Today's Weather in Chennai: In Chennai today, the weather is expected to be Haze with a maximum temperature of 36°C and a minimum of 27°C. Sunrise in\", 'score': 0.95324475, 'raw_content': None}, {'url': 'https://www.indiatoday.in/weather/chennai-weather-forecast-today', 'title': 'Chennai Weather Today (Saturday, May 17, 2025) - India Today', 'content': 'The mercury level is expected to hover around 29 degrees Celsius throughout the day, with the wind speed around 7.13. The wind will move around 78 degrees with', 'score': 0.93762916, 'raw_content': None}], 'response_time': 2.11}), AIMessage(content='The current weather in Chennai is expected to be Haze with a maximum temperature of 36°C and a minimum of 27°C.', additional_kwargs={}, response_metadata={'token_usage': {'completion_tokens': 28, 'prompt_tokens': 507, 'total_tokens': 535, 'completion_time': 0.038275175, 'prompt_time': 0.020295202, 'queue_time': 0.11416712799999999, 'total_time': 0.058570377}, 'model_name': 'llama-3.1-8b-instant', 'system_fingerprint': 'fp_a4265e44d5', 'finish_reason': 'stop', 'logprobs': None}, id='run-6c22603c-17d0-40b2-b0ab-70ca9ded77c5-0', usage_metadata={'input_tokens': 507, 'output_tokens': 28, 'total_tokens': 535})]}\n",
      "\n"
     ]
    }
   ],
   "source": [
    "response=search_app.invoke(input={\"messages\":\"How is the weather in Chennai?\"})"
   ]
  },
  {
   "cell_type": "code",
   "execution_count": 23,
   "id": "5dfc2503-e3b1-4c86-b7d7-432b98ce6714",
   "metadata": {},
   "outputs": [
    {
     "data": {
      "text/plain": [
       "{'messages': [HumanMessage(content='How is the weather in Chennai?', additional_kwargs={}, response_metadata={}, id='5efbea3e-b370-4ee5-8000-4a50d82151b1'),\n",
       "  AIMessage(content='', additional_kwargs={'tool_calls': [{'id': 'call_jjcr', 'function': {'arguments': '{\"query\": \"Chennai weather today\"}', 'name': 'tavily_search_results_json'}, 'type': 'function'}]}, response_metadata={'token_usage': {'completion_tokens': 21, 'prompt_tokens': 569, 'total_tokens': 590, 'completion_time': 0.028, 'prompt_time': 0.053183176, 'queue_time': -0.080358165, 'total_time': 0.081183176}, 'model_name': 'llama-3.1-8b-instant', 'system_fingerprint': 'fp_f7bd09b454', 'finish_reason': 'tool_calls', 'logprobs': None}, id='run-4bea0d8e-47fa-4d10-b34f-23ffe6cdb068-0', tool_calls=[{'name': 'tavily_search_results_json', 'args': {'query': 'Chennai weather today'}, 'id': 'call_jjcr', 'type': 'tool_call'}], usage_metadata={'input_tokens': 569, 'output_tokens': 21, 'total_tokens': 590}),\n",
       "  ToolMessage(content='[{\"title\": \"Weather in Chennai\", \"url\": \"https://www.weatherapi.com/\", \"content\": \"{\\'location\\': {\\'name\\': \\'Chennai\\', \\'region\\': \\'Tamil Nadu\\', \\'country\\': \\'India\\', \\'lat\\': 13.0833, \\'lon\\': 80.2833, \\'tz_id\\': \\'Asia/Kolkata\\', \\'localtime_epoch\\': 1746397112, \\'localtime\\': \\'2025-05-05 03:48\\'}, \\'current\\': {\\'last_updated_epoch\\': 1746396900, \\'last_updated\\': \\'2025-05-05 03:45\\', \\'temp_c\\': 26.1, \\'temp_f\\': 79.0, \\'is_day\\': 0, \\'condition\\': {\\'text\\': \\'Mist\\', \\'icon\\': \\'//cdn.weatherapi.com/weather/64x64/night/143.png\\', \\'code\\': 1030}, \\'wind_mph\\': 7.2, \\'wind_kph\\': 11.5, \\'wind_degree\\': 226, \\'wind_dir\\': \\'SW\\', \\'pressure_mb\\': 1005.0, \\'pressure_in\\': 29.68, \\'precip_mm\\': 0.0, \\'precip_in\\': 0.0, \\'humidity\\': 89, \\'cloud\\': 75, \\'feelslike_c\\': 27.7, \\'feelslike_f\\': 81.8, \\'windchill_c\\': 28.2, \\'windchill_f\\': 82.8, \\'heatindex_c\\': 30.8, \\'heatindex_f\\': 87.4, \\'dewpoint_c\\': 21.3, \\'dewpoint_f\\': 70.4, \\'vis_km\\': 4.0, \\'vis_miles\\': 2.0, \\'uv\\': 0.0, \\'gust_mph\\': 10.2, \\'gust_kph\\': 16.5}}\", \"score\": 0.9808436}, {\"title\": \"Weather in Chennai in April 2025 - Detailed Forecast\", \"url\": \"https://www.easeweather.com/asia/india/tamil-nadu/chennai/april\", \"content\": \"1 Apr. | Patchy rain possible | 31°/25° | 0.1mm | 7 | \\\\n2 Apr. | Sunny | 32°/25° | 0mm | 8 | \\\\n3 Apr. | Partly cloudy | 32°/26° | 0.7mm | 8 | \\\\n4 Apr. | Partly cloudy | 32°/27° | 0.1mm | 8 | \\\\n5 Apr. | Sunny | 32°/25° | 0.2mm | 8 | \\\\n6 Apr. | Sunny | 33°/26° | 0mm | 8 | \\\\n7 Apr. | Sunny | 32°/26° | 0mm | 8 | \\\\n8 Apr. | Sunny | 32°/26° | 0.1mm | 8 | \\\\n9 Apr. | Partly cloudy | 31°/26° | 0mm | 8 | \\\\n10 Apr. | Cloudy | 32°/26° | 0mm | 8 | \\\\n11 Apr. | Sunny | 33°/27° | 0mm | 8 | [...] 12 Apr. | Partly cloudy | 33°/27° | 0.1mm | 8 | \\\\n13 Apr. | Patchy rain possible | 32°/27° | 0mm | 7 | \\\\n14 Apr. | Partly cloudy | 32°/27° | 0mm | 8 | \\\\n15 Apr. | Sunny | 31°/26° | 0mm | 8 | \\\\n16 Apr. | Sunny | 32°/26° | 0mm | 8 | \\\\n17 Apr. | Sunny | 33°/27° | 0mm | 8 | \\\\n18 Apr. | Sunny | 33°/28° | 0mm | 8 | \\\\n19 Apr. | Sunny | 33°/28° | 0mm | 8 | \\\\n20 Apr. | Sunny | 34°/28° | 0mm | 8 | \\\\n21 Apr. | Patchy rain possible | 33°/27° | 0mm | 7 | \\\\n22 Apr. | Sunny | 33°/26° | 0mm | 8 | [...] 23 Apr. | Partly cloudy | 33°/26° | 0mm | 8 | \\\\n24 Apr. | Sunny | 33°/27° | 0mm | 8 | \\\\n25 Apr. | Sunny | 33°/27° | 0.1mm | 8 | \\\\n26 Apr. | Sunny | 32°/27° | 0mm | 8 | \\\\n27 Apr. | Sunny | 32°/27° | 0mm | 8 | \\\\n28 Apr. | Sunny | 32°/27° | 0.1mm | 8 | \\\\n29 Apr. | Partly cloudy | 33°/27° | 0mm | 8 | \\\\n30 Apr. | Sunny | 34°/27° | 0mm | 8 | \\\\nNext\\\\nChennai in April - FAQ\", \"score\": 0.9100432}]', name='tavily_search_results_json', id='dbdb4072-1b17-4d3a-a30d-06064d3d6703', tool_call_id='call_jjcr', artifact={'query': 'Chennai weather today', 'follow_up_questions': None, 'answer': None, 'images': [], 'results': [{'title': 'Weather in Chennai', 'url': 'https://www.weatherapi.com/', 'content': \"{'location': {'name': 'Chennai', 'region': 'Tamil Nadu', 'country': 'India', 'lat': 13.0833, 'lon': 80.2833, 'tz_id': 'Asia/Kolkata', 'localtime_epoch': 1746397112, 'localtime': '2025-05-05 03:48'}, 'current': {'last_updated_epoch': 1746396900, 'last_updated': '2025-05-05 03:45', 'temp_c': 26.1, 'temp_f': 79.0, 'is_day': 0, 'condition': {'text': 'Mist', 'icon': '//cdn.weatherapi.com/weather/64x64/night/143.png', 'code': 1030}, 'wind_mph': 7.2, 'wind_kph': 11.5, 'wind_degree': 226, 'wind_dir': 'SW', 'pressure_mb': 1005.0, 'pressure_in': 29.68, 'precip_mm': 0.0, 'precip_in': 0.0, 'humidity': 89, 'cloud': 75, 'feelslike_c': 27.7, 'feelslike_f': 81.8, 'windchill_c': 28.2, 'windchill_f': 82.8, 'heatindex_c': 30.8, 'heatindex_f': 87.4, 'dewpoint_c': 21.3, 'dewpoint_f': 70.4, 'vis_km': 4.0, 'vis_miles': 2.0, 'uv': 0.0, 'gust_mph': 10.2, 'gust_kph': 16.5}}\", 'score': 0.9808436, 'raw_content': None}, {'url': 'https://www.easeweather.com/asia/india/tamil-nadu/chennai/april', 'title': 'Weather in Chennai in April 2025 - Detailed Forecast', 'content': '1 Apr. | Patchy rain possible | 31°/25° | 0.1mm | 7 | \\n2 Apr. | Sunny | 32°/25° | 0mm | 8 | \\n3 Apr. | Partly cloudy | 32°/26° | 0.7mm | 8 | \\n4 Apr. | Partly cloudy | 32°/27° | 0.1mm | 8 | \\n5 Apr. | Sunny | 32°/25° | 0.2mm | 8 | \\n6 Apr. | Sunny | 33°/26° | 0mm | 8 | \\n7 Apr. | Sunny | 32°/26° | 0mm | 8 | \\n8 Apr. | Sunny | 32°/26° | 0.1mm | 8 | \\n9 Apr. | Partly cloudy | 31°/26° | 0mm | 8 | \\n10 Apr. | Cloudy | 32°/26° | 0mm | 8 | \\n11 Apr. | Sunny | 33°/27° | 0mm | 8 | [...] 12 Apr. | Partly cloudy | 33°/27° | 0.1mm | 8 | \\n13 Apr. | Patchy rain possible | 32°/27° | 0mm | 7 | \\n14 Apr. | Partly cloudy | 32°/27° | 0mm | 8 | \\n15 Apr. | Sunny | 31°/26° | 0mm | 8 | \\n16 Apr. | Sunny | 32°/26° | 0mm | 8 | \\n17 Apr. | Sunny | 33°/27° | 0mm | 8 | \\n18 Apr. | Sunny | 33°/28° | 0mm | 8 | \\n19 Apr. | Sunny | 33°/28° | 0mm | 8 | \\n20 Apr. | Sunny | 34°/28° | 0mm | 8 | \\n21 Apr. | Patchy rain possible | 33°/27° | 0mm | 7 | \\n22 Apr. | Sunny | 33°/26° | 0mm | 8 | [...] 23 Apr. | Partly cloudy | 33°/26° | 0mm | 8 | \\n24 Apr. | Sunny | 33°/27° | 0mm | 8 | \\n25 Apr. | Sunny | 33°/27° | 0.1mm | 8 | \\n26 Apr. | Sunny | 32°/27° | 0mm | 8 | \\n27 Apr. | Sunny | 32°/27° | 0mm | 8 | \\n28 Apr. | Sunny | 32°/27° | 0.1mm | 8 | \\n29 Apr. | Partly cloudy | 33°/27° | 0mm | 8 | \\n30 Apr. | Sunny | 34°/27° | 0mm | 8 | \\nNext\\nChennai in April - FAQ', 'score': 0.9100432, 'raw_content': None}], 'response_time': 3.53}),\n",
       "  AIMessage(content='The current weather in Chennai is misty with a temperature of 26.1°C. The forecast for the next few days is mostly sunny with highs in the mid-30s Celsius. There may be some patchy rain possible on certain days. It is recommended to check the weather forecast again closer to the date for the most up-to-date information.', additional_kwargs={}, response_metadata={'token_usage': {'completion_tokens': 72, 'prompt_tokens': 1505, 'total_tokens': 1577, 'completion_time': 0.096, 'prompt_time': 0.279017218, 'queue_time': 1.670974084, 'total_time': 0.375017218}, 'model_name': 'llama-3.1-8b-instant', 'system_fingerprint': 'fp_a4265e44d5', 'finish_reason': 'stop', 'logprobs': None}, id='run-ddaba4cb-f92a-4bf1-82d2-d25b96774066-0', usage_metadata={'input_tokens': 1505, 'output_tokens': 72, 'total_tokens': 1577})]}"
      ]
     },
     "execution_count": 23,
     "metadata": {},
     "output_type": "execute_result"
    }
   ],
   "source": [
    "response"
   ]
  },
  {
   "cell_type": "markdown",
   "id": "38fcb494-3e8c-46b4-8e8d-f97ab2184a6f",
   "metadata": {},
   "source": [
    "<h3>Shared Schema, direct embedding</h3>"
   ]
  },
  {
   "cell_type": "code",
   "execution_count": 34,
   "id": "a369319e-5efa-4261-a382-6fc8277de062",
   "metadata": {},
   "outputs": [],
   "source": [
    "class ParentState(TypedDict):\n",
    "    messages:Annotated[list, add_messages]"
   ]
  },
  {
   "cell_type": "code",
   "execution_count": 35,
   "id": "ea40d608-4585-4f22-891c-ffa3e34595f4",
   "metadata": {},
   "outputs": [],
   "source": [
    "# Create a parent graph\n",
    "parent_graph=StateGraph(state_schema=ParentState)"
   ]
  },
  {
   "cell_type": "code",
   "execution_count": 36,
   "id": "d486a258-3ac1-4326-8579-c377b1d8ded1",
   "metadata": {},
   "outputs": [
    {
     "data": {
      "text/plain": [
       "<langgraph.graph.state.StateGraph at 0x1b5ee127e10>"
      ]
     },
     "execution_count": 36,
     "metadata": {},
     "output_type": "execute_result"
    }
   ],
   "source": [
    "# Add the subgraph as a node\n",
    "parent_graph.add_node(node=\"search_agent\",action=search_app)"
   ]
  },
  {
   "cell_type": "code",
   "execution_count": 37,
   "id": "c86c379f-5d20-4f07-87cc-9a81ac58e6fb",
   "metadata": {},
   "outputs": [
    {
     "data": {
      "text/plain": [
       "<langgraph.graph.state.StateGraph at 0x1b5ee127e10>"
      ]
     },
     "execution_count": 37,
     "metadata": {},
     "output_type": "execute_result"
    }
   ],
   "source": [
    "# connect the flow\n",
    "parent_graph.add_edge(start_key=START,end_key=\"search_agent\")"
   ]
  },
  {
   "cell_type": "code",
   "execution_count": 38,
   "id": "2001f374-edc0-4f1b-ac14-f9cba9ae2cbe",
   "metadata": {},
   "outputs": [
    {
     "data": {
      "text/plain": [
       "<langgraph.graph.state.StateGraph at 0x1b5ee127e10>"
      ]
     },
     "execution_count": 38,
     "metadata": {},
     "output_type": "execute_result"
    }
   ],
   "source": [
    "# connect the flow\n",
    "parent_graph.add_edge(start_key=\"search_agent\",end_key=END)"
   ]
  },
  {
   "cell_type": "code",
   "execution_count": 39,
   "id": "f5397da8-d689-4756-8caa-8bea306ac64b",
   "metadata": {},
   "outputs": [],
   "source": [
    "# Compile the parent graph\n",
    "parent_app=parent_graph.compile()"
   ]
  },
  {
   "cell_type": "code",
   "execution_count": 40,
   "id": "8e40196b-4aef-47a4-ad3e-100217a2f771",
   "metadata": {},
   "outputs": [
    {
     "data": {
      "image/png": "[encoded data removed]",
      "text/plain": [
       "<IPython.core.display.Image object>"
      ]
     },
     "metadata": {},
     "output_type": "display_data"
    }
   ],
   "source": [
    "display(Image(data=parent_app.get_graph().draw_mermaid_png(draw_method=MermaidDrawMethod.API)))"
   ]
  },
  {
   "cell_type": "code",
   "execution_count": 41,
   "id": "f8ec721f-1e11-4e48-9ec8-3a63fd560213",
   "metadata": {},
   "outputs": [
    {
     "name": "stdout",
     "output_type": "stream",
     "text": [
      "State prior to tool calling: {'messages': [HumanMessage(content='How is the weather in Kolkata?', additional_kwargs={}, response_metadata={}, id='35f7712b-fafd-4dc2-b9a3-98a6b65e4c92'), AIMessage(content='', additional_kwargs={'tool_calls': [{'id': 'call_91vd', 'function': {'arguments': '{\"query\": \"Kolkata weather\"}', 'name': 'tavily_search_results_json'}, 'type': 'function'}]}, response_metadata={'token_usage': {'completion_tokens': 21, 'prompt_tokens': 285, 'total_tokens': 306, 'completion_time': 0.028, 'prompt_time': 0.030523356, 'queue_time': 0.148740174, 'total_time': 0.058523356}, 'model_name': 'llama-3.1-8b-instant', 'system_fingerprint': 'fp_f7bd09b454', 'finish_reason': 'tool_calls', 'logprobs': None}, id='run-06591afe-4ca7-4cbf-ae74-087acf6c0995-0', tool_calls=[{'name': 'tavily_search_results_json', 'args': {'query': 'Kolkata weather'}, 'id': 'call_91vd', 'type': 'tool_call'}], usage_metadata={'input_tokens': 285, 'output_tokens': 21, 'total_tokens': 306})]}\n",
      "\n",
      "State prior to tool calling: {'messages': [HumanMessage(content='How is the weather in Kolkata?', additional_kwargs={}, response_metadata={}, id='35f7712b-fafd-4dc2-b9a3-98a6b65e4c92'), AIMessage(content='', additional_kwargs={'tool_calls': [{'id': 'call_91vd', 'function': {'arguments': '{\"query\": \"Kolkata weather\"}', 'name': 'tavily_search_results_json'}, 'type': 'function'}]}, response_metadata={'token_usage': {'completion_tokens': 21, 'prompt_tokens': 285, 'total_tokens': 306, 'completion_time': 0.028, 'prompt_time': 0.030523356, 'queue_time': 0.148740174, 'total_time': 0.058523356}, 'model_name': 'llama-3.1-8b-instant', 'system_fingerprint': 'fp_f7bd09b454', 'finish_reason': 'tool_calls', 'logprobs': None}, id='run-06591afe-4ca7-4cbf-ae74-087acf6c0995-0', tool_calls=[{'name': 'tavily_search_results_json', 'args': {'query': 'Kolkata weather'}, 'id': 'call_91vd', 'type': 'tool_call'}], usage_metadata={'input_tokens': 285, 'output_tokens': 21, 'total_tokens': 306}), ToolMessage(content='[{\"title\": \"Weather in Kolkata\", \"url\": \"https://www.weatherapi.com/\", \"content\": \"{\\'location\\': {\\'name\\': \\'Kolkata\\', \\'region\\': \\'West Bengal\\', \\'country\\': \\'India\\', \\'lat\\': 22.5697, \\'lon\\': 88.3697, \\'tz_id\\': \\'Asia/Kolkata\\', \\'localtime_epoch\\': 1747495627, \\'localtime\\': \\'2025-05-17 20:57\\'}, \\'current\\': {\\'last_updated_epoch\\': 1747494900, \\'last_updated\\': \\'2025-05-17 20:45\\', \\'temp_c\\': 32.2, \\'temp_f\\': 90.0, \\'is_day\\': 0, \\'condition\\': {\\'text\\': \\'Moderate or heavy rain with thunder\\', \\'icon\\': \\'//cdn.weatherapi.com/weather/64x64/night/389.png\\', \\'code\\': 1276}, \\'wind_mph\\': 16.1, \\'wind_kph\\': 25.9, \\'wind_degree\\': 175, \\'wind_dir\\': \\'S\\', \\'pressure_mb\\': 1007.0, \\'pressure_in\\': 29.74, \\'precip_mm\\': 0.0, \\'precip_in\\': 0.0, \\'humidity\\': 67, \\'cloud\\': 75, \\'feelslike_c\\': 40.2, \\'feelslike_f\\': 104.4, \\'windchill_c\\': 30.5, \\'windchill_f\\': 86.8, \\'heatindex_c\\': 35.8, \\'heatindex_f\\': 96.4, \\'dewpoint_c\\': 24.1, \\'dewpoint_f\\': 75.3, \\'vis_km\\': 3.5, \\'vis_miles\\': 2.0, \\'uv\\': 0.0, \\'gust_mph\\': 21.2, \\'gust_kph\\': 34.2}}\", \"score\": 0.9820285}, {\"title\": \"Weather in Kolkata in May 2025 - Detailed Forecast\", \"url\": \"https://www.easeweather.com/asia/india/west-bengal/kolkata/may\", \"content\": \"Partly cloudy\\\\n| 40° /28° | 0\\xa0mm | 10 |  |\\\\n| 17 May | \\\\nSunny\\\\n| 40° /29° | 0\\xa0mm | 10 |  |\\\\n| 18 May | \\\\nPartly cloudy\\\\n| 41° /29° | 0\\xa0mm | 10 |  |\\\\n| 19 May | \\\\nPartly cloudy\\\\n| 40° /30° | 0\\xa0mm | 10 |  |\\\\n| 20 May | \\\\nPatchy rain possible\\\\n| 39° /27° | 8\\xa0mm | 8 |  |\\\\n| 21 May | \\\\nPatchy rain possible\\\\n| 40° /27° | 3\\xa0mm | 9 |  |\\\\n| 22 May | \\\\nPatchy rain possible\\\\n| 38° /28° | 0.1\\xa0mm | 8 |  |\\\\n| 23 May | \\\\nPartly cloudy\\\\n| 40° /29° | 0\\xa0mm | 10 |  |\\\\n| 24 May | \\\\nPatchy rain possible\\\\n| 40° /29° | 0.1\\xa0mm | 9 |  | [...] The climate of Kolkata in May is notably wet, with an average of 12 rainy days, and a total of 255.1\\xa0mm of precipitation.\\\\n\\\\n\\\\n19\\\\nDry days\\\\n\\\\n12\\\\nRainy days\\\\n\\\\n0\\\\nSnow days\\\\n\\\\n38°/27°\\\\nTemperatures\\\\n\\\\n28\\xa0km/h\\\\nAvg max wind\\\\n\\\\n59 %\\\\nAvg humidity [...] May\\\\nJanuaryFebruaryMarchApril\\\\nMay\\\\nJuneJulyAugustSeptemberOctoberNovemberDecember\\\\nWeather in Kolkata for May 2025\\\\nYour guide to Kolkata weather in May - trends and predictions\\\\nTemperatures\\\\n\\\\nIn general, the average temperature in Kolkata at the beginning of May is 40.7\\xa0°C. As the month progressed, temperatures tended to significantly cool down, reaching an average of 35.6\\xa0°C by the end of May.\\\\n\\\\nRain 🌧️\", \"score\": 0.9456058}]', name='tavily_search_results_json', id='6759e4f4-0fd7-478d-8c18-fbb014159d15', tool_call_id='call_91vd', artifact={'query': 'Kolkata weather', 'follow_up_questions': None, 'answer': None, 'images': [], 'results': [{'title': 'Weather in Kolkata', 'url': 'https://www.weatherapi.com/', 'content': \"{'location': {'name': 'Kolkata', 'region': 'West Bengal', 'country': 'India', 'lat': 22.5697, 'lon': 88.3697, 'tz_id': 'Asia/Kolkata', 'localtime_epoch': 1747495627, 'localtime': '2025-05-17 20:57'}, 'current': {'last_updated_epoch': 1747494900, 'last_updated': '2025-05-17 20:45', 'temp_c': 32.2, 'temp_f': 90.0, 'is_day': 0, 'condition': {'text': 'Moderate or heavy rain with thunder', 'icon': '//cdn.weatherapi.com/weather/64x64/night/389.png', 'code': 1276}, 'wind_mph': 16.1, 'wind_kph': 25.9, 'wind_degree': 175, 'wind_dir': 'S', 'pressure_mb': 1007.0, 'pressure_in': 29.74, 'precip_mm': 0.0, 'precip_in': 0.0, 'humidity': 67, 'cloud': 75, 'feelslike_c': 40.2, 'feelslike_f': 104.4, 'windchill_c': 30.5, 'windchill_f': 86.8, 'heatindex_c': 35.8, 'heatindex_f': 96.4, 'dewpoint_c': 24.1, 'dewpoint_f': 75.3, 'vis_km': 3.5, 'vis_miles': 2.0, 'uv': 0.0, 'gust_mph': 21.2, 'gust_kph': 34.2}}\", 'score': 0.9820285, 'raw_content': None}, {'url': 'https://www.easeweather.com/asia/india/west-bengal/kolkata/may', 'title': 'Weather in Kolkata in May 2025 - Detailed Forecast', 'content': 'Partly cloudy\\n| 40° /28° | 0\\xa0mm | 10 |  |\\n| 17 May | \\nSunny\\n| 40° /29° | 0\\xa0mm | 10 |  |\\n| 18 May | \\nPartly cloudy\\n| 41° /29° | 0\\xa0mm | 10 |  |\\n| 19 May | \\nPartly cloudy\\n| 40° /30° | 0\\xa0mm | 10 |  |\\n| 20 May | \\nPatchy rain possible\\n| 39° /27° | 8\\xa0mm | 8 |  |\\n| 21 May | \\nPatchy rain possible\\n| 40° /27° | 3\\xa0mm | 9 |  |\\n| 22 May | \\nPatchy rain possible\\n| 38° /28° | 0.1\\xa0mm | 8 |  |\\n| 23 May | \\nPartly cloudy\\n| 40° /29° | 0\\xa0mm | 10 |  |\\n| 24 May | \\nPatchy rain possible\\n| 40° /29° | 0.1\\xa0mm | 9 |  | [...] The climate of Kolkata in May is notably wet, with an average of 12 rainy days, and a total of 255.1\\xa0mm of precipitation.\\n\\n\\n19\\nDry days\\n\\n12\\nRainy days\\n\\n0\\nSnow days\\n\\n38°/27°\\nTemperatures\\n\\n28\\xa0km/h\\nAvg max wind\\n\\n59 %\\nAvg humidity [...] May\\nJanuaryFebruaryMarchApril\\nMay\\nJuneJulyAugustSeptemberOctoberNovemberDecember\\nWeather in Kolkata for May 2025\\nYour guide to Kolkata weather in May - trends and predictions\\nTemperatures\\n\\nIn general, the average temperature in Kolkata at the beginning of May is 40.7\\xa0°C. As the month progressed, temperatures tended to significantly cool down, reaching an average of 35.6\\xa0°C by the end of May.\\n\\nRain 🌧️', 'score': 0.9456058, 'raw_content': None}], 'response_time': 1.21}), AIMessage(content='The current weather in Kolkata is moderate to heavy rain with thunder, with a temperature of 32.2°C. The forecast for the next few days is partly cloudy, sunny, and partly cloudy, with temperatures ranging from 38°C to 40°C.', additional_kwargs={}, response_metadata={'token_usage': {'completion_tokens': 53, 'prompt_tokens': 1253, 'total_tokens': 1306, 'completion_time': 0.073132855, 'prompt_time': 0.048788507, 'queue_time': 0.08387128299999999, 'total_time': 0.121921362}, 'model_name': 'llama-3.1-8b-instant', 'system_fingerprint': 'fp_a4265e44d5', 'finish_reason': 'stop', 'logprobs': None}, id='run-f26886c8-c5f1-46a5-8d5d-4d8f716d579f-0', usage_metadata={'input_tokens': 1253, 'output_tokens': 53, 'total_tokens': 1306})]}\n",
      "\n"
     ]
    }
   ],
   "source": [
    "response=parent_app.invoke(input={\"messages\":\"How is the weather in Kolkata?\"})"
   ]
  },
  {
   "cell_type": "code",
   "execution_count": 42,
   "id": "00aa1ff9-17e1-49b7-9d49-3ecc44dcf027",
   "metadata": {},
   "outputs": [
    {
     "data": {
      "text/plain": [
       "{'messages': [HumanMessage(content='How is the weather in Kolkata?', additional_kwargs={}, response_metadata={}, id='35f7712b-fafd-4dc2-b9a3-98a6b65e4c92'),\n",
       "  AIMessage(content='', additional_kwargs={'tool_calls': [{'id': 'call_91vd', 'function': {'arguments': '{\"query\": \"Kolkata weather\"}', 'name': 'tavily_search_results_json'}, 'type': 'function'}]}, response_metadata={'token_usage': {'completion_tokens': 21, 'prompt_tokens': 285, 'total_tokens': 306, 'completion_time': 0.028, 'prompt_time': 0.030523356, 'queue_time': 0.148740174, 'total_time': 0.058523356}, 'model_name': 'llama-3.1-8b-instant', 'system_fingerprint': 'fp_f7bd09b454', 'finish_reason': 'tool_calls', 'logprobs': None}, id='run-06591afe-4ca7-4cbf-ae74-087acf6c0995-0', tool_calls=[{'name': 'tavily_search_results_json', 'args': {'query': 'Kolkata weather'}, 'id': 'call_91vd', 'type': 'tool_call'}], usage_metadata={'input_tokens': 285, 'output_tokens': 21, 'total_tokens': 306}),\n",
       "  ToolMessage(content='[{\"title\": \"Weather in Kolkata\", \"url\": \"https://www.weatherapi.com/\", \"content\": \"{\\'location\\': {\\'name\\': \\'Kolkata\\', \\'region\\': \\'West Bengal\\', \\'country\\': \\'India\\', \\'lat\\': 22.5697, \\'lon\\': 88.3697, \\'tz_id\\': \\'Asia/Kolkata\\', \\'localtime_epoch\\': 1747495627, \\'localtime\\': \\'2025-05-17 20:57\\'}, \\'current\\': {\\'last_updated_epoch\\': 1747494900, \\'last_updated\\': \\'2025-05-17 20:45\\', \\'temp_c\\': 32.2, \\'temp_f\\': 90.0, \\'is_day\\': 0, \\'condition\\': {\\'text\\': \\'Moderate or heavy rain with thunder\\', \\'icon\\': \\'//cdn.weatherapi.com/weather/64x64/night/389.png\\', \\'code\\': 1276}, \\'wind_mph\\': 16.1, \\'wind_kph\\': 25.9, \\'wind_degree\\': 175, \\'wind_dir\\': \\'S\\', \\'pressure_mb\\': 1007.0, \\'pressure_in\\': 29.74, \\'precip_mm\\': 0.0, \\'precip_in\\': 0.0, \\'humidity\\': 67, \\'cloud\\': 75, \\'feelslike_c\\': 40.2, \\'feelslike_f\\': 104.4, \\'windchill_c\\': 30.5, \\'windchill_f\\': 86.8, \\'heatindex_c\\': 35.8, \\'heatindex_f\\': 96.4, \\'dewpoint_c\\': 24.1, \\'dewpoint_f\\': 75.3, \\'vis_km\\': 3.5, \\'vis_miles\\': 2.0, \\'uv\\': 0.0, \\'gust_mph\\': 21.2, \\'gust_kph\\': 34.2}}\", \"score\": 0.9820285}, {\"title\": \"Weather in Kolkata in May 2025 - Detailed Forecast\", \"url\": \"https://www.easeweather.com/asia/india/west-bengal/kolkata/may\", \"content\": \"Partly cloudy\\\\n| 40° /28° | 0\\xa0mm | 10 |  |\\\\n| 17 May | \\\\nSunny\\\\n| 40° /29° | 0\\xa0mm | 10 |  |\\\\n| 18 May | \\\\nPartly cloudy\\\\n| 41° /29° | 0\\xa0mm | 10 |  |\\\\n| 19 May | \\\\nPartly cloudy\\\\n| 40° /30° | 0\\xa0mm | 10 |  |\\\\n| 20 May | \\\\nPatchy rain possible\\\\n| 39° /27° | 8\\xa0mm | 8 |  |\\\\n| 21 May | \\\\nPatchy rain possible\\\\n| 40° /27° | 3\\xa0mm | 9 |  |\\\\n| 22 May | \\\\nPatchy rain possible\\\\n| 38° /28° | 0.1\\xa0mm | 8 |  |\\\\n| 23 May | \\\\nPartly cloudy\\\\n| 40° /29° | 0\\xa0mm | 10 |  |\\\\n| 24 May | \\\\nPatchy rain possible\\\\n| 40° /29° | 0.1\\xa0mm | 9 |  | [...] The climate of Kolkata in May is notably wet, with an average of 12 rainy days, and a total of 255.1\\xa0mm of precipitation.\\\\n\\\\n\\\\n19\\\\nDry days\\\\n\\\\n12\\\\nRainy days\\\\n\\\\n0\\\\nSnow days\\\\n\\\\n38°/27°\\\\nTemperatures\\\\n\\\\n28\\xa0km/h\\\\nAvg max wind\\\\n\\\\n59 %\\\\nAvg humidity [...] May\\\\nJanuaryFebruaryMarchApril\\\\nMay\\\\nJuneJulyAugustSeptemberOctoberNovemberDecember\\\\nWeather in Kolkata for May 2025\\\\nYour guide to Kolkata weather in May - trends and predictions\\\\nTemperatures\\\\n\\\\nIn general, the average temperature in Kolkata at the beginning of May is 40.7\\xa0°C. As the month progressed, temperatures tended to significantly cool down, reaching an average of 35.6\\xa0°C by the end of May.\\\\n\\\\nRain 🌧️\", \"score\": 0.9456058}]', name='tavily_search_results_json', id='6759e4f4-0fd7-478d-8c18-fbb014159d15', tool_call_id='call_91vd', artifact={'query': 'Kolkata weather', 'follow_up_questions': None, 'answer': None, 'images': [], 'results': [{'title': 'Weather in Kolkata', 'url': 'https://www.weatherapi.com/', 'content': \"{'location': {'name': 'Kolkata', 'region': 'West Bengal', 'country': 'India', 'lat': 22.5697, 'lon': 88.3697, 'tz_id': 'Asia/Kolkata', 'localtime_epoch': 1747495627, 'localtime': '2025-05-17 20:57'}, 'current': {'last_updated_epoch': 1747494900, 'last_updated': '2025-05-17 20:45', 'temp_c': 32.2, 'temp_f': 90.0, 'is_day': 0, 'condition': {'text': 'Moderate or heavy rain with thunder', 'icon': '//cdn.weatherapi.com/weather/64x64/night/389.png', 'code': 1276}, 'wind_mph': 16.1, 'wind_kph': 25.9, 'wind_degree': 175, 'wind_dir': 'S', 'pressure_mb': 1007.0, 'pressure_in': 29.74, 'precip_mm': 0.0, 'precip_in': 0.0, 'humidity': 67, 'cloud': 75, 'feelslike_c': 40.2, 'feelslike_f': 104.4, 'windchill_c': 30.5, 'windchill_f': 86.8, 'heatindex_c': 35.8, 'heatindex_f': 96.4, 'dewpoint_c': 24.1, 'dewpoint_f': 75.3, 'vis_km': 3.5, 'vis_miles': 2.0, 'uv': 0.0, 'gust_mph': 21.2, 'gust_kph': 34.2}}\", 'score': 0.9820285, 'raw_content': None}, {'url': 'https://www.easeweather.com/asia/india/west-bengal/kolkata/may', 'title': 'Weather in Kolkata in May 2025 - Detailed Forecast', 'content': 'Partly cloudy\\n| 40° /28° | 0\\xa0mm | 10 |  |\\n| 17 May | \\nSunny\\n| 40° /29° | 0\\xa0mm | 10 |  |\\n| 18 May | \\nPartly cloudy\\n| 41° /29° | 0\\xa0mm | 10 |  |\\n| 19 May | \\nPartly cloudy\\n| 40° /30° | 0\\xa0mm | 10 |  |\\n| 20 May | \\nPatchy rain possible\\n| 39° /27° | 8\\xa0mm | 8 |  |\\n| 21 May | \\nPatchy rain possible\\n| 40° /27° | 3\\xa0mm | 9 |  |\\n| 22 May | \\nPatchy rain possible\\n| 38° /28° | 0.1\\xa0mm | 8 |  |\\n| 23 May | \\nPartly cloudy\\n| 40° /29° | 0\\xa0mm | 10 |  |\\n| 24 May | \\nPatchy rain possible\\n| 40° /29° | 0.1\\xa0mm | 9 |  | [...] The climate of Kolkata in May is notably wet, with an average of 12 rainy days, and a total of 255.1\\xa0mm of precipitation.\\n\\n\\n19\\nDry days\\n\\n12\\nRainy days\\n\\n0\\nSnow days\\n\\n38°/27°\\nTemperatures\\n\\n28\\xa0km/h\\nAvg max wind\\n\\n59 %\\nAvg humidity [...] May\\nJanuaryFebruaryMarchApril\\nMay\\nJuneJulyAugustSeptemberOctoberNovemberDecember\\nWeather in Kolkata for May 2025\\nYour guide to Kolkata weather in May - trends and predictions\\nTemperatures\\n\\nIn general, the average temperature in Kolkata at the beginning of May is 40.7\\xa0°C. As the month progressed, temperatures tended to significantly cool down, reaching an average of 35.6\\xa0°C by the end of May.\\n\\nRain 🌧️', 'score': 0.9456058, 'raw_content': None}], 'response_time': 1.21}),\n",
       "  AIMessage(content='The current weather in Kolkata is moderate to heavy rain with thunder, with a temperature of 32.2°C. The forecast for the next few days is partly cloudy, sunny, and partly cloudy, with temperatures ranging from 38°C to 40°C.', additional_kwargs={}, response_metadata={'token_usage': {'completion_tokens': 53, 'prompt_tokens': 1253, 'total_tokens': 1306, 'completion_time': 0.073132855, 'prompt_time': 0.048788507, 'queue_time': 0.08387128299999999, 'total_time': 0.121921362}, 'model_name': 'llama-3.1-8b-instant', 'system_fingerprint': 'fp_a4265e44d5', 'finish_reason': 'stop', 'logprobs': None}, id='run-f26886c8-c5f1-46a5-8d5d-4d8f716d579f-0', usage_metadata={'input_tokens': 1253, 'output_tokens': 53, 'total_tokens': 1306})]}"
      ]
     },
     "execution_count": 42,
     "metadata": {},
     "output_type": "execute_result"
    }
   ],
   "source": [
    "response"
   ]
  },
  {
   "cell_type": "markdown",
   "id": "968a75e2-6ee7-4548-a311-51551bb5fb7e",
   "metadata": {},
   "source": [
    "<h3>Different Schema (Invoke with Transformation)</h3>"
   ]
  },
  {
   "cell_type": "code",
   "execution_count": 44,
   "id": "44a0f5c9-cee3-4dee-bcbe-2d085543f04f",
   "metadata": {},
   "outputs": [],
   "source": [
    "# define parent graph with a different scheme\n",
    "class QueryState(TypedDict):\n",
    "    query: str\n",
    "    response: str"
   ]
  },
  {
   "cell_type": "code",
   "execution_count": 45,
   "id": "dbd66bce-64ec-4550-8626-40503fb0ad25",
   "metadata": {},
   "outputs": [],
   "source": [
    "# Function to invoke a Subgraph\n",
    "def search_agent(state: QueryState) -> Dict:\n",
    "    # Transform from parent schema to Subgraph schema\n",
    "    subgraph_input={\"messages\":[state['query']]}\n",
    "    # Invoke the subgraph\n",
    "    subgraph_result=search_app.invoke(input=subgraph_input)\n",
    "\n",
    "    state['response']=subgraph_result[\"messages\"][-1].content\n",
    "    return state"
   ]
  },
  {
   "cell_type": "code",
   "execution_count": 46,
   "id": "8e7627ab-171b-4498-b52f-978295e84c21",
   "metadata": {},
   "outputs": [],
   "source": [
    "# Create a parent graph\n",
    "parent_graph=StateGraph(state_schema=QueryState)"
   ]
  },
  {
   "cell_type": "code",
   "execution_count": 47,
   "id": "9c1fb155-b1b9-4cb4-90c1-8673135c88a3",
   "metadata": {},
   "outputs": [
    {
     "data": {
      "text/plain": [
       "<langgraph.graph.state.StateGraph at 0x1b5f0b53cd0>"
      ]
     },
     "execution_count": 47,
     "metadata": {},
     "output_type": "execute_result"
    }
   ],
   "source": [
    "# Add transformation node that invokes subgraph\n",
    "parent_graph.add_node(node=\"search_agent\",action=search_agent)"
   ]
  },
  {
   "cell_type": "code",
   "execution_count": 48,
   "id": "c8aef7db-6d73-4c76-ad52-c45304e24cf7",
   "metadata": {},
   "outputs": [
    {
     "data": {
      "text/plain": [
       "<langgraph.graph.state.StateGraph at 0x1b5f0b53cd0>"
      ]
     },
     "execution_count": 48,
     "metadata": {},
     "output_type": "execute_result"
    }
   ],
   "source": [
    "# connect the flow\n",
    "parent_graph.add_edge(start_key=START,end_key=\"search_agent\")"
   ]
  },
  {
   "cell_type": "code",
   "execution_count": 49,
   "id": "dd39fdab-5dd3-4b7c-8ee1-db23b297c1dc",
   "metadata": {},
   "outputs": [
    {
     "data": {
      "text/plain": [
       "<langgraph.graph.state.StateGraph at 0x1b5f0b53cd0>"
      ]
     },
     "execution_count": 49,
     "metadata": {},
     "output_type": "execute_result"
    }
   ],
   "source": [
    "# connect the flow\n",
    "parent_graph.add_edge(start_key=\"search_agent\",end_key=END)"
   ]
  },
  {
   "cell_type": "code",
   "execution_count": 50,
   "id": "a4e9e511-8079-4176-a1fb-d63816e444f5",
   "metadata": {},
   "outputs": [],
   "source": [
    "# Compile the parent graph\n",
    "parent_app=parent_graph.compile()"
   ]
  },
  {
   "cell_type": "code",
   "execution_count": 51,
   "id": "88dcbe1a",
   "metadata": {},
   "outputs": [
    {
     "data": {
      "image/png": "[encoded data removed]",
      "text/plain": [
       "<IPython.core.display.Image object>"
      ]
     },
     "metadata": {},
     "output_type": "display_data"
    }
   ],
   "source": [
    "display(Image(data=parent_app.get_graph().draw_mermaid_png(draw_method=MermaidDrawMethod.API)))"
   ]
  },
  {
   "cell_type": "code",
   "execution_count": 52,
   "id": "36521f3d-0b30-464e-931f-42a309cd7ae4",
   "metadata": {},
   "outputs": [
    {
     "name": "stdout",
     "output_type": "stream",
     "text": [
      "State prior to tool calling: {'messages': [HumanMessage(content='How is the weather in Kolkata?', additional_kwargs={}, response_metadata={}, id='6eb2872e-0580-4075-ac06-b813b7f2f4c6'), AIMessage(content='', additional_kwargs={'tool_calls': [{'id': 'call_3dqc', 'function': {'arguments': '{\"query\": \"Kolkata weather today\"}', 'name': 'tavily_search_results_json'}, 'type': 'function'}]}, response_metadata={'token_usage': {'completion_tokens': 21, 'prompt_tokens': 569, 'total_tokens': 590, 'completion_time': 0.028, 'prompt_time': 0.019614572, 'queue_time': -0.045091702, 'total_time': 0.047614572}, 'model_name': 'llama-3.1-8b-instant', 'system_fingerprint': 'fp_f7bd09b454', 'finish_reason': 'tool_calls', 'logprobs': None}, id='run-22ef8d41-4f5e-4ce2-8a41-fb9d81a352e5-0', tool_calls=[{'name': 'tavily_search_results_json', 'args': {'query': 'Kolkata weather today'}, 'id': 'call_3dqc', 'type': 'tool_call'}], usage_metadata={'input_tokens': 569, 'output_tokens': 21, 'total_tokens': 590})]}\n",
      "\n",
      "State prior to tool calling: {'messages': [HumanMessage(content='How is the weather in Kolkata?', additional_kwargs={}, response_metadata={}, id='6eb2872e-0580-4075-ac06-b813b7f2f4c6'), AIMessage(content='', additional_kwargs={'tool_calls': [{'id': 'call_3dqc', 'function': {'arguments': '{\"query\": \"Kolkata weather today\"}', 'name': 'tavily_search_results_json'}, 'type': 'function'}]}, response_metadata={'token_usage': {'completion_tokens': 21, 'prompt_tokens': 569, 'total_tokens': 590, 'completion_time': 0.028, 'prompt_time': 0.019614572, 'queue_time': -0.045091702, 'total_time': 0.047614572}, 'model_name': 'llama-3.1-8b-instant', 'system_fingerprint': 'fp_f7bd09b454', 'finish_reason': 'tool_calls', 'logprobs': None}, id='run-22ef8d41-4f5e-4ce2-8a41-fb9d81a352e5-0', tool_calls=[{'name': 'tavily_search_results_json', 'args': {'query': 'Kolkata weather today'}, 'id': 'call_3dqc', 'type': 'tool_call'}], usage_metadata={'input_tokens': 569, 'output_tokens': 21, 'total_tokens': 590}), ToolMessage(content='[{\"title\": \"Kolkata-Alipore - Local Weather Report and Forecast\", \"url\": \"https://city.imd.gov.in/citywx/city_weather.php?id=42807\", \"content\": \"Local Weather Report and Forecast For: Kolkata-Alipur Dated :May 17, 2025 ... 17-May, 27.0, 36.0, Rain or Thundershowers with strong gusty winds. 18-May, 27.0\", \"score\": 0.9454852}, {\"title\": \"Kolkata Weather Today (Saturday, May 17, 2025)\", \"url\": \"https://www.indiatoday.in/weather/kolkata-weather-forecast-today\", \"content\": \"The minimum temperature in Kolkata today is likely to hover around 29 degrees Celsius, while the maximum temperature might reach 39 degrees Celsius.\", \"score\": 0.94401723}]', name='tavily_search_results_json', id='6522d762-c90b-4c63-9f2e-d2433b597115', tool_call_id='call_3dqc', artifact={'query': 'Kolkata weather today', 'follow_up_questions': None, 'answer': None, 'images': [], 'results': [{'url': 'https://city.imd.gov.in/citywx/city_weather.php?id=42807', 'title': 'Kolkata-Alipore - Local Weather Report and Forecast', 'content': 'Local Weather Report and Forecast For: Kolkata-Alipur Dated :May 17, 2025 ... 17-May, 27.0, 36.0, Rain or Thundershowers with strong gusty winds. 18-May, 27.0', 'score': 0.9454852, 'raw_content': None}, {'url': 'https://www.indiatoday.in/weather/kolkata-weather-forecast-today', 'title': 'Kolkata Weather Today (Saturday, May 17, 2025)', 'content': 'The minimum temperature in Kolkata today is likely to hover around 29 degrees Celsius, while the maximum temperature might reach 39 degrees Celsius.', 'score': 0.94401723, 'raw_content': None}], 'response_time': 4.04}), AIMessage(content='', additional_kwargs={'tool_calls': [{'id': 'call_aybd', 'function': {'arguments': '{\"query\": \"Kolkata-Alipore - Local Weather Report and Forecast\"}', 'name': 'tavily_search_results_json'}, 'type': 'function'}]}, response_metadata={'token_usage': {'completion_tokens': 83, 'prompt_tokens': 507, 'total_tokens': 590, 'completion_time': 0.110666667, 'prompt_time': 0.026202559, 'queue_time': 0.099319101, 'total_time': 0.136869226}, 'model_name': 'llama-3.1-8b-instant', 'system_fingerprint': 'fp_f7bd09b454', 'finish_reason': 'tool_calls', 'logprobs': None}, id='run-8bcc10b8-13ec-43ec-91ea-f173780c5c1f-0', tool_calls=[{'name': 'tavily_search_results_json', 'args': {'query': 'Kolkata-Alipore - Local Weather Report and Forecast'}, 'id': 'call_aybd', 'type': 'tool_call'}], usage_metadata={'input_tokens': 507, 'output_tokens': 83, 'total_tokens': 590})]}\n",
      "\n",
      "State prior to tool calling: {'messages': [HumanMessage(content='How is the weather in Kolkata?', additional_kwargs={}, response_metadata={}, id='6eb2872e-0580-4075-ac06-b813b7f2f4c6'), AIMessage(content='', additional_kwargs={'tool_calls': [{'id': 'call_3dqc', 'function': {'arguments': '{\"query\": \"Kolkata weather today\"}', 'name': 'tavily_search_results_json'}, 'type': 'function'}]}, response_metadata={'token_usage': {'completion_tokens': 21, 'prompt_tokens': 569, 'total_tokens': 590, 'completion_time': 0.028, 'prompt_time': 0.019614572, 'queue_time': -0.045091702, 'total_time': 0.047614572}, 'model_name': 'llama-3.1-8b-instant', 'system_fingerprint': 'fp_f7bd09b454', 'finish_reason': 'tool_calls', 'logprobs': None}, id='run-22ef8d41-4f5e-4ce2-8a41-fb9d81a352e5-0', tool_calls=[{'name': 'tavily_search_results_json', 'args': {'query': 'Kolkata weather today'}, 'id': 'call_3dqc', 'type': 'tool_call'}], usage_metadata={'input_tokens': 569, 'output_tokens': 21, 'total_tokens': 590}), ToolMessage(content='[{\"title\": \"Kolkata-Alipore - Local Weather Report and Forecast\", \"url\": \"https://city.imd.gov.in/citywx/city_weather.php?id=42807\", \"content\": \"Local Weather Report and Forecast For: Kolkata-Alipur Dated :May 17, 2025 ... 17-May, 27.0, 36.0, Rain or Thundershowers with strong gusty winds. 18-May, 27.0\", \"score\": 0.9454852}, {\"title\": \"Kolkata Weather Today (Saturday, May 17, 2025)\", \"url\": \"https://www.indiatoday.in/weather/kolkata-weather-forecast-today\", \"content\": \"The minimum temperature in Kolkata today is likely to hover around 29 degrees Celsius, while the maximum temperature might reach 39 degrees Celsius.\", \"score\": 0.94401723}]', name='tavily_search_results_json', id='6522d762-c90b-4c63-9f2e-d2433b597115', tool_call_id='call_3dqc', artifact={'query': 'Kolkata weather today', 'follow_up_questions': None, 'answer': None, 'images': [], 'results': [{'url': 'https://city.imd.gov.in/citywx/city_weather.php?id=42807', 'title': 'Kolkata-Alipore - Local Weather Report and Forecast', 'content': 'Local Weather Report and Forecast For: Kolkata-Alipur Dated :May 17, 2025 ... 17-May, 27.0, 36.0, Rain or Thundershowers with strong gusty winds. 18-May, 27.0', 'score': 0.9454852, 'raw_content': None}, {'url': 'https://www.indiatoday.in/weather/kolkata-weather-forecast-today', 'title': 'Kolkata Weather Today (Saturday, May 17, 2025)', 'content': 'The minimum temperature in Kolkata today is likely to hover around 29 degrees Celsius, while the maximum temperature might reach 39 degrees Celsius.', 'score': 0.94401723, 'raw_content': None}], 'response_time': 4.04}), AIMessage(content='', additional_kwargs={'tool_calls': [{'id': 'call_aybd', 'function': {'arguments': '{\"query\": \"Kolkata-Alipore - Local Weather Report and Forecast\"}', 'name': 'tavily_search_results_json'}, 'type': 'function'}]}, response_metadata={'token_usage': {'completion_tokens': 83, 'prompt_tokens': 507, 'total_tokens': 590, 'completion_time': 0.110666667, 'prompt_time': 0.026202559, 'queue_time': 0.099319101, 'total_time': 0.136869226}, 'model_name': 'llama-3.1-8b-instant', 'system_fingerprint': 'fp_f7bd09b454', 'finish_reason': 'tool_calls', 'logprobs': None}, id='run-8bcc10b8-13ec-43ec-91ea-f173780c5c1f-0', tool_calls=[{'name': 'tavily_search_results_json', 'args': {'query': 'Kolkata-Alipore - Local Weather Report and Forecast'}, 'id': 'call_aybd', 'type': 'tool_call'}], usage_metadata={'input_tokens': 507, 'output_tokens': 83, 'total_tokens': 590}), ToolMessage(content='[{\"title\": \"Weather for Alipore, West Bengal, India - Time and Date\", \"url\": \"https://www.timeanddate.com/weather/india/alipore\", \"content\": \"Forecast: 97 / 79 °F Wind: 7 mph ↑ from South. Location: Calcutta / Dum Dum. Current Time: May 15, 2025 at 4:21:40 am. Latest Report: May 17, 2025 at 11:30 am.\", \"score\": 0.9168945}, {\"title\": \"Kolkata weather in May 2025 - Weather25.com\", \"url\": \"https://www.weather25.com/asia/india/west-bengal/kolkata?page=month&month=May\", \"content\": \"Location was added to My Locations\\\\nLocation was removed from My Locations\\\\nApril\\\\nJune\\\\nKolkata weather in May 2025\\\\nThe temperatures in Kolkata during May are extremely high, between 82°F and hot as 102°F, drinking water regularly is advisable.\\\\nYou can expect rain for roughly half of the month of May in Kolkata. We’re expecting roughly 8 to 15 days of rain, so your rubber boots and umbrella are going to see plenty of use this month if you’re keen on staying dry. [...] | Sun | Mon | Tue | Wed | Thu | Fri | Sat |\\\\n| --- | --- | --- | --- | --- | --- | --- |\\\\n| \\\\n | \\\\n| \\\\n| \\\\n| 1  104° /80° | 2  102° /80° | 3  104° /78° |\\\\n| 4  98° /77° | 5  102° /77° | 6  100° /78° | 7  102° /78° | 8  100° /77° | 9  100° /78° | 10  102° /80° |\\\\n| 11  100° /80° | 12  96° /77° | 13  98° /77° | 14  100° /78° | 15  102° /78° | 16  104° /84° | 17  104° /82° |\\\\n| 18  105° /84° | 19  105° /82° | 20  104° /82° | 21  104° /82° | 22  104° /82° | 23  104° /80° | 24  102° /80° | [...] | 25  96° /78° | 26  93° /78° | 27  93° /80° | 28  102° /82° | 29  102° /82° | 30  100° /84° | 31  100° /84° |\\\\nClick on a day for an hourly weather forecast\\\\nExplore the weather in Kolkata in other months\\\\n01 January02 February03 March04 April05 May06 June07 July08 August09 September10 October11 November12 December\\\\nKolkata annual weather\\\\n| Month | Temperatures | Rainy Days | Dry Days | Snowy Days | Rainfall | Weather | More details |\\\\n| --- | --- | --- | --- | --- | --- | --- | --- |\", \"score\": 0.82117355}]', name='tavily_search_results_json', id='50930865-83ac-4808-9d04-e0d7203aa600', tool_call_id='call_aybd', artifact={'query': 'Kolkata-Alipore - Local Weather Report and Forecast', 'follow_up_questions': None, 'answer': None, 'images': [], 'results': [{'url': 'https://www.timeanddate.com/weather/india/alipore', 'title': 'Weather for Alipore, West Bengal, India - Time and Date', 'content': 'Forecast: 97 / 79 °F Wind: 7 mph ↑ from South. Location: Calcutta / Dum Dum. Current Time: May 15, 2025 at 4:21:40 am. Latest Report: May 17, 2025 at 11:30 am.', 'score': 0.9168945, 'raw_content': None}, {'url': 'https://www.weather25.com/asia/india/west-bengal/kolkata?page=month&month=May', 'title': 'Kolkata weather in May 2025 - Weather25.com', 'content': 'Location was added to My Locations\\nLocation was removed from My Locations\\nApril\\nJune\\nKolkata weather in May 2025\\nThe temperatures in Kolkata during May are extremely high, between 82°F and hot as 102°F, drinking water regularly is advisable.\\nYou can expect rain for roughly half of the month of May in Kolkata. We’re expecting roughly 8 to 15 days of rain, so your rubber boots and umbrella are going to see plenty of use this month if you’re keen on staying dry. [...] | Sun | Mon | Tue | Wed | Thu | Fri | Sat |\\n| --- | --- | --- | --- | --- | --- | --- |\\n| \\n | \\n| \\n| \\n| 1  104° /80° | 2  102° /80° | 3  104° /78° |\\n| 4  98° /77° | 5  102° /77° | 6  100° /78° | 7  102° /78° | 8  100° /77° | 9  100° /78° | 10  102° /80° |\\n| 11  100° /80° | 12  96° /77° | 13  98° /77° | 14  100° /78° | 15  102° /78° | 16  104° /84° | 17  104° /82° |\\n| 18  105° /84° | 19  105° /82° | 20  104° /82° | 21  104° /82° | 22  104° /82° | 23  104° /80° | 24  102° /80° | [...] | 25  96° /78° | 26  93° /78° | 27  93° /80° | 28  102° /82° | 29  102° /82° | 30  100° /84° | 31  100° /84° |\\nClick on a day for an hourly weather forecast\\nExplore the weather in Kolkata in other months\\n01 January02 February03 March04 April05 May06 June07 July08 August09 September10 October11 November12 December\\nKolkata annual weather\\n| Month | Temperatures | Rainy Days | Dry Days | Snowy Days | Rainfall | Weather | More details |\\n| --- | --- | --- | --- | --- | --- | --- | --- |', 'score': 0.82117355, 'raw_content': None}], 'response_time': 2.27}), AIMessage(content='The weather in Kolkata is currently mostly sunny with a high of 39 degrees Celsius and a low of 29 degrees Celsius. However, there is a chance of rain or thunderstorms with strong gusty winds. It is recommended to drink plenty of water and stay hydrated due to the high temperatures.', additional_kwargs={}, response_metadata={'token_usage': {'completion_tokens': 60, 'prompt_tokens': 1286, 'total_tokens': 1346, 'completion_time': 0.08, 'prompt_time': 0.043864773, 'queue_time': 0.04921923599999999, 'total_time': 0.123864773}, 'model_name': 'llama-3.1-8b-instant', 'system_fingerprint': 'fp_f7bd09b454', 'finish_reason': 'stop', 'logprobs': None}, id='run-c867e576-dd66-42c2-b6d2-32ee683b3025-0', usage_metadata={'input_tokens': 1286, 'output_tokens': 60, 'total_tokens': 1346})]}\n",
      "\n"
     ]
    }
   ],
   "source": [
    "response=parent_app.invoke(input={\"query\":\"How is the weather in Kolkata?\",\"response\":\"\"})"
   ]
  },
  {
   "cell_type": "code",
   "execution_count": 53,
   "id": "9654f823-0c5f-43a0-832c-cedb60923499",
   "metadata": {},
   "outputs": [
    {
     "data": {
      "text/plain": [
       "{'query': 'How is the weather in Kolkata?',\n",
       " 'response': 'The weather in Kolkata is currently mostly sunny with a high of 39 degrees Celsius and a low of 29 degrees Celsius. However, there is a chance of rain or thunderstorms with strong gusty winds. It is recommended to drink plenty of water and stay hydrated due to the high temperatures.'}"
      ]
     },
     "execution_count": 53,
     "metadata": {},
     "output_type": "execute_result"
    }
   ],
   "source": [
    "response"
   ]
  },
  {
   "cell_type": "code",
   "execution_count": null,
   "id": "1979c25e-5d18-4a0a-a80d-f72777b4c384",
   "metadata": {},
   "outputs": [],
   "source": []
  },
  {
   "cell_type": "code",
   "execution_count": null,
   "id": "4accdd80-4147-479c-a74a-baafe6808516",
   "metadata": {},
   "outputs": [],
   "source": []
  }
 ],
 "metadata": {
  "kernelspec": {
   "display_name": "lcnenv",
   "language": "python",
   "name": "python3"
  },
  "language_info": {
   "codemirror_mode": {
    "name": "ipython",
    "version": 3
   },
   "file_extension": ".py",
   "mimetype": "text/x-python",
   "name": "python",
   "nbconvert_exporter": "python",
   "pygments_lexer": "ipython3",
   "version": "3.11.11"
  }
 },
 "nbformat": 4,
 "nbformat_minor": 5
}
