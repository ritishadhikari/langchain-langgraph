{
 "cells": [
  {
   "cell_type": "code",
   "execution_count": 151,
   "id": "5b52e2af-a73c-4517-8473-f4ceb76276eb",
   "metadata": {},
   "outputs": [],
   "source": [
    "from langchain_google_genai import ChatGoogleGenerativeAI\n",
    "from dotenv import load_dotenv\n",
    "from langchain_community.tools import TavilySearchResults\n",
    "from typing import TypedDict, Annotated,List\n",
    "from langgraph.graph import add_messages, StateGraph, END\n",
    "from langgraph.prebuilt import ToolNode\n",
    "from IPython.display import Image, display\n",
    "from langchain_core.runnables.graph import MermaidDrawMethod"
   ]
  },
  {
   "cell_type": "code",
   "execution_count": 152,
   "id": "4c502197-eee7-4ace-9d2d-43a64889ffa7",
   "metadata": {},
   "outputs": [
    {
     "data": {
      "text/plain": [
       "True"
      ]
     },
     "execution_count": 152,
     "metadata": {},
     "output_type": "execute_result"
    }
   ],
   "source": [
    "load_dotenv()"
   ]
  },
  {
   "cell_type": "code",
   "execution_count": 192,
   "id": "104cec91-1e5d-4de7-a80d-b4682db163db",
   "metadata": {},
   "outputs": [],
   "source": [
    "class AgentState(TypedDict):\n",
    "    messages: Annotated[List, add_messages]"
   ]
  },
  {
   "cell_type": "code",
   "execution_count": 193,
   "id": "69c07590-cb08-468c-ad82-53c827de5e0c",
   "metadata": {},
   "outputs": [],
   "source": [
    "search_tool=TavilySearchResults(max_results=2)"
   ]
  },
  {
   "cell_type": "code",
   "execution_count": 194,
   "id": "fc2c1cd8-3888-451f-b56d-ee6c597ea592",
   "metadata": {},
   "outputs": [],
   "source": [
    "tools=[search_tool]"
   ]
  },
  {
   "cell_type": "code",
   "execution_count": 195,
   "id": "fc59384e-ba5e-4f19-aedb-6b2b7d869921",
   "metadata": {},
   "outputs": [],
   "source": [
    "llmGemini=ChatGoogleGenerativeAI(model=\"gemini-2.0-flash-001\")"
   ]
  },
  {
   "cell_type": "code",
   "execution_count": 196,
   "id": "d93d998d-7f5e-480f-9d7d-cbf4fd4bb0ad",
   "metadata": {},
   "outputs": [],
   "source": [
    "llm_with_tools=llmGemini.bind_tools(tools=tools)"
   ]
  },
  {
   "cell_type": "code",
   "execution_count": 197,
   "id": "10fe7b82-8c00-4a8d-8fd0-b1ffcf432ce3",
   "metadata": {},
   "outputs": [],
   "source": [
    "def model(state: AgentState):\n",
    "    state[\"messages\"]=[llm_with_tools.invoke(input=state[\"messages\"])]\n",
    "    return state\n",
    "    "
   ]
  },
  {
   "cell_type": "code",
   "execution_count": 212,
   "id": "49da1aea-7e34-4934-bd72-f1730e894fe7",
   "metadata": {},
   "outputs": [],
   "source": [
    "def tools_router(state:AgentState):\n",
    "    last_message=state[\"messages\"][-1]\n",
    "\n",
    "    if hasattr(last_message,\"tool_calls\") and len(last_message.tool_calls)>0:\n",
    "        return \"tool_node\"\n",
    "    else:\n",
    "        return \"end\""
   ]
  },
  {
   "cell_type": "code",
   "execution_count": 213,
   "id": "98a4f4f3-9861-4270-9745-3e84e8fe4f9b",
   "metadata": {},
   "outputs": [],
   "source": [
    "tool_node=ToolNode(tools=tools,messages_key=\"messages\")"
   ]
  },
  {
   "cell_type": "code",
   "execution_count": 214,
   "id": "744f123e-81ef-4a83-9970-10380e24424a",
   "metadata": {},
   "outputs": [],
   "source": [
    "graph=StateGraph(state_schema=AgentState)"
   ]
  },
  {
   "cell_type": "code",
   "execution_count": 215,
   "id": "6b381444-08ab-47d5-8037-e7181f72b263",
   "metadata": {},
   "outputs": [
    {
     "data": {
      "text/plain": [
       "<langgraph.graph.state.StateGraph at 0x24ccf62c8d0>"
      ]
     },
     "execution_count": 215,
     "metadata": {},
     "output_type": "execute_result"
    }
   ],
   "source": [
    "graph.add_node(node=\"model\",action=model)"
   ]
  },
  {
   "cell_type": "code",
   "execution_count": 216,
   "id": "645e0319-626d-4bb9-a93c-92ebe247ac93",
   "metadata": {},
   "outputs": [
    {
     "data": {
      "text/plain": [
       "<langgraph.graph.state.StateGraph at 0x24ccf62c8d0>"
      ]
     },
     "execution_count": 216,
     "metadata": {},
     "output_type": "execute_result"
    }
   ],
   "source": [
    "graph.add_node(node=\"tool_node\",action=tool_node)"
   ]
  },
  {
   "cell_type": "code",
   "execution_count": 217,
   "id": "80fe4ec5-b4fa-4e14-bb23-5d6479edab34",
   "metadata": {},
   "outputs": [
    {
     "data": {
      "text/plain": [
       "<langgraph.graph.state.StateGraph at 0x24ccf62c8d0>"
      ]
     },
     "execution_count": 217,
     "metadata": {},
     "output_type": "execute_result"
    }
   ],
   "source": [
    "graph.set_entry_point(key=\"model\")"
   ]
  },
  {
   "cell_type": "code",
   "execution_count": 218,
   "id": "3c7e811e-1fd7-4698-bc90-a290e77b8d27",
   "metadata": {},
   "outputs": [
    {
     "data": {
      "text/plain": [
       "<langgraph.graph.state.StateGraph at 0x24ccf62c8d0>"
      ]
     },
     "execution_count": 218,
     "metadata": {},
     "output_type": "execute_result"
    }
   ],
   "source": [
    "graph.add_conditional_edges(source=\"model\",path=tools_router,path_map={\"tool_node\":\"tool_node\",\"end\":END})"
   ]
  },
  {
   "cell_type": "code",
   "execution_count": 219,
   "id": "b37ffbd7-3708-4ce1-9d3d-2a6f58c1661f",
   "metadata": {},
   "outputs": [
    {
     "data": {
      "text/plain": [
       "<langgraph.graph.state.StateGraph at 0x24ccf62c8d0>"
      ]
     },
     "execution_count": 219,
     "metadata": {},
     "output_type": "execute_result"
    }
   ],
   "source": [
    "graph.add_edge(start_key=\"tool_node\",end_key=\"model\")"
   ]
  },
  {
   "cell_type": "code",
   "execution_count": 220,
   "id": "a34c8ad4-fd13-474b-9a8a-fc8c6e328003",
   "metadata": {},
   "outputs": [],
   "source": [
    "app=graph.compile()"
   ]
  },
  {
   "cell_type": "code",
   "execution_count": 221,
   "id": "41eb0666-e48d-4efb-8a71-8bc5212d7f3f",
   "metadata": {},
   "outputs": [
    {
     "data": {
      "image/png": "[encoded data removed]",
      "text/plain": [
       "<IPython.core.display.Image object>"
      ]
     },
     "metadata": {},
     "output_type": "display_data"
    }
   ],
   "source": [
    "display(Image(data=app.get_graph(xray=True).draw_mermaid_png()))"
   ]
  },
  {
   "cell_type": "code",
   "execution_count": 222,
   "id": "a83550fb-ac39-4c20-871b-f2c76a5deabf",
   "metadata": {},
   "outputs": [],
   "source": [
    "input={\n",
    "    \"messages\":[\"What's the current weather in Bangalore?\"]\n",
    "}"
   ]
  },
  {
   "cell_type": "code",
   "execution_count": 223,
   "id": "b540aece-9f33-45c5-a81d-a16e34f9774f",
   "metadata": {
    "scrolled": true
   },
   "outputs": [],
   "source": [
    "# app.invoke(input=input)"
   ]
  },
  {
   "cell_type": "code",
   "execution_count": 227,
   "id": "ec2246fe-7714-48c2-aa7b-d1c39b2ce669",
   "metadata": {},
   "outputs": [],
   "source": [
    "events=app.stream(input=input, stream_mode=\"values\")"
   ]
  },
  {
   "cell_type": "code",
   "execution_count": 228,
   "id": "a07c05df-1d24-4e3e-9e95-b22130da0b48",
   "metadata": {
    "scrolled": true
   },
   "outputs": [
    {
     "name": "stdout",
     "output_type": "stream",
     "text": [
      "{'messages': [HumanMessage(content=\"What's the current weather in Bangalore?\", additional_kwargs={}, response_metadata={}, id='9473f94b-0b40-4bfb-b0cc-b792e08e317c')]} \n",
      "\n",
      "{'messages': [HumanMessage(content=\"What's the current weather in Bangalore?\", additional_kwargs={}, response_metadata={}, id='9473f94b-0b40-4bfb-b0cc-b792e08e317c'), AIMessage(content='', additional_kwargs={'function_call': {'name': 'tavily_search_results_json', 'arguments': '{\"query\": \"weather in Bangalore\"}'}}, response_metadata={'prompt_feedback': {'block_reason': 0, 'safety_ratings': []}, 'finish_reason': 'STOP', 'model_name': 'gemini-2.0-flash-001', 'safety_ratings': []}, id='run-6fdced52-6ed0-4243-8e73-5a2f85e05d9d-0', tool_calls=[{'name': 'tavily_search_results_json', 'args': {'query': 'weather in Bangalore'}, 'id': 'd81a0fbf-73dd-4bec-95e7-136d3245db6e', 'type': 'tool_call'}], usage_metadata={'input_tokens': 58, 'output_tokens': 12, 'total_tokens': 70, 'input_token_details': {'cache_read': 0}})]} \n",
      "\n",
      "{'messages': [HumanMessage(content=\"What's the current weather in Bangalore?\", additional_kwargs={}, response_metadata={}, id='9473f94b-0b40-4bfb-b0cc-b792e08e317c'), AIMessage(content='', additional_kwargs={'function_call': {'name': 'tavily_search_results_json', 'arguments': '{\"query\": \"weather in Bangalore\"}'}}, response_metadata={'prompt_feedback': {'block_reason': 0, 'safety_ratings': []}, 'finish_reason': 'STOP', 'model_name': 'gemini-2.0-flash-001', 'safety_ratings': []}, id='run-6fdced52-6ed0-4243-8e73-5a2f85e05d9d-0', tool_calls=[{'name': 'tavily_search_results_json', 'args': {'query': 'weather in Bangalore'}, 'id': 'd81a0fbf-73dd-4bec-95e7-136d3245db6e', 'type': 'tool_call'}], usage_metadata={'input_tokens': 58, 'output_tokens': 12, 'total_tokens': 70, 'input_token_details': {'cache_read': 0}}), ToolMessage(content='[{\"title\": \"Weather in Bangalore\", \"url\": \"https://www.weatherapi.com/\", \"content\": \"{\\'location\\': {\\'name\\': \\'Bangalore\\', \\'region\\': \\'Karnataka\\', \\'country\\': \\'India\\', \\'lat\\': 12.9833, \\'lon\\': 77.5833, \\'tz_id\\': \\'Asia/Kolkata\\', \\'localtime_epoch\\': 1746538937, \\'localtime\\': \\'2025-05-06 19:12\\'}, \\'current\\': {\\'last_updated_epoch\\': 1746538200, \\'last_updated\\': \\'2025-05-06 19:00\\', \\'temp_c\\': 31.1, \\'temp_f\\': 88.0, \\'is_day\\': 0, \\'condition\\': {\\'text\\': \\'Clear\\', \\'icon\\': \\'//cdn.weatherapi.com/weather/64x64/night/113.png\\', \\'code\\': 1000}, \\'wind_mph\\': 2.9, \\'wind_kph\\': 4.7, \\'wind_degree\\': 303, \\'wind_dir\\': \\'WNW\\', \\'pressure_mb\\': 1011.0, \\'pressure_in\\': 29.85, \\'precip_mm\\': 0.0, \\'precip_in\\': 0.0, \\'humidity\\': 38, \\'cloud\\': 25, \\'feelslike_c\\': 29.1, \\'feelslike_f\\': 84.3, \\'windchill_c\\': 31.9, \\'windchill_f\\': 89.4, \\'heatindex_c\\': 29.9, \\'heatindex_f\\': 85.8, \\'dewpoint_c\\': 7.4, \\'dewpoint_f\\': 45.3, \\'vis_km\\': 8.0, \\'vis_miles\\': 4.0, \\'uv\\': 0.0, \\'gust_mph\\': 4.6, \\'gust_kph\\': 7.4}}\", \"score\": 0.9173086}, {\"title\": \"Bangalore Weather Today (Tuesday, May 06, 2025) - India Today\", \"url\": \"https://www.indiatoday.in/weather/bangalore-weather-forecast-today\", \"content\": \"The minimum temperature in Bangalore today is likely to hover around 24 degrees Celsius, while the maximum temperature might reach 36 degrees Celsius.\", \"score\": 0.9108078}]', name='tavily_search_results_json', id='43161b70-3103-449d-aa1f-7a946752993d', tool_call_id='d81a0fbf-73dd-4bec-95e7-136d3245db6e', artifact={'query': 'weather in Bangalore', 'follow_up_questions': None, 'answer': None, 'images': [], 'results': [{'title': 'Weather in Bangalore', 'url': 'https://www.weatherapi.com/', 'content': \"{'location': {'name': 'Bangalore', 'region': 'Karnataka', 'country': 'India', 'lat': 12.9833, 'lon': 77.5833, 'tz_id': 'Asia/Kolkata', 'localtime_epoch': 1746538937, 'localtime': '2025-05-06 19:12'}, 'current': {'last_updated_epoch': 1746538200, 'last_updated': '2025-05-06 19:00', 'temp_c': 31.1, 'temp_f': 88.0, 'is_day': 0, 'condition': {'text': 'Clear', 'icon': '//cdn.weatherapi.com/weather/64x64/night/113.png', 'code': 1000}, 'wind_mph': 2.9, 'wind_kph': 4.7, 'wind_degree': 303, 'wind_dir': 'WNW', 'pressure_mb': 1011.0, 'pressure_in': 29.85, 'precip_mm': 0.0, 'precip_in': 0.0, 'humidity': 38, 'cloud': 25, 'feelslike_c': 29.1, 'feelslike_f': 84.3, 'windchill_c': 31.9, 'windchill_f': 89.4, 'heatindex_c': 29.9, 'heatindex_f': 85.8, 'dewpoint_c': 7.4, 'dewpoint_f': 45.3, 'vis_km': 8.0, 'vis_miles': 4.0, 'uv': 0.0, 'gust_mph': 4.6, 'gust_kph': 7.4}}\", 'score': 0.9173086, 'raw_content': None}, {'url': 'https://www.indiatoday.in/weather/bangalore-weather-forecast-today', 'title': 'Bangalore Weather Today (Tuesday, May 06, 2025) - India Today', 'content': 'The minimum temperature in Bangalore today is likely to hover around 24 degrees Celsius, while the maximum temperature might reach 36 degrees Celsius.', 'score': 0.9108078, 'raw_content': None}], 'response_time': 1.59})]} \n",
      "\n",
      "{'messages': [HumanMessage(content=\"What's the current weather in Bangalore?\", additional_kwargs={}, response_metadata={}, id='9473f94b-0b40-4bfb-b0cc-b792e08e317c'), AIMessage(content='', additional_kwargs={'function_call': {'name': 'tavily_search_results_json', 'arguments': '{\"query\": \"weather in Bangalore\"}'}}, response_metadata={'prompt_feedback': {'block_reason': 0, 'safety_ratings': []}, 'finish_reason': 'STOP', 'model_name': 'gemini-2.0-flash-001', 'safety_ratings': []}, id='run-6fdced52-6ed0-4243-8e73-5a2f85e05d9d-0', tool_calls=[{'name': 'tavily_search_results_json', 'args': {'query': 'weather in Bangalore'}, 'id': 'd81a0fbf-73dd-4bec-95e7-136d3245db6e', 'type': 'tool_call'}], usage_metadata={'input_tokens': 58, 'output_tokens': 12, 'total_tokens': 70, 'input_token_details': {'cache_read': 0}}), ToolMessage(content='[{\"title\": \"Weather in Bangalore\", \"url\": \"https://www.weatherapi.com/\", \"content\": \"{\\'location\\': {\\'name\\': \\'Bangalore\\', \\'region\\': \\'Karnataka\\', \\'country\\': \\'India\\', \\'lat\\': 12.9833, \\'lon\\': 77.5833, \\'tz_id\\': \\'Asia/Kolkata\\', \\'localtime_epoch\\': 1746538937, \\'localtime\\': \\'2025-05-06 19:12\\'}, \\'current\\': {\\'last_updated_epoch\\': 1746538200, \\'last_updated\\': \\'2025-05-06 19:00\\', \\'temp_c\\': 31.1, \\'temp_f\\': 88.0, \\'is_day\\': 0, \\'condition\\': {\\'text\\': \\'Clear\\', \\'icon\\': \\'//cdn.weatherapi.com/weather/64x64/night/113.png\\', \\'code\\': 1000}, \\'wind_mph\\': 2.9, \\'wind_kph\\': 4.7, \\'wind_degree\\': 303, \\'wind_dir\\': \\'WNW\\', \\'pressure_mb\\': 1011.0, \\'pressure_in\\': 29.85, \\'precip_mm\\': 0.0, \\'precip_in\\': 0.0, \\'humidity\\': 38, \\'cloud\\': 25, \\'feelslike_c\\': 29.1, \\'feelslike_f\\': 84.3, \\'windchill_c\\': 31.9, \\'windchill_f\\': 89.4, \\'heatindex_c\\': 29.9, \\'heatindex_f\\': 85.8, \\'dewpoint_c\\': 7.4, \\'dewpoint_f\\': 45.3, \\'vis_km\\': 8.0, \\'vis_miles\\': 4.0, \\'uv\\': 0.0, \\'gust_mph\\': 4.6, \\'gust_kph\\': 7.4}}\", \"score\": 0.9173086}, {\"title\": \"Bangalore Weather Today (Tuesday, May 06, 2025) - India Today\", \"url\": \"https://www.indiatoday.in/weather/bangalore-weather-forecast-today\", \"content\": \"The minimum temperature in Bangalore today is likely to hover around 24 degrees Celsius, while the maximum temperature might reach 36 degrees Celsius.\", \"score\": 0.9108078}]', name='tavily_search_results_json', id='43161b70-3103-449d-aa1f-7a946752993d', tool_call_id='d81a0fbf-73dd-4bec-95e7-136d3245db6e', artifact={'query': 'weather in Bangalore', 'follow_up_questions': None, 'answer': None, 'images': [], 'results': [{'title': 'Weather in Bangalore', 'url': 'https://www.weatherapi.com/', 'content': \"{'location': {'name': 'Bangalore', 'region': 'Karnataka', 'country': 'India', 'lat': 12.9833, 'lon': 77.5833, 'tz_id': 'Asia/Kolkata', 'localtime_epoch': 1746538937, 'localtime': '2025-05-06 19:12'}, 'current': {'last_updated_epoch': 1746538200, 'last_updated': '2025-05-06 19:00', 'temp_c': 31.1, 'temp_f': 88.0, 'is_day': 0, 'condition': {'text': 'Clear', 'icon': '//cdn.weatherapi.com/weather/64x64/night/113.png', 'code': 1000}, 'wind_mph': 2.9, 'wind_kph': 4.7, 'wind_degree': 303, 'wind_dir': 'WNW', 'pressure_mb': 1011.0, 'pressure_in': 29.85, 'precip_mm': 0.0, 'precip_in': 0.0, 'humidity': 38, 'cloud': 25, 'feelslike_c': 29.1, 'feelslike_f': 84.3, 'windchill_c': 31.9, 'windchill_f': 89.4, 'heatindex_c': 29.9, 'heatindex_f': 85.8, 'dewpoint_c': 7.4, 'dewpoint_f': 45.3, 'vis_km': 8.0, 'vis_miles': 4.0, 'uv': 0.0, 'gust_mph': 4.6, 'gust_kph': 7.4}}\", 'score': 0.9173086, 'raw_content': None}, {'url': 'https://www.indiatoday.in/weather/bangalore-weather-forecast-today', 'title': 'Bangalore Weather Today (Tuesday, May 06, 2025) - India Today', 'content': 'The minimum temperature in Bangalore today is likely to hover around 24 degrees Celsius, while the maximum temperature might reach 36 degrees Celsius.', 'score': 0.9108078, 'raw_content': None}], 'response_time': 1.59}), AIMessage(content='The weather in Bangalore is currently clear with a temperature of 31.1 degrees Celsius (88.0 degrees Fahrenheit). The wind is from the WNW at 4.7 kph. The minimum temperature today will be around 24 degrees Celsius, and the maximum temperature might reach 36 degrees Celsius.', additional_kwargs={}, response_metadata={'prompt_feedback': {'block_reason': 0, 'safety_ratings': []}, 'finish_reason': 'STOP', 'model_name': 'gemini-2.0-flash-001', 'safety_ratings': []}, id='run-d0db7897-a024-49c0-b05c-a5b85169cb37-0', usage_metadata={'input_tokens': 627, 'output_tokens': 67, 'total_tokens': 694, 'input_token_details': {'cache_read': 0}})]} \n",
      "\n"
     ]
    }
   ],
   "source": [
    "for event in events:\n",
    "    print(event,\"\\n\")"
   ]
  },
  {
   "cell_type": "code",
   "execution_count": 229,
   "id": "218ef42b-257f-4164-aaa6-8c9e4e6d3b1a",
   "metadata": {},
   "outputs": [],
   "source": [
    "events=app.stream(input=input, stream_mode=\"updates\")"
   ]
  },
  {
   "cell_type": "code",
   "execution_count": 230,
   "id": "3fcc996d-8c27-4796-867f-f4c0b85a3dbc",
   "metadata": {},
   "outputs": [
    {
     "name": "stdout",
     "output_type": "stream",
     "text": [
      "{'model': {'messages': [AIMessage(content='', additional_kwargs={'function_call': {'name': 'tavily_search_results_json', 'arguments': '{\"query\": \"weather in Bangalore\"}'}}, response_metadata={'prompt_feedback': {'block_reason': 0, 'safety_ratings': []}, 'finish_reason': 'STOP', 'model_name': 'gemini-2.0-flash-001', 'safety_ratings': []}, id='run-707c68a0-3f68-4751-91c0-e137b86ef2b6-0', tool_calls=[{'name': 'tavily_search_results_json', 'args': {'query': 'weather in Bangalore'}, 'id': 'eef29c9e-bd95-4a06-b9f7-533a7757dc90', 'type': 'tool_call'}], usage_metadata={'input_tokens': 58, 'output_tokens': 12, 'total_tokens': 70, 'input_token_details': {'cache_read': 0}})]}} \n",
      "\n",
      "{'tool_node': {'messages': [ToolMessage(content='[{\"title\": \"Bengaluru Weather Forecast 6 May 2025 - Times of India\", \"url\": \"https://timesofindia.indiatimes.com/weather/bengaluru-weather-forecast-today/560001\", \"content\": \"Today\\'s Weather in Bengaluru: In Bengaluru today, the weather is expected to be Fair with a maximum temperature of 33°C and a minimum of 23°C. Sunrise in\", \"score\": 0.9385817}, {\"title\": \"Weather in Bangalore\", \"url\": \"https://www.weatherapi.com/\", \"content\": \"{\\'location\\': {\\'name\\': \\'Bangalore\\', \\'region\\': \\'Karnataka\\', \\'country\\': \\'India\\', \\'lat\\': 12.9833, \\'lon\\': 77.5833, \\'tz_id\\': \\'Asia/Kolkata\\', \\'localtime_epoch\\': 1746542458, \\'localtime\\': \\'2025-05-06 20:10\\'}, \\'current\\': {\\'last_updated_epoch\\': 1746541800, \\'last_updated\\': \\'2025-05-06 20:00\\', \\'temp_c\\': 30.4, \\'temp_f\\': 86.7, \\'is_day\\': 0, \\'condition\\': {\\'text\\': \\'Clear\\', \\'icon\\': \\'//cdn.weatherapi.com/weather/64x64/night/113.png\\', \\'code\\': 1000}, \\'wind_mph\\': 4.3, \\'wind_kph\\': 6.8, \\'wind_degree\\': 128, \\'wind_dir\\': \\'SE\\', \\'pressure_mb\\': 1010.0, \\'pressure_in\\': 29.83, \\'precip_mm\\': 0.0, \\'precip_in\\': 0.0, \\'humidity\\': 35, \\'cloud\\': 25, \\'feelslike_c\\': 29.2, \\'feelslike_f\\': 84.5, \\'windchill_c\\': 30.7, \\'windchill_f\\': 87.3, \\'heatindex_c\\': 29.5, \\'heatindex_f\\': 85.2, \\'dewpoint_c\\': 10.5, \\'dewpoint_f\\': 50.9, \\'vis_km\\': 8.0, \\'vis_miles\\': 4.0, \\'uv\\': 0.0, \\'gust_mph\\': 6.2, \\'gust_kph\\': 10.0}}\", \"score\": 0.9325999}]', name='tavily_search_results_json', id='b30da343-6ed0-4d50-af4d-bccb6f91f931', tool_call_id='eef29c9e-bd95-4a06-b9f7-533a7757dc90', artifact={'query': 'weather in Bangalore', 'follow_up_questions': None, 'answer': None, 'images': [], 'results': [{'url': 'https://timesofindia.indiatimes.com/weather/bengaluru-weather-forecast-today/560001', 'title': 'Bengaluru Weather Forecast 6 May 2025 - Times of India', 'content': \"Today's Weather in Bengaluru: In Bengaluru today, the weather is expected to be Fair with a maximum temperature of 33°C and a minimum of 23°C. Sunrise in\", 'score': 0.9385817, 'raw_content': None}, {'title': 'Weather in Bangalore', 'url': 'https://www.weatherapi.com/', 'content': \"{'location': {'name': 'Bangalore', 'region': 'Karnataka', 'country': 'India', 'lat': 12.9833, 'lon': 77.5833, 'tz_id': 'Asia/Kolkata', 'localtime_epoch': 1746542458, 'localtime': '2025-05-06 20:10'}, 'current': {'last_updated_epoch': 1746541800, 'last_updated': '2025-05-06 20:00', 'temp_c': 30.4, 'temp_f': 86.7, 'is_day': 0, 'condition': {'text': 'Clear', 'icon': '//cdn.weatherapi.com/weather/64x64/night/113.png', 'code': 1000}, 'wind_mph': 4.3, 'wind_kph': 6.8, 'wind_degree': 128, 'wind_dir': 'SE', 'pressure_mb': 1010.0, 'pressure_in': 29.83, 'precip_mm': 0.0, 'precip_in': 0.0, 'humidity': 35, 'cloud': 25, 'feelslike_c': 29.2, 'feelslike_f': 84.5, 'windchill_c': 30.7, 'windchill_f': 87.3, 'heatindex_c': 29.5, 'heatindex_f': 85.2, 'dewpoint_c': 10.5, 'dewpoint_f': 50.9, 'vis_km': 8.0, 'vis_miles': 4.0, 'uv': 0.0, 'gust_mph': 6.2, 'gust_kph': 10.0}}\", 'score': 0.9325999, 'raw_content': None}], 'response_time': 2.25})]}} \n",
      "\n",
      "{'model': {'messages': [AIMessage(content='The weather in Bangalore is currently clear with a temperature of 30.4°C. The wind is blowing from the southeast at 6.8 kph. The humidity is 35%.', additional_kwargs={}, response_metadata={'prompt_feedback': {'block_reason': 0, 'safety_ratings': []}, 'finish_reason': 'STOP', 'model_name': 'gemini-2.0-flash-001', 'safety_ratings': []}, id='run-e2cb66bb-c768-4e43-89c8-7e9b1dfd825f-0', usage_metadata={'input_tokens': 645, 'output_tokens': 41, 'total_tokens': 686, 'input_token_details': {'cache_read': 0}})]}} \n",
      "\n"
     ]
    }
   ],
   "source": [
    "for event in events:\n",
    "    print(event,\"\\n\")"
   ]
  },
  {
   "cell_type": "code",
   "execution_count": 232,
   "id": "9dfdb79d-e26a-4b93-ab2b-a3b8d9029354",
   "metadata": {},
   "outputs": [],
   "source": [
    "input={\n",
    "    \"messages\":[\"Hi how are you?\"]\n",
    "}"
   ]
  },
  {
   "cell_type": "code",
   "execution_count": 234,
   "id": "ae13e5ec-9085-4a23-98b8-61649e4de248",
   "metadata": {},
   "outputs": [],
   "source": [
    "events=app.astream_events(input=input, version=\"v2\")"
   ]
  },
  {
   "cell_type": "code",
   "execution_count": 235,
   "id": "110633c2-0725-4241-87d1-d0e063359a7f",
   "metadata": {},
   "outputs": [
    {
     "name": "stdout",
     "output_type": "stream",
     "text": [
      "{'event': 'on_chain_start', 'data': {'input': {'messages': ['Hi how are you?']}}, 'name': 'LangGraph', 'tags': [], 'run_id': '03769367-de1c-46b6-b90a-5764ed0115b8', 'metadata': {}, 'parent_ids': []} \n",
      "\n",
      "{'event': 'on_chain_start', 'data': {'input': {'messages': [HumanMessage(content='Hi how are you?', additional_kwargs={}, response_metadata={}, id='1e9320cd-2e30-4c08-b921-a8f0076eb3f8')]}}, 'name': 'model', 'tags': ['graph:step:1'], 'run_id': 'a638e021-dd73-4e02-8b4c-1e180adc23a5', 'metadata': {'langgraph_step': 1, 'langgraph_node': 'model', 'langgraph_triggers': ('branch:to:model',), 'langgraph_path': ('__pregel_pull', 'model'), 'langgraph_checkpoint_ns': 'model:5e6f0f05-2921-46f3-415e-e9ab41d49c96'}, 'parent_ids': ['03769367-de1c-46b6-b90a-5764ed0115b8']} \n",
      "\n",
      "{'event': 'on_chat_model_start', 'data': {'input': {'messages': [[HumanMessage(content='Hi how are you?', additional_kwargs={}, response_metadata={}, id='1e9320cd-2e30-4c08-b921-a8f0076eb3f8')]]}}, 'name': 'ChatGoogleGenerativeAI', 'tags': ['seq:step:1'], 'run_id': 'a6d239b3-90d8-481d-9267-680f165f2aa8', 'metadata': {'langgraph_step': 1, 'langgraph_node': 'model', 'langgraph_triggers': ('branch:to:model',), 'langgraph_path': ('__pregel_pull', 'model'), 'langgraph_checkpoint_ns': 'model:5e6f0f05-2921-46f3-415e-e9ab41d49c96', 'checkpoint_ns': 'model:5e6f0f05-2921-46f3-415e-e9ab41d49c96', 'ls_provider': 'google_genai', 'ls_model_name': 'models/gemini-2.0-flash-001', 'ls_model_type': 'chat', 'ls_temperature': 0.7}, 'parent_ids': ['03769367-de1c-46b6-b90a-5764ed0115b8', 'a638e021-dd73-4e02-8b4c-1e180adc23a5']} \n",
      "\n",
      "{'event': 'on_chat_model_stream', 'data': {'chunk': AIMessageChunk(content='I', additional_kwargs={}, response_metadata={'safety_ratings': []}, id='run-a6d239b3-90d8-481d-9267-680f165f2aa8', usage_metadata={'input_tokens': 79, 'output_tokens': 0, 'total_tokens': 79, 'input_token_details': {'cache_read': 0}})}, 'run_id': 'a6d239b3-90d8-481d-9267-680f165f2aa8', 'name': 'ChatGoogleGenerativeAI', 'tags': ['seq:step:1'], 'metadata': {'langgraph_step': 1, 'langgraph_node': 'model', 'langgraph_triggers': ('branch:to:model',), 'langgraph_path': ('__pregel_pull', 'model'), 'langgraph_checkpoint_ns': 'model:5e6f0f05-2921-46f3-415e-e9ab41d49c96', 'checkpoint_ns': 'model:5e6f0f05-2921-46f3-415e-e9ab41d49c96', 'ls_provider': 'google_genai', 'ls_model_name': 'models/gemini-2.0-flash-001', 'ls_model_type': 'chat', 'ls_temperature': 0.7}, 'parent_ids': ['03769367-de1c-46b6-b90a-5764ed0115b8', 'a638e021-dd73-4e02-8b4c-1e180adc23a5']} \n",
      "\n",
      "{'event': 'on_chat_model_stream', 'data': {'chunk': AIMessageChunk(content=' am doing well, thank you for asking. How can I help you today?', additional_kwargs={}, response_metadata={'safety_ratings': []}, id='run-a6d239b3-90d8-481d-9267-680f165f2aa8', usage_metadata={'input_tokens': 0, 'output_tokens': 0, 'total_tokens': 0, 'input_token_details': {'cache_read': 0}})}, 'run_id': 'a6d239b3-90d8-481d-9267-680f165f2aa8', 'name': 'ChatGoogleGenerativeAI', 'tags': ['seq:step:1'], 'metadata': {'langgraph_step': 1, 'langgraph_node': 'model', 'langgraph_triggers': ('branch:to:model',), 'langgraph_path': ('__pregel_pull', 'model'), 'langgraph_checkpoint_ns': 'model:5e6f0f05-2921-46f3-415e-e9ab41d49c96', 'checkpoint_ns': 'model:5e6f0f05-2921-46f3-415e-e9ab41d49c96', 'ls_provider': 'google_genai', 'ls_model_name': 'models/gemini-2.0-flash-001', 'ls_model_type': 'chat', 'ls_temperature': 0.7}, 'parent_ids': ['03769367-de1c-46b6-b90a-5764ed0115b8', 'a638e021-dd73-4e02-8b4c-1e180adc23a5']} \n",
      "\n",
      "{'event': 'on_chat_model_stream', 'data': {'chunk': AIMessageChunk(content='', additional_kwargs={}, response_metadata={'finish_reason': 'STOP', 'model_name': 'gemini-2.0-flash-001', 'safety_ratings': []}, id='run-a6d239b3-90d8-481d-9267-680f165f2aa8', usage_metadata={'input_tokens': -25, 'output_tokens': 18, 'total_tokens': -7, 'input_token_details': {'cache_read': 0}})}, 'run_id': 'a6d239b3-90d8-481d-9267-680f165f2aa8', 'name': 'ChatGoogleGenerativeAI', 'tags': ['seq:step:1'], 'metadata': {'langgraph_step': 1, 'langgraph_node': 'model', 'langgraph_triggers': ('branch:to:model',), 'langgraph_path': ('__pregel_pull', 'model'), 'langgraph_checkpoint_ns': 'model:5e6f0f05-2921-46f3-415e-e9ab41d49c96', 'checkpoint_ns': 'model:5e6f0f05-2921-46f3-415e-e9ab41d49c96', 'ls_provider': 'google_genai', 'ls_model_name': 'models/gemini-2.0-flash-001', 'ls_model_type': 'chat', 'ls_temperature': 0.7}, 'parent_ids': ['03769367-de1c-46b6-b90a-5764ed0115b8', 'a638e021-dd73-4e02-8b4c-1e180adc23a5']} \n",
      "\n",
      "{'event': 'on_chat_model_end', 'data': {'output': AIMessage(content='I am doing well, thank you for asking. How can I help you today?', additional_kwargs={}, response_metadata={'safety_ratings': [], 'finish_reason': 'STOP', 'model_name': 'gemini-2.0-flash-001'}, id='run-a6d239b3-90d8-481d-9267-680f165f2aa8', usage_metadata={'input_tokens': 54, 'output_tokens': 18, 'total_tokens': 72, 'input_token_details': {'cache_read': 0}}), 'input': {'messages': [[HumanMessage(content='Hi how are you?', additional_kwargs={}, response_metadata={}, id='1e9320cd-2e30-4c08-b921-a8f0076eb3f8')]]}}, 'run_id': 'a6d239b3-90d8-481d-9267-680f165f2aa8', 'name': 'ChatGoogleGenerativeAI', 'tags': ['seq:step:1'], 'metadata': {'langgraph_step': 1, 'langgraph_node': 'model', 'langgraph_triggers': ('branch:to:model',), 'langgraph_path': ('__pregel_pull', 'model'), 'langgraph_checkpoint_ns': 'model:5e6f0f05-2921-46f3-415e-e9ab41d49c96', 'checkpoint_ns': 'model:5e6f0f05-2921-46f3-415e-e9ab41d49c96', 'ls_provider': 'google_genai', 'ls_model_name': 'models/gemini-2.0-flash-001', 'ls_model_type': 'chat', 'ls_temperature': 0.7}, 'parent_ids': ['03769367-de1c-46b6-b90a-5764ed0115b8', 'a638e021-dd73-4e02-8b4c-1e180adc23a5']} \n",
      "\n",
      "{'event': 'on_chain_start', 'data': {'input': {'messages': [HumanMessage(content='Hi how are you?', additional_kwargs={}, response_metadata={}, id='1e9320cd-2e30-4c08-b921-a8f0076eb3f8'), AIMessage(content='I am doing well, thank you for asking. How can I help you today?', additional_kwargs={}, response_metadata={'safety_ratings': [], 'finish_reason': 'STOP', 'model_name': 'gemini-2.0-flash-001'}, id='run-a6d239b3-90d8-481d-9267-680f165f2aa8', usage_metadata={'input_tokens': 54, 'output_tokens': 18, 'total_tokens': 72, 'input_token_details': {'cache_read': 0}})]}}, 'name': 'tools_router', 'tags': ['seq:step:3'], 'run_id': 'b8c0f99f-690f-4c1e-be93-eea9110401c4', 'metadata': {'langgraph_step': 1, 'langgraph_node': 'model', 'langgraph_triggers': ('branch:to:model',), 'langgraph_path': ('__pregel_pull', 'model'), 'langgraph_checkpoint_ns': 'model:5e6f0f05-2921-46f3-415e-e9ab41d49c96'}, 'parent_ids': ['03769367-de1c-46b6-b90a-5764ed0115b8', 'a638e021-dd73-4e02-8b4c-1e180adc23a5']} \n",
      "\n",
      "{'event': 'on_chain_end', 'data': {'output': 'end', 'input': {'messages': [HumanMessage(content='Hi how are you?', additional_kwargs={}, response_metadata={}, id='1e9320cd-2e30-4c08-b921-a8f0076eb3f8'), AIMessage(content='I am doing well, thank you for asking. How can I help you today?', additional_kwargs={}, response_metadata={'safety_ratings': [], 'finish_reason': 'STOP', 'model_name': 'gemini-2.0-flash-001'}, id='run-a6d239b3-90d8-481d-9267-680f165f2aa8', usage_metadata={'input_tokens': 54, 'output_tokens': 18, 'total_tokens': 72, 'input_token_details': {'cache_read': 0}})]}}, 'run_id': 'b8c0f99f-690f-4c1e-be93-eea9110401c4', 'name': 'tools_router', 'tags': ['seq:step:3'], 'metadata': {'langgraph_step': 1, 'langgraph_node': 'model', 'langgraph_triggers': ('branch:to:model',), 'langgraph_path': ('__pregel_pull', 'model'), 'langgraph_checkpoint_ns': 'model:5e6f0f05-2921-46f3-415e-e9ab41d49c96'}, 'parent_ids': ['03769367-de1c-46b6-b90a-5764ed0115b8', 'a638e021-dd73-4e02-8b4c-1e180adc23a5']} \n",
      "\n",
      "{'event': 'on_chain_stream', 'run_id': 'a638e021-dd73-4e02-8b4c-1e180adc23a5', 'name': 'model', 'tags': ['graph:step:1'], 'metadata': {'langgraph_step': 1, 'langgraph_node': 'model', 'langgraph_triggers': ('branch:to:model',), 'langgraph_path': ('__pregel_pull', 'model'), 'langgraph_checkpoint_ns': 'model:5e6f0f05-2921-46f3-415e-e9ab41d49c96'}, 'data': {'chunk': {'messages': [AIMessage(content='I am doing well, thank you for asking. How can I help you today?', additional_kwargs={}, response_metadata={'safety_ratings': [], 'finish_reason': 'STOP', 'model_name': 'gemini-2.0-flash-001'}, id='run-a6d239b3-90d8-481d-9267-680f165f2aa8', usage_metadata={'input_tokens': 54, 'output_tokens': 18, 'total_tokens': 72, 'input_token_details': {'cache_read': 0}})]}}, 'parent_ids': ['03769367-de1c-46b6-b90a-5764ed0115b8']} \n",
      "\n",
      "{'event': 'on_chain_end', 'data': {'output': {'messages': [AIMessage(content='I am doing well, thank you for asking. How can I help you today?', additional_kwargs={}, response_metadata={'safety_ratings': [], 'finish_reason': 'STOP', 'model_name': 'gemini-2.0-flash-001'}, id='run-a6d239b3-90d8-481d-9267-680f165f2aa8', usage_metadata={'input_tokens': 54, 'output_tokens': 18, 'total_tokens': 72, 'input_token_details': {'cache_read': 0}})]}, 'input': {'messages': [AIMessage(content='I am doing well, thank you for asking. How can I help you today?', additional_kwargs={}, response_metadata={'safety_ratings': [], 'finish_reason': 'STOP', 'model_name': 'gemini-2.0-flash-001'}, id='run-a6d239b3-90d8-481d-9267-680f165f2aa8', usage_metadata={'input_tokens': 54, 'output_tokens': 18, 'total_tokens': 72, 'input_token_details': {'cache_read': 0}})]}}, 'run_id': 'a638e021-dd73-4e02-8b4c-1e180adc23a5', 'name': 'model', 'tags': ['graph:step:1'], 'metadata': {'langgraph_step': 1, 'langgraph_node': 'model', 'langgraph_triggers': ('branch:to:model',), 'langgraph_path': ('__pregel_pull', 'model'), 'langgraph_checkpoint_ns': 'model:5e6f0f05-2921-46f3-415e-e9ab41d49c96'}, 'parent_ids': ['03769367-de1c-46b6-b90a-5764ed0115b8']} \n",
      "\n",
      "{'event': 'on_chain_stream', 'run_id': '03769367-de1c-46b6-b90a-5764ed0115b8', 'name': 'LangGraph', 'tags': [], 'metadata': {}, 'data': {'chunk': {'model': {'messages': [AIMessage(content='I am doing well, thank you for asking. How can I help you today?', additional_kwargs={}, response_metadata={'safety_ratings': [], 'finish_reason': 'STOP', 'model_name': 'gemini-2.0-flash-001'}, id='run-a6d239b3-90d8-481d-9267-680f165f2aa8', usage_metadata={'input_tokens': 54, 'output_tokens': 18, 'total_tokens': 72, 'input_token_details': {'cache_read': 0}})]}}}, 'parent_ids': []} \n",
      "\n",
      "{'event': 'on_chain_end', 'data': {'output': {'messages': [HumanMessage(content='Hi how are you?', additional_kwargs={}, response_metadata={}, id='1e9320cd-2e30-4c08-b921-a8f0076eb3f8'), AIMessage(content='I am doing well, thank you for asking. How can I help you today?', additional_kwargs={}, response_metadata={'safety_ratings': [], 'finish_reason': 'STOP', 'model_name': 'gemini-2.0-flash-001'}, id='run-a6d239b3-90d8-481d-9267-680f165f2aa8', usage_metadata={'input_tokens': 54, 'output_tokens': 18, 'total_tokens': 72, 'input_token_details': {'cache_read': 0}})]}}, 'run_id': '03769367-de1c-46b6-b90a-5764ed0115b8', 'name': 'LangGraph', 'tags': [], 'metadata': {}, 'parent_ids': []} \n",
      "\n"
     ]
    }
   ],
   "source": [
    "async for event in events:\n",
    "    print(event,\"\\n\")"
   ]
  },
  {
   "cell_type": "code",
   "execution_count": 243,
   "id": "e9d8594c-5974-4cdc-8fef-add01a053298",
   "metadata": {},
   "outputs": [],
   "source": [
    "events=app.astream_events(input=input, version=\"v2\")"
   ]
  },
  {
   "cell_type": "code",
   "execution_count": 244,
   "id": "1ad1af66-33a5-4243-b5ac-ef6ee313d395",
   "metadata": {},
   "outputs": [
    {
     "name": "stdout",
     "output_type": "stream",
     "text": [
      "I am doing well, thank you for asking. How can I help you today?"
     ]
    }
   ],
   "source": [
    "async for event in events:\n",
    "    if event[\"event\"]==\"on_chat_model_stream\":\n",
    "        print(event['data']['chunk'].content,end=\"\",flush=True)"
   ]
  },
  {
   "cell_type": "code",
   "execution_count": null,
   "id": "cc324c74-215c-41d5-8982-231134d55010",
   "metadata": {},
   "outputs": [],
   "source": []
  }
 ],
 "metadata": {
  "kernelspec": {
   "display_name": "Python 3 (ipykernel)",
   "language": "python",
   "name": "python3"
  },
  "language_info": {
   "codemirror_mode": {
    "name": "ipython",
    "version": 3
   },
   "file_extension": ".py",
   "mimetype": "text/x-python",
   "name": "python",
   "nbconvert_exporter": "python",
   "pygments_lexer": "ipython3",
   "version": "3.11.11"
  }
 },
 "nbformat": 4,
 "nbformat_minor": 5
}
